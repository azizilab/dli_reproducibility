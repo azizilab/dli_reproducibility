{
 "cells": [
  {
   "cell_type": "code",
   "execution_count": 369,
   "metadata": {},
   "outputs": [],
   "source": [
    "import pandas as pd\n",
    "import numpy as np\n",
    "import matplotlib.pyplot as plt\n",
    "import plotly.graph_objects as go\n",
    "cohort = pd.read_table('AML_cohort.txt')\n",
    "from collections import OrderedDict"
   ]
  },
  {
   "cell_type": "code",
   "execution_count": 370,
   "metadata": {},
   "outputs": [],
   "source": [
    "import scanpy as sc\n",
    "\n",
    "all_tcr=pd.read_csv('AML_DLI_TRB.csv',index_col = 0)\n",
    "# tcr = all_tcr[all_tcr['cdr3'].notnull()]\n"
   ]
  },
  {
   "cell_type": "code",
   "execution_count": 362,
   "metadata": {},
   "outputs": [
    {
     "name": "stderr",
     "output_type": "stream",
     "text": [
      "/home/cyp2111_columbia_edu/anaconda3/lib/python3.8/site-packages/anndata/utils.py:252: UserWarning: X converted to numpy array with dtype object\n",
      "  warnings.warn(f\"{name} converted to numpy array with dtype {arr.dtype}\")\n"
     ]
    }
   ],
   "source": [
    "adata = sc.AnnData(all_tcr)"
   ]
  },
  {
   "cell_type": "code",
   "execution_count": 412,
   "metadata": {},
   "outputs": [
    {
     "ename": "NameError",
     "evalue": "name 'data_df' is not defined",
     "output_type": "error",
     "traceback": [
      "\u001b[0;31m---------------------------------------------------------------------------\u001b[0m",
      "\u001b[0;31mNameError\u001b[0m                                 Traceback (most recent call last)",
      "\u001b[0;32m<ipython-input-412-38ce564c9fb1>\u001b[0m in \u001b[0;36m<module>\u001b[0;34m\u001b[0m\n\u001b[0;32m----> 1\u001b[0;31m \u001b[0mdata_df\u001b[0m\u001b[0;34m\u001b[0m\u001b[0;34m\u001b[0m\u001b[0m\n\u001b[0m",
      "\u001b[0;31mNameError\u001b[0m: name 'data_df' is not defined"
     ]
    }
   ],
   "source": [
    "data_df"
   ]
  },
  {
   "cell_type": "code",
   "execution_count": 368,
   "metadata": {},
   "outputs": [],
   "source": [
    "# adata = adata[ (~adata.obs['T-subtype'].str.contains('NK_')) & (~adata.obs['Log10CloneSize'].isna()) & (adata.obs.y>-2.8) & (adata.obs.y<9.8) ].copy()\n"
   ]
  },
  {
   "cell_type": "code",
   "execution_count": 240,
   "metadata": {},
   "outputs": [],
   "source": [
    "# tcr.to_csv('tcr_jan24.csv')"
   ]
  },
  {
   "cell_type": "code",
   "execution_count": 239,
   "metadata": {},
   "outputs": [
    {
     "data": {
      "text/html": [
       "<div>\n",
       "<style scoped>\n",
       "    .dataframe tbody tr th:only-of-type {\n",
       "        vertical-align: middle;\n",
       "    }\n",
       "\n",
       "    .dataframe tbody tr th {\n",
       "        vertical-align: top;\n",
       "    }\n",
       "\n",
       "    .dataframe thead th {\n",
       "        text-align: right;\n",
       "    }\n",
       "</style>\n",
       "<table border=\"1\" class=\"dataframe\">\n",
       "  <thead>\n",
       "    <tr style=\"text-align: right;\">\n",
       "      <th></th>\n",
       "      <th>barcode</th>\n",
       "      <th>x</th>\n",
       "      <th>y</th>\n",
       "      <th>cluster_number</th>\n",
       "      <th>patient</th>\n",
       "      <th>response</th>\n",
       "      <th>sample</th>\n",
       "      <th>time</th>\n",
       "      <th>cdr3</th>\n",
       "      <th>T-subtype</th>\n",
       "      <th>batch</th>\n",
       "      <th>Log10CloneSize</th>\n",
       "    </tr>\n",
       "  </thead>\n",
       "  <tbody>\n",
       "    <tr>\n",
       "      <th>1</th>\n",
       "      <td>AAACCTGAGTCCTCCT-1-0</td>\n",
       "      <td>-2.495751</td>\n",
       "      <td>-0.160841</td>\n",
       "      <td>0</td>\n",
       "      <td>LB</td>\n",
       "      <td>RESPONDER</td>\n",
       "      <td>LB1</td>\n",
       "      <td>POST</td>\n",
       "      <td>CASSLTLPSYEQYF</td>\n",
       "      <td>TEMRA</td>\n",
       "      <td>0</td>\n",
       "      <td>1.505150</td>\n",
       "    </tr>\n",
       "    <tr>\n",
       "      <th>8</th>\n",
       "      <td>AAACCTGGTCTCTCGT-1-0</td>\n",
       "      <td>-3.260597</td>\n",
       "      <td>0.094545</td>\n",
       "      <td>0</td>\n",
       "      <td>LB</td>\n",
       "      <td>RESPONDER</td>\n",
       "      <td>LB1</td>\n",
       "      <td>POST</td>\n",
       "      <td>CASSPLTGELFF</td>\n",
       "      <td>TEMRA</td>\n",
       "      <td>0</td>\n",
       "      <td>0.477121</td>\n",
       "    </tr>\n",
       "    <tr>\n",
       "      <th>10</th>\n",
       "      <td>AAACCTGGTGATGTCT-1-0</td>\n",
       "      <td>-1.986154</td>\n",
       "      <td>-0.465736</td>\n",
       "      <td>0</td>\n",
       "      <td>LB</td>\n",
       "      <td>RESPONDER</td>\n",
       "      <td>LB1</td>\n",
       "      <td>POST</td>\n",
       "      <td>CASSLRTGVNEQFF</td>\n",
       "      <td>TEMRA</td>\n",
       "      <td>0</td>\n",
       "      <td>2.158362</td>\n",
       "    </tr>\n",
       "    <tr>\n",
       "      <th>11</th>\n",
       "      <td>AAACCTGGTTCTGAAC-1-0</td>\n",
       "      <td>-1.690062</td>\n",
       "      <td>-0.004227</td>\n",
       "      <td>0</td>\n",
       "      <td>LB</td>\n",
       "      <td>RESPONDER</td>\n",
       "      <td>LB1</td>\n",
       "      <td>POST</td>\n",
       "      <td>CASSPGTSWNEQFF</td>\n",
       "      <td>TEMRA</td>\n",
       "      <td>0</td>\n",
       "      <td>1.544068</td>\n",
       "    </tr>\n",
       "    <tr>\n",
       "      <th>15</th>\n",
       "      <td>AAACCTGTCCGTTGTC-1-0</td>\n",
       "      <td>-2.154290</td>\n",
       "      <td>0.736180</td>\n",
       "      <td>0</td>\n",
       "      <td>LB</td>\n",
       "      <td>RESPONDER</td>\n",
       "      <td>LB1</td>\n",
       "      <td>POST</td>\n",
       "      <td>CASSIAGSYEQYF</td>\n",
       "      <td>TEMRA</td>\n",
       "      <td>0</td>\n",
       "      <td>1.041393</td>\n",
       "    </tr>\n",
       "    <tr>\n",
       "      <th>...</th>\n",
       "      <td>...</td>\n",
       "      <td>...</td>\n",
       "      <td>...</td>\n",
       "      <td>...</td>\n",
       "      <td>...</td>\n",
       "      <td>...</td>\n",
       "      <td>...</td>\n",
       "      <td>...</td>\n",
       "      <td>...</td>\n",
       "      <td>...</td>\n",
       "      <td>...</td>\n",
       "      <td>...</td>\n",
       "    </tr>\n",
       "    <tr>\n",
       "      <th>45387</th>\n",
       "      <td>TTTGGTTTCTTCAACT-1-13</td>\n",
       "      <td>-0.210939</td>\n",
       "      <td>2.968548</td>\n",
       "      <td>18</td>\n",
       "      <td>AH</td>\n",
       "      <td>NONRESPONDER</td>\n",
       "      <td>AH</td>\n",
       "      <td>DLI</td>\n",
       "      <td>CASSEEGGRQPQHF</td>\n",
       "      <td>TCM</td>\n",
       "      <td>13</td>\n",
       "      <td>0.778151</td>\n",
       "    </tr>\n",
       "    <tr>\n",
       "      <th>45389</th>\n",
       "      <td>TTTGTCAAGCTGGAAC-1-13</td>\n",
       "      <td>0.142730</td>\n",
       "      <td>4.645897</td>\n",
       "      <td>18</td>\n",
       "      <td>AH</td>\n",
       "      <td>NONRESPONDER</td>\n",
       "      <td>AH</td>\n",
       "      <td>DLI</td>\n",
       "      <td>CASSSASGNTIYF</td>\n",
       "      <td>TCM</td>\n",
       "      <td>13</td>\n",
       "      <td>0.602060</td>\n",
       "    </tr>\n",
       "    <tr>\n",
       "      <th>45391</th>\n",
       "      <td>TTTGTCAAGGCCGAAT-1-13</td>\n",
       "      <td>0.193815</td>\n",
       "      <td>4.595751</td>\n",
       "      <td>18</td>\n",
       "      <td>AH</td>\n",
       "      <td>NONRESPONDER</td>\n",
       "      <td>AH</td>\n",
       "      <td>DLI</td>\n",
       "      <td>CASSLGGGARISYEQYF</td>\n",
       "      <td>TCM</td>\n",
       "      <td>13</td>\n",
       "      <td>2.008600</td>\n",
       "    </tr>\n",
       "    <tr>\n",
       "      <th>45395</th>\n",
       "      <td>TTTGTCACAGACAAAT-1-13</td>\n",
       "      <td>-3.501725</td>\n",
       "      <td>0.133351</td>\n",
       "      <td>0</td>\n",
       "      <td>AH</td>\n",
       "      <td>NONRESPONDER</td>\n",
       "      <td>AH</td>\n",
       "      <td>DLI</td>\n",
       "      <td>CASSQTSGSVNEQFF</td>\n",
       "      <td>TEMRA</td>\n",
       "      <td>13</td>\n",
       "      <td>1.230449</td>\n",
       "    </tr>\n",
       "    <tr>\n",
       "      <th>45400</th>\n",
       "      <td>TTTGTCATCGCACTCT-1-13</td>\n",
       "      <td>0.280313</td>\n",
       "      <td>6.124669</td>\n",
       "      <td>18</td>\n",
       "      <td>AH</td>\n",
       "      <td>NONRESPONDER</td>\n",
       "      <td>AH</td>\n",
       "      <td>DLI</td>\n",
       "      <td>CASREAGGPYEQYF</td>\n",
       "      <td>TCM</td>\n",
       "      <td>13</td>\n",
       "      <td>0.301030</td>\n",
       "    </tr>\n",
       "  </tbody>\n",
       "</table>\n",
       "<p>11249 rows × 12 columns</p>\n",
       "</div>"
      ],
      "text/plain": [
       "                     barcode         x         y  cluster_number patient  \\\n",
       "1       AAACCTGAGTCCTCCT-1-0 -2.495751 -0.160841               0      LB   \n",
       "8       AAACCTGGTCTCTCGT-1-0 -3.260597  0.094545               0      LB   \n",
       "10      AAACCTGGTGATGTCT-1-0 -1.986154 -0.465736               0      LB   \n",
       "11      AAACCTGGTTCTGAAC-1-0 -1.690062 -0.004227               0      LB   \n",
       "15      AAACCTGTCCGTTGTC-1-0 -2.154290  0.736180               0      LB   \n",
       "...                      ...       ...       ...             ...     ...   \n",
       "45387  TTTGGTTTCTTCAACT-1-13 -0.210939  2.968548              18      AH   \n",
       "45389  TTTGTCAAGCTGGAAC-1-13  0.142730  4.645897              18      AH   \n",
       "45391  TTTGTCAAGGCCGAAT-1-13  0.193815  4.595751              18      AH   \n",
       "45395  TTTGTCACAGACAAAT-1-13 -3.501725  0.133351               0      AH   \n",
       "45400  TTTGTCATCGCACTCT-1-13  0.280313  6.124669              18      AH   \n",
       "\n",
       "           response sample  time               cdr3 T-subtype  batch  \\\n",
       "1         RESPONDER    LB1  POST     CASSLTLPSYEQYF     TEMRA      0   \n",
       "8         RESPONDER    LB1  POST       CASSPLTGELFF     TEMRA      0   \n",
       "10        RESPONDER    LB1  POST     CASSLRTGVNEQFF     TEMRA      0   \n",
       "11        RESPONDER    LB1  POST     CASSPGTSWNEQFF     TEMRA      0   \n",
       "15        RESPONDER    LB1  POST      CASSIAGSYEQYF     TEMRA      0   \n",
       "...             ...    ...   ...                ...       ...    ...   \n",
       "45387  NONRESPONDER     AH   DLI     CASSEEGGRQPQHF       TCM     13   \n",
       "45389  NONRESPONDER     AH   DLI      CASSSASGNTIYF       TCM     13   \n",
       "45391  NONRESPONDER     AH   DLI  CASSLGGGARISYEQYF       TCM     13   \n",
       "45395  NONRESPONDER     AH   DLI    CASSQTSGSVNEQFF     TEMRA     13   \n",
       "45400  NONRESPONDER     AH   DLI     CASREAGGPYEQYF       TCM     13   \n",
       "\n",
       "       Log10CloneSize  \n",
       "1            1.505150  \n",
       "8            0.477121  \n",
       "10           2.158362  \n",
       "11           1.544068  \n",
       "15           1.041393  \n",
       "...               ...  \n",
       "45387        0.778151  \n",
       "45389        0.602060  \n",
       "45391        2.008600  \n",
       "45395        1.230449  \n",
       "45400        0.301030  \n",
       "\n",
       "[11249 rows x 12 columns]"
      ]
     },
     "execution_count": 239,
     "metadata": {},
     "output_type": "execute_result"
    }
   ],
   "source": [
    "all_tcr[all_tcr['Log10CloneSize']>0]"
   ]
  },
  {
   "cell_type": "code",
   "execution_count": 374,
   "metadata": {},
   "outputs": [],
   "source": [
    "# tcr = pd.read_csv('TCR_total_2p_new.csv', index_col = 0)\n",
    "\n",
    "time_dict = OrderedDict()\n",
    "for sample in np.unique(tcr['sample']):\n",
    "    df = tcr[tcr['sample']==sample]\n",
    "    a,c = np.unique(df['time'],return_counts = True)\n",
    "#     print(a,c)x\n",
    "    time_dict[sample] = a[0]"
   ]
  },
  {
   "cell_type": "code",
   "execution_count": 375,
   "metadata": {},
   "outputs": [],
   "source": [
    "time_dict['LB3'] = 'PRE'"
   ]
  },
  {
   "cell_type": "code",
   "execution_count": 376,
   "metadata": {},
   "outputs": [],
   "source": [
    "\n",
    "clone_df = pd.DataFrame(index = np.unique(tcr['cdr3']), columns = ['num_unique_patients','Log10CloneSize','PRE','POST','DLI'])\n",
    "for clone in np.unique(tcr['cdr3']):\n",
    "    df = tcr[tcr['cdr3']==clone]\n",
    "    clone_df.loc[clone,'num_unique_patients'] = len(np.unique(df['patient']))\n",
    "    clone_df.loc[clone,'Log10CloneSize'] = df['Log10CloneSize'][0]\n",
    "    \n",
    "    a,c = np.unique(df['time'],return_counts = True)\n",
    "    \n",
    "    for i, time in enumerate(a):\n",
    "        clone_df.loc[clone,time] = c[i]\n",
    "        \n",
    "\n",
    "    \n",
    "clone_df = clone_df.fillna(0)\n",
    "\n",
    "\n",
    "\n",
    "\n",
    "### relabel incorrect tcrs and remove ambiguous ones\n",
    "dup = clone_df[clone_df['num_unique_patients']>1]\n",
    "dup_df = pd.DataFrame(index = dup.index, columns = np.unique(tcr['patient']))\n",
    "dup_df['majority_ratio'] = 0\n",
    "dup_df = dup_df.fillna(0)\n",
    "for clone in dup.index:\n",
    "    df = tcr[tcr['cdr3']==clone]\n",
    "    a,c = np.unique(df['patient'],return_counts = True)\n",
    "\n",
    "    total = len(df)\n",
    "#     dup_df.loc[clone] = np.zeros(len(patients)+1)\n",
    "    max_r = 0\n",
    "\n",
    "    for i,p in enumerate(a):\n",
    "        \n",
    "        dup_df.loc[clone, p] = c[i]\n",
    "        \n",
    "        ratio = c[i]/total\n",
    "\n",
    "        if ratio > max_r:\n",
    "            dup_df.loc[clone,'majority_ratio'] = ratio\n",
    "            max_r = ratio\n",
    "\n",
    "        \n",
    "    \n",
    "\n",
    "dup_df['total'] = dup_df.sum(axis = 1) - dup_df['majority_ratio']\n",
    "\n",
    "\n",
    "remove = list(dup_df.index[dup_df['majority_ratio']<0.8])\n",
    "tcr = tcr[~tcr['cdr3'].isin(remove)]\n",
    "\n",
    "reassign = list(dup_df.index[dup_df['majority_ratio']>0.8])\n",
    "\n",
    "k1 = ['LB1_', 'EL1_','GD1_','JS1_']\n",
    "k2 = ['LB2_','EL2_','GD2_','AH1_']\n",
    "k3 = ['AM1_','LB3_','EL3_','KC1_']\n",
    "k4 = ['AM2_','LB4_','EL4_','MS1_']\n",
    "k5 = ['AH2_','KC2_','MS2_','LB5_']\n",
    "k6 = ['KC3_','MS3_','LB6_','JS2_']\n",
    "k7 = ['AH3_','KC4_','MS4_','GD3_']\n",
    "\n",
    "# len(reassign)\n",
    "for clone in reassign:\n",
    "    df = tcr[tcr['cdr3']==clone]\n",
    "    a,c = np.unique(df['patient'],return_counts = True)\n",
    "    main_patient = a[c==max(c)][0]\n",
    "    \n",
    "    others = np.array(a[c!=max(c)])\n",
    "    df_wrong = df[df['patient'].isin(others)]\n",
    "    for index in df_wrong.index: \n",
    "        sample = df_wrong.loc[index, 'sample']\n",
    "        sample = sample + '_'\n",
    "        for k in [k1,k2,k3,k4,k5,k6,k7]:\n",
    "            if sample in k:\n",
    "                for sub_k in k: \n",
    "                    if main_patient in sub_k: \n",
    "                        new_samp = sub_k[:-1]\n",
    "        main_time = time_dict[new_samp]           \n",
    "        print(sample, new_samp, main_time)\n",
    "        tcr.loc[index,'sample'] = new_samp\n",
    "        tcr.loc[index,'patient'] = main_patient\n",
    "        tcr.loc[index,'time'] = main_time\n",
    "        \n",
    "        \n",
    "\n",
    "        \n",
    "clone_df = pd.DataFrame(index = np.unique(tcr['cdr3']), columns = ['num_unique_patients','Log10CloneSize','PRE','POST','DLI'])\n",
    "for clone in np.unique(tcr['cdr3']):\n",
    "    df = tcr[tcr['cdr3']==clone]\n",
    "    clone_df.loc[clone,'num_unique_patients'] = len(np.unique(df['patient']))\n",
    "    clone_df.loc[clone,'Log10CloneSize'] = df['Log10CloneSize'][0]\n",
    "    \n",
    "    a,c = np.unique(df['time'],return_counts = True)\n",
    "    \n",
    "    for i, time in enumerate(a):\n",
    "        clone_df.loc[clone,time] = c[i]\n",
    "        \n",
    "\n",
    "    \n",
    "clone_df = clone_df.fillna(0)"
   ]
  },
  {
   "cell_type": "code",
   "execution_count": 377,
   "metadata": {},
   "outputs": [],
   "source": [
    "patients = [ 'EL', 'KC', 'LB', 'MS','AH', 'AM', 'GD', 'JS']\n",
    "r = [ 'EL', 'KC', 'LB', 'MS']\n",
    "nr = ['AH', 'AM', 'GD', 'JS']"
   ]
  },
  {
   "cell_type": "code",
   "execution_count": 251,
   "metadata": {},
   "outputs": [],
   "source": [
    "patient_df = pd.DataFrame(index = patients, columns = np.unique(tcr['time']))\n",
    "\n",
    "for patient in patients: \n",
    "    \n",
    "    df = tcr[tcr['patient']==patient]\n",
    "    a,c = np.unique(df['time'], return_counts = True)\n",
    "    \n",
    "    for i,t in enumerate(a):\n",
    "        patient_df.loc[patient, t] = c[i]\n",
    "        \n",
    "\n",
    "        \n",
    "        \n",
    "sample_arr = np.unique(tcr['sample'])\n",
    "sample_df = pd.DataFrame(index = sample_arr, columns = np.unique(tcr['time']))\n",
    "\n",
    "for sample in sample_arr: \n",
    "    sample = sample\n",
    "    df = tcr[tcr['sample']==sample]\n",
    "    a,c = np.unique(df['time'], return_counts = True)\n",
    "    \n",
    "    for i,t in enumerate(a):\n",
    "        sample_df.loc[sample, t] = c[i]\n",
    "        \n",
    "sample_df = sample_df.fillna(0)\n",
    "\n",
    "patient_df = patient_df.fillna(0)"
   ]
  },
  {
   "cell_type": "code",
   "execution_count": 252,
   "metadata": {},
   "outputs": [
    {
     "data": {
      "text/plain": [
       "27144"
      ]
     },
     "execution_count": 252,
     "metadata": {},
     "output_type": "execute_result"
    }
   ],
   "source": [
    "np.sum(patient_df.values)"
   ]
  },
  {
   "cell_type": "code",
   "execution_count": 253,
   "metadata": {},
   "outputs": [
    {
     "data": {
      "text/plain": [
       "EL    2736\n",
       "KC    5221\n",
       "LB    5734\n",
       "MS    4070\n",
       "AH    5783\n",
       "AM    1504\n",
       "GD     422\n",
       "JS    1674\n",
       "dtype: int64"
      ]
     },
     "execution_count": 253,
     "metadata": {},
     "output_type": "execute_result"
    }
   ],
   "source": [
    "patient_df.sum(axis = 1)"
   ]
  },
  {
   "cell_type": "code",
   "execution_count": 245,
   "metadata": {},
   "outputs": [
    {
     "data": {
      "text/plain": [
       "(array([1]), array([1049]))"
      ]
     },
     "execution_count": 245,
     "metadata": {},
     "output_type": "execute_result"
    }
   ],
   "source": [
    "np.unique(clone_df['num_unique_patients'],return_counts = True)"
   ]
  },
  {
   "cell_type": "code",
   "execution_count": 23,
   "metadata": {},
   "outputs": [
    {
     "data": {
      "text/plain": [
       "(array([1, 2, 3, 4]), array([1031,  112,    5,    1]))"
      ]
     },
     "execution_count": 23,
     "metadata": {},
     "output_type": "execute_result"
    }
   ],
   "source": [
    "np.unique(clone_df['num_unique_patients'],return_counts = True)"
   ]
  },
  {
   "cell_type": "code",
   "execution_count": null,
   "metadata": {},
   "outputs": [],
   "source": [
    "import matplotlib.pyplot as plt\n",
    "\n",
    "plt.figure()\n",
    "plt.hist(clone_df['Log10CloneSize'], bins = 50)\n",
    "plt.show()"
   ]
  },
  {
   "cell_type": "code",
   "execution_count": 1,
   "metadata": {},
   "outputs": [
    {
     "name": "stdout",
     "output_type": "stream",
     "text": [
      "Requirement already satisfied: plotly in ./anaconda3/lib/python3.8/site-packages (5.18.0)\n",
      "Requirement already satisfied: packaging in ./anaconda3/lib/python3.8/site-packages (from plotly) (20.4)\n",
      "Requirement already satisfied: tenacity>=6.2.0 in ./anaconda3/lib/python3.8/site-packages (from plotly) (8.2.3)\n",
      "Requirement already satisfied: six in ./anaconda3/lib/python3.8/site-packages (from packaging->plotly) (1.15.0)\n",
      "Requirement already satisfied: pyparsing>=2.0.2 in ./anaconda3/lib/python3.8/site-packages (from packaging->plotly) (2.4.7)\n",
      "Requirement already up-to-date: kaleido in ./anaconda3/lib/python3.8/site-packages (0.2.1)\n"
     ]
    }
   ],
   "source": [
    "# !pip install plotly\n",
    "# !pip install -U kaleido"
   ]
  },
  {
   "cell_type": "code",
   "execution_count": 247,
   "metadata": {},
   "outputs": [],
   "source": [
    "# import plotly.graph_objects as go\n",
    "# import urllib, json\n",
    "\n",
    "# url = 'https://raw.githubusercontent.com/plotly/plotly.js/master/test/image/mocks/sankey_energy.json'\n",
    "# response = urllib.request.urlopen(url)\n",
    "# data = json.loads(response.read())\n",
    "\n",
    "# # override gray link colors with 'source' colors\n",
    "# opacity = 0.4\n",
    "# # change 'magenta' to its 'rgba' value to add opacity\n",
    "# data['data'][0]['node']['color'] = ['rgba(255,0,255, 0.8)' if color == \"magenta\" else color for color in data['data'][0]['node']['color']]\n",
    "# data['data'][0]['link']['color'] = [data['data'][0]['node']['color'][src].replace(\"0.8\", str(opacity))\n",
    "#                                     for src in data['data'][0]['link']['source']]\n",
    "\n",
    "# fig = go.Figure(data=[go.Sankey(\n",
    "#     valueformat = \".0f\",\n",
    "#     valuesuffix = \"TWh\",\n",
    "#     # Define nodes\n",
    "#     node = dict(\n",
    "#       pad = 15,\n",
    "#       thickness = 15,\n",
    "#       line = dict(color = \"black\", width = 0.5),\n",
    "#       label =  data['data'][0]['node']['label'],\n",
    "#       color =  data['data'][0]['node']['color']\n",
    "#     ),\n",
    "#     # Add links\n",
    "#     link = dict(\n",
    "#       source =  data['data'][0]['link']['source'],\n",
    "#       target =  data['data'][0]['link']['target'],\n",
    "#       value =  data['data'][0]['link']['value'],\n",
    "#       label =  data['data'][0]['link']['label'],\n",
    "#       color =  data['data'][0]['link']['color']\n",
    "# ))])\n",
    "\n",
    "# fig.update_layout(title_text=\"Energy forecast for 2050<br>Source: Department of Energy & Climate Change, Tom Counsell via <a href='https://bost.ocks.org/mike/sankey/'>Mike Bostock</a>\",\n",
    "#                   font_size=10)\n",
    "# fig.show()"
   ]
  },
  {
   "cell_type": "code",
   "execution_count": 47,
   "metadata": {},
   "outputs": [
    {
     "data": {
      "text/html": [
       "<div>\n",
       "<style scoped>\n",
       "    .dataframe tbody tr th:only-of-type {\n",
       "        vertical-align: middle;\n",
       "    }\n",
       "\n",
       "    .dataframe tbody tr th {\n",
       "        vertical-align: top;\n",
       "    }\n",
       "\n",
       "    .dataframe thead th {\n",
       "        text-align: right;\n",
       "    }\n",
       "</style>\n",
       "<table border=\"1\" class=\"dataframe\">\n",
       "  <thead>\n",
       "    <tr style=\"text-align: right;\">\n",
       "      <th></th>\n",
       "      <th>num_unique_patients</th>\n",
       "      <th>Log10CloneSize</th>\n",
       "      <th>PRE</th>\n",
       "      <th>POST</th>\n",
       "      <th>DLI</th>\n",
       "    </tr>\n",
       "  </thead>\n",
       "  <tbody>\n",
       "    <tr>\n",
       "      <th>CAIRDEGGSPLHF</th>\n",
       "      <td>1</td>\n",
       "      <td>0.30103</td>\n",
       "      <td>0</td>\n",
       "      <td>0</td>\n",
       "      <td>2</td>\n",
       "    </tr>\n",
       "    <tr>\n",
       "      <th>CAISDETPNQPQHF</th>\n",
       "      <td>1</td>\n",
       "      <td>0.60206</td>\n",
       "      <td>1</td>\n",
       "      <td>2</td>\n",
       "      <td>1</td>\n",
       "    </tr>\n",
       "    <tr>\n",
       "      <th>CASGPGTGFYGYTF</th>\n",
       "      <td>1</td>\n",
       "      <td>0.30103</td>\n",
       "      <td>0</td>\n",
       "      <td>0</td>\n",
       "      <td>2</td>\n",
       "    </tr>\n",
       "    <tr>\n",
       "      <th>CASGRTSFGEQYF</th>\n",
       "      <td>1</td>\n",
       "      <td>0.30103</td>\n",
       "      <td>0</td>\n",
       "      <td>2</td>\n",
       "      <td>0</td>\n",
       "    </tr>\n",
       "    <tr>\n",
       "      <th>CASHRVLGRSYEQYF</th>\n",
       "      <td>1</td>\n",
       "      <td>0.30103</td>\n",
       "      <td>1</td>\n",
       "      <td>1</td>\n",
       "      <td>0</td>\n",
       "    </tr>\n",
       "    <tr>\n",
       "      <th>...</th>\n",
       "      <td>...</td>\n",
       "      <td>...</td>\n",
       "      <td>...</td>\n",
       "      <td>...</td>\n",
       "      <td>...</td>\n",
       "    </tr>\n",
       "    <tr>\n",
       "      <th>CSGGTAEPYEQYF</th>\n",
       "      <td>1</td>\n",
       "      <td>0.30103</td>\n",
       "      <td>0</td>\n",
       "      <td>0</td>\n",
       "      <td>2</td>\n",
       "    </tr>\n",
       "    <tr>\n",
       "      <th>CSVGVLNTGELFF</th>\n",
       "      <td>1</td>\n",
       "      <td>0.30103</td>\n",
       "      <td>0</td>\n",
       "      <td>0</td>\n",
       "      <td>2</td>\n",
       "    </tr>\n",
       "    <tr>\n",
       "      <th>CSVPEWNNEQFF</th>\n",
       "      <td>1</td>\n",
       "      <td>0.69897</td>\n",
       "      <td>0</td>\n",
       "      <td>5</td>\n",
       "      <td>0</td>\n",
       "    </tr>\n",
       "    <tr>\n",
       "      <th>CSVVDRGRFGEQYF</th>\n",
       "      <td>1</td>\n",
       "      <td>0.30103</td>\n",
       "      <td>0</td>\n",
       "      <td>0</td>\n",
       "      <td>2</td>\n",
       "    </tr>\n",
       "    <tr>\n",
       "      <th>CSVYGEGKLSSYEQYF</th>\n",
       "      <td>1</td>\n",
       "      <td>0.30103</td>\n",
       "      <td>0</td>\n",
       "      <td>1</td>\n",
       "      <td>1</td>\n",
       "    </tr>\n",
       "  </tbody>\n",
       "</table>\n",
       "<p>203 rows × 5 columns</p>\n",
       "</div>"
      ],
      "text/plain": [
       "                  num_unique_patients  Log10CloneSize  PRE  POST  DLI\n",
       "CAIRDEGGSPLHF                       1         0.30103    0     0    2\n",
       "CAISDETPNQPQHF                      1         0.60206    1     2    1\n",
       "CASGPGTGFYGYTF                      1         0.30103    0     0    2\n",
       "CASGRTSFGEQYF                       1         0.30103    0     2    0\n",
       "CASHRVLGRSYEQYF                     1         0.30103    1     1    0\n",
       "...                               ...             ...  ...   ...  ...\n",
       "CSGGTAEPYEQYF                       1         0.30103    0     0    2\n",
       "CSVGVLNTGELFF                       1         0.30103    0     0    2\n",
       "CSVPEWNNEQFF                        1         0.69897    0     5    0\n",
       "CSVVDRGRFGEQYF                      1         0.30103    0     0    2\n",
       "CSVYGEGKLSSYEQYF                    1         0.30103    0     1    1\n",
       "\n",
       "[203 rows x 5 columns]"
      ]
     },
     "execution_count": 47,
     "metadata": {},
     "output_type": "execute_result"
    }
   ],
   "source": [
    "sub_cdr"
   ]
  },
  {
   "cell_type": "code",
   "execution_count": 98,
   "metadata": {},
   "outputs": [
    {
     "data": {
      "text/plain": [
       "array(['AH', 'AM', 'EL', 'GD', 'JS', 'KC', 'LB', 'MS'], dtype=object)"
      ]
     },
     "execution_count": 98,
     "metadata": {},
     "output_type": "execute_result"
    }
   ],
   "source": [
    "np.unique(tcr['patient'])"
   ]
  },
  {
   "cell_type": "code",
   "execution_count": 25,
   "metadata": {},
   "outputs": [],
   "source": [
    "patients = [ 'EL', 'KC', 'LB', 'MS','AH', 'AM', 'GD', 'JS']\n",
    "r = [ 'EL', 'KC', 'LB', 'MS']\n",
    "nr = ['AH', 'AM', 'GD', 'JS']\n",
    "sub = tcr[tcr['patient'].isin(nr)]\n",
    "cdr = np.unique(sub['cdr3'])\n",
    "sub_cdr = clone_df.loc[cdr]"
   ]
  },
  {
   "cell_type": "code",
   "execution_count": 26,
   "metadata": {},
   "outputs": [],
   "source": [
    "\n",
    "# sub_cdr = sub_cdr[sub_cdr['Log10CloneSize ']>0.7]"
   ]
  },
  {
   "cell_type": "code",
   "execution_count": 38,
   "metadata": {
    "scrolled": false
   },
   "outputs": [
    {
     "data": {
      "image/png": "[encoded data removed]",
      "text/plain": [
       "<Figure size 432x288 with 1 Axes>"
      ]
     },
     "metadata": {
      "needs_background": "light"
     },
     "output_type": "display_data"
    }
   ],
   "source": [
    "\n",
    "\n",
    "y_pre = []\n",
    "y_dli = []\n",
    "y_all = []\n",
    "y_one = []\n",
    "\n",
    "for patient in patients:\n",
    "    \n",
    "    \n",
    "    sub = tcr[tcr['patient']==patient]\n",
    "    cdr = np.unique(sub['cdr3'])\n",
    "    sub_cdr = clone_df.loc[cdr]\n",
    "\n",
    "\n",
    "    sub_cdr[['PRE','POST','DLI']] = np.sign(sub_cdr[['PRE','POST','DLI']] )\n",
    "#     ms = sub_cdr[['PRE','POST','DLI']].sum(axis = 1)\n",
    "#     keep = ms.index[ms!=1]\n",
    "#     sub_cdr = sub_cdr.loc[keep]\n",
    "#     sub_cdr_no3= pd.DataFrame.copy(sub_cdr)\n",
    "#     sub_cdr_no3 = sub_cdr_no3.loc[keep]\n",
    "\n",
    "\n",
    "    source_arr = []\n",
    "    target_arr = []\n",
    "    val_arr = []\n",
    "\n",
    "    total_clones = len(sub[sub['time']=='POST'])\n",
    "    total_clones= 1\n",
    "#     if total_clones == 0:\n",
    "#         print(f'no clones in POST for {patient}')\n",
    "#         y_pre.append(0)\n",
    "#         y_dli.append(0)\n",
    "#         y_all.append(0)\n",
    "#         y_one.append(0)\n",
    "#         continue\n",
    "        \n",
    "    source_arr.append(0)\n",
    "    target_arr.append(2)\n",
    "\n",
    "    df_sub = sub_cdr[sub_cdr['PRE']==1]\n",
    "    df_sub = df_sub[df_sub['POST']==1]\n",
    "    df_sub = df_sub[df_sub['DLI']==0]\n",
    "    \n",
    "    val_arr.append(len(df_sub))\n",
    "    pre = len(df_sub)\n",
    "    \n",
    "    y_pre.append(len(df_sub)/total_clones)\n",
    "\n",
    "\n",
    "\n",
    "    source_arr.append(1)\n",
    "    target_arr.append(2)\n",
    "\n",
    "    df_sub = sub_cdr[sub_cdr['DLI']==1]\n",
    "    df_sub = df_sub[df_sub['POST']==1]\n",
    "    df_sub = df_sub[df_sub['PRE']==0]\n",
    "    val_arr.append(len(df_sub))\n",
    "    y_dli.append(len(df_sub)/total_clones)\n",
    "    dli = len(df_sub)\n",
    "    \n",
    "    \n",
    "    df_sub = sub_cdr[sub_cdr['DLI']==1]\n",
    "    df_sub = df_sub[df_sub['POST']==1]\n",
    "    df_sub = df_sub[df_sub['PRE']==1]\n",
    "    val_arr.append(len(df_sub))\n",
    "    y_all.append(len(df_sub)/total_clones)\n",
    "    \n",
    "    \n",
    "#     print(f'{patient}, {pre} pre clones, {dli} dli clones, {np.round(dli/len(sub_cdr)*100,2)} % dli,{np.round(pre/len(sub_cdr)*100,2)} % pre ')\n",
    "\n",
    "\n",
    "    sub_cdr[['PRE','POST','DLI']] = np.sign(sub_cdr[['PRE','POST','DLI']] )\n",
    "    ms = sub_cdr[['PRE','POST','DLI']].sum(axis = 1)\n",
    "    keep = ms.index[ms==1]\n",
    "    df_sub = sub_cdr.loc[keep]\n",
    "\n",
    "    df_sub = sub_cdr[sub_cdr['DLI']==0]\n",
    "    df_sub = df_sub[df_sub['POST']==1]\n",
    "    df_sub = df_sub[df_sub['PRE']==0]\n",
    "    val_arr.append(len(df_sub))\n",
    "#     y_one.append(len(df_sub))\n",
    "    \n",
    "    y_one.append(len(df_sub)/total_clones)\n",
    "    \n",
    "    \n",
    "    \n",
    "\n",
    "\n",
    "x = patients\n",
    "\n",
    "# plot bars in stack manner\n",
    "plt.figure()\n",
    "plt.bar(x, y_pre, color='r', label = 'pre')\n",
    "plt.bar(x, y_dli, bottom=y_pre, color='b', label = 'dli')\n",
    "plt.bar(x, y_all, bottom=np.array(y_pre)+np.array(y_dli), color='g', label = 'all 3')\n",
    "plt.bar(x, y_one, bottom=np.array(y_pre)+np.array(y_dli)+np.array(y_all), color='lightgrey', label = 'just post')\n",
    "plt.legend()\n",
    "plt.title('clones expanded in post')\n",
    "# plt.savefig('tcr_no_grey.eps')\n",
    "plt.show()\n",
    "\n"
   ]
  },
  {
   "cell_type": "code",
   "execution_count": 149,
   "metadata": {},
   "outputs": [
    {
     "data": {
      "text/html": [
       "<div>\n",
       "<style scoped>\n",
       "    .dataframe tbody tr th:only-of-type {\n",
       "        vertical-align: middle;\n",
       "    }\n",
       "\n",
       "    .dataframe tbody tr th {\n",
       "        vertical-align: top;\n",
       "    }\n",
       "\n",
       "    .dataframe thead th {\n",
       "        text-align: right;\n",
       "    }\n",
       "</style>\n",
       "<table border=\"1\" class=\"dataframe\">\n",
       "  <thead>\n",
       "    <tr style=\"text-align: right;\">\n",
       "      <th></th>\n",
       "      <th>sample</th>\n",
       "      <th>time</th>\n",
       "      <th>response</th>\n",
       "      <th>cluster_number</th>\n",
       "      <th>cdr3</th>\n",
       "      <th>patient</th>\n",
       "      <th>T-subtype</th>\n",
       "      <th>batch</th>\n",
       "      <th>Log10CloneSize</th>\n",
       "      <th>VDJdb</th>\n",
       "    </tr>\n",
       "    <tr>\n",
       "      <th>barcode</th>\n",
       "      <th></th>\n",
       "      <th></th>\n",
       "      <th></th>\n",
       "      <th></th>\n",
       "      <th></th>\n",
       "      <th></th>\n",
       "      <th></th>\n",
       "      <th></th>\n",
       "      <th></th>\n",
       "      <th></th>\n",
       "    </tr>\n",
       "  </thead>\n",
       "  <tbody>\n",
       "    <tr>\n",
       "      <th>AAACGGGTCTAACGGT-1-0</th>\n",
       "      <td>JS1</td>\n",
       "      <td>PRE</td>\n",
       "      <td>NONRESPONDER</td>\n",
       "      <td>5</td>\n",
       "      <td>CASSLLDRGDTEAFF</td>\n",
       "      <td>JS</td>\n",
       "      <td>TEM/TRM_1</td>\n",
       "      <td>0</td>\n",
       "      <td>0.301030</td>\n",
       "      <td>0</td>\n",
       "    </tr>\n",
       "    <tr>\n",
       "      <th>AACGTTGAGCGTCTAT-1-0</th>\n",
       "      <td>GD1</td>\n",
       "      <td>PRE</td>\n",
       "      <td>NONRESPONDER</td>\n",
       "      <td>2</td>\n",
       "      <td>CAISDRDGSSYEQYF</td>\n",
       "      <td>GD</td>\n",
       "      <td>Naive_Helper_1</td>\n",
       "      <td>0</td>\n",
       "      <td>0.301030</td>\n",
       "      <td>0</td>\n",
       "    </tr>\n",
       "    <tr>\n",
       "      <th>AACTCCCAGAACAACT-1-0</th>\n",
       "      <td>GD1</td>\n",
       "      <td>PRE</td>\n",
       "      <td>NONRESPONDER</td>\n",
       "      <td>28</td>\n",
       "      <td>CASSPQGLAGSSGANVLTF</td>\n",
       "      <td>GD</td>\n",
       "      <td>MAIT</td>\n",
       "      <td>0</td>\n",
       "      <td>0.301030</td>\n",
       "      <td>0</td>\n",
       "    </tr>\n",
       "    <tr>\n",
       "      <th>AATCCAGGTCGCGTGT-1-0</th>\n",
       "      <td>JS1</td>\n",
       "      <td>PRE</td>\n",
       "      <td>NONRESPONDER</td>\n",
       "      <td>40</td>\n",
       "      <td>CASSLAPQGATGELFF</td>\n",
       "      <td>JS</td>\n",
       "      <td>TEM/TRM_3</td>\n",
       "      <td>0</td>\n",
       "      <td>0.602060</td>\n",
       "      <td>0</td>\n",
       "    </tr>\n",
       "    <tr>\n",
       "      <th>ACAGCCGAGACCTAGG-1-0</th>\n",
       "      <td>GD1</td>\n",
       "      <td>PRE</td>\n",
       "      <td>NONRESPONDER</td>\n",
       "      <td>2</td>\n",
       "      <td>CSGDRPGINEKLFF</td>\n",
       "      <td>GD</td>\n",
       "      <td>Naive_Helper_1</td>\n",
       "      <td>0</td>\n",
       "      <td>1.041393</td>\n",
       "      <td>0</td>\n",
       "    </tr>\n",
       "    <tr>\n",
       "      <th>...</th>\n",
       "      <td>...</td>\n",
       "      <td>...</td>\n",
       "      <td>...</td>\n",
       "      <td>...</td>\n",
       "      <td>...</td>\n",
       "      <td>...</td>\n",
       "      <td>...</td>\n",
       "      <td>...</td>\n",
       "      <td>...</td>\n",
       "      <td>...</td>\n",
       "    </tr>\n",
       "    <tr>\n",
       "      <th>TTTGGTTTCTTCAACT-1-13</th>\n",
       "      <td>AH</td>\n",
       "      <td>DLI</td>\n",
       "      <td>NONRESPONDER</td>\n",
       "      <td>18</td>\n",
       "      <td>CASSEEGGRQPQHF</td>\n",
       "      <td>AH</td>\n",
       "      <td>TCM</td>\n",
       "      <td>13</td>\n",
       "      <td>0.778151</td>\n",
       "      <td>0</td>\n",
       "    </tr>\n",
       "    <tr>\n",
       "      <th>TTTGTCAAGCTGGAAC-1-13</th>\n",
       "      <td>AH</td>\n",
       "      <td>DLI</td>\n",
       "      <td>NONRESPONDER</td>\n",
       "      <td>18</td>\n",
       "      <td>CASSSASGNTIYF</td>\n",
       "      <td>AH</td>\n",
       "      <td>TCM</td>\n",
       "      <td>13</td>\n",
       "      <td>0.602060</td>\n",
       "      <td>0</td>\n",
       "    </tr>\n",
       "    <tr>\n",
       "      <th>TTTGTCAAGGCCGAAT-1-13</th>\n",
       "      <td>AH</td>\n",
       "      <td>DLI</td>\n",
       "      <td>NONRESPONDER</td>\n",
       "      <td>18</td>\n",
       "      <td>CASSLGGGARISYEQYF</td>\n",
       "      <td>AH</td>\n",
       "      <td>TCM</td>\n",
       "      <td>13</td>\n",
       "      <td>2.008600</td>\n",
       "      <td>0</td>\n",
       "    </tr>\n",
       "    <tr>\n",
       "      <th>TTTGTCACAGACAAAT-1-13</th>\n",
       "      <td>AH</td>\n",
       "      <td>DLI</td>\n",
       "      <td>NONRESPONDER</td>\n",
       "      <td>0</td>\n",
       "      <td>CASSQTSGSVNEQFF</td>\n",
       "      <td>AH</td>\n",
       "      <td>TEMRA</td>\n",
       "      <td>13</td>\n",
       "      <td>1.230449</td>\n",
       "      <td>0</td>\n",
       "    </tr>\n",
       "    <tr>\n",
       "      <th>TTTGTCATCGCACTCT-1-13</th>\n",
       "      <td>AH</td>\n",
       "      <td>DLI</td>\n",
       "      <td>NONRESPONDER</td>\n",
       "      <td>18</td>\n",
       "      <td>CASREAGGPYEQYF</td>\n",
       "      <td>AH</td>\n",
       "      <td>TCM</td>\n",
       "      <td>13</td>\n",
       "      <td>0.301030</td>\n",
       "      <td>0</td>\n",
       "    </tr>\n",
       "  </tbody>\n",
       "</table>\n",
       "<p>2597 rows × 10 columns</p>\n",
       "</div>"
      ],
      "text/plain": [
       "                      sample time      response  cluster_number  \\\n",
       "barcode                                                           \n",
       "AAACGGGTCTAACGGT-1-0     JS1  PRE  NONRESPONDER               5   \n",
       "AACGTTGAGCGTCTAT-1-0     GD1  PRE  NONRESPONDER               2   \n",
       "AACTCCCAGAACAACT-1-0     GD1  PRE  NONRESPONDER              28   \n",
       "AATCCAGGTCGCGTGT-1-0     JS1  PRE  NONRESPONDER              40   \n",
       "ACAGCCGAGACCTAGG-1-0     GD1  PRE  NONRESPONDER               2   \n",
       "...                      ...  ...           ...             ...   \n",
       "TTTGGTTTCTTCAACT-1-13     AH  DLI  NONRESPONDER              18   \n",
       "TTTGTCAAGCTGGAAC-1-13     AH  DLI  NONRESPONDER              18   \n",
       "TTTGTCAAGGCCGAAT-1-13     AH  DLI  NONRESPONDER              18   \n",
       "TTTGTCACAGACAAAT-1-13     AH  DLI  NONRESPONDER               0   \n",
       "TTTGTCATCGCACTCT-1-13     AH  DLI  NONRESPONDER              18   \n",
       "\n",
       "                                      cdr3 patient       T-subtype  batch  \\\n",
       "barcode                                                                     \n",
       "AAACGGGTCTAACGGT-1-0       CASSLLDRGDTEAFF      JS       TEM/TRM_1      0   \n",
       "AACGTTGAGCGTCTAT-1-0       CAISDRDGSSYEQYF      GD  Naive_Helper_1      0   \n",
       "AACTCCCAGAACAACT-1-0   CASSPQGLAGSSGANVLTF      GD            MAIT      0   \n",
       "AATCCAGGTCGCGTGT-1-0      CASSLAPQGATGELFF      JS       TEM/TRM_3      0   \n",
       "ACAGCCGAGACCTAGG-1-0        CSGDRPGINEKLFF      GD  Naive_Helper_1      0   \n",
       "...                                    ...     ...             ...    ...   \n",
       "TTTGGTTTCTTCAACT-1-13       CASSEEGGRQPQHF      AH             TCM     13   \n",
       "TTTGTCAAGCTGGAAC-1-13        CASSSASGNTIYF      AH             TCM     13   \n",
       "TTTGTCAAGGCCGAAT-1-13    CASSLGGGARISYEQYF      AH             TCM     13   \n",
       "TTTGTCACAGACAAAT-1-13      CASSQTSGSVNEQFF      AH           TEMRA     13   \n",
       "TTTGTCATCGCACTCT-1-13       CASREAGGPYEQYF      AH             TCM     13   \n",
       "\n",
       "                       Log10CloneSize  VDJdb  \n",
       "barcode                                       \n",
       "AAACGGGTCTAACGGT-1-0         0.301030      0  \n",
       "AACGTTGAGCGTCTAT-1-0         0.301030      0  \n",
       "AACTCCCAGAACAACT-1-0         0.301030      0  \n",
       "AATCCAGGTCGCGTGT-1-0         0.602060      0  \n",
       "ACAGCCGAGACCTAGG-1-0         1.041393      0  \n",
       "...                               ...    ...  \n",
       "TTTGGTTTCTTCAACT-1-13        0.778151      0  \n",
       "TTTGTCAAGCTGGAAC-1-13        0.602060      0  \n",
       "TTTGTCAAGGCCGAAT-1-13        2.008600      0  \n",
       "TTTGTCACAGACAAAT-1-13        1.230449      0  \n",
       "TTTGTCATCGCACTCT-1-13        0.301030      0  \n",
       "\n",
       "[2597 rows x 10 columns]"
      ]
     },
     "execution_count": 149,
     "metadata": {},
     "output_type": "execute_result"
    }
   ],
   "source": [
    "r_df=  tcr[tcr['patient'].isin(nr)]\n",
    "r_df"
   ]
  },
  {
   "cell_type": "code",
   "execution_count": 150,
   "metadata": {},
   "outputs": [
    {
     "data": {
      "text/html": [
       "<div>\n",
       "<style scoped>\n",
       "    .dataframe tbody tr th:only-of-type {\n",
       "        vertical-align: middle;\n",
       "    }\n",
       "\n",
       "    .dataframe tbody tr th {\n",
       "        vertical-align: top;\n",
       "    }\n",
       "\n",
       "    .dataframe thead th {\n",
       "        text-align: right;\n",
       "    }\n",
       "</style>\n",
       "<table border=\"1\" class=\"dataframe\">\n",
       "  <thead>\n",
       "    <tr style=\"text-align: right;\">\n",
       "      <th></th>\n",
       "      <th>num_unique_patients</th>\n",
       "      <th>Log10CloneSize</th>\n",
       "      <th>PRE</th>\n",
       "      <th>POST</th>\n",
       "      <th>DLI</th>\n",
       "    </tr>\n",
       "  </thead>\n",
       "  <tbody>\n",
       "    <tr>\n",
       "      <th>CAAVESWDRNTEAFF</th>\n",
       "      <td>1</td>\n",
       "      <td>0.698970</td>\n",
       "      <td>2</td>\n",
       "      <td>0</td>\n",
       "      <td>3</td>\n",
       "    </tr>\n",
       "    <tr>\n",
       "      <th>CACGQAYGYTF</th>\n",
       "      <td>1</td>\n",
       "      <td>0.778151</td>\n",
       "      <td>1</td>\n",
       "      <td>0</td>\n",
       "      <td>5</td>\n",
       "    </tr>\n",
       "    <tr>\n",
       "      <th>CAGGGAEGRAGELFF</th>\n",
       "      <td>1</td>\n",
       "      <td>0.301030</td>\n",
       "      <td>2</td>\n",
       "      <td>0</td>\n",
       "      <td>0</td>\n",
       "    </tr>\n",
       "    <tr>\n",
       "      <th>CAGNRDSTFSGANVLTF</th>\n",
       "      <td>1</td>\n",
       "      <td>0.301030</td>\n",
       "      <td>1</td>\n",
       "      <td>0</td>\n",
       "      <td>1</td>\n",
       "    </tr>\n",
       "    <tr>\n",
       "      <th>CAISDRDGSSYEQYF</th>\n",
       "      <td>1</td>\n",
       "      <td>0.301030</td>\n",
       "      <td>2</td>\n",
       "      <td>0</td>\n",
       "      <td>0</td>\n",
       "    </tr>\n",
       "    <tr>\n",
       "      <th>...</th>\n",
       "      <td>...</td>\n",
       "      <td>...</td>\n",
       "      <td>...</td>\n",
       "      <td>...</td>\n",
       "      <td>...</td>\n",
       "    </tr>\n",
       "    <tr>\n",
       "      <th>CSVAADRAYGYTF</th>\n",
       "      <td>1</td>\n",
       "      <td>1.230449</td>\n",
       "      <td>10</td>\n",
       "      <td>0</td>\n",
       "      <td>7</td>\n",
       "    </tr>\n",
       "    <tr>\n",
       "      <th>CSVEVLMGGRYTEAFF</th>\n",
       "      <td>1</td>\n",
       "      <td>0.477121</td>\n",
       "      <td>1</td>\n",
       "      <td>1</td>\n",
       "      <td>1</td>\n",
       "    </tr>\n",
       "    <tr>\n",
       "      <th>CSVEVPMGTSGPGSYEQYF</th>\n",
       "      <td>1</td>\n",
       "      <td>0.602060</td>\n",
       "      <td>0</td>\n",
       "      <td>0</td>\n",
       "      <td>4</td>\n",
       "    </tr>\n",
       "    <tr>\n",
       "      <th>CSVGTGPGNTIYF</th>\n",
       "      <td>1</td>\n",
       "      <td>0.301030</td>\n",
       "      <td>0</td>\n",
       "      <td>0</td>\n",
       "      <td>2</td>\n",
       "    </tr>\n",
       "    <tr>\n",
       "      <th>CSVMPGQGSTYEQYF</th>\n",
       "      <td>1</td>\n",
       "      <td>0.301030</td>\n",
       "      <td>0</td>\n",
       "      <td>0</td>\n",
       "      <td>2</td>\n",
       "    </tr>\n",
       "  </tbody>\n",
       "</table>\n",
       "<p>364 rows × 5 columns</p>\n",
       "</div>"
      ],
      "text/plain": [
       "                     num_unique_patients  Log10CloneSize  PRE  POST  DLI\n",
       "CAAVESWDRNTEAFF                        1        0.698970    2     0    3\n",
       "CACGQAYGYTF                            1        0.778151    1     0    5\n",
       "CAGGGAEGRAGELFF                        1        0.301030    2     0    0\n",
       "CAGNRDSTFSGANVLTF                      1        0.301030    1     0    1\n",
       "CAISDRDGSSYEQYF                        1        0.301030    2     0    0\n",
       "...                                  ...             ...  ...   ...  ...\n",
       "CSVAADRAYGYTF                          1        1.230449   10     0    7\n",
       "CSVEVLMGGRYTEAFF                       1        0.477121    1     1    1\n",
       "CSVEVPMGTSGPGSYEQYF                    1        0.602060    0     0    4\n",
       "CSVGTGPGNTIYF                          1        0.301030    0     0    2\n",
       "CSVMPGQGSTYEQYF                        1        0.301030    0     0    2\n",
       "\n",
       "[364 rows x 5 columns]"
      ]
     },
     "execution_count": 150,
     "metadata": {},
     "output_type": "execute_result"
    }
   ],
   "source": [
    "clone_r = clone_df.loc[np.unique(r_df['cdr3'])]\n",
    "clone_r"
   ]
  },
  {
   "cell_type": "code",
   "execution_count": 156,
   "metadata": {},
   "outputs": [
    {
     "data": {
      "text/plain": [
       "0.47712125471966244"
      ]
     },
     "execution_count": 156,
     "metadata": {},
     "output_type": "execute_result"
    }
   ],
   "source": [
    "np.log10(3)"
   ]
  },
  {
   "cell_type": "code",
   "execution_count": 157,
   "metadata": {},
   "outputs": [
    {
     "data": {
      "text/html": [
       "<div>\n",
       "<style scoped>\n",
       "    .dataframe tbody tr th:only-of-type {\n",
       "        vertical-align: middle;\n",
       "    }\n",
       "\n",
       "    .dataframe tbody tr th {\n",
       "        vertical-align: top;\n",
       "    }\n",
       "\n",
       "    .dataframe thead th {\n",
       "        text-align: right;\n",
       "    }\n",
       "</style>\n",
       "<table border=\"1\" class=\"dataframe\">\n",
       "  <thead>\n",
       "    <tr style=\"text-align: right;\">\n",
       "      <th></th>\n",
       "      <th>num_unique_patients</th>\n",
       "      <th>Log10CloneSize</th>\n",
       "      <th>PRE</th>\n",
       "      <th>POST</th>\n",
       "      <th>DLI</th>\n",
       "    </tr>\n",
       "  </thead>\n",
       "  <tbody>\n",
       "    <tr>\n",
       "      <th>CAAVESWDRNTEAFF</th>\n",
       "      <td>1</td>\n",
       "      <td>0.698970</td>\n",
       "      <td>2</td>\n",
       "      <td>0</td>\n",
       "      <td>3</td>\n",
       "    </tr>\n",
       "    <tr>\n",
       "      <th>CACGQAYGYTF</th>\n",
       "      <td>1</td>\n",
       "      <td>0.778151</td>\n",
       "      <td>1</td>\n",
       "      <td>0</td>\n",
       "      <td>5</td>\n",
       "    </tr>\n",
       "    <tr>\n",
       "      <th>CAINIRHGRNSPLHF</th>\n",
       "      <td>1</td>\n",
       "      <td>0.602060</td>\n",
       "      <td>0</td>\n",
       "      <td>0</td>\n",
       "      <td>4</td>\n",
       "    </tr>\n",
       "    <tr>\n",
       "      <th>CAIRDAGGPWETQYF</th>\n",
       "      <td>1</td>\n",
       "      <td>0.954243</td>\n",
       "      <td>1</td>\n",
       "      <td>7</td>\n",
       "      <td>1</td>\n",
       "    </tr>\n",
       "    <tr>\n",
       "      <th>CAISDETPNQPQHF</th>\n",
       "      <td>1</td>\n",
       "      <td>0.602060</td>\n",
       "      <td>1</td>\n",
       "      <td>2</td>\n",
       "      <td>1</td>\n",
       "    </tr>\n",
       "    <tr>\n",
       "      <th>...</th>\n",
       "      <td>...</td>\n",
       "      <td>...</td>\n",
       "      <td>...</td>\n",
       "      <td>...</td>\n",
       "      <td>...</td>\n",
       "    </tr>\n",
       "    <tr>\n",
       "      <th>CSVPEWNNEQFF</th>\n",
       "      <td>1</td>\n",
       "      <td>0.698970</td>\n",
       "      <td>0</td>\n",
       "      <td>5</td>\n",
       "      <td>0</td>\n",
       "    </tr>\n",
       "    <tr>\n",
       "      <th>CSVQGSYEQYF</th>\n",
       "      <td>1</td>\n",
       "      <td>1.079181</td>\n",
       "      <td>0</td>\n",
       "      <td>0</td>\n",
       "      <td>12</td>\n",
       "    </tr>\n",
       "    <tr>\n",
       "      <th>CSVTGSGGPLDEQFF</th>\n",
       "      <td>1</td>\n",
       "      <td>1.908485</td>\n",
       "      <td>1</td>\n",
       "      <td>58</td>\n",
       "      <td>21</td>\n",
       "    </tr>\n",
       "    <tr>\n",
       "      <th>CSVVDQRSGANVLTF</th>\n",
       "      <td>1</td>\n",
       "      <td>0.954243</td>\n",
       "      <td>0</td>\n",
       "      <td>9</td>\n",
       "      <td>0</td>\n",
       "    </tr>\n",
       "    <tr>\n",
       "      <th>CSVVRTSGNEQFF</th>\n",
       "      <td>1</td>\n",
       "      <td>1.278754</td>\n",
       "      <td>1</td>\n",
       "      <td>18</td>\n",
       "      <td>0</td>\n",
       "    </tr>\n",
       "  </tbody>\n",
       "</table>\n",
       "<p>363 rows × 5 columns</p>\n",
       "</div>"
      ],
      "text/plain": [
       "                 num_unique_patients  Log10CloneSize  PRE  POST  DLI\n",
       "CAAVESWDRNTEAFF                    1        0.698970    2     0    3\n",
       "CACGQAYGYTF                        1        0.778151    1     0    5\n",
       "CAINIRHGRNSPLHF                    1        0.602060    0     0    4\n",
       "CAIRDAGGPWETQYF                    1        0.954243    1     7    1\n",
       "CAISDETPNQPQHF                     1        0.602060    1     2    1\n",
       "...                              ...             ...  ...   ...  ...\n",
       "CSVPEWNNEQFF                       1        0.698970    0     5    0\n",
       "CSVQGSYEQYF                        1        1.079181    0     0   12\n",
       "CSVTGSGGPLDEQFF                    1        1.908485    1    58   21\n",
       "CSVVDQRSGANVLTF                    1        0.954243    0     9    0\n",
       "CSVVRTSGNEQFF                      1        1.278754    1    18    0\n",
       "\n",
       "[363 rows x 5 columns]"
      ]
     },
     "execution_count": 157,
     "metadata": {},
     "output_type": "execute_result"
    }
   ],
   "source": [
    "large = clone_df[clone_df['Log10CloneSize']>np.log10(3)]\n",
    "large"
   ]
  },
  {
   "cell_type": "code",
   "execution_count": 153,
   "metadata": {},
   "outputs": [
    {
     "data": {
      "image/png": "[encoded data removed]",
      "text/plain": [
       "<Figure size 432x288 with 1 Axes>"
      ]
     },
     "metadata": {
      "needs_background": "light"
     },
     "output_type": "display_data"
    }
   ],
   "source": [
    "plt.figure()\n",
    "plt.hist(clone_df['Log10CloneSize'], bins = 50)\n",
    "plt.show()"
   ]
  },
  {
   "cell_type": "code",
   "execution_count": 159,
   "metadata": {},
   "outputs": [
    {
     "data": {
      "text/plain": [
       "11"
      ]
     },
     "execution_count": 159,
     "metadata": {},
     "output_type": "execute_result"
    }
   ],
   "source": [
    "dd= list (set(vdj.CDR3) & set(clone_r.index))\n",
    "len(dd)"
   ]
  },
  {
   "cell_type": "code",
   "execution_count": 155,
   "metadata": {},
   "outputs": [
    {
     "data": {
      "text/plain": [
       "4"
      ]
     },
     "execution_count": 155,
     "metadata": {},
     "output_type": "execute_result"
    }
   ],
   "source": [
    "vdj=pd.read_table('vdjdb-2023-04-26.tsv.gz')\n",
    "dd= list (set(vdj.CDR3) & set(large.index))\n",
    "len(dd)"
   ]
  },
  {
   "cell_type": "code",
   "execution_count": 143,
   "metadata": {},
   "outputs": [
    {
     "data": {
      "text/html": [
       "<div>\n",
       "<style scoped>\n",
       "    .dataframe tbody tr th:only-of-type {\n",
       "        vertical-align: middle;\n",
       "    }\n",
       "\n",
       "    .dataframe tbody tr th {\n",
       "        vertical-align: top;\n",
       "    }\n",
       "\n",
       "    .dataframe thead th {\n",
       "        text-align: right;\n",
       "    }\n",
       "</style>\n",
       "<table border=\"1\" class=\"dataframe\">\n",
       "  <thead>\n",
       "    <tr style=\"text-align: right;\">\n",
       "      <th></th>\n",
       "      <th>sample</th>\n",
       "      <th>time</th>\n",
       "      <th>response</th>\n",
       "      <th>cluster_number</th>\n",
       "      <th>cdr3</th>\n",
       "      <th>patient</th>\n",
       "      <th>T-subtype</th>\n",
       "      <th>batch</th>\n",
       "      <th>Log10CloneSize</th>\n",
       "      <th>VDJdb</th>\n",
       "    </tr>\n",
       "    <tr>\n",
       "      <th>barcode</th>\n",
       "      <th></th>\n",
       "      <th></th>\n",
       "      <th></th>\n",
       "      <th></th>\n",
       "      <th></th>\n",
       "      <th></th>\n",
       "      <th></th>\n",
       "      <th></th>\n",
       "      <th></th>\n",
       "      <th></th>\n",
       "    </tr>\n",
       "  </thead>\n",
       "  <tbody>\n",
       "    <tr>\n",
       "      <th>AGCCTAAAGAAGGACA-1-0</th>\n",
       "      <td>LB1</td>\n",
       "      <td>POST</td>\n",
       "      <td>RESPONDER</td>\n",
       "      <td>0</td>\n",
       "      <td>CASSPISNEQFF</td>\n",
       "      <td>LB</td>\n",
       "      <td>TEMRA</td>\n",
       "      <td>0</td>\n",
       "      <td>1.612784</td>\n",
       "      <td>1</td>\n",
       "    </tr>\n",
       "    <tr>\n",
       "      <th>CATTCGCGTCACAAGG-1-0</th>\n",
       "      <td>LB1</td>\n",
       "      <td>POST</td>\n",
       "      <td>RESPONDER</td>\n",
       "      <td>0</td>\n",
       "      <td>CASSPISNEQFF</td>\n",
       "      <td>LB</td>\n",
       "      <td>TEMRA</td>\n",
       "      <td>0</td>\n",
       "      <td>1.612784</td>\n",
       "      <td>1</td>\n",
       "    </tr>\n",
       "    <tr>\n",
       "      <th>CCTCAGTGTTACCGAT-1-0</th>\n",
       "      <td>LB1</td>\n",
       "      <td>POST</td>\n",
       "      <td>RESPONDER</td>\n",
       "      <td>0</td>\n",
       "      <td>CASSPISNEQFF</td>\n",
       "      <td>LB</td>\n",
       "      <td>TEMRA</td>\n",
       "      <td>0</td>\n",
       "      <td>1.612784</td>\n",
       "      <td>1</td>\n",
       "    </tr>\n",
       "    <tr>\n",
       "      <th>CGAGCCAAGTAGCCGA-1-0</th>\n",
       "      <td>LB1</td>\n",
       "      <td>POST</td>\n",
       "      <td>RESPONDER</td>\n",
       "      <td>0</td>\n",
       "      <td>CASSPISNEQFF</td>\n",
       "      <td>LB</td>\n",
       "      <td>TEMRA</td>\n",
       "      <td>0</td>\n",
       "      <td>1.612784</td>\n",
       "      <td>1</td>\n",
       "    </tr>\n",
       "    <tr>\n",
       "      <th>CGCGTTTTCTAACTGG-1-0</th>\n",
       "      <td>LB1</td>\n",
       "      <td>POST</td>\n",
       "      <td>RESPONDER</td>\n",
       "      <td>0</td>\n",
       "      <td>CASSPISNEQFF</td>\n",
       "      <td>LB</td>\n",
       "      <td>TEMRA</td>\n",
       "      <td>0</td>\n",
       "      <td>1.612784</td>\n",
       "      <td>1</td>\n",
       "    </tr>\n",
       "    <tr>\n",
       "      <th>...</th>\n",
       "      <td>...</td>\n",
       "      <td>...</td>\n",
       "      <td>...</td>\n",
       "      <td>...</td>\n",
       "      <td>...</td>\n",
       "      <td>...</td>\n",
       "      <td>...</td>\n",
       "      <td>...</td>\n",
       "      <td>...</td>\n",
       "      <td>...</td>\n",
       "    </tr>\n",
       "    <tr>\n",
       "      <th>GTTACAGAGTATTGGA-1-13</th>\n",
       "      <td>AH</td>\n",
       "      <td>DLI</td>\n",
       "      <td>NONRESPONDER</td>\n",
       "      <td>0</td>\n",
       "      <td>CASSRTSGPYNEQFF</td>\n",
       "      <td>AH</td>\n",
       "      <td>TEMRA</td>\n",
       "      <td>13</td>\n",
       "      <td>2.033424</td>\n",
       "      <td>1</td>\n",
       "    </tr>\n",
       "    <tr>\n",
       "      <th>TATGCCCCATGTCGAT-1-13</th>\n",
       "      <td>AH</td>\n",
       "      <td>DLI</td>\n",
       "      <td>NONRESPONDER</td>\n",
       "      <td>0</td>\n",
       "      <td>CASSRTSGPYNEQFF</td>\n",
       "      <td>AH</td>\n",
       "      <td>TEMRA</td>\n",
       "      <td>13</td>\n",
       "      <td>2.033424</td>\n",
       "      <td>1</td>\n",
       "    </tr>\n",
       "    <tr>\n",
       "      <th>TCCACACTCCAACCAA-1-13</th>\n",
       "      <td>AH</td>\n",
       "      <td>DLI</td>\n",
       "      <td>NONRESPONDER</td>\n",
       "      <td>0</td>\n",
       "      <td>CASSRTSGPYNEQFF</td>\n",
       "      <td>AH</td>\n",
       "      <td>TEMRA</td>\n",
       "      <td>13</td>\n",
       "      <td>2.033424</td>\n",
       "      <td>1</td>\n",
       "    </tr>\n",
       "    <tr>\n",
       "      <th>TCTTCGGCATGGAATA-1-13</th>\n",
       "      <td>AH</td>\n",
       "      <td>DLI</td>\n",
       "      <td>NONRESPONDER</td>\n",
       "      <td>0</td>\n",
       "      <td>CASSRTSGPYNEQFF</td>\n",
       "      <td>AH</td>\n",
       "      <td>TEMRA</td>\n",
       "      <td>13</td>\n",
       "      <td>2.033424</td>\n",
       "      <td>1</td>\n",
       "    </tr>\n",
       "    <tr>\n",
       "      <th>TGATTTCAGTTCGCGC-1-13</th>\n",
       "      <td>AH</td>\n",
       "      <td>DLI</td>\n",
       "      <td>NONRESPONDER</td>\n",
       "      <td>0</td>\n",
       "      <td>CASSRTSGPYNEQFF</td>\n",
       "      <td>AH</td>\n",
       "      <td>TEMRA</td>\n",
       "      <td>13</td>\n",
       "      <td>2.033424</td>\n",
       "      <td>1</td>\n",
       "    </tr>\n",
       "  </tbody>\n",
       "</table>\n",
       "<p>119 rows × 10 columns</p>\n",
       "</div>"
      ],
      "text/plain": [
       "                      sample  time      response  cluster_number  \\\n",
       "barcode                                                            \n",
       "AGCCTAAAGAAGGACA-1-0     LB1  POST     RESPONDER               0   \n",
       "CATTCGCGTCACAAGG-1-0     LB1  POST     RESPONDER               0   \n",
       "CCTCAGTGTTACCGAT-1-0     LB1  POST     RESPONDER               0   \n",
       "CGAGCCAAGTAGCCGA-1-0     LB1  POST     RESPONDER               0   \n",
       "CGCGTTTTCTAACTGG-1-0     LB1  POST     RESPONDER               0   \n",
       "...                      ...   ...           ...             ...   \n",
       "GTTACAGAGTATTGGA-1-13     AH   DLI  NONRESPONDER               0   \n",
       "TATGCCCCATGTCGAT-1-13     AH   DLI  NONRESPONDER               0   \n",
       "TCCACACTCCAACCAA-1-13     AH   DLI  NONRESPONDER               0   \n",
       "TCTTCGGCATGGAATA-1-13     AH   DLI  NONRESPONDER               0   \n",
       "TGATTTCAGTTCGCGC-1-13     AH   DLI  NONRESPONDER               0   \n",
       "\n",
       "                                  cdr3 patient T-subtype  batch  \\\n",
       "barcode                                                           \n",
       "AGCCTAAAGAAGGACA-1-0      CASSPISNEQFF      LB     TEMRA      0   \n",
       "CATTCGCGTCACAAGG-1-0      CASSPISNEQFF      LB     TEMRA      0   \n",
       "CCTCAGTGTTACCGAT-1-0      CASSPISNEQFF      LB     TEMRA      0   \n",
       "CGAGCCAAGTAGCCGA-1-0      CASSPISNEQFF      LB     TEMRA      0   \n",
       "CGCGTTTTCTAACTGG-1-0      CASSPISNEQFF      LB     TEMRA      0   \n",
       "...                                ...     ...       ...    ...   \n",
       "GTTACAGAGTATTGGA-1-13  CASSRTSGPYNEQFF      AH     TEMRA     13   \n",
       "TATGCCCCATGTCGAT-1-13  CASSRTSGPYNEQFF      AH     TEMRA     13   \n",
       "TCCACACTCCAACCAA-1-13  CASSRTSGPYNEQFF      AH     TEMRA     13   \n",
       "TCTTCGGCATGGAATA-1-13  CASSRTSGPYNEQFF      AH     TEMRA     13   \n",
       "TGATTTCAGTTCGCGC-1-13  CASSRTSGPYNEQFF      AH     TEMRA     13   \n",
       "\n",
       "                       Log10CloneSize  VDJdb  \n",
       "barcode                                       \n",
       "AGCCTAAAGAAGGACA-1-0         1.612784      1  \n",
       "CATTCGCGTCACAAGG-1-0         1.612784      1  \n",
       "CCTCAGTGTTACCGAT-1-0         1.612784      1  \n",
       "CGAGCCAAGTAGCCGA-1-0         1.612784      1  \n",
       "CGCGTTTTCTAACTGG-1-0         1.612784      1  \n",
       "...                               ...    ...  \n",
       "GTTACAGAGTATTGGA-1-13        2.033424      1  \n",
       "TATGCCCCATGTCGAT-1-13        2.033424      1  \n",
       "TCCACACTCCAACCAA-1-13        2.033424      1  \n",
       "TCTTCGGCATGGAATA-1-13        2.033424      1  \n",
       "TGATTTCAGTTCGCGC-1-13        2.033424      1  \n",
       "\n",
       "[119 rows x 10 columns]"
      ]
     },
     "execution_count": 143,
     "metadata": {},
     "output_type": "execute_result"
    }
   ],
   "source": [
    "c0 = vdj_overlap[vdj_overlap['cluster_number']==0]\n",
    "c0"
   ]
  },
  {
   "cell_type": "code",
   "execution_count": 125,
   "metadata": {},
   "outputs": [],
   "source": [
    "subvdj=vdj[vdj.CDR3.isin(dd)][['CDR3','Epitope species']]\n",
    "cdr_epi=dict(zip(subvdj['CDR3'],subvdj['Epitope species']))\n",
    "tcr['VDJdb']=tcr.cdr3.isin(dd)*1"
   ]
  },
  {
   "cell_type": "code",
   "execution_count": 134,
   "metadata": {},
   "outputs": [
    {
     "data": {
      "text/plain": [
       "36"
      ]
     },
     "execution_count": 134,
     "metadata": {},
     "output_type": "execute_result"
    }
   ],
   "source": [
    "vdj_overlap = tcr[tcr['VDJdb']==1]\n",
    "vdj_arr = np.unique(vdj_overlap['cdr3'])\n",
    "len(vdj_arr)"
   ]
  },
  {
   "cell_type": "code",
   "execution_count": 262,
   "metadata": {},
   "outputs": [
    {
     "data": {
      "text/html": [
       "<div>\n",
       "<style scoped>\n",
       "    .dataframe tbody tr th:only-of-type {\n",
       "        vertical-align: middle;\n",
       "    }\n",
       "\n",
       "    .dataframe tbody tr th {\n",
       "        vertical-align: top;\n",
       "    }\n",
       "\n",
       "    .dataframe thead th {\n",
       "        text-align: right;\n",
       "    }\n",
       "</style>\n",
       "<table border=\"1\" class=\"dataframe\">\n",
       "  <thead>\n",
       "    <tr style=\"text-align: right;\">\n",
       "      <th></th>\n",
       "      <th>num_unique_patients</th>\n",
       "      <th>Log10CloneSize</th>\n",
       "      <th>PRE</th>\n",
       "      <th>POST</th>\n",
       "      <th>DLI</th>\n",
       "    </tr>\n",
       "  </thead>\n",
       "  <tbody>\n",
       "    <tr>\n",
       "      <th>CAAARVDTGELFF</th>\n",
       "      <td>1</td>\n",
       "      <td>0.0</td>\n",
       "      <td>1</td>\n",
       "      <td>0</td>\n",
       "      <td>0</td>\n",
       "    </tr>\n",
       "    <tr>\n",
       "      <th>CAAGALPNTGELFF</th>\n",
       "      <td>1</td>\n",
       "      <td>0.0</td>\n",
       "      <td>0</td>\n",
       "      <td>0</td>\n",
       "      <td>1</td>\n",
       "    </tr>\n",
       "    <tr>\n",
       "      <th>CAAGDRAYEQYF</th>\n",
       "      <td>1</td>\n",
       "      <td>0.0</td>\n",
       "      <td>0</td>\n",
       "      <td>0</td>\n",
       "      <td>1</td>\n",
       "    </tr>\n",
       "    <tr>\n",
       "      <th>CAAGGDDTGELFF</th>\n",
       "      <td>1</td>\n",
       "      <td>0.0</td>\n",
       "      <td>0</td>\n",
       "      <td>0</td>\n",
       "      <td>1</td>\n",
       "    </tr>\n",
       "    <tr>\n",
       "      <th>CAAGGTALSGANVLTF</th>\n",
       "      <td>1</td>\n",
       "      <td>0.0</td>\n",
       "      <td>0</td>\n",
       "      <td>0</td>\n",
       "      <td>1</td>\n",
       "    </tr>\n",
       "    <tr>\n",
       "      <th>...</th>\n",
       "      <td>...</td>\n",
       "      <td>...</td>\n",
       "      <td>...</td>\n",
       "      <td>...</td>\n",
       "      <td>...</td>\n",
       "    </tr>\n",
       "    <tr>\n",
       "      <th>CTGAQGVFETEAFF</th>\n",
       "      <td>1</td>\n",
       "      <td>0.0</td>\n",
       "      <td>0</td>\n",
       "      <td>1</td>\n",
       "      <td>0</td>\n",
       "    </tr>\n",
       "    <tr>\n",
       "      <th>CTGGAGTGELFF</th>\n",
       "      <td>1</td>\n",
       "      <td>0.0</td>\n",
       "      <td>0</td>\n",
       "      <td>0</td>\n",
       "      <td>1</td>\n",
       "    </tr>\n",
       "    <tr>\n",
       "      <th>CTTRVHNGYEQYF</th>\n",
       "      <td>1</td>\n",
       "      <td>0.0</td>\n",
       "      <td>1</td>\n",
       "      <td>0</td>\n",
       "      <td>0</td>\n",
       "    </tr>\n",
       "    <tr>\n",
       "      <th>CVASGYTELSYEQYF</th>\n",
       "      <td>1</td>\n",
       "      <td>0.0</td>\n",
       "      <td>0</td>\n",
       "      <td>0</td>\n",
       "      <td>1</td>\n",
       "    </tr>\n",
       "    <tr>\n",
       "      <th>CVSPERSNEQFF</th>\n",
       "      <td>1</td>\n",
       "      <td>0.0</td>\n",
       "      <td>0</td>\n",
       "      <td>0</td>\n",
       "      <td>1</td>\n",
       "    </tr>\n",
       "  </tbody>\n",
       "</table>\n",
       "<p>17165 rows × 5 columns</p>\n",
       "</div>"
      ],
      "text/plain": [
       "                  num_unique_patients  Log10CloneSize  PRE  POST  DLI\n",
       "CAAARVDTGELFF                       1             0.0    1     0    0\n",
       "CAAGALPNTGELFF                      1             0.0    0     0    1\n",
       "CAAGDRAYEQYF                        1             0.0    0     0    1\n",
       "CAAGGDDTGELFF                       1             0.0    0     0    1\n",
       "CAAGGTALSGANVLTF                    1             0.0    0     0    1\n",
       "...                               ...             ...  ...   ...  ...\n",
       "CTGAQGVFETEAFF                      1             0.0    0     1    0\n",
       "CTGGAGTGELFF                        1             0.0    0     0    1\n",
       "CTTRVHNGYEQYF                       1             0.0    1     0    0\n",
       "CVASGYTELSYEQYF                     1             0.0    0     0    1\n",
       "CVSPERSNEQFF                        1             0.0    0     0    1\n",
       "\n",
       "[17165 rows x 5 columns]"
      ]
     },
     "execution_count": 262,
     "metadata": {},
     "output_type": "execute_result"
    }
   ],
   "source": [
    "clone_df"
   ]
  },
  {
   "cell_type": "code",
   "execution_count": 266,
   "metadata": {},
   "outputs": [
    {
     "name": "stdout",
     "output_type": "stream",
     "text": [
      "10030\n"
     ]
    },
    {
     "name": "stderr",
     "output_type": "stream",
     "text": [
      "/home/cyp2111_columbia_edu/anaconda3/lib/python3.8/site-packages/pandas/core/series.py:726: RuntimeWarning: divide by zero encountered in log10\n",
      "  result = getattr(ufunc, method)(*inputs, **kwargs)\n"
     ]
    }
   ],
   "source": [
    "sub = tcr[tcr['patient'].isin(r)]\n",
    "cdr = np.unique(sub['cdr3'])\n",
    "sub_cdr = clone_df.loc[cdr]\n",
    "sub_cdr_r = clone_df.loc[cdr]\n",
    "print(len(sub_cdr))\n",
    "\n",
    "\n",
    "# sub_cdr = pd.DataFrame.copy(clone_df)\n",
    "# sub_cdr = sub_cdr[sub_cdr['POST']>0]\n",
    "sub_cdr['LCS_post'] = np.log10(sub_cdr['POST'])\n",
    "sub_cdr[['PRE','POST','DLI']] = np.sign(sub_cdr[['PRE','POST','DLI']] )\n",
    "sub_cdr['group'] = 'x'\n",
    "\n",
    "COL = 'Log10CloneSize'\n",
    "\n",
    "df_sub = sub_cdr[sub_cdr['PRE']==1]\n",
    "df_sub = df_sub[df_sub['POST']==1]\n",
    "df_sub = df_sub[df_sub['DLI']==0]\n",
    "sub_cdr.loc[df_sub.index,'group'] = '2Pre+Post'\n",
    "\n",
    "df_sub = sub_cdr[sub_cdr['PRE']==0]\n",
    "df_sub = df_sub[df_sub['POST']==1]\n",
    "df_sub = df_sub[df_sub['DLI']==1]\n",
    "sub_cdr.loc[df_sub.index,'group'] = '1Dli+Post'\n",
    "\n",
    "\n",
    "df_sub = sub_cdr[sub_cdr['PRE']==0]\n",
    "df_sub = df_sub[df_sub['POST']==1]\n",
    "df_sub = df_sub[df_sub['DLI']==0]\n",
    "sub_cdr.loc[df_sub.index,'group'] = '4JustPost'\n",
    "\n",
    "df_sub = sub_cdr[sub_cdr['PRE']==1]\n",
    "df_sub = df_sub[df_sub['POST']==1]\n",
    "df_sub = df_sub[df_sub['DLI']==1]\n",
    "sub_cdr.loc[df_sub.index,'group'] = '3Pre+Dli+Post'\n",
    "\n",
    "sub_cdr = sub_cdr.sort_values(by = COL)\n",
    "sub_cdr = sub_cdr.sort_values(by = 'group')\n",
    "\n",
    "range_dict = OrderedDict()\n",
    "for group in np.unique(sub_cdr['group']):\n",
    "    df = sub_cdr[sub_cdr['group']==group]\n",
    "    range_dict[group] = [np.min(df[COL]), np.max(df[COL])]"
   ]
  },
  {
   "cell_type": "code",
   "execution_count": 267,
   "metadata": {},
   "outputs": [],
   "source": [
    "df = pd.DataFrame.copy(sub_cdr)"
   ]
  },
  {
   "cell_type": "code",
   "execution_count": 283,
   "metadata": {},
   "outputs": [
    {
     "data": {
      "text/html": [
       "<div>\n",
       "<style scoped>\n",
       "    .dataframe tbody tr th:only-of-type {\n",
       "        vertical-align: middle;\n",
       "    }\n",
       "\n",
       "    .dataframe tbody tr th {\n",
       "        vertical-align: top;\n",
       "    }\n",
       "\n",
       "    .dataframe thead th {\n",
       "        text-align: right;\n",
       "    }\n",
       "</style>\n",
       "<table border=\"1\" class=\"dataframe\">\n",
       "  <thead>\n",
       "    <tr style=\"text-align: right;\">\n",
       "      <th></th>\n",
       "      <th>x</th>\n",
       "      <th>y</th>\n",
       "      <th>cluster_number</th>\n",
       "      <th>patient</th>\n",
       "      <th>response</th>\n",
       "      <th>sample</th>\n",
       "      <th>time</th>\n",
       "      <th>cdr3</th>\n",
       "      <th>T-subtype</th>\n",
       "      <th>batch</th>\n",
       "      <th>Log10CloneSize</th>\n",
       "    </tr>\n",
       "    <tr>\n",
       "      <th>barcode</th>\n",
       "      <th></th>\n",
       "      <th></th>\n",
       "      <th></th>\n",
       "      <th></th>\n",
       "      <th></th>\n",
       "      <th></th>\n",
       "      <th></th>\n",
       "      <th></th>\n",
       "      <th></th>\n",
       "      <th></th>\n",
       "      <th></th>\n",
       "    </tr>\n",
       "  </thead>\n",
       "  <tbody>\n",
       "    <tr>\n",
       "      <th>AAACCTGAGACCGGAT-1-9</th>\n",
       "      <td>-2.312204</td>\n",
       "      <td>8.371427</td>\n",
       "      <td>2</td>\n",
       "      <td>EL</td>\n",
       "      <td>RESPONDER</td>\n",
       "      <td>EL</td>\n",
       "      <td>DLI</td>\n",
       "      <td>CASSPIFGEAFF</td>\n",
       "      <td>Naive_Helper_1</td>\n",
       "      <td>9</td>\n",
       "      <td>0.00000</td>\n",
       "    </tr>\n",
       "    <tr>\n",
       "      <th>AAACCTGAGTAACCCT-1-9</th>\n",
       "      <td>-1.967470</td>\n",
       "      <td>7.710656</td>\n",
       "      <td>2</td>\n",
       "      <td>EL</td>\n",
       "      <td>RESPONDER</td>\n",
       "      <td>EL</td>\n",
       "      <td>DLI</td>\n",
       "      <td>CASGNSSTYEQYF</td>\n",
       "      <td>Naive_Helper_1</td>\n",
       "      <td>9</td>\n",
       "      <td>0.00000</td>\n",
       "    </tr>\n",
       "    <tr>\n",
       "      <th>AAACCTGAGTACGACG-1-9</th>\n",
       "      <td>-2.743206</td>\n",
       "      <td>6.342686</td>\n",
       "      <td>2</td>\n",
       "      <td>EL</td>\n",
       "      <td>RESPONDER</td>\n",
       "      <td>EL</td>\n",
       "      <td>DLI</td>\n",
       "      <td>CASSYSMNTEAFF</td>\n",
       "      <td>Naive_Helper_1</td>\n",
       "      <td>9</td>\n",
       "      <td>0.00000</td>\n",
       "    </tr>\n",
       "    <tr>\n",
       "      <th>AAACCTGAGTGTCCAT-1-9</th>\n",
       "      <td>-2.041350</td>\n",
       "      <td>8.206432</td>\n",
       "      <td>2</td>\n",
       "      <td>EL</td>\n",
       "      <td>RESPONDER</td>\n",
       "      <td>EL</td>\n",
       "      <td>DLI</td>\n",
       "      <td>CASSYSGGTFTYEQYF</td>\n",
       "      <td>Naive_Helper_1</td>\n",
       "      <td>9</td>\n",
       "      <td>0.00000</td>\n",
       "    </tr>\n",
       "    <tr>\n",
       "      <th>AAACCTGTCCGCATAA-1-9</th>\n",
       "      <td>-1.727764</td>\n",
       "      <td>7.937103</td>\n",
       "      <td>2</td>\n",
       "      <td>EL</td>\n",
       "      <td>RESPONDER</td>\n",
       "      <td>EL</td>\n",
       "      <td>DLI</td>\n",
       "      <td>CASTIRGAGNTIYF</td>\n",
       "      <td>Naive_Helper_1</td>\n",
       "      <td>9</td>\n",
       "      <td>0.00000</td>\n",
       "    </tr>\n",
       "    <tr>\n",
       "      <th>...</th>\n",
       "      <td>...</td>\n",
       "      <td>...</td>\n",
       "      <td>...</td>\n",
       "      <td>...</td>\n",
       "      <td>...</td>\n",
       "      <td>...</td>\n",
       "      <td>...</td>\n",
       "      <td>...</td>\n",
       "      <td>...</td>\n",
       "      <td>...</td>\n",
       "      <td>...</td>\n",
       "    </tr>\n",
       "    <tr>\n",
       "      <th>TTTGTCAGTAAGTAGT-1-9</th>\n",
       "      <td>-3.038841</td>\n",
       "      <td>7.628223</td>\n",
       "      <td>2</td>\n",
       "      <td>EL</td>\n",
       "      <td>RESPONDER</td>\n",
       "      <td>EL</td>\n",
       "      <td>DLI</td>\n",
       "      <td>CASSGLAGGTGELFF</td>\n",
       "      <td>Naive_Helper_1</td>\n",
       "      <td>9</td>\n",
       "      <td>0.00000</td>\n",
       "    </tr>\n",
       "    <tr>\n",
       "      <th>TTTGTCAGTAGCACGA-1-9</th>\n",
       "      <td>-2.756633</td>\n",
       "      <td>8.204608</td>\n",
       "      <td>2</td>\n",
       "      <td>EL</td>\n",
       "      <td>RESPONDER</td>\n",
       "      <td>EL</td>\n",
       "      <td>DLI</td>\n",
       "      <td>CASSGTGYSETQYF</td>\n",
       "      <td>Naive_Helper_1</td>\n",
       "      <td>9</td>\n",
       "      <td>0.00000</td>\n",
       "    </tr>\n",
       "    <tr>\n",
       "      <th>TTTGTCAGTCCGCTGA-1-9</th>\n",
       "      <td>-3.634642</td>\n",
       "      <td>2.406767</td>\n",
       "      <td>5</td>\n",
       "      <td>EL</td>\n",
       "      <td>RESPONDER</td>\n",
       "      <td>EL</td>\n",
       "      <td>DLI</td>\n",
       "      <td>CASSWTQGPSTEAFF</td>\n",
       "      <td>TEM/TRM_1</td>\n",
       "      <td>9</td>\n",
       "      <td>0.69897</td>\n",
       "    </tr>\n",
       "    <tr>\n",
       "      <th>TTTGTCAGTCTTTCAT-1-9</th>\n",
       "      <td>-2.182885</td>\n",
       "      <td>8.177271</td>\n",
       "      <td>2</td>\n",
       "      <td>EL</td>\n",
       "      <td>RESPONDER</td>\n",
       "      <td>EL</td>\n",
       "      <td>DLI</td>\n",
       "      <td>CAWSVTGARNEQFF</td>\n",
       "      <td>Naive_Helper_1</td>\n",
       "      <td>9</td>\n",
       "      <td>0.00000</td>\n",
       "    </tr>\n",
       "    <tr>\n",
       "      <th>TTTGTCATCCGCATAA-1-9</th>\n",
       "      <td>-1.466253</td>\n",
       "      <td>7.914391</td>\n",
       "      <td>2</td>\n",
       "      <td>EL</td>\n",
       "      <td>RESPONDER</td>\n",
       "      <td>EL</td>\n",
       "      <td>DLI</td>\n",
       "      <td>CASSATSGSPGGQYF</td>\n",
       "      <td>Naive_Helper_1</td>\n",
       "      <td>9</td>\n",
       "      <td>0.00000</td>\n",
       "    </tr>\n",
       "  </tbody>\n",
       "</table>\n",
       "<p>2098 rows × 11 columns</p>\n",
       "</div>"
      ],
      "text/plain": [
       "                             x         y  cluster_number patient   response  \\\n",
       "barcode                                                                       \n",
       "AAACCTGAGACCGGAT-1-9 -2.312204  8.371427               2      EL  RESPONDER   \n",
       "AAACCTGAGTAACCCT-1-9 -1.967470  7.710656               2      EL  RESPONDER   \n",
       "AAACCTGAGTACGACG-1-9 -2.743206  6.342686               2      EL  RESPONDER   \n",
       "AAACCTGAGTGTCCAT-1-9 -2.041350  8.206432               2      EL  RESPONDER   \n",
       "AAACCTGTCCGCATAA-1-9 -1.727764  7.937103               2      EL  RESPONDER   \n",
       "...                        ...       ...             ...     ...        ...   \n",
       "TTTGTCAGTAAGTAGT-1-9 -3.038841  7.628223               2      EL  RESPONDER   \n",
       "TTTGTCAGTAGCACGA-1-9 -2.756633  8.204608               2      EL  RESPONDER   \n",
       "TTTGTCAGTCCGCTGA-1-9 -3.634642  2.406767               5      EL  RESPONDER   \n",
       "TTTGTCAGTCTTTCAT-1-9 -2.182885  8.177271               2      EL  RESPONDER   \n",
       "TTTGTCATCCGCATAA-1-9 -1.466253  7.914391               2      EL  RESPONDER   \n",
       "\n",
       "                     sample time              cdr3       T-subtype  batch  \\\n",
       "barcode                                                                     \n",
       "AAACCTGAGACCGGAT-1-9     EL  DLI      CASSPIFGEAFF  Naive_Helper_1      9   \n",
       "AAACCTGAGTAACCCT-1-9     EL  DLI     CASGNSSTYEQYF  Naive_Helper_1      9   \n",
       "AAACCTGAGTACGACG-1-9     EL  DLI     CASSYSMNTEAFF  Naive_Helper_1      9   \n",
       "AAACCTGAGTGTCCAT-1-9     EL  DLI  CASSYSGGTFTYEQYF  Naive_Helper_1      9   \n",
       "AAACCTGTCCGCATAA-1-9     EL  DLI    CASTIRGAGNTIYF  Naive_Helper_1      9   \n",
       "...                     ...  ...               ...             ...    ...   \n",
       "TTTGTCAGTAAGTAGT-1-9     EL  DLI   CASSGLAGGTGELFF  Naive_Helper_1      9   \n",
       "TTTGTCAGTAGCACGA-1-9     EL  DLI    CASSGTGYSETQYF  Naive_Helper_1      9   \n",
       "TTTGTCAGTCCGCTGA-1-9     EL  DLI   CASSWTQGPSTEAFF       TEM/TRM_1      9   \n",
       "TTTGTCAGTCTTTCAT-1-9     EL  DLI    CAWSVTGARNEQFF  Naive_Helper_1      9   \n",
       "TTTGTCATCCGCATAA-1-9     EL  DLI   CASSATSGSPGGQYF  Naive_Helper_1      9   \n",
       "\n",
       "                      Log10CloneSize  \n",
       "barcode                               \n",
       "AAACCTGAGACCGGAT-1-9         0.00000  \n",
       "AAACCTGAGTAACCCT-1-9         0.00000  \n",
       "AAACCTGAGTACGACG-1-9         0.00000  \n",
       "AAACCTGAGTGTCCAT-1-9         0.00000  \n",
       "AAACCTGTCCGCATAA-1-9         0.00000  \n",
       "...                              ...  \n",
       "TTTGTCAGTAAGTAGT-1-9         0.00000  \n",
       "TTTGTCAGTAGCACGA-1-9         0.00000  \n",
       "TTTGTCAGTCCGCTGA-1-9         0.69897  \n",
       "TTTGTCAGTCTTTCAT-1-9         0.00000  \n",
       "TTTGTCATCCGCATAA-1-9         0.00000  \n",
       "\n",
       "[2098 rows x 11 columns]"
      ]
     },
     "execution_count": 283,
     "metadata": {},
     "output_type": "execute_result"
    }
   ],
   "source": [
    "sub = tcr[tcr['sample']=='EL']\n",
    "sub"
   ]
  },
  {
   "cell_type": "code",
   "execution_count": 279,
   "metadata": {},
   "outputs": [
    {
     "data": {
      "text/html": [
       "<div>\n",
       "<style scoped>\n",
       "    .dataframe tbody tr th:only-of-type {\n",
       "        vertical-align: middle;\n",
       "    }\n",
       "\n",
       "    .dataframe tbody tr th {\n",
       "        vertical-align: top;\n",
       "    }\n",
       "\n",
       "    .dataframe thead th {\n",
       "        text-align: right;\n",
       "    }\n",
       "</style>\n",
       "<table border=\"1\" class=\"dataframe\">\n",
       "  <thead>\n",
       "    <tr style=\"text-align: right;\">\n",
       "      <th></th>\n",
       "      <th>DLI</th>\n",
       "      <th>POST</th>\n",
       "      <th>PRE</th>\n",
       "    </tr>\n",
       "  </thead>\n",
       "  <tbody>\n",
       "    <tr>\n",
       "      <th>AH</th>\n",
       "      <td>4666</td>\n",
       "      <td>0</td>\n",
       "      <td>0</td>\n",
       "    </tr>\n",
       "    <tr>\n",
       "      <th>AH1</th>\n",
       "      <td>0</td>\n",
       "      <td>0</td>\n",
       "      <td>98</td>\n",
       "    </tr>\n",
       "    <tr>\n",
       "      <th>AH2</th>\n",
       "      <td>0</td>\n",
       "      <td>0</td>\n",
       "      <td>948</td>\n",
       "    </tr>\n",
       "    <tr>\n",
       "      <th>AH3</th>\n",
       "      <td>0</td>\n",
       "      <td>71</td>\n",
       "      <td>0</td>\n",
       "    </tr>\n",
       "    <tr>\n",
       "      <th>AM</th>\n",
       "      <td>1390</td>\n",
       "      <td>0</td>\n",
       "      <td>0</td>\n",
       "    </tr>\n",
       "    <tr>\n",
       "      <th>AM1</th>\n",
       "      <td>0</td>\n",
       "      <td>0</td>\n",
       "      <td>36</td>\n",
       "    </tr>\n",
       "    <tr>\n",
       "      <th>AM2</th>\n",
       "      <td>0</td>\n",
       "      <td>0</td>\n",
       "      <td>78</td>\n",
       "    </tr>\n",
       "    <tr>\n",
       "      <th>EL</th>\n",
       "      <td>2098</td>\n",
       "      <td>0</td>\n",
       "      <td>0</td>\n",
       "    </tr>\n",
       "    <tr>\n",
       "      <th>EL1</th>\n",
       "      <td>0</td>\n",
       "      <td>0</td>\n",
       "      <td>169</td>\n",
       "    </tr>\n",
       "    <tr>\n",
       "      <th>EL2</th>\n",
       "      <td>0</td>\n",
       "      <td>304</td>\n",
       "      <td>0</td>\n",
       "    </tr>\n",
       "    <tr>\n",
       "      <th>EL3</th>\n",
       "      <td>0</td>\n",
       "      <td>0</td>\n",
       "      <td>86</td>\n",
       "    </tr>\n",
       "    <tr>\n",
       "      <th>EL4</th>\n",
       "      <td>0</td>\n",
       "      <td>78</td>\n",
       "      <td>0</td>\n",
       "    </tr>\n",
       "    <tr>\n",
       "      <th>GD1</th>\n",
       "      <td>0</td>\n",
       "      <td>0</td>\n",
       "      <td>301</td>\n",
       "    </tr>\n",
       "    <tr>\n",
       "      <th>GD2</th>\n",
       "      <td>0</td>\n",
       "      <td>117</td>\n",
       "      <td>0</td>\n",
       "    </tr>\n",
       "    <tr>\n",
       "      <th>GD3</th>\n",
       "      <td>0</td>\n",
       "      <td>0</td>\n",
       "      <td>4</td>\n",
       "    </tr>\n",
       "    <tr>\n",
       "      <th>JS</th>\n",
       "      <td>1597</td>\n",
       "      <td>0</td>\n",
       "      <td>0</td>\n",
       "    </tr>\n",
       "    <tr>\n",
       "      <th>JS1</th>\n",
       "      <td>0</td>\n",
       "      <td>0</td>\n",
       "      <td>37</td>\n",
       "    </tr>\n",
       "    <tr>\n",
       "      <th>JS2</th>\n",
       "      <td>0</td>\n",
       "      <td>40</td>\n",
       "      <td>0</td>\n",
       "    </tr>\n",
       "    <tr>\n",
       "      <th>KC</th>\n",
       "      <td>2988</td>\n",
       "      <td>0</td>\n",
       "      <td>0</td>\n",
       "    </tr>\n",
       "    <tr>\n",
       "      <th>KC1</th>\n",
       "      <td>0</td>\n",
       "      <td>0</td>\n",
       "      <td>61</td>\n",
       "    </tr>\n",
       "    <tr>\n",
       "      <th>KC2</th>\n",
       "      <td>0</td>\n",
       "      <td>0</td>\n",
       "      <td>43</td>\n",
       "    </tr>\n",
       "    <tr>\n",
       "      <th>KC3</th>\n",
       "      <td>0</td>\n",
       "      <td>790</td>\n",
       "      <td>0</td>\n",
       "    </tr>\n",
       "    <tr>\n",
       "      <th>KC4</th>\n",
       "      <td>0</td>\n",
       "      <td>1339</td>\n",
       "      <td>0</td>\n",
       "    </tr>\n",
       "    <tr>\n",
       "      <th>LB</th>\n",
       "      <td>858</td>\n",
       "      <td>0</td>\n",
       "      <td>0</td>\n",
       "    </tr>\n",
       "    <tr>\n",
       "      <th>LB1</th>\n",
       "      <td>0</td>\n",
       "      <td>2657</td>\n",
       "      <td>0</td>\n",
       "    </tr>\n",
       "    <tr>\n",
       "      <th>LB2</th>\n",
       "      <td>0</td>\n",
       "      <td>695</td>\n",
       "      <td>0</td>\n",
       "    </tr>\n",
       "    <tr>\n",
       "      <th>LB3</th>\n",
       "      <td>0</td>\n",
       "      <td>0</td>\n",
       "      <td>21</td>\n",
       "    </tr>\n",
       "    <tr>\n",
       "      <th>LB4</th>\n",
       "      <td>0</td>\n",
       "      <td>1198</td>\n",
       "      <td>0</td>\n",
       "    </tr>\n",
       "    <tr>\n",
       "      <th>LB6</th>\n",
       "      <td>0</td>\n",
       "      <td>306</td>\n",
       "      <td>0</td>\n",
       "    </tr>\n",
       "    <tr>\n",
       "      <th>MS</th>\n",
       "      <td>3264</td>\n",
       "      <td>0</td>\n",
       "      <td>0</td>\n",
       "    </tr>\n",
       "    <tr>\n",
       "      <th>MS1</th>\n",
       "      <td>0</td>\n",
       "      <td>266</td>\n",
       "      <td>0</td>\n",
       "    </tr>\n",
       "    <tr>\n",
       "      <th>MS2</th>\n",
       "      <td>0</td>\n",
       "      <td>0</td>\n",
       "      <td>129</td>\n",
       "    </tr>\n",
       "    <tr>\n",
       "      <th>MS3</th>\n",
       "      <td>0</td>\n",
       "      <td>355</td>\n",
       "      <td>0</td>\n",
       "    </tr>\n",
       "    <tr>\n",
       "      <th>MS4</th>\n",
       "      <td>0</td>\n",
       "      <td>0</td>\n",
       "      <td>56</td>\n",
       "    </tr>\n",
       "  </tbody>\n",
       "</table>\n",
       "</div>"
      ],
      "text/plain": [
       "      DLI  POST  PRE\n",
       "AH   4666     0    0\n",
       "AH1     0     0   98\n",
       "AH2     0     0  948\n",
       "AH3     0    71    0\n",
       "AM   1390     0    0\n",
       "AM1     0     0   36\n",
       "AM2     0     0   78\n",
       "EL   2098     0    0\n",
       "EL1     0     0  169\n",
       "EL2     0   304    0\n",
       "EL3     0     0   86\n",
       "EL4     0    78    0\n",
       "GD1     0     0  301\n",
       "GD2     0   117    0\n",
       "GD3     0     0    4\n",
       "JS   1597     0    0\n",
       "JS1     0     0   37\n",
       "JS2     0    40    0\n",
       "KC   2988     0    0\n",
       "KC1     0     0   61\n",
       "KC2     0     0   43\n",
       "KC3     0   790    0\n",
       "KC4     0  1339    0\n",
       "LB    858     0    0\n",
       "LB1     0  2657    0\n",
       "LB2     0   695    0\n",
       "LB3     0     0   21\n",
       "LB4     0  1198    0\n",
       "LB6     0   306    0\n",
       "MS   3264     0    0\n",
       "MS1     0   266    0\n",
       "MS2     0     0  129\n",
       "MS3     0   355    0\n",
       "MS4     0     0   56"
      ]
     },
     "execution_count": 279,
     "metadata": {},
     "output_type": "execute_result"
    }
   ],
   "source": [
    "sample_df"
   ]
  },
  {
   "cell_type": "code",
   "execution_count": 287,
   "metadata": {},
   "outputs": [
    {
     "data": {
      "text/html": [
       "<div>\n",
       "<style scoped>\n",
       "    .dataframe tbody tr th:only-of-type {\n",
       "        vertical-align: middle;\n",
       "    }\n",
       "\n",
       "    .dataframe tbody tr th {\n",
       "        vertical-align: top;\n",
       "    }\n",
       "\n",
       "    .dataframe thead th {\n",
       "        text-align: right;\n",
       "    }\n",
       "</style>\n",
       "<table border=\"1\" class=\"dataframe\">\n",
       "  <thead>\n",
       "    <tr style=\"text-align: right;\">\n",
       "      <th></th>\n",
       "      <th>num_unique_patients</th>\n",
       "      <th>Log10CloneSize</th>\n",
       "      <th>PRE</th>\n",
       "      <th>POST</th>\n",
       "      <th>DLI</th>\n",
       "      <th>LCS_post</th>\n",
       "      <th>group</th>\n",
       "    </tr>\n",
       "  </thead>\n",
       "  <tbody>\n",
       "    <tr>\n",
       "      <th>CAAARVDTGELFF</th>\n",
       "      <td>1</td>\n",
       "      <td>0.00000</td>\n",
       "      <td>1</td>\n",
       "      <td>0</td>\n",
       "      <td>0</td>\n",
       "      <td>-inf</td>\n",
       "      <td>x</td>\n",
       "    </tr>\n",
       "    <tr>\n",
       "      <th>CAAGGDDTGELFF</th>\n",
       "      <td>1</td>\n",
       "      <td>0.00000</td>\n",
       "      <td>0</td>\n",
       "      <td>0</td>\n",
       "      <td>1</td>\n",
       "      <td>-inf</td>\n",
       "      <td>x</td>\n",
       "    </tr>\n",
       "    <tr>\n",
       "      <th>CAAGPPGGEQFF</th>\n",
       "      <td>1</td>\n",
       "      <td>0.00000</td>\n",
       "      <td>0</td>\n",
       "      <td>0</td>\n",
       "      <td>1</td>\n",
       "      <td>-inf</td>\n",
       "      <td>x</td>\n",
       "    </tr>\n",
       "    <tr>\n",
       "      <th>CACSRGSEETQYF</th>\n",
       "      <td>1</td>\n",
       "      <td>0.00000</td>\n",
       "      <td>0</td>\n",
       "      <td>0</td>\n",
       "      <td>1</td>\n",
       "      <td>-inf</td>\n",
       "      <td>x</td>\n",
       "    </tr>\n",
       "    <tr>\n",
       "      <th>CACTGTLNYGYTF</th>\n",
       "      <td>1</td>\n",
       "      <td>0.00000</td>\n",
       "      <td>0</td>\n",
       "      <td>0</td>\n",
       "      <td>1</td>\n",
       "      <td>-inf</td>\n",
       "      <td>x</td>\n",
       "    </tr>\n",
       "    <tr>\n",
       "      <th>...</th>\n",
       "      <td>...</td>\n",
       "      <td>...</td>\n",
       "      <td>...</td>\n",
       "      <td>...</td>\n",
       "      <td>...</td>\n",
       "      <td>...</td>\n",
       "      <td>...</td>\n",
       "    </tr>\n",
       "    <tr>\n",
       "      <th>CSVVTRYNEQFF</th>\n",
       "      <td>1</td>\n",
       "      <td>0.00000</td>\n",
       "      <td>0</td>\n",
       "      <td>0</td>\n",
       "      <td>1</td>\n",
       "      <td>-inf</td>\n",
       "      <td>x</td>\n",
       "    </tr>\n",
       "    <tr>\n",
       "      <th>CSVYGEGKLSSYEQYF</th>\n",
       "      <td>1</td>\n",
       "      <td>0.30103</td>\n",
       "      <td>0</td>\n",
       "      <td>1</td>\n",
       "      <td>1</td>\n",
       "      <td>0.0</td>\n",
       "      <td>1Dli+Post</td>\n",
       "    </tr>\n",
       "    <tr>\n",
       "      <th>CSVYVGGGVGYTF</th>\n",
       "      <td>1</td>\n",
       "      <td>0.00000</td>\n",
       "      <td>0</td>\n",
       "      <td>1</td>\n",
       "      <td>0</td>\n",
       "      <td>0.0</td>\n",
       "      <td>4JustPost</td>\n",
       "    </tr>\n",
       "    <tr>\n",
       "      <th>CTTRVHNGYEQYF</th>\n",
       "      <td>1</td>\n",
       "      <td>0.00000</td>\n",
       "      <td>1</td>\n",
       "      <td>0</td>\n",
       "      <td>0</td>\n",
       "      <td>-inf</td>\n",
       "      <td>x</td>\n",
       "    </tr>\n",
       "    <tr>\n",
       "      <th>CVSPERSNEQFF</th>\n",
       "      <td>1</td>\n",
       "      <td>0.00000</td>\n",
       "      <td>0</td>\n",
       "      <td>0</td>\n",
       "      <td>1</td>\n",
       "      <td>-inf</td>\n",
       "      <td>x</td>\n",
       "    </tr>\n",
       "  </tbody>\n",
       "</table>\n",
       "<p>2836 rows × 7 columns</p>\n",
       "</div>"
      ],
      "text/plain": [
       "                  num_unique_patients  Log10CloneSize  PRE  POST  DLI  \\\n",
       "CAAARVDTGELFF                       1         0.00000    1     0    0   \n",
       "CAAGGDDTGELFF                       1         0.00000    0     0    1   \n",
       "CAAGPPGGEQFF                        1         0.00000    0     0    1   \n",
       "CACSRGSEETQYF                       1         0.00000    0     0    1   \n",
       "CACTGTLNYGYTF                       1         0.00000    0     0    1   \n",
       "...                               ...             ...  ...   ...  ...   \n",
       "CSVVTRYNEQFF                        1         0.00000    0     0    1   \n",
       "CSVYGEGKLSSYEQYF                    1         0.30103    0     1    1   \n",
       "CSVYVGGGVGYTF                       1         0.00000    0     1    0   \n",
       "CTTRVHNGYEQYF                       1         0.00000    1     0    0   \n",
       "CVSPERSNEQFF                        1         0.00000    0     0    1   \n",
       "\n",
       "                  LCS_post      group  \n",
       "CAAARVDTGELFF         -inf          x  \n",
       "CAAGGDDTGELFF         -inf          x  \n",
       "CAAGPPGGEQFF          -inf          x  \n",
       "CACSRGSEETQYF         -inf          x  \n",
       "CACTGTLNYGYTF         -inf          x  \n",
       "...                    ...        ...  \n",
       "CSVVTRYNEQFF          -inf          x  \n",
       "CSVYGEGKLSSYEQYF       0.0  1Dli+Post  \n",
       "CSVYVGGGVGYTF          0.0  4JustPost  \n",
       "CTTRVHNGYEQYF         -inf          x  \n",
       "CVSPERSNEQFF          -inf          x  \n",
       "\n",
       "[2836 rows x 7 columns]"
      ]
     },
     "execution_count": 287,
     "metadata": {},
     "output_type": "execute_result"
    }
   ],
   "source": [
    "cdr_p"
   ]
  },
  {
   "cell_type": "code",
   "execution_count": 298,
   "metadata": {},
   "outputs": [
    {
     "data": {
      "text/html": [
       "<div>\n",
       "<style scoped>\n",
       "    .dataframe tbody tr th:only-of-type {\n",
       "        vertical-align: middle;\n",
       "    }\n",
       "\n",
       "    .dataframe tbody tr th {\n",
       "        vertical-align: top;\n",
       "    }\n",
       "\n",
       "    .dataframe thead th {\n",
       "        text-align: right;\n",
       "    }\n",
       "</style>\n",
       "<table border=\"1\" class=\"dataframe\">\n",
       "  <thead>\n",
       "    <tr style=\"text-align: right;\">\n",
       "      <th></th>\n",
       "      <th>num_unique_patients</th>\n",
       "      <th>Log10CloneSize</th>\n",
       "      <th>PRE</th>\n",
       "      <th>POST</th>\n",
       "      <th>DLI</th>\n",
       "      <th>LCS_post</th>\n",
       "      <th>group</th>\n",
       "    </tr>\n",
       "  </thead>\n",
       "  <tbody>\n",
       "    <tr>\n",
       "      <th>CAAARVDTGELFF</th>\n",
       "      <td>1</td>\n",
       "      <td>0.00000</td>\n",
       "      <td>1</td>\n",
       "      <td>0</td>\n",
       "      <td>0</td>\n",
       "      <td>-inf</td>\n",
       "      <td>x</td>\n",
       "    </tr>\n",
       "    <tr>\n",
       "      <th>CAAGGDDTGELFF</th>\n",
       "      <td>1</td>\n",
       "      <td>0.00000</td>\n",
       "      <td>0</td>\n",
       "      <td>0</td>\n",
       "      <td>1</td>\n",
       "      <td>-inf</td>\n",
       "      <td>x</td>\n",
       "    </tr>\n",
       "    <tr>\n",
       "      <th>CAAGPPGGEQFF</th>\n",
       "      <td>1</td>\n",
       "      <td>0.00000</td>\n",
       "      <td>0</td>\n",
       "      <td>0</td>\n",
       "      <td>1</td>\n",
       "      <td>-inf</td>\n",
       "      <td>x</td>\n",
       "    </tr>\n",
       "    <tr>\n",
       "      <th>CACSRGSEETQYF</th>\n",
       "      <td>1</td>\n",
       "      <td>0.00000</td>\n",
       "      <td>0</td>\n",
       "      <td>0</td>\n",
       "      <td>1</td>\n",
       "      <td>-inf</td>\n",
       "      <td>x</td>\n",
       "    </tr>\n",
       "    <tr>\n",
       "      <th>CACTGTLNYGYTF</th>\n",
       "      <td>1</td>\n",
       "      <td>0.00000</td>\n",
       "      <td>0</td>\n",
       "      <td>0</td>\n",
       "      <td>1</td>\n",
       "      <td>-inf</td>\n",
       "      <td>x</td>\n",
       "    </tr>\n",
       "    <tr>\n",
       "      <th>...</th>\n",
       "      <td>...</td>\n",
       "      <td>...</td>\n",
       "      <td>...</td>\n",
       "      <td>...</td>\n",
       "      <td>...</td>\n",
       "      <td>...</td>\n",
       "      <td>...</td>\n",
       "    </tr>\n",
       "    <tr>\n",
       "      <th>CSVVTRYNEQFF</th>\n",
       "      <td>1</td>\n",
       "      <td>0.00000</td>\n",
       "      <td>0</td>\n",
       "      <td>0</td>\n",
       "      <td>1</td>\n",
       "      <td>-inf</td>\n",
       "      <td>x</td>\n",
       "    </tr>\n",
       "    <tr>\n",
       "      <th>CSVYGEGKLSSYEQYF</th>\n",
       "      <td>1</td>\n",
       "      <td>0.30103</td>\n",
       "      <td>0</td>\n",
       "      <td>1</td>\n",
       "      <td>1</td>\n",
       "      <td>0.0</td>\n",
       "      <td>1Dli+Post</td>\n",
       "    </tr>\n",
       "    <tr>\n",
       "      <th>CSVYVGGGVGYTF</th>\n",
       "      <td>1</td>\n",
       "      <td>0.00000</td>\n",
       "      <td>0</td>\n",
       "      <td>1</td>\n",
       "      <td>0</td>\n",
       "      <td>0.0</td>\n",
       "      <td>4JustPost</td>\n",
       "    </tr>\n",
       "    <tr>\n",
       "      <th>CTTRVHNGYEQYF</th>\n",
       "      <td>1</td>\n",
       "      <td>0.00000</td>\n",
       "      <td>1</td>\n",
       "      <td>0</td>\n",
       "      <td>0</td>\n",
       "      <td>-inf</td>\n",
       "      <td>x</td>\n",
       "    </tr>\n",
       "    <tr>\n",
       "      <th>CVSPERSNEQFF</th>\n",
       "      <td>1</td>\n",
       "      <td>0.00000</td>\n",
       "      <td>0</td>\n",
       "      <td>0</td>\n",
       "      <td>1</td>\n",
       "      <td>-inf</td>\n",
       "      <td>x</td>\n",
       "    </tr>\n",
       "  </tbody>\n",
       "</table>\n",
       "<p>2836 rows × 7 columns</p>\n",
       "</div>"
      ],
      "text/plain": [
       "                  num_unique_patients  Log10CloneSize  PRE  POST  DLI  \\\n",
       "CAAARVDTGELFF                       1         0.00000    1     0    0   \n",
       "CAAGGDDTGELFF                       1         0.00000    0     0    1   \n",
       "CAAGPPGGEQFF                        1         0.00000    0     0    1   \n",
       "CACSRGSEETQYF                       1         0.00000    0     0    1   \n",
       "CACTGTLNYGYTF                       1         0.00000    0     0    1   \n",
       "...                               ...             ...  ...   ...  ...   \n",
       "CSVVTRYNEQFF                        1         0.00000    0     0    1   \n",
       "CSVYGEGKLSSYEQYF                    1         0.30103    0     1    1   \n",
       "CSVYVGGGVGYTF                       1         0.00000    0     1    0   \n",
       "CTTRVHNGYEQYF                       1         0.00000    1     0    0   \n",
       "CVSPERSNEQFF                        1         0.00000    0     0    1   \n",
       "\n",
       "                  LCS_post      group  \n",
       "CAAARVDTGELFF         -inf          x  \n",
       "CAAGGDDTGELFF         -inf          x  \n",
       "CAAGPPGGEQFF          -inf          x  \n",
       "CACSRGSEETQYF         -inf          x  \n",
       "CACTGTLNYGYTF         -inf          x  \n",
       "...                    ...        ...  \n",
       "CSVVTRYNEQFF          -inf          x  \n",
       "CSVYGEGKLSSYEQYF       0.0  1Dli+Post  \n",
       "CSVYVGGGVGYTF          0.0  4JustPost  \n",
       "CTTRVHNGYEQYF         -inf          x  \n",
       "CVSPERSNEQFF          -inf          x  \n",
       "\n",
       "[2836 rows x 7 columns]"
      ]
     },
     "execution_count": 298,
     "metadata": {},
     "output_type": "execute_result"
    }
   ],
   "source": [
    "cdr_p"
   ]
  },
  {
   "cell_type": "code",
   "execution_count": 300,
   "metadata": {},
   "outputs": [
    {
     "name": "stdout",
     "output_type": "stream",
     "text": [
      "EL 18 276 44 18\n",
      "DLI prob 1.0\n",
      "EL 4 276 44 4\n",
      "PRE prob 1.0\n",
      "\n",
      "KC 4 316 79 4\n",
      "DLI prob 1.0\n",
      "KC 0 316 79 0\n",
      "PRE prob 1.0\n",
      "\n",
      "LB 56 1002 218 56\n",
      "DLI prob 1.0\n",
      "LB 6 1002 218 6\n",
      "PRE prob 1.0\n",
      "\n",
      "MS 25 250 84 26\n",
      "DLI prob 0.9999999999999756\n",
      "MS 3 250 84 3\n",
      "PRE prob 1.0\n",
      "\n"
     ]
    }
   ],
   "source": [
    "import numpy as np\n",
    "from scipy.stats import hypergeom\n",
    "import matplotlib.pyplot as plt\n",
    "\n",
    "\n",
    "for patient in r: \n",
    "    \n",
    "    sub = tcr[tcr['patient']==patient]\n",
    "    cdr = np.unique(sub['cdr3'])\n",
    "    sub_cdr = df.loc[cdr]\n",
    "    sub_cdr = sub_cdr[sub_cdr['POST']>0]\n",
    "    sub_cdr = sub_cdr[sub_cdr['Log10CloneSize']>0]\n",
    "    cdr_p = df.loc[cdr]\n",
    "    \n",
    "    # num of expanded clones overlapping post and dli\n",
    "    x = len(sub_cdr[sub_cdr['group']=='1Dli+Post'])\n",
    "    \n",
    "    # total num of clones in post\n",
    "    M = len(cdr_p[cdr_p['POST']>0])\n",
    "    \n",
    "    # total num of expanded clones in post\n",
    "#     n_df = cdr_p[cdr_p['Log10CloneSize']>0]\n",
    "#     n_df = n_df[n_df['DLI']>0]\n",
    "#     n = len(n_df)\n",
    "    n = len(sub_cdr[sub_cdr['Log10CloneSize']>0])\n",
    "\n",
    "    # total num clones overlap in post&dli\n",
    "    N_df = cdr_p[cdr_p['POST']>0]\n",
    "    N_df = N_df[N_df['PRE']==0]\n",
    "    N_df = N_df[N_df['DLI']>0]\n",
    "    N = len(N_df)\n",
    "#     N = len(cdr_p[cdr_p['group']=='1Dli+Post'])\n",
    "  \n",
    "    print(patient,x,M,n,N)\n",
    "    prb_dli = hypergeom.cdf(x,M,n,N)\n",
    "    print(f'DLI prob {prb_dli}')\n",
    "    \n",
    "    # num of expanded clones overlapping post and dli\n",
    "    x = len(sub_cdr[sub_cdr['group']=='2Pre+Post'])\n",
    "        # total num of clones in post\n",
    "    M = len(cdr_p[cdr_p['POST']>0])\n",
    "    \n",
    "    # total num of expanded clones in post\n",
    "#     n_df = cdr_p[cdr_p['Log10CloneSize']>0]\n",
    "#     n_df = n_df[n_df['PRE']>0]\n",
    "#     n = len(n_df)\n",
    "    \n",
    "    n = len(sub_cdr[sub_cdr['Log10CloneSize']>0])\n",
    "    \n",
    "    # total num clones overlap in post&dli\n",
    "    \n",
    "    N_df = cdr_p[cdr_p['POST']>0]\n",
    "    N_df = N_df[N_df['PRE']>0]\n",
    "    N_df = N_df[N_df['DLI']==0]\n",
    "    N = len(N_df)\n",
    "    \n",
    "    \n",
    "    \n",
    "    \n",
    "    print(patient,x,M,n,N)\n",
    "    prb_pre = hypergeom.cdf(x,M,n,N)\n",
    "    \n",
    "    print(f'PRE prob {prb_pre}\\n')\n",
    "    \n",
    "#     [M, n, N] = [len(sub_cdr), len(sub_cdr[sub_cdr['group']=='1Dli+Post']), len(sub_cdr[sub_cdr['group']=='2Pre+Post'])]\n",
    "#     rv1 = hypergeom(M, n, N)\n",
    "#     x1 = np.arange(0, n+1)\n",
    "#     pmf_dli = rv1.pmf(x1)\n",
    "\n",
    "#     scaling = len(cdr_p[cdr_p['DLI']>0])/len(cdr_p[cdr_p['PRE']>0])\n",
    "#     print(patient,M,n,N)\n",
    "\n",
    "#     [M, n, N] = [len(cdr_p), \n",
    "#                  np.round(scaling*len(cdr_p)/(scaling+1)), \n",
    "#                  np.round(len(cdr_p)/(scaling+1))]\n",
    "#     print(patient,M,n,N,scaling)\n",
    "#     rv2 = hypergeom(M, n, N)\n",
    "#     x2 = np.arange(0, n+1)\n",
    "#     pmf_null = rv2.pmf(x2)\n",
    "\n",
    "\n",
    "#     fig = plt.figure(figsize = (10,5))\n",
    "#     ax = fig.add_subplot(111)\n",
    "#     ax.plot(x1, pmf_dli, 'bo')\n",
    "#     ax.vlines(x1, 0, pmf_dli, lw=1)\n",
    "\n",
    "#     ax.plot(x2, pmf_null,'rx')\n",
    "#     ax.vlines(x2, 0, pmf_null, lw=1)\n",
    "    \n",
    "#     print(patient, kstest(pmf_dli,pmf_null))\n",
    "\n",
    "\n",
    "#     plt.show()"
   ]
  },
  {
   "cell_type": "code",
   "execution_count": 378,
   "metadata": {},
   "outputs": [
    {
     "data": {
      "text/html": [
       "<div>\n",
       "<style scoped>\n",
       "    .dataframe tbody tr th:only-of-type {\n",
       "        vertical-align: middle;\n",
       "    }\n",
       "\n",
       "    .dataframe tbody tr th {\n",
       "        vertical-align: top;\n",
       "    }\n",
       "\n",
       "    .dataframe thead th {\n",
       "        text-align: right;\n",
       "    }\n",
       "</style>\n",
       "<table border=\"1\" class=\"dataframe\">\n",
       "  <thead>\n",
       "    <tr style=\"text-align: right;\">\n",
       "      <th></th>\n",
       "      <th>num_unique_patients</th>\n",
       "      <th>Log10CloneSize</th>\n",
       "      <th>PRE</th>\n",
       "      <th>POST</th>\n",
       "      <th>DLI</th>\n",
       "    </tr>\n",
       "  </thead>\n",
       "  <tbody>\n",
       "    <tr>\n",
       "      <th>CAAARVDTGELFF</th>\n",
       "      <td>1</td>\n",
       "      <td>0.0</td>\n",
       "      <td>1</td>\n",
       "      <td>0</td>\n",
       "      <td>0</td>\n",
       "    </tr>\n",
       "    <tr>\n",
       "      <th>CAAGALPNTGELFF</th>\n",
       "      <td>1</td>\n",
       "      <td>0.0</td>\n",
       "      <td>0</td>\n",
       "      <td>0</td>\n",
       "      <td>1</td>\n",
       "    </tr>\n",
       "    <tr>\n",
       "      <th>CAAGDRAYEQYF</th>\n",
       "      <td>1</td>\n",
       "      <td>0.0</td>\n",
       "      <td>0</td>\n",
       "      <td>0</td>\n",
       "      <td>1</td>\n",
       "    </tr>\n",
       "    <tr>\n",
       "      <th>CAAGGDDTGELFF</th>\n",
       "      <td>1</td>\n",
       "      <td>0.0</td>\n",
       "      <td>0</td>\n",
       "      <td>0</td>\n",
       "      <td>1</td>\n",
       "    </tr>\n",
       "    <tr>\n",
       "      <th>CAAGGTALSGANVLTF</th>\n",
       "      <td>1</td>\n",
       "      <td>0.0</td>\n",
       "      <td>0</td>\n",
       "      <td>0</td>\n",
       "      <td>1</td>\n",
       "    </tr>\n",
       "    <tr>\n",
       "      <th>...</th>\n",
       "      <td>...</td>\n",
       "      <td>...</td>\n",
       "      <td>...</td>\n",
       "      <td>...</td>\n",
       "      <td>...</td>\n",
       "    </tr>\n",
       "    <tr>\n",
       "      <th>CTGAQGVFETEAFF</th>\n",
       "      <td>1</td>\n",
       "      <td>0.0</td>\n",
       "      <td>0</td>\n",
       "      <td>1</td>\n",
       "      <td>0</td>\n",
       "    </tr>\n",
       "    <tr>\n",
       "      <th>CTGGAGTGELFF</th>\n",
       "      <td>1</td>\n",
       "      <td>0.0</td>\n",
       "      <td>0</td>\n",
       "      <td>0</td>\n",
       "      <td>1</td>\n",
       "    </tr>\n",
       "    <tr>\n",
       "      <th>CTTRVHNGYEQYF</th>\n",
       "      <td>1</td>\n",
       "      <td>0.0</td>\n",
       "      <td>1</td>\n",
       "      <td>0</td>\n",
       "      <td>0</td>\n",
       "    </tr>\n",
       "    <tr>\n",
       "      <th>CVASGYTELSYEQYF</th>\n",
       "      <td>1</td>\n",
       "      <td>0.0</td>\n",
       "      <td>0</td>\n",
       "      <td>0</td>\n",
       "      <td>1</td>\n",
       "    </tr>\n",
       "    <tr>\n",
       "      <th>CVSPERSNEQFF</th>\n",
       "      <td>1</td>\n",
       "      <td>0.0</td>\n",
       "      <td>0</td>\n",
       "      <td>0</td>\n",
       "      <td>1</td>\n",
       "    </tr>\n",
       "  </tbody>\n",
       "</table>\n",
       "<p>17165 rows × 5 columns</p>\n",
       "</div>"
      ],
      "text/plain": [
       "                  num_unique_patients  Log10CloneSize  PRE  POST  DLI\n",
       "CAAARVDTGELFF                       1             0.0    1     0    0\n",
       "CAAGALPNTGELFF                      1             0.0    0     0    1\n",
       "CAAGDRAYEQYF                        1             0.0    0     0    1\n",
       "CAAGGDDTGELFF                       1             0.0    0     0    1\n",
       "CAAGGTALSGANVLTF                    1             0.0    0     0    1\n",
       "...                               ...             ...  ...   ...  ...\n",
       "CTGAQGVFETEAFF                      1             0.0    0     1    0\n",
       "CTGGAGTGELFF                        1             0.0    0     0    1\n",
       "CTTRVHNGYEQYF                       1             0.0    1     0    0\n",
       "CVASGYTELSYEQYF                     1             0.0    0     0    1\n",
       "CVSPERSNEQFF                        1             0.0    0     0    1\n",
       "\n",
       "[17165 rows x 5 columns]"
      ]
     },
     "execution_count": 378,
     "metadata": {},
     "output_type": "execute_result"
    }
   ],
   "source": [
    "clone_df"
   ]
  },
  {
   "cell_type": "code",
   "execution_count": 379,
   "metadata": {},
   "outputs": [
    {
     "data": {
      "text/html": [
       "<div>\n",
       "<style scoped>\n",
       "    .dataframe tbody tr th:only-of-type {\n",
       "        vertical-align: middle;\n",
       "    }\n",
       "\n",
       "    .dataframe tbody tr th {\n",
       "        vertical-align: top;\n",
       "    }\n",
       "\n",
       "    .dataframe thead th {\n",
       "        text-align: right;\n",
       "    }\n",
       "</style>\n",
       "<table border=\"1\" class=\"dataframe\">\n",
       "  <thead>\n",
       "    <tr style=\"text-align: right;\">\n",
       "      <th></th>\n",
       "      <th>num_unique_patients</th>\n",
       "      <th>Log10CloneSize</th>\n",
       "      <th>PRE</th>\n",
       "      <th>POST</th>\n",
       "      <th>DLI</th>\n",
       "    </tr>\n",
       "  </thead>\n",
       "  <tbody>\n",
       "    <tr>\n",
       "      <th>CAIRDAGGPWETQYF</th>\n",
       "      <td>1</td>\n",
       "      <td>0.954243</td>\n",
       "      <td>1</td>\n",
       "      <td>7</td>\n",
       "      <td>1</td>\n",
       "    </tr>\n",
       "    <tr>\n",
       "      <th>CAIRSAGTRAIYEQYF</th>\n",
       "      <td>1</td>\n",
       "      <td>0.301030</td>\n",
       "      <td>0</td>\n",
       "      <td>2</td>\n",
       "      <td>0</td>\n",
       "    </tr>\n",
       "    <tr>\n",
       "      <th>CAISDETPNQPQHF</th>\n",
       "      <td>1</td>\n",
       "      <td>0.602060</td>\n",
       "      <td>1</td>\n",
       "      <td>2</td>\n",
       "      <td>1</td>\n",
       "    </tr>\n",
       "    <tr>\n",
       "      <th>CAISETGGIGQPQHF</th>\n",
       "      <td>1</td>\n",
       "      <td>0.301030</td>\n",
       "      <td>0</td>\n",
       "      <td>2</td>\n",
       "      <td>0</td>\n",
       "    </tr>\n",
       "    <tr>\n",
       "      <th>CAITRDGPTDTQYF</th>\n",
       "      <td>1</td>\n",
       "      <td>0.301030</td>\n",
       "      <td>0</td>\n",
       "      <td>2</td>\n",
       "      <td>0</td>\n",
       "    </tr>\n",
       "    <tr>\n",
       "      <th>...</th>\n",
       "      <td>...</td>\n",
       "      <td>...</td>\n",
       "      <td>...</td>\n",
       "      <td>...</td>\n",
       "      <td>...</td>\n",
       "    </tr>\n",
       "    <tr>\n",
       "      <th>CSVTGSGGPLDEQFF</th>\n",
       "      <td>1</td>\n",
       "      <td>1.908485</td>\n",
       "      <td>1</td>\n",
       "      <td>61</td>\n",
       "      <td>21</td>\n",
       "    </tr>\n",
       "    <tr>\n",
       "      <th>CSVTRRETEAFF</th>\n",
       "      <td>1</td>\n",
       "      <td>0.301030</td>\n",
       "      <td>0</td>\n",
       "      <td>2</td>\n",
       "      <td>0</td>\n",
       "    </tr>\n",
       "    <tr>\n",
       "      <th>CSVVDQRSGANVLTF</th>\n",
       "      <td>1</td>\n",
       "      <td>0.954243</td>\n",
       "      <td>0</td>\n",
       "      <td>9</td>\n",
       "      <td>0</td>\n",
       "    </tr>\n",
       "    <tr>\n",
       "      <th>CSVVGTGKTYEQYF</th>\n",
       "      <td>1</td>\n",
       "      <td>0.301030</td>\n",
       "      <td>0</td>\n",
       "      <td>2</td>\n",
       "      <td>0</td>\n",
       "    </tr>\n",
       "    <tr>\n",
       "      <th>CSVVRTSGNEQFF</th>\n",
       "      <td>1</td>\n",
       "      <td>1.278754</td>\n",
       "      <td>1</td>\n",
       "      <td>18</td>\n",
       "      <td>0</td>\n",
       "    </tr>\n",
       "  </tbody>\n",
       "</table>\n",
       "<p>375 rows × 5 columns</p>\n",
       "</div>"
      ],
      "text/plain": [
       "                  num_unique_patients  Log10CloneSize  PRE  POST  DLI\n",
       "CAIRDAGGPWETQYF                     1        0.954243    1     7    1\n",
       "CAIRSAGTRAIYEQYF                    1        0.301030    0     2    0\n",
       "CAISDETPNQPQHF                      1        0.602060    1     2    1\n",
       "CAISETGGIGQPQHF                     1        0.301030    0     2    0\n",
       "CAITRDGPTDTQYF                      1        0.301030    0     2    0\n",
       "...                               ...             ...  ...   ...  ...\n",
       "CSVTGSGGPLDEQFF                     1        1.908485    1    61   21\n",
       "CSVTRRETEAFF                        1        0.301030    0     2    0\n",
       "CSVVDQRSGANVLTF                     1        0.954243    0     9    0\n",
       "CSVVGTGKTYEQYF                      1        0.301030    0     2    0\n",
       "CSVVRTSGNEQFF                       1        1.278754    1    18    0\n",
       "\n",
       "[375 rows x 5 columns]"
      ]
     },
     "execution_count": 379,
     "metadata": {},
     "output_type": "execute_result"
    }
   ],
   "source": [
    "expanding_post = clone_df[clone_df['POST']>1]\n",
    "expanding_post"
   ]
  },
  {
   "cell_type": "code",
   "execution_count": 395,
   "metadata": {},
   "outputs": [
    {
     "data": {
      "text/html": [
       "<div>\n",
       "<style scoped>\n",
       "    .dataframe tbody tr th:only-of-type {\n",
       "        vertical-align: middle;\n",
       "    }\n",
       "\n",
       "    .dataframe tbody tr th {\n",
       "        vertical-align: top;\n",
       "    }\n",
       "\n",
       "    .dataframe thead th {\n",
       "        text-align: right;\n",
       "    }\n",
       "</style>\n",
       "<table border=\"1\" class=\"dataframe\">\n",
       "  <thead>\n",
       "    <tr style=\"text-align: right;\">\n",
       "      <th></th>\n",
       "      <th>num_unique_patients_x</th>\n",
       "      <th>Log10CloneSize_x</th>\n",
       "      <th>PRE_x</th>\n",
       "      <th>POST_x</th>\n",
       "      <th>DLI_x</th>\n",
       "      <th>cdr3</th>\n",
       "      <th>num_unique_patients_y</th>\n",
       "      <th>Log10CloneSize_y</th>\n",
       "      <th>PRE_y</th>\n",
       "      <th>POST_y</th>\n",
       "      <th>DLI_y</th>\n",
       "    </tr>\n",
       "  </thead>\n",
       "  <tbody>\n",
       "    <tr>\n",
       "      <th>0</th>\n",
       "      <td>1</td>\n",
       "      <td>0.00000</td>\n",
       "      <td>0</td>\n",
       "      <td>1</td>\n",
       "      <td>0</td>\n",
       "      <td>CAISDNTYSQGTRNSQHF</td>\n",
       "      <td>1</td>\n",
       "      <td>0.00000</td>\n",
       "      <td>0</td>\n",
       "      <td>1</td>\n",
       "      <td>0</td>\n",
       "    </tr>\n",
       "    <tr>\n",
       "      <th>1</th>\n",
       "      <td>1</td>\n",
       "      <td>0.00000</td>\n",
       "      <td>0</td>\n",
       "      <td>1</td>\n",
       "      <td>0</td>\n",
       "      <td>CASLTPPNTGELFF</td>\n",
       "      <td>1</td>\n",
       "      <td>0.00000</td>\n",
       "      <td>0</td>\n",
       "      <td>1</td>\n",
       "      <td>0</td>\n",
       "    </tr>\n",
       "    <tr>\n",
       "      <th>2</th>\n",
       "      <td>1</td>\n",
       "      <td>0.00000</td>\n",
       "      <td>0</td>\n",
       "      <td>1</td>\n",
       "      <td>0</td>\n",
       "      <td>CASSAMTVNTEAFF</td>\n",
       "      <td>1</td>\n",
       "      <td>0.00000</td>\n",
       "      <td>0</td>\n",
       "      <td>1</td>\n",
       "      <td>0</td>\n",
       "    </tr>\n",
       "    <tr>\n",
       "      <th>3</th>\n",
       "      <td>1</td>\n",
       "      <td>0.30103</td>\n",
       "      <td>0</td>\n",
       "      <td>2</td>\n",
       "      <td>0</td>\n",
       "      <td>CASSDIGKGQQETQYF</td>\n",
       "      <td>1</td>\n",
       "      <td>0.30103</td>\n",
       "      <td>0</td>\n",
       "      <td>2</td>\n",
       "      <td>0</td>\n",
       "    </tr>\n",
       "    <tr>\n",
       "      <th>4</th>\n",
       "      <td>1</td>\n",
       "      <td>0.00000</td>\n",
       "      <td>0</td>\n",
       "      <td>1</td>\n",
       "      <td>0</td>\n",
       "      <td>CASSDLHNEQFF</td>\n",
       "      <td>1</td>\n",
       "      <td>0.00000</td>\n",
       "      <td>0</td>\n",
       "      <td>1</td>\n",
       "      <td>0</td>\n",
       "    </tr>\n",
       "    <tr>\n",
       "      <th>5</th>\n",
       "      <td>1</td>\n",
       "      <td>0.00000</td>\n",
       "      <td>0</td>\n",
       "      <td>1</td>\n",
       "      <td>0</td>\n",
       "      <td>CASSEWWWQESSYNEQFF</td>\n",
       "      <td>1</td>\n",
       "      <td>0.00000</td>\n",
       "      <td>0</td>\n",
       "      <td>1</td>\n",
       "      <td>0</td>\n",
       "    </tr>\n",
       "    <tr>\n",
       "      <th>6</th>\n",
       "      <td>1</td>\n",
       "      <td>0.00000</td>\n",
       "      <td>0</td>\n",
       "      <td>1</td>\n",
       "      <td>0</td>\n",
       "      <td>CASSFGGQPQHF</td>\n",
       "      <td>1</td>\n",
       "      <td>0.00000</td>\n",
       "      <td>0</td>\n",
       "      <td>1</td>\n",
       "      <td>0</td>\n",
       "    </tr>\n",
       "    <tr>\n",
       "      <th>7</th>\n",
       "      <td>1</td>\n",
       "      <td>0.00000</td>\n",
       "      <td>0</td>\n",
       "      <td>1</td>\n",
       "      <td>0</td>\n",
       "      <td>CASSFSTGGISYEQYF</td>\n",
       "      <td>1</td>\n",
       "      <td>0.00000</td>\n",
       "      <td>0</td>\n",
       "      <td>1</td>\n",
       "      <td>0</td>\n",
       "    </tr>\n",
       "    <tr>\n",
       "      <th>8</th>\n",
       "      <td>1</td>\n",
       "      <td>0.00000</td>\n",
       "      <td>0</td>\n",
       "      <td>1</td>\n",
       "      <td>0</td>\n",
       "      <td>CASSFSVEQYF</td>\n",
       "      <td>1</td>\n",
       "      <td>0.00000</td>\n",
       "      <td>0</td>\n",
       "      <td>1</td>\n",
       "      <td>0</td>\n",
       "    </tr>\n",
       "    <tr>\n",
       "      <th>9</th>\n",
       "      <td>1</td>\n",
       "      <td>0.00000</td>\n",
       "      <td>0</td>\n",
       "      <td>1</td>\n",
       "      <td>0</td>\n",
       "      <td>CASSGSLGADEQFF</td>\n",
       "      <td>1</td>\n",
       "      <td>0.00000</td>\n",
       "      <td>0</td>\n",
       "      <td>1</td>\n",
       "      <td>0</td>\n",
       "    </tr>\n",
       "    <tr>\n",
       "      <th>10</th>\n",
       "      <td>1</td>\n",
       "      <td>0.00000</td>\n",
       "      <td>0</td>\n",
       "      <td>1</td>\n",
       "      <td>0</td>\n",
       "      <td>CASSLGLGQETQYF</td>\n",
       "      <td>1</td>\n",
       "      <td>0.00000</td>\n",
       "      <td>0</td>\n",
       "      <td>1</td>\n",
       "      <td>0</td>\n",
       "    </tr>\n",
       "    <tr>\n",
       "      <th>11</th>\n",
       "      <td>1</td>\n",
       "      <td>0.00000</td>\n",
       "      <td>0</td>\n",
       "      <td>1</td>\n",
       "      <td>0</td>\n",
       "      <td>CASSLTGGPLDEQFF</td>\n",
       "      <td>1</td>\n",
       "      <td>0.00000</td>\n",
       "      <td>0</td>\n",
       "      <td>1</td>\n",
       "      <td>0</td>\n",
       "    </tr>\n",
       "    <tr>\n",
       "      <th>12</th>\n",
       "      <td>1</td>\n",
       "      <td>0.00000</td>\n",
       "      <td>0</td>\n",
       "      <td>1</td>\n",
       "      <td>0</td>\n",
       "      <td>CASSLTSGSYNEQFF</td>\n",
       "      <td>1</td>\n",
       "      <td>0.00000</td>\n",
       "      <td>0</td>\n",
       "      <td>1</td>\n",
       "      <td>0</td>\n",
       "    </tr>\n",
       "    <tr>\n",
       "      <th>13</th>\n",
       "      <td>1</td>\n",
       "      <td>0.00000</td>\n",
       "      <td>0</td>\n",
       "      <td>1</td>\n",
       "      <td>0</td>\n",
       "      <td>CASSLVLPNSPDTQYF</td>\n",
       "      <td>1</td>\n",
       "      <td>0.00000</td>\n",
       "      <td>0</td>\n",
       "      <td>1</td>\n",
       "      <td>0</td>\n",
       "    </tr>\n",
       "    <tr>\n",
       "      <th>14</th>\n",
       "      <td>1</td>\n",
       "      <td>0.00000</td>\n",
       "      <td>0</td>\n",
       "      <td>1</td>\n",
       "      <td>0</td>\n",
       "      <td>CASSMVRVAYNEQFF</td>\n",
       "      <td>1</td>\n",
       "      <td>0.00000</td>\n",
       "      <td>0</td>\n",
       "      <td>1</td>\n",
       "      <td>0</td>\n",
       "    </tr>\n",
       "    <tr>\n",
       "      <th>15</th>\n",
       "      <td>1</td>\n",
       "      <td>0.00000</td>\n",
       "      <td>0</td>\n",
       "      <td>1</td>\n",
       "      <td>0</td>\n",
       "      <td>CASSPLAGARYNEQFF</td>\n",
       "      <td>1</td>\n",
       "      <td>0.00000</td>\n",
       "      <td>0</td>\n",
       "      <td>1</td>\n",
       "      <td>0</td>\n",
       "    </tr>\n",
       "    <tr>\n",
       "      <th>16</th>\n",
       "      <td>1</td>\n",
       "      <td>0.00000</td>\n",
       "      <td>0</td>\n",
       "      <td>1</td>\n",
       "      <td>0</td>\n",
       "      <td>CASSPPGQRYEQYF</td>\n",
       "      <td>1</td>\n",
       "      <td>0.00000</td>\n",
       "      <td>0</td>\n",
       "      <td>1</td>\n",
       "      <td>0</td>\n",
       "    </tr>\n",
       "    <tr>\n",
       "      <th>17</th>\n",
       "      <td>1</td>\n",
       "      <td>0.00000</td>\n",
       "      <td>0</td>\n",
       "      <td>1</td>\n",
       "      <td>0</td>\n",
       "      <td>CASSPSVSGGAYEQYF</td>\n",
       "      <td>1</td>\n",
       "      <td>0.00000</td>\n",
       "      <td>0</td>\n",
       "      <td>1</td>\n",
       "      <td>0</td>\n",
       "    </tr>\n",
       "    <tr>\n",
       "      <th>18</th>\n",
       "      <td>1</td>\n",
       "      <td>0.00000</td>\n",
       "      <td>0</td>\n",
       "      <td>1</td>\n",
       "      <td>0</td>\n",
       "      <td>CASSQAVKSGNTIYF</td>\n",
       "      <td>1</td>\n",
       "      <td>0.00000</td>\n",
       "      <td>0</td>\n",
       "      <td>1</td>\n",
       "      <td>0</td>\n",
       "    </tr>\n",
       "    <tr>\n",
       "      <th>19</th>\n",
       "      <td>1</td>\n",
       "      <td>0.00000</td>\n",
       "      <td>0</td>\n",
       "      <td>1</td>\n",
       "      <td>0</td>\n",
       "      <td>CASSQTGTSYEQYF</td>\n",
       "      <td>1</td>\n",
       "      <td>0.00000</td>\n",
       "      <td>0</td>\n",
       "      <td>1</td>\n",
       "      <td>0</td>\n",
       "    </tr>\n",
       "    <tr>\n",
       "      <th>20</th>\n",
       "      <td>1</td>\n",
       "      <td>0.00000</td>\n",
       "      <td>0</td>\n",
       "      <td>1</td>\n",
       "      <td>0</td>\n",
       "      <td>CASSQVGAGGPTGELFF</td>\n",
       "      <td>1</td>\n",
       "      <td>0.00000</td>\n",
       "      <td>0</td>\n",
       "      <td>1</td>\n",
       "      <td>0</td>\n",
       "    </tr>\n",
       "    <tr>\n",
       "      <th>21</th>\n",
       "      <td>1</td>\n",
       "      <td>0.00000</td>\n",
       "      <td>0</td>\n",
       "      <td>1</td>\n",
       "      <td>0</td>\n",
       "      <td>CASSRGQGGTYEQYF</td>\n",
       "      <td>1</td>\n",
       "      <td>0.00000</td>\n",
       "      <td>0</td>\n",
       "      <td>1</td>\n",
       "      <td>0</td>\n",
       "    </tr>\n",
       "    <tr>\n",
       "      <th>22</th>\n",
       "      <td>1</td>\n",
       "      <td>0.30103</td>\n",
       "      <td>0</td>\n",
       "      <td>2</td>\n",
       "      <td>0</td>\n",
       "      <td>CASSSGHPNTEAFF</td>\n",
       "      <td>1</td>\n",
       "      <td>0.30103</td>\n",
       "      <td>0</td>\n",
       "      <td>2</td>\n",
       "      <td>0</td>\n",
       "    </tr>\n",
       "    <tr>\n",
       "      <th>23</th>\n",
       "      <td>1</td>\n",
       "      <td>0.30103</td>\n",
       "      <td>0</td>\n",
       "      <td>2</td>\n",
       "      <td>0</td>\n",
       "      <td>CASSTRTGVGSPLHF</td>\n",
       "      <td>1</td>\n",
       "      <td>0.30103</td>\n",
       "      <td>0</td>\n",
       "      <td>2</td>\n",
       "      <td>0</td>\n",
       "    </tr>\n",
       "    <tr>\n",
       "      <th>24</th>\n",
       "      <td>1</td>\n",
       "      <td>0.00000</td>\n",
       "      <td>0</td>\n",
       "      <td>1</td>\n",
       "      <td>0</td>\n",
       "      <td>CASSVAGTGGTQETQYF</td>\n",
       "      <td>1</td>\n",
       "      <td>0.00000</td>\n",
       "      <td>0</td>\n",
       "      <td>1</td>\n",
       "      <td>0</td>\n",
       "    </tr>\n",
       "    <tr>\n",
       "      <th>25</th>\n",
       "      <td>1</td>\n",
       "      <td>0.00000</td>\n",
       "      <td>0</td>\n",
       "      <td>1</td>\n",
       "      <td>0</td>\n",
       "      <td>CATSDPVGPETQYF</td>\n",
       "      <td>1</td>\n",
       "      <td>0.00000</td>\n",
       "      <td>0</td>\n",
       "      <td>1</td>\n",
       "      <td>0</td>\n",
       "    </tr>\n",
       "    <tr>\n",
       "      <th>26</th>\n",
       "      <td>1</td>\n",
       "      <td>0.00000</td>\n",
       "      <td>0</td>\n",
       "      <td>1</td>\n",
       "      <td>0</td>\n",
       "      <td>CATSDSGQGRREQFF</td>\n",
       "      <td>1</td>\n",
       "      <td>0.00000</td>\n",
       "      <td>0</td>\n",
       "      <td>1</td>\n",
       "      <td>0</td>\n",
       "    </tr>\n",
       "    <tr>\n",
       "      <th>27</th>\n",
       "      <td>1</td>\n",
       "      <td>0.00000</td>\n",
       "      <td>0</td>\n",
       "      <td>1</td>\n",
       "      <td>0</td>\n",
       "      <td>CAWRKGLAGGEREQFF</td>\n",
       "      <td>1</td>\n",
       "      <td>0.00000</td>\n",
       "      <td>0</td>\n",
       "      <td>1</td>\n",
       "      <td>0</td>\n",
       "    </tr>\n",
       "    <tr>\n",
       "      <th>28</th>\n",
       "      <td>1</td>\n",
       "      <td>0.00000</td>\n",
       "      <td>0</td>\n",
       "      <td>1</td>\n",
       "      <td>0</td>\n",
       "      <td>CAWSRGVNTEAFF</td>\n",
       "      <td>1</td>\n",
       "      <td>0.00000</td>\n",
       "      <td>0</td>\n",
       "      <td>1</td>\n",
       "      <td>0</td>\n",
       "    </tr>\n",
       "    <tr>\n",
       "      <th>29</th>\n",
       "      <td>1</td>\n",
       "      <td>0.00000</td>\n",
       "      <td>0</td>\n",
       "      <td>1</td>\n",
       "      <td>0</td>\n",
       "      <td>CSAPRTGGTYEQYF</td>\n",
       "      <td>1</td>\n",
       "      <td>0.00000</td>\n",
       "      <td>0</td>\n",
       "      <td>1</td>\n",
       "      <td>0</td>\n",
       "    </tr>\n",
       "    <tr>\n",
       "      <th>30</th>\n",
       "      <td>1</td>\n",
       "      <td>0.30103</td>\n",
       "      <td>0</td>\n",
       "      <td>2</td>\n",
       "      <td>0</td>\n",
       "      <td>CSARAGGPRNEQFF</td>\n",
       "      <td>1</td>\n",
       "      <td>0.30103</td>\n",
       "      <td>0</td>\n",
       "      <td>2</td>\n",
       "      <td>0</td>\n",
       "    </tr>\n",
       "    <tr>\n",
       "      <th>31</th>\n",
       "      <td>1</td>\n",
       "      <td>0.00000</td>\n",
       "      <td>0</td>\n",
       "      <td>1</td>\n",
       "      <td>0</td>\n",
       "      <td>CSARAPGQGYSPLHF</td>\n",
       "      <td>1</td>\n",
       "      <td>0.00000</td>\n",
       "      <td>0</td>\n",
       "      <td>1</td>\n",
       "      <td>0</td>\n",
       "    </tr>\n",
       "    <tr>\n",
       "      <th>32</th>\n",
       "      <td>1</td>\n",
       "      <td>0.00000</td>\n",
       "      <td>0</td>\n",
       "      <td>1</td>\n",
       "      <td>0</td>\n",
       "      <td>CSARASGENTGELFF</td>\n",
       "      <td>1</td>\n",
       "      <td>0.00000</td>\n",
       "      <td>0</td>\n",
       "      <td>1</td>\n",
       "      <td>0</td>\n",
       "    </tr>\n",
       "    <tr>\n",
       "      <th>33</th>\n",
       "      <td>1</td>\n",
       "      <td>0.00000</td>\n",
       "      <td>0</td>\n",
       "      <td>1</td>\n",
       "      <td>0</td>\n",
       "      <td>CSARPSTDTQYF</td>\n",
       "      <td>1</td>\n",
       "      <td>0.00000</td>\n",
       "      <td>0</td>\n",
       "      <td>1</td>\n",
       "      <td>0</td>\n",
       "    </tr>\n",
       "    <tr>\n",
       "      <th>34</th>\n",
       "      <td>1</td>\n",
       "      <td>0.00000</td>\n",
       "      <td>0</td>\n",
       "      <td>1</td>\n",
       "      <td>0</td>\n",
       "      <td>CSVGGGYNEQFF</td>\n",
       "      <td>1</td>\n",
       "      <td>0.00000</td>\n",
       "      <td>0</td>\n",
       "      <td>1</td>\n",
       "      <td>0</td>\n",
       "    </tr>\n",
       "  </tbody>\n",
       "</table>\n",
       "</div>"
      ],
      "text/plain": [
       "    num_unique_patients_x  Log10CloneSize_x  PRE_x  POST_x  DLI_x  \\\n",
       "0                       1           0.00000      0       1      0   \n",
       "1                       1           0.00000      0       1      0   \n",
       "2                       1           0.00000      0       1      0   \n",
       "3                       1           0.30103      0       2      0   \n",
       "4                       1           0.00000      0       1      0   \n",
       "5                       1           0.00000      0       1      0   \n",
       "6                       1           0.00000      0       1      0   \n",
       "7                       1           0.00000      0       1      0   \n",
       "8                       1           0.00000      0       1      0   \n",
       "9                       1           0.00000      0       1      0   \n",
       "10                      1           0.00000      0       1      0   \n",
       "11                      1           0.00000      0       1      0   \n",
       "12                      1           0.00000      0       1      0   \n",
       "13                      1           0.00000      0       1      0   \n",
       "14                      1           0.00000      0       1      0   \n",
       "15                      1           0.00000      0       1      0   \n",
       "16                      1           0.00000      0       1      0   \n",
       "17                      1           0.00000      0       1      0   \n",
       "18                      1           0.00000      0       1      0   \n",
       "19                      1           0.00000      0       1      0   \n",
       "20                      1           0.00000      0       1      0   \n",
       "21                      1           0.00000      0       1      0   \n",
       "22                      1           0.30103      0       2      0   \n",
       "23                      1           0.30103      0       2      0   \n",
       "24                      1           0.00000      0       1      0   \n",
       "25                      1           0.00000      0       1      0   \n",
       "26                      1           0.00000      0       1      0   \n",
       "27                      1           0.00000      0       1      0   \n",
       "28                      1           0.00000      0       1      0   \n",
       "29                      1           0.00000      0       1      0   \n",
       "30                      1           0.30103      0       2      0   \n",
       "31                      1           0.00000      0       1      0   \n",
       "32                      1           0.00000      0       1      0   \n",
       "33                      1           0.00000      0       1      0   \n",
       "34                      1           0.00000      0       1      0   \n",
       "\n",
       "                  cdr3  num_unique_patients_y  Log10CloneSize_y  PRE_y  \\\n",
       "0   CAISDNTYSQGTRNSQHF                      1           0.00000      0   \n",
       "1       CASLTPPNTGELFF                      1           0.00000      0   \n",
       "2       CASSAMTVNTEAFF                      1           0.00000      0   \n",
       "3     CASSDIGKGQQETQYF                      1           0.30103      0   \n",
       "4         CASSDLHNEQFF                      1           0.00000      0   \n",
       "5   CASSEWWWQESSYNEQFF                      1           0.00000      0   \n",
       "6         CASSFGGQPQHF                      1           0.00000      0   \n",
       "7     CASSFSTGGISYEQYF                      1           0.00000      0   \n",
       "8          CASSFSVEQYF                      1           0.00000      0   \n",
       "9       CASSGSLGADEQFF                      1           0.00000      0   \n",
       "10      CASSLGLGQETQYF                      1           0.00000      0   \n",
       "11     CASSLTGGPLDEQFF                      1           0.00000      0   \n",
       "12     CASSLTSGSYNEQFF                      1           0.00000      0   \n",
       "13    CASSLVLPNSPDTQYF                      1           0.00000      0   \n",
       "14     CASSMVRVAYNEQFF                      1           0.00000      0   \n",
       "15    CASSPLAGARYNEQFF                      1           0.00000      0   \n",
       "16      CASSPPGQRYEQYF                      1           0.00000      0   \n",
       "17    CASSPSVSGGAYEQYF                      1           0.00000      0   \n",
       "18     CASSQAVKSGNTIYF                      1           0.00000      0   \n",
       "19      CASSQTGTSYEQYF                      1           0.00000      0   \n",
       "20   CASSQVGAGGPTGELFF                      1           0.00000      0   \n",
       "21     CASSRGQGGTYEQYF                      1           0.00000      0   \n",
       "22      CASSSGHPNTEAFF                      1           0.30103      0   \n",
       "23     CASSTRTGVGSPLHF                      1           0.30103      0   \n",
       "24   CASSVAGTGGTQETQYF                      1           0.00000      0   \n",
       "25      CATSDPVGPETQYF                      1           0.00000      0   \n",
       "26     CATSDSGQGRREQFF                      1           0.00000      0   \n",
       "27    CAWRKGLAGGEREQFF                      1           0.00000      0   \n",
       "28       CAWSRGVNTEAFF                      1           0.00000      0   \n",
       "29      CSAPRTGGTYEQYF                      1           0.00000      0   \n",
       "30      CSARAGGPRNEQFF                      1           0.30103      0   \n",
       "31     CSARAPGQGYSPLHF                      1           0.00000      0   \n",
       "32     CSARASGENTGELFF                      1           0.00000      0   \n",
       "33        CSARPSTDTQYF                      1           0.00000      0   \n",
       "34        CSVGGGYNEQFF                      1           0.00000      0   \n",
       "\n",
       "    POST_y  DLI_y  \n",
       "0        1      0  \n",
       "1        1      0  \n",
       "2        1      0  \n",
       "3        2      0  \n",
       "4        1      0  \n",
       "5        1      0  \n",
       "6        1      0  \n",
       "7        1      0  \n",
       "8        1      0  \n",
       "9        1      0  \n",
       "10       1      0  \n",
       "11       1      0  \n",
       "12       1      0  \n",
       "13       1      0  \n",
       "14       1      0  \n",
       "15       1      0  \n",
       "16       1      0  \n",
       "17       1      0  \n",
       "18       1      0  \n",
       "19       1      0  \n",
       "20       1      0  \n",
       "21       1      0  \n",
       "22       2      0  \n",
       "23       2      0  \n",
       "24       1      0  \n",
       "25       1      0  \n",
       "26       1      0  \n",
       "27       1      0  \n",
       "28       1      0  \n",
       "29       1      0  \n",
       "30       2      0  \n",
       "31       1      0  \n",
       "32       1      0  \n",
       "33       1      0  \n",
       "34       1      0  "
      ]
     },
     "execution_count": 395,
     "metadata": {},
     "output_type": "execute_result"
    }
   ],
   "source": [
    "sub_clone['cdr3'] = sub_clone.index\n",
    "exist_post = sub_clone[sub_clone['POST']>=1]\n",
    "not_exist_post = sub_clone[sub_clone['DLI']==0]\n",
    "common_rows = pd.merge(exist_post, not_exist_post, how='inner', on = 'cdr3')\n",
    "common_rows"
   ]
  },
  {
   "cell_type": "code",
   "execution_count": 411,
   "metadata": {},
   "outputs": [
    {
     "name": "stdout",
     "output_type": "stream",
     "text": [
      "EL 4.3925608011444925 1.9644271026610602e-05\n",
      "16 233 30 1919\n",
      "KC 0.0 1.0\n",
      "0 37 4 2783\n",
      "LB inf 4.606447461434283e-10\n",
      "9 0 59 633\n",
      "MS 9.202414772727273 9.459040434138079e-12\n",
      "21 128 44 2468\n",
      "AH 11.1342175066313 2.3069709236068287e-13\n",
      "24 377 20 3498\n",
      "AM nan 1.0\n",
      "0 110 0 1341\n",
      "GD nan 1.0\n",
      "3 268 0 0\n",
      "JS 0.0 1.0\n",
      "0 27 1 1398\n"
     ]
    }
   ],
   "source": [
    "from scipy.stats import fisher_exact \n",
    "\n",
    "\n",
    "\n",
    "# Class I - expanding in post\n",
    "# II - non expanding in post \n",
    "# in DLI \n",
    "# not in DLI\n",
    "\n",
    "\n",
    "# Blue - POST+DLI also expanding in DLI\n",
    "# Red- DLI not in post and post not in DLI \n",
    "# Expanding = more than one at same time point\n",
    "\n",
    "p_dli = OrderedDict()\n",
    "for patient in patients: \n",
    "    sub = tcr[tcr['patient']==patient]\n",
    "    cdr = np.unique(sub['cdr3'])\n",
    "    sub_clone = clone_df.loc[cdr]\n",
    "    sub_clone['cdr3'] = sub_clone.index\n",
    "    \n",
    "    exist_post = sub_clone[sub_clone['POST']>=1]\n",
    "    not_exist_post = sub_clone[sub_clone['POST']==0]\n",
    "    \n",
    "    exist_dli = sub_clone[sub_clone['DLI']>=1]\n",
    "    exist_pre = sub_clone[sub_clone['PRE']>=1]\n",
    "    \n",
    "    a = len(pd.merge(exist_post,exist_pre, how='inner', on = 'cdr3'))\n",
    "    b = len(pd.merge(not_exist_post,exist_pre, how='inner', on = 'cdr3'))\n",
    "    c = len(pd.merge(exist_post,exist_dli, how='inner', on = 'cdr3'))\n",
    "    d = len(pd.merge(not_exist_post,exist_dli, how='inner', on = 'cdr3'))\n",
    "    \n",
    "\n",
    "    table = np.array([[a,b], [c,d]])\n",
    "    stat,pval = fisher_exact(table)\n",
    "    p_dli[patient] = pval\n",
    "    print(patient, stat, pval)\n",
    "    print(a,b,c,d)\n"
   ]
  },
  {
   "cell_type": "code",
   "execution_count": 392,
   "metadata": {},
   "outputs": [
    {
     "name": "stdout",
     "output_type": "stream",
     "text": [
      "EL 0.1977139326536917 0.0005152890738525941\n",
      "KC inf 1.0\n",
      "LB 0.0 3.2595607730839843e-09\n",
      "MS 0.15440200909780136 1.0596255133925543e-07\n",
      "AH 0.012643122077084342 1.216527831819625e-08\n",
      "AM nan 1.0\n",
      "GD inf 0.006505548811454599\n",
      "JS inf 1.0\n"
     ]
    }
   ],
   "source": [
    "p_pre = OrderedDict()\n",
    "for patient in patients: \n",
    "    sub = tcr[tcr['patient']==patient]\n",
    "    cdr = np.unique(sub['cdr3'])\n",
    "    sub_clone = clone_df.loc[cdr]\n",
    "    \n",
    "    expanding_post = sub_clone[sub_clone['POST']>1]\n",
    "    not_expanding_post = sub_clone[sub_clone['POST']<=1]\n",
    "\n",
    "    # a - expanding in post and in DLI\n",
    "    expanding_post_dli = expanding_post[expanding_post['PRE']>0]\n",
    "    a = len(expanding_post_dli)\n",
    "    # b = not expanding in post and in DLI\n",
    "    not_expanding_post_dli = not_expanding_post[not_expanding_post['PRE']>0]\n",
    "    b = len(not_expanding_post_dli)\n",
    "\n",
    "    #c - expanding in post but not in DLI\n",
    "    expanding_post_no_dli =expanding_post[expanding_post['PRE']==0]\n",
    "    c = len(expanding_post_no_dli)\n",
    "\n",
    "    #d - not expanding in post and not in DLI\n",
    "    no_expanding_post_no_dli = not_expanding_post[not_expanding_post['PRE']==0]\n",
    "    d = len(no_expanding_post_no_dli)\n",
    "\n",
    "    table = np.array([[b,a], [d,c]])\n",
    "    stat,pval = fisher_exact(table)\n",
    "    p_pre[patient] = pval\n",
    "    print(patient, stat, pval)\n"
   ]
  },
  {
   "cell_type": "code",
   "execution_count": 390,
   "metadata": {},
   "outputs": [
    {
     "name": "stdout",
     "output_type": "stream",
     "text": [
      "EL 0.0006666804010642263\n",
      "KC -1.0\n",
      "LB -3.2595607643084243e-09\n",
      "MS -1.0596255133925543e-07\n",
      "AH 0.20836997321555314\n",
      "AM 0.0\n",
      "GD 0.9934944511885454\n",
      "JS -0.9999972321925933\n"
     ]
    }
   ],
   "source": [
    "for patient in patients:\n",
    "    p1 = p_dli[patient]\n",
    "    p2 = p_pre[patient]\n",
    "    print(patient, p1-p2)"
   ]
  },
  {
   "cell_type": "code",
   "execution_count": 409,
   "metadata": {},
   "outputs": [
    {
     "data": {
      "text/plain": [
       "(array(['AH', 'EL', 'GD', 'JS', 'KC', 'LB', 'MS'], dtype=object),\n",
       " array([ 994,  212,    9,    8, 1891, 4184,  611]))"
      ]
     },
     "execution_count": 409,
     "metadata": {},
     "output_type": "execute_result"
    }
   ],
   "source": [
    "expanding_post = clone_df[clone_df['POST']>1]\n",
    "\n",
    "test = tcr[tcr['cdr3'].isin(expanding_post.index)]\n",
    "np.unique(test['patient'], return_counts = True)"
   ]
  },
  {
   "cell_type": "code",
   "execution_count": 408,
   "metadata": {},
   "outputs": [
    {
     "data": {
      "text/plain": [
       "(array(['AH', 'EL', 'GD', 'JS', 'KC', 'LB', 'MS'], dtype=object),\n",
       " array([   2,   39,    9,    8, 1888, 2838,  119]))"
      ]
     },
     "execution_count": 408,
     "metadata": {},
     "output_type": "execute_result"
    }
   ],
   "source": [
    "ex = expanding_post[expanding_post['PRE']+expanding_post['DLI']==0]\n",
    "test = tcr[tcr['cdr3'].isin(ex.index)]\n",
    "np.unique(test['patient'], return_counts = True)"
   ]
  },
  {
   "cell_type": "code",
   "execution_count": 398,
   "metadata": {},
   "outputs": [
    {
     "data": {
      "image/png": "[encoded data removed]",
      "text/plain": [
       "<Figure size 576x360 with 5 Axes>"
      ]
     },
     "metadata": {
      "needs_background": "light"
     },
     "output_type": "display_data"
    }
   ],
   "source": [
    "counter = 0\n",
    "fig = plt.figure(figsize = (8,5))\n",
    "\n",
    "\n",
    "for p,patient in enumerate(patients):\n",
    "#     print(p)\n",
    "\n",
    "    sub = tcr[tcr['patient']==patient]\n",
    "    cdr = np.unique(sub['cdr3'])\n",
    "    sub_cdr = clone_df.loc[cdr]\n",
    "    sub_cdr = sub_cdr[sub_cdr['POST']>1]\n",
    "    sub_cdr['LCS_post'] = np.log10(sub_cdr['POST'])\n",
    "    sub_cdr[['PRE','POST','DLI']] = np.sign(sub_cdr[['PRE','POST','DLI']] )\n",
    "    sub_cdr['group'] = 'x'\n",
    "\n",
    "    df_sub = sub_cdr[sub_cdr['PRE']==1]\n",
    "    df_sub = df_sub[df_sub['POST']==1]\n",
    "    df_sub = df_sub[df_sub['DLI']==0]\n",
    "    sub_cdr.loc[df_sub.index,'group'] = '2Pre+Post'\n",
    "\n",
    "    df_sub = sub_cdr[sub_cdr['PRE']==0]\n",
    "    df_sub = df_sub[df_sub['POST']==1]\n",
    "    df_sub = df_sub[df_sub['DLI']==1]\n",
    "    sub_cdr.loc[df_sub.index,'group'] = '1Dli+Post'\n",
    "\n",
    "\n",
    "    df_sub = sub_cdr[sub_cdr['PRE']==0]\n",
    "    df_sub = df_sub[df_sub['POST']==1]\n",
    "    df_sub = df_sub[df_sub['DLI']==0]\n",
    "    sub_cdr.loc[df_sub.index,'group'] = '4JustPost'\n",
    "\n",
    "    df_sub = sub_cdr[sub_cdr['PRE']==1]\n",
    "    df_sub = df_sub[df_sub['POST']==1]\n",
    "    df_sub = df_sub[df_sub['DLI']==1]\n",
    "    sub_cdr.loc[df_sub.index,'group'] = '3Pre+Dli+Post'\n",
    "\n",
    "    sub_cdr = sub_cdr.sort_values(by = COL)\n",
    "    sub_cdr = sub_cdr.sort_values(by = 'group')\n",
    "\n",
    "\n",
    "    import matplotlib\n",
    "\n",
    "    x = patient\n",
    "    bottom_ = 0\n",
    "    for group in np.unique(sub_cdr['group']):\n",
    "#         print(group)\n",
    "        df = sub_cdr[sub_cdr['group']==group]\n",
    "        df = df.sort_values(by = COL)\n",
    "        norm = plt.Normalize()\n",
    "        \n",
    "        min_patient = np.min(df[COL])\n",
    "        max_patient = np.max(df[COL])\n",
    "        min_ref, max_ref = range_dict[group]\n",
    "        if min_ref == 0: min_ref = 0.1\n",
    "        min_val,  max_val =0.3*(min_patient/min_ref),max_patient/max_ref\n",
    "#         print(patient, min_patient, max_patient\n",
    "        if group == '1Dli+Post':\n",
    "            n = 20\n",
    "            orig_cmap = plt.cm.Blues\n",
    "            colors = orig_cmap(np.linspace(min_val, max_val, n))\n",
    "            cmap1 = matplotlib.colors.LinearSegmentedColormap.from_list(\"mycmap\", colors)\n",
    "            colors = cmap1(norm(df[COL]))\n",
    "        elif group == '3Pre+Dli+Post':\n",
    "#             min_val, max_val = 0.3,1.0\n",
    "            n = 20\n",
    "            orig_cmap = plt.cm.Greens\n",
    "            colors = orig_cmap(np.linspace(min_val, max_val, n))\n",
    "            cmap2 = matplotlib.colors.LinearSegmentedColormap.from_list(\"mycmap\", colors)\n",
    "            colors = cmap2(norm(df[COL]))\n",
    "        elif group == '2Pre+Post':\n",
    "#             min_val, max_val = 0.3,1.0\n",
    "            n = 20\n",
    "#             print(p)\n",
    "            orig_cmap = plt.cm.Oranges\n",
    "            colors = orig_cmap(np.linspace(min_val, max_val, n))\n",
    "            cmap3 = matplotlib.colors.LinearSegmentedColormap.from_list(\"mycmap\", colors)\n",
    "            colors = cmap3(norm(df[COL]))\n",
    "            \n",
    "        elif group == '4JustPost':\n",
    "            continue\n",
    "#             min_val, max_val = 0.3,1.0\n",
    "            n = 20\n",
    "            orig_cmap = plt.cm.Greys\n",
    "            colors = orig_cmap(np.linspace(min_val, max_val, n))\n",
    "            cmap4 = matplotlib.colors.LinearSegmentedColormap.from_list(\"mycmap\", colors)\n",
    "            colors = cmap4(norm(df[COL]))\n",
    "            \n",
    "        for i,clone in enumerate(df.index):\n",
    "            C = colors[i]\n",
    "            \n",
    "            if clone in vdj_arr: \n",
    "                C = 'yellow'\n",
    "                counter += 1\n",
    "            plt.bar(patient, 1, bottom = bottom_, color = C)\n",
    "#             if p == 0: \n",
    "#                 print(p)\n",
    "#                 plt.colorbar(cmap = cmap)\n",
    "            bottom_ += 1\n",
    "    if p ==0:\n",
    "        \n",
    "\n",
    "        orig_cmap = plt.cm.Blues\n",
    "        colors = orig_cmap(np.linspace(0.3, 1, n))\n",
    "        cmap1 = matplotlib.colors.LinearSegmentedColormap.from_list(\"mycmap\", colors)\n",
    "        \n",
    "        \n",
    "        orig_cmap = plt.cm.Greens\n",
    "        colors = orig_cmap(np.linspace(0.3, 1, n))\n",
    "        cmap2 = matplotlib.colors.LinearSegmentedColormap.from_list(\"mycmap\", colors)\n",
    "        \n",
    "        \n",
    "        orig_cmap = plt.cm.Oranges\n",
    "        colors = orig_cmap(np.linspace(0.3, 1, n))\n",
    "        cmap3 = matplotlib.colors.LinearSegmentedColormap.from_list(\"mycmap\", colors)\n",
    "        \n",
    "        \n",
    "        orig_cmap = plt.cm.Greys\n",
    "        colors = orig_cmap(np.linspace(0.3, 1, n))\n",
    "        cmap4 = matplotlib.colors.LinearSegmentedColormap.from_list(\"mycmap\", colors)\n",
    "\n",
    "        fig.colorbar(matplotlib.cm.ScalarMappable(norm=norm, cmap=cmap1))\n",
    "        fig.colorbar(matplotlib.cm.ScalarMappable(norm=norm, cmap=cmap2))\n",
    "        fig.colorbar(matplotlib.cm.ScalarMappable(norm=norm, cmap=cmap3))\n",
    "        fig.colorbar(matplotlib.cm.ScalarMappable(norm=norm, cmap=cmap4))\n",
    "            \n",
    "\n",
    "fig.tight_layout()\n",
    "# plt.savefig('tcr_nogrey_gradient_vdj.eps')\n",
    "# plt.show()\n",
    "\n",
    "\n",
    "\n"
   ]
  },
  {
   "cell_type": "code",
   "execution_count": 160,
   "metadata": {},
   "outputs": [
    {
     "data": {
      "text/html": [
       "<div>\n",
       "<style scoped>\n",
       "    .dataframe tbody tr th:only-of-type {\n",
       "        vertical-align: middle;\n",
       "    }\n",
       "\n",
       "    .dataframe tbody tr th {\n",
       "        vertical-align: top;\n",
       "    }\n",
       "\n",
       "    .dataframe thead th {\n",
       "        text-align: right;\n",
       "    }\n",
       "</style>\n",
       "<table border=\"1\" class=\"dataframe\">\n",
       "  <thead>\n",
       "    <tr style=\"text-align: right;\">\n",
       "      <th></th>\n",
       "      <th>num_unique_patients</th>\n",
       "      <th>Log10CloneSize</th>\n",
       "      <th>PRE</th>\n",
       "      <th>POST</th>\n",
       "      <th>DLI</th>\n",
       "      <th>LCS_post</th>\n",
       "      <th>group</th>\n",
       "    </tr>\n",
       "  </thead>\n",
       "  <tbody>\n",
       "    <tr>\n",
       "      <th>CASAISGRAFEQYF</th>\n",
       "      <td>1</td>\n",
       "      <td>0.778151</td>\n",
       "      <td>0</td>\n",
       "      <td>1</td>\n",
       "      <td>1</td>\n",
       "      <td>0.00000</td>\n",
       "      <td>1Dli+Post</td>\n",
       "    </tr>\n",
       "    <tr>\n",
       "      <th>CASSDIGKGQQETQYF</th>\n",
       "      <td>1</td>\n",
       "      <td>0.301030</td>\n",
       "      <td>0</td>\n",
       "      <td>1</td>\n",
       "      <td>0</td>\n",
       "      <td>0.30103</td>\n",
       "      <td>4JustPost</td>\n",
       "    </tr>\n",
       "    <tr>\n",
       "      <th>CASSSGHPNTEAFF</th>\n",
       "      <td>1</td>\n",
       "      <td>0.301030</td>\n",
       "      <td>0</td>\n",
       "      <td>1</td>\n",
       "      <td>0</td>\n",
       "      <td>0.30103</td>\n",
       "      <td>4JustPost</td>\n",
       "    </tr>\n",
       "    <tr>\n",
       "      <th>CASSTRTGVGSPLHF</th>\n",
       "      <td>1</td>\n",
       "      <td>0.301030</td>\n",
       "      <td>0</td>\n",
       "      <td>1</td>\n",
       "      <td>0</td>\n",
       "      <td>0.30103</td>\n",
       "      <td>4JustPost</td>\n",
       "    </tr>\n",
       "    <tr>\n",
       "      <th>CSARAGGPRNEQFF</th>\n",
       "      <td>1</td>\n",
       "      <td>0.301030</td>\n",
       "      <td>0</td>\n",
       "      <td>1</td>\n",
       "      <td>0</td>\n",
       "      <td>0.30103</td>\n",
       "      <td>4JustPost</td>\n",
       "    </tr>\n",
       "  </tbody>\n",
       "</table>\n",
       "</div>"
      ],
      "text/plain": [
       "                  num_unique_patients  Log10CloneSize  PRE  POST  DLI  \\\n",
       "CASAISGRAFEQYF                      1        0.778151    0     1    1   \n",
       "CASSDIGKGQQETQYF                    1        0.301030    0     1    0   \n",
       "CASSSGHPNTEAFF                      1        0.301030    0     1    0   \n",
       "CASSTRTGVGSPLHF                     1        0.301030    0     1    0   \n",
       "CSARAGGPRNEQFF                      1        0.301030    0     1    0   \n",
       "\n",
       "                  LCS_post      group  \n",
       "CASAISGRAFEQYF     0.00000  1Dli+Post  \n",
       "CASSDIGKGQQETQYF   0.30103  4JustPost  \n",
       "CASSSGHPNTEAFF     0.30103  4JustPost  \n",
       "CASSTRTGVGSPLHF    0.30103  4JustPost  \n",
       "CSARAGGPRNEQFF     0.30103  4JustPost  "
      ]
     },
     "execution_count": 160,
     "metadata": {},
     "output_type": "execute_result"
    }
   ],
   "source": [
    "sub_cdr"
   ]
  },
  {
   "cell_type": "code",
   "execution_count": 137,
   "metadata": {},
   "outputs": [
    {
     "data": {
      "text/plain": [
       "15"
      ]
     },
     "execution_count": 137,
     "metadata": {},
     "output_type": "execute_result"
    }
   ],
   "source": [
    "from scipy.stats import fisher_exact\n",
    "res = fisher_exact(table, alternative='two-sided')\n",
    "res.pvalue"
   ]
  },
  {
   "cell_type": "code",
   "execution_count": 107,
   "metadata": {},
   "outputs": [
    {
     "data": {
      "text/html": [
       "<div>\n",
       "<style scoped>\n",
       "    .dataframe tbody tr th:only-of-type {\n",
       "        vertical-align: middle;\n",
       "    }\n",
       "\n",
       "    .dataframe tbody tr th {\n",
       "        vertical-align: top;\n",
       "    }\n",
       "\n",
       "    .dataframe thead th {\n",
       "        text-align: right;\n",
       "    }\n",
       "</style>\n",
       "<table border=\"1\" class=\"dataframe\">\n",
       "  <thead>\n",
       "    <tr style=\"text-align: right;\">\n",
       "      <th></th>\n",
       "      <th>num_unique_patients</th>\n",
       "      <th>Log10CloneSize</th>\n",
       "      <th>PRE</th>\n",
       "      <th>POST</th>\n",
       "      <th>DLI</th>\n",
       "    </tr>\n",
       "  </thead>\n",
       "  <tbody>\n",
       "    <tr>\n",
       "      <th>CAIRDAGGPWETQYF</th>\n",
       "      <td>1</td>\n",
       "      <td>0.954243</td>\n",
       "      <td>1</td>\n",
       "      <td>7</td>\n",
       "      <td>1</td>\n",
       "    </tr>\n",
       "    <tr>\n",
       "      <th>CASSFGYRETQYF</th>\n",
       "      <td>1</td>\n",
       "      <td>1.146128</td>\n",
       "      <td>1</td>\n",
       "      <td>13</td>\n",
       "      <td>0</td>\n",
       "    </tr>\n",
       "    <tr>\n",
       "      <th>CASSLRTGVNEQFF</th>\n",
       "      <td>1</td>\n",
       "      <td>2.158362</td>\n",
       "      <td>1</td>\n",
       "      <td>143</td>\n",
       "      <td>0</td>\n",
       "    </tr>\n",
       "    <tr>\n",
       "      <th>CASSPGLGQETQYF</th>\n",
       "      <td>1</td>\n",
       "      <td>1.079181</td>\n",
       "      <td>1</td>\n",
       "      <td>10</td>\n",
       "      <td>1</td>\n",
       "    </tr>\n",
       "    <tr>\n",
       "      <th>CASSQDAGRGLQDTQYF</th>\n",
       "      <td>1</td>\n",
       "      <td>1.982271</td>\n",
       "      <td>1</td>\n",
       "      <td>95</td>\n",
       "      <td>0</td>\n",
       "    </tr>\n",
       "    <tr>\n",
       "      <th>CATSDLGQGSYNEQFF</th>\n",
       "      <td>1</td>\n",
       "      <td>2.123852</td>\n",
       "      <td>1</td>\n",
       "      <td>132</td>\n",
       "      <td>0</td>\n",
       "    </tr>\n",
       "    <tr>\n",
       "      <th>CSVEGGTHYEQYF</th>\n",
       "      <td>1</td>\n",
       "      <td>2.773786</td>\n",
       "      <td>12</td>\n",
       "      <td>581</td>\n",
       "      <td>0</td>\n",
       "    </tr>\n",
       "    <tr>\n",
       "      <th>CSVTGSGGPLDEQFF</th>\n",
       "      <td>1</td>\n",
       "      <td>1.908485</td>\n",
       "      <td>1</td>\n",
       "      <td>58</td>\n",
       "      <td>21</td>\n",
       "    </tr>\n",
       "    <tr>\n",
       "      <th>CSVVRTSGNEQFF</th>\n",
       "      <td>1</td>\n",
       "      <td>1.278754</td>\n",
       "      <td>1</td>\n",
       "      <td>18</td>\n",
       "      <td>0</td>\n",
       "    </tr>\n",
       "  </tbody>\n",
       "</table>\n",
       "</div>"
      ],
      "text/plain": [
       "                   num_unique_patients  Log10CloneSize  PRE  POST  DLI\n",
       "CAIRDAGGPWETQYF                      1        0.954243    1     7    1\n",
       "CASSFGYRETQYF                        1        1.146128    1    13    0\n",
       "CASSLRTGVNEQFF                       1        2.158362    1   143    0\n",
       "CASSPGLGQETQYF                       1        1.079181    1    10    1\n",
       "CASSQDAGRGLQDTQYF                    1        1.982271    1    95    0\n",
       "CATSDLGQGSYNEQFF                     1        2.123852    1   132    0\n",
       "CSVEGGTHYEQYF                        1        2.773786   12   581    0\n",
       "CSVTGSGGPLDEQFF                      1        1.908485    1    58   21\n",
       "CSVVRTSGNEQFF                        1        1.278754    1    18    0"
      ]
     },
     "execution_count": 107,
     "metadata": {},
     "output_type": "execute_result"
    }
   ],
   "source": [
    "js = tcr[tcr['patient']=='LB']\n",
    "lb = clone_df.loc[np.unique(js['cdr3'])]\n",
    "lb = lb[lb['PRE']>0]\n",
    "lb = lb[lb['POST']>0]\n",
    "lb"
   ]
  },
  {
   "cell_type": "code",
   "execution_count": 304,
   "metadata": {},
   "outputs": [],
   "source": [
    "def gini(x):\n",
    "    total = 0\n",
    "    for i, xi in enumerate(x[:-1], 1):\n",
    "        total += np.sum(np.abs(xi - x[i:]))\n",
    "    return total / (len(x)**2 * np.mean(x))\n",
    "\n",
    "r = [ 'EL', 'KC', 'LB', 'MS']\n",
    "nr = ['AH', 'AM', 'GD', 'JS']\n",
    "sub = tcr[tcr['patient'].isin(nr)]\n",
    "cdr = np.unique(sub['cdr3'])\n",
    "unique_nr = clone_df.loc[cdr]\n",
    "\n",
    "sub = tcr[tcr['patient'].isin(r)]\n",
    "cdr = np.unique(sub['cdr3'])\n",
    "unique_r = clone_df.loc[cdr]"
   ]
  },
  {
   "cell_type": "code",
   "execution_count": 86,
   "metadata": {},
   "outputs": [
    {
     "data": {
      "text/html": [
       "<div>\n",
       "<style scoped>\n",
       "    .dataframe tbody tr th:only-of-type {\n",
       "        vertical-align: middle;\n",
       "    }\n",
       "\n",
       "    .dataframe tbody tr th {\n",
       "        vertical-align: top;\n",
       "    }\n",
       "\n",
       "    .dataframe thead th {\n",
       "        text-align: right;\n",
       "    }\n",
       "</style>\n",
       "<table border=\"1\" class=\"dataframe\">\n",
       "  <thead>\n",
       "    <tr style=\"text-align: right;\">\n",
       "      <th></th>\n",
       "      <th>num_unique_patients</th>\n",
       "      <th>Log10CloneSize</th>\n",
       "      <th>PRE</th>\n",
       "      <th>POST</th>\n",
       "      <th>DLI</th>\n",
       "    </tr>\n",
       "  </thead>\n",
       "  <tbody>\n",
       "    <tr>\n",
       "      <th>CACRDPGSSYNSPLHF</th>\n",
       "      <td>1</td>\n",
       "      <td>0.301030</td>\n",
       "      <td>0</td>\n",
       "      <td>0</td>\n",
       "      <td>2</td>\n",
       "    </tr>\n",
       "    <tr>\n",
       "      <th>CAINIRHGRNSPLHF</th>\n",
       "      <td>1</td>\n",
       "      <td>0.602060</td>\n",
       "      <td>0</td>\n",
       "      <td>0</td>\n",
       "      <td>4</td>\n",
       "    </tr>\n",
       "    <tr>\n",
       "      <th>CAIRDAGGPWETQYF</th>\n",
       "      <td>2</td>\n",
       "      <td>0.954243</td>\n",
       "      <td>1</td>\n",
       "      <td>7</td>\n",
       "      <td>1</td>\n",
       "    </tr>\n",
       "    <tr>\n",
       "      <th>CAIRDEGGSPLHF</th>\n",
       "      <td>1</td>\n",
       "      <td>0.301030</td>\n",
       "      <td>0</td>\n",
       "      <td>0</td>\n",
       "      <td>2</td>\n",
       "    </tr>\n",
       "    <tr>\n",
       "      <th>CAIREPEQSSYNEQFF</th>\n",
       "      <td>2</td>\n",
       "      <td>0.477121</td>\n",
       "      <td>1</td>\n",
       "      <td>2</td>\n",
       "      <td>0</td>\n",
       "    </tr>\n",
       "    <tr>\n",
       "      <th>...</th>\n",
       "      <td>...</td>\n",
       "      <td>...</td>\n",
       "      <td>...</td>\n",
       "      <td>...</td>\n",
       "      <td>...</td>\n",
       "    </tr>\n",
       "    <tr>\n",
       "      <th>CSVVDQRSGANVLTF</th>\n",
       "      <td>1</td>\n",
       "      <td>0.954243</td>\n",
       "      <td>0</td>\n",
       "      <td>9</td>\n",
       "      <td>0</td>\n",
       "    </tr>\n",
       "    <tr>\n",
       "      <th>CSVVDRGRFGEQYF</th>\n",
       "      <td>1</td>\n",
       "      <td>0.301030</td>\n",
       "      <td>0</td>\n",
       "      <td>0</td>\n",
       "      <td>2</td>\n",
       "    </tr>\n",
       "    <tr>\n",
       "      <th>CSVVGTGKTYEQYF</th>\n",
       "      <td>1</td>\n",
       "      <td>0.301030</td>\n",
       "      <td>0</td>\n",
       "      <td>2</td>\n",
       "      <td>0</td>\n",
       "    </tr>\n",
       "    <tr>\n",
       "      <th>CSVVRTSGNEQFF</th>\n",
       "      <td>2</td>\n",
       "      <td>1.278754</td>\n",
       "      <td>1</td>\n",
       "      <td>18</td>\n",
       "      <td>0</td>\n",
       "    </tr>\n",
       "    <tr>\n",
       "      <th>CSVYGEGKLSSYEQYF</th>\n",
       "      <td>1</td>\n",
       "      <td>0.301030</td>\n",
       "      <td>0</td>\n",
       "      <td>1</td>\n",
       "      <td>1</td>\n",
       "    </tr>\n",
       "  </tbody>\n",
       "</table>\n",
       "<p>783 rows × 5 columns</p>\n",
       "</div>"
      ],
      "text/plain": [
       "                  num_unique_patients  Log10CloneSize  PRE  POST  DLI\n",
       "CACRDPGSSYNSPLHF                    1        0.301030    0     0    2\n",
       "CAINIRHGRNSPLHF                     1        0.602060    0     0    4\n",
       "CAIRDAGGPWETQYF                     2        0.954243    1     7    1\n",
       "CAIRDEGGSPLHF                       1        0.301030    0     0    2\n",
       "CAIREPEQSSYNEQFF                    2        0.477121    1     2    0\n",
       "...                               ...             ...  ...   ...  ...\n",
       "CSVVDQRSGANVLTF                     1        0.954243    0     9    0\n",
       "CSVVDRGRFGEQYF                      1        0.301030    0     0    2\n",
       "CSVVGTGKTYEQYF                      1        0.301030    0     2    0\n",
       "CSVVRTSGNEQFF                       2        1.278754    1    18    0\n",
       "CSVYGEGKLSSYEQYF                    1        0.301030    0     1    1\n",
       "\n",
       "[783 rows x 5 columns]"
      ]
     },
     "execution_count": 86,
     "metadata": {},
     "output_type": "execute_result"
    }
   ],
   "source": [
    "unique_r"
   ]
  },
  {
   "cell_type": "code",
   "execution_count": 301,
   "metadata": {},
   "outputs": [],
   "source": [
    "patients = ['EL', 'KC', 'LB', 'MS', 'AH', 'AM', 'GD', 'JS']\n",
    "r = [ 'EL', 'KC', 'LB', 'MS']\n",
    "nr = ['AH', 'AM', 'GD', 'JS']"
   ]
  },
  {
   "cell_type": "code",
   "execution_count": 305,
   "metadata": {},
   "outputs": [],
   "source": [
    "r_size = np.array(unique_r['Log10CloneSize'])\n",
    "gini_r = gini(r_size)\n",
    "\n",
    "\n",
    "nr_size = np.array(unique_nr['Log10CloneSize'])\n",
    "gini_nr = gini(nr_size)"
   ]
  },
  {
   "cell_type": "code",
   "execution_count": 310,
   "metadata": {},
   "outputs": [],
   "source": [
    "r_samples = np.unique(tcr[tcr['patient'].isin(r)]['sample'])\n",
    "nr_samples = np.unique(tcr[tcr['patient'].isin(nr)]['sample'])\n"
   ]
  },
  {
   "cell_type": "code",
   "execution_count": 320,
   "metadata": {},
   "outputs": [
    {
     "data": {
      "text/html": [
       "<div>\n",
       "<style scoped>\n",
       "    .dataframe tbody tr th:only-of-type {\n",
       "        vertical-align: middle;\n",
       "    }\n",
       "\n",
       "    .dataframe tbody tr th {\n",
       "        vertical-align: top;\n",
       "    }\n",
       "\n",
       "    .dataframe thead th {\n",
       "        text-align: right;\n",
       "    }\n",
       "</style>\n",
       "<table border=\"1\" class=\"dataframe\">\n",
       "  <thead>\n",
       "    <tr style=\"text-align: right;\">\n",
       "      <th></th>\n",
       "      <th>x</th>\n",
       "      <th>y</th>\n",
       "      <th>cluster_number</th>\n",
       "      <th>patient</th>\n",
       "      <th>response</th>\n",
       "      <th>sample</th>\n",
       "      <th>time</th>\n",
       "      <th>cdr3</th>\n",
       "      <th>T-subtype</th>\n",
       "      <th>batch</th>\n",
       "      <th>Log10CloneSize</th>\n",
       "    </tr>\n",
       "    <tr>\n",
       "      <th>barcode</th>\n",
       "      <th></th>\n",
       "      <th></th>\n",
       "      <th></th>\n",
       "      <th></th>\n",
       "      <th></th>\n",
       "      <th></th>\n",
       "      <th></th>\n",
       "      <th></th>\n",
       "      <th></th>\n",
       "      <th></th>\n",
       "      <th></th>\n",
       "    </tr>\n",
       "  </thead>\n",
       "  <tbody>\n",
       "    <tr>\n",
       "      <th>AAACCTGAGTCCTCCT-1-0</th>\n",
       "      <td>-2.495751</td>\n",
       "      <td>-0.160841</td>\n",
       "      <td>0</td>\n",
       "      <td>LB</td>\n",
       "      <td>RESPONDER</td>\n",
       "      <td>LB1</td>\n",
       "      <td>POST</td>\n",
       "      <td>CASSLTLPSYEQYF</td>\n",
       "      <td>TEMRA</td>\n",
       "      <td>0</td>\n",
       "      <td>1.505150</td>\n",
       "    </tr>\n",
       "    <tr>\n",
       "      <th>AAACCTGCATGCTAGT-1-0</th>\n",
       "      <td>-1.617232</td>\n",
       "      <td>3.554139</td>\n",
       "      <td>28</td>\n",
       "      <td>LB</td>\n",
       "      <td>RESPONDER</td>\n",
       "      <td>LB1</td>\n",
       "      <td>POST</td>\n",
       "      <td>CASNSGTLEVSGNTIYF</td>\n",
       "      <td>MAIT</td>\n",
       "      <td>0</td>\n",
       "      <td>0.000000</td>\n",
       "    </tr>\n",
       "    <tr>\n",
       "      <th>AAACCTGGTCTCTCGT-1-0</th>\n",
       "      <td>-3.260597</td>\n",
       "      <td>0.094545</td>\n",
       "      <td>0</td>\n",
       "      <td>LB</td>\n",
       "      <td>RESPONDER</td>\n",
       "      <td>LB1</td>\n",
       "      <td>POST</td>\n",
       "      <td>CASSPLTGELFF</td>\n",
       "      <td>TEMRA</td>\n",
       "      <td>0</td>\n",
       "      <td>0.477121</td>\n",
       "    </tr>\n",
       "    <tr>\n",
       "      <th>AAACCTGGTGATGTCT-1-0</th>\n",
       "      <td>-1.986154</td>\n",
       "      <td>-0.465736</td>\n",
       "      <td>0</td>\n",
       "      <td>LB</td>\n",
       "      <td>RESPONDER</td>\n",
       "      <td>LB1</td>\n",
       "      <td>POST</td>\n",
       "      <td>CASSLRTGVNEQFF</td>\n",
       "      <td>TEMRA</td>\n",
       "      <td>0</td>\n",
       "      <td>2.158362</td>\n",
       "    </tr>\n",
       "    <tr>\n",
       "      <th>AAACCTGGTTCTGAAC-1-0</th>\n",
       "      <td>-1.690062</td>\n",
       "      <td>-0.004227</td>\n",
       "      <td>0</td>\n",
       "      <td>LB</td>\n",
       "      <td>RESPONDER</td>\n",
       "      <td>LB1</td>\n",
       "      <td>POST</td>\n",
       "      <td>CASSPGTSWNEQFF</td>\n",
       "      <td>TEMRA</td>\n",
       "      <td>0</td>\n",
       "      <td>1.544068</td>\n",
       "    </tr>\n",
       "    <tr>\n",
       "      <th>...</th>\n",
       "      <td>...</td>\n",
       "      <td>...</td>\n",
       "      <td>...</td>\n",
       "      <td>...</td>\n",
       "      <td>...</td>\n",
       "      <td>...</td>\n",
       "      <td>...</td>\n",
       "      <td>...</td>\n",
       "      <td>...</td>\n",
       "      <td>...</td>\n",
       "      <td>...</td>\n",
       "    </tr>\n",
       "    <tr>\n",
       "      <th>TTTGTCACAGACAAAT-1-13</th>\n",
       "      <td>-3.501725</td>\n",
       "      <td>0.133351</td>\n",
       "      <td>0</td>\n",
       "      <td>AH</td>\n",
       "      <td>NONRESPONDER</td>\n",
       "      <td>AH</td>\n",
       "      <td>DLI</td>\n",
       "      <td>CASSQTSGSVNEQFF</td>\n",
       "      <td>TEMRA</td>\n",
       "      <td>13</td>\n",
       "      <td>1.230449</td>\n",
       "    </tr>\n",
       "    <tr>\n",
       "      <th>TTTGTCACAGATAATG-1-13</th>\n",
       "      <td>0.633257</td>\n",
       "      <td>6.542127</td>\n",
       "      <td>18</td>\n",
       "      <td>AH</td>\n",
       "      <td>NONRESPONDER</td>\n",
       "      <td>AH</td>\n",
       "      <td>DLI</td>\n",
       "      <td>CATSRVKPGTDTQYF</td>\n",
       "      <td>TCM</td>\n",
       "      <td>13</td>\n",
       "      <td>0.000000</td>\n",
       "    </tr>\n",
       "    <tr>\n",
       "      <th>TTTGTCATCAAAGTAG-1-13</th>\n",
       "      <td>-0.685095</td>\n",
       "      <td>7.196759</td>\n",
       "      <td>18</td>\n",
       "      <td>AH</td>\n",
       "      <td>NONRESPONDER</td>\n",
       "      <td>AH</td>\n",
       "      <td>DLI</td>\n",
       "      <td>CASSYRVPRETQYF</td>\n",
       "      <td>TCM</td>\n",
       "      <td>13</td>\n",
       "      <td>0.000000</td>\n",
       "    </tr>\n",
       "    <tr>\n",
       "      <th>TTTGTCATCGAGAACG-1-13</th>\n",
       "      <td>-1.006441</td>\n",
       "      <td>7.647797</td>\n",
       "      <td>2</td>\n",
       "      <td>AH</td>\n",
       "      <td>NONRESPONDER</td>\n",
       "      <td>AH</td>\n",
       "      <td>DLI</td>\n",
       "      <td>CASRNRGVRSGNTIYF</td>\n",
       "      <td>Naive_Helper_1</td>\n",
       "      <td>13</td>\n",
       "      <td>0.000000</td>\n",
       "    </tr>\n",
       "    <tr>\n",
       "      <th>TTTGTCATCGCACTCT-1-13</th>\n",
       "      <td>0.280313</td>\n",
       "      <td>6.124669</td>\n",
       "      <td>18</td>\n",
       "      <td>AH</td>\n",
       "      <td>NONRESPONDER</td>\n",
       "      <td>AH</td>\n",
       "      <td>DLI</td>\n",
       "      <td>CASREAGGPYEQYF</td>\n",
       "      <td>TCM</td>\n",
       "      <td>13</td>\n",
       "      <td>0.301030</td>\n",
       "    </tr>\n",
       "  </tbody>\n",
       "</table>\n",
       "<p>27144 rows × 11 columns</p>\n",
       "</div>"
      ],
      "text/plain": [
       "                              x         y  cluster_number patient  \\\n",
       "barcode                                                             \n",
       "AAACCTGAGTCCTCCT-1-0  -2.495751 -0.160841               0      LB   \n",
       "AAACCTGCATGCTAGT-1-0  -1.617232  3.554139              28      LB   \n",
       "AAACCTGGTCTCTCGT-1-0  -3.260597  0.094545               0      LB   \n",
       "AAACCTGGTGATGTCT-1-0  -1.986154 -0.465736               0      LB   \n",
       "AAACCTGGTTCTGAAC-1-0  -1.690062 -0.004227               0      LB   \n",
       "...                         ...       ...             ...     ...   \n",
       "TTTGTCACAGACAAAT-1-13 -3.501725  0.133351               0      AH   \n",
       "TTTGTCACAGATAATG-1-13  0.633257  6.542127              18      AH   \n",
       "TTTGTCATCAAAGTAG-1-13 -0.685095  7.196759              18      AH   \n",
       "TTTGTCATCGAGAACG-1-13 -1.006441  7.647797               2      AH   \n",
       "TTTGTCATCGCACTCT-1-13  0.280313  6.124669              18      AH   \n",
       "\n",
       "                           response sample  time               cdr3  \\\n",
       "barcode                                                               \n",
       "AAACCTGAGTCCTCCT-1-0      RESPONDER    LB1  POST     CASSLTLPSYEQYF   \n",
       "AAACCTGCATGCTAGT-1-0      RESPONDER    LB1  POST  CASNSGTLEVSGNTIYF   \n",
       "AAACCTGGTCTCTCGT-1-0      RESPONDER    LB1  POST       CASSPLTGELFF   \n",
       "AAACCTGGTGATGTCT-1-0      RESPONDER    LB1  POST     CASSLRTGVNEQFF   \n",
       "AAACCTGGTTCTGAAC-1-0      RESPONDER    LB1  POST     CASSPGTSWNEQFF   \n",
       "...                             ...    ...   ...                ...   \n",
       "TTTGTCACAGACAAAT-1-13  NONRESPONDER     AH   DLI    CASSQTSGSVNEQFF   \n",
       "TTTGTCACAGATAATG-1-13  NONRESPONDER     AH   DLI    CATSRVKPGTDTQYF   \n",
       "TTTGTCATCAAAGTAG-1-13  NONRESPONDER     AH   DLI     CASSYRVPRETQYF   \n",
       "TTTGTCATCGAGAACG-1-13  NONRESPONDER     AH   DLI   CASRNRGVRSGNTIYF   \n",
       "TTTGTCATCGCACTCT-1-13  NONRESPONDER     AH   DLI     CASREAGGPYEQYF   \n",
       "\n",
       "                            T-subtype  batch  Log10CloneSize  \n",
       "barcode                                                       \n",
       "AAACCTGAGTCCTCCT-1-0            TEMRA      0        1.505150  \n",
       "AAACCTGCATGCTAGT-1-0             MAIT      0        0.000000  \n",
       "AAACCTGGTCTCTCGT-1-0            TEMRA      0        0.477121  \n",
       "AAACCTGGTGATGTCT-1-0            TEMRA      0        2.158362  \n",
       "AAACCTGGTTCTGAAC-1-0            TEMRA      0        1.544068  \n",
       "...                               ...    ...             ...  \n",
       "TTTGTCACAGACAAAT-1-13           TEMRA     13        1.230449  \n",
       "TTTGTCACAGATAATG-1-13             TCM     13        0.000000  \n",
       "TTTGTCATCAAAGTAG-1-13             TCM     13        0.000000  \n",
       "TTTGTCATCGAGAACG-1-13  Naive_Helper_1     13        0.000000  \n",
       "TTTGTCATCGCACTCT-1-13             TCM     13        0.301030  \n",
       "\n",
       "[27144 rows x 11 columns]"
      ]
     },
     "execution_count": 320,
     "metadata": {},
     "output_type": "execute_result"
    }
   ],
   "source": [
    "tcr"
   ]
  },
  {
   "cell_type": "code",
   "execution_count": 318,
   "metadata": {},
   "outputs": [
    {
     "name": "stderr",
     "output_type": "stream",
     "text": [
      "/home/cyp2111_columbia_edu/anaconda3/lib/python3.8/site-packages/seaborn/categorical.py:166: FutureWarning: Setting a gradient palette using color= is deprecated and will be removed in version 0.13. Set `palette='dark:black'` for same effect.\n",
      "  warnings.warn(msg, FutureWarning)\n",
      "The PostScript backend does not support transparency; partially transparent artists will be rendered opaque.\n"
     ]
    },
    {
     "data": {
      "image/png": "[encoded data removed]",
      "text/plain": [
       "<Figure size 432x288 with 1 Axes>"
      ]
     },
     "metadata": {
      "needs_background": "light"
     },
     "output_type": "display_data"
    }
   ],
   "source": [
    "gini_df = pd.DataFrame(index = patients, columns = ['all','pre','dli','post','response'])\n",
    "\n",
    "\n",
    "for patient in patients:\n",
    "    if patient in r: \n",
    "        response = 'R'\n",
    "    if patient in nr:\n",
    "        response = 'NR'\n",
    "    sub = tcr[tcr['patient']==patient]\n",
    "    cdr = np.unique(sub['cdr3'])\n",
    "    DF = clone_df.loc[cdr]\n",
    "    \n",
    "    \n",
    "    r_sign = np.sign(DF[['PRE','POST','DLI']])\n",
    "    r_sign = r_sign[r_sign['POST']==1]\n",
    "    \n",
    "    \n",
    "    \n",
    "    shared = r_sign[r_sign.sum(axis = 1)==3]\n",
    "    all_size = DF.loc[shared.index, 'POST']\n",
    "    gini_all = gini(all_size)\n",
    "\n",
    "\n",
    "    just_pre = r_sign[r_sign['DLI']==0]\n",
    "    pre_size = DF.loc[just_pre.index, 'POST']\n",
    "    gini_pre = gini(pre_size)\n",
    "\n",
    "    just_dli = r_sign[r_sign['PRE']==0]\n",
    "    dli_size = DF.loc[just_dli.index, 'POST']\n",
    "    gini_dli = gini(dli_size)\n",
    "\n",
    "    just_post = r_sign[r_sign['DLI']==0]\n",
    "    just_post = just_post[just_post['PRE']==0]\n",
    "    post_size = DF.loc[just_post.index, 'POST']\n",
    "    gini_post = gini(post_size)\n",
    "\n",
    "\n",
    "    gini_df.loc[patient] = [gini_all, gini_pre, gini_dli, gini_post,response]\n",
    "\n",
    "gini_df = gini_df.fillna(0)\n",
    "\n",
    "\n",
    "gini_df_2 = pd.DataFrame(columns = ['patient','value','group','response'])\n",
    "\n",
    "for patient in gini_df.index:\n",
    "    p = patient\n",
    "    response = gini_df.loc[patient,'response']\n",
    "    \n",
    "    for group in ['all','pre','dli','post']:\n",
    "        gini_df_2.loc[len(gini_df_2)] = [p,gini_df.loc[patient, group],group,response]\n",
    "        \n",
    "import seaborn as sns\n",
    "\n",
    "\n",
    "plt.figure()\n",
    "sns.boxplot(data = gini_df_2, x = 'group',y = 'value',hue = 'response')\n",
    "sns.stripplot(data = gini_df_2, x = 'group',y = 'value',hue = 'response',color = 'black',jitter= False, dodge = True)\n",
    "plt.title('Gini coefficients calculated on cell counts in post for each patient\\nlimited to clones in POST-DLI')\n",
    "plt.legend(bbox_to_anchor = (1,0.5),loc = 'center left')\n",
    "plt.tight_layout()\n",
    "plt.savefig('gini_postclones_basedonpostcounts.eps')\n",
    "plt.show()"
   ]
  },
  {
   "cell_type": "code",
   "execution_count": 341,
   "metadata": {},
   "outputs": [
    {
     "name": "stderr",
     "output_type": "stream",
     "text": [
      "/home/cyp2111_columbia_edu/anaconda3/lib/python3.8/site-packages/seaborn/categorical.py:166: FutureWarning: Setting a gradient palette using color= is deprecated and will be removed in version 0.13. Set `palette='dark:black'` for same effect.\n",
      "  warnings.warn(msg, FutureWarning)\n",
      "The PostScript backend does not support transparency; partially transparent artists will be rendered opaque.\n"
     ]
    },
    {
     "data": {
      "image/png": "[encoded data removed]",
      "text/plain": [
       "<Figure size 432x288 with 1 Axes>"
      ]
     },
     "metadata": {
      "needs_background": "light"
     },
     "output_type": "display_data"
    }
   ],
   "source": [
    "gini_df = pd.DataFrame(index = patients, columns = [\n",
    "    'POST', 'PRE',\n",
    "    'DLI','response'])\n",
    "\n",
    "\n",
    "for patient in patients:\n",
    "    if patient in r: \n",
    "        response = 'R'\n",
    "    if patient in nr:\n",
    "        response = 'NR'\n",
    "    sub = tcr[tcr['patient']==patient]\n",
    "    cdr = np.unique(sub['cdr3'])\n",
    "    DF = clone_df.loc[cdr]\n",
    "    \n",
    "    \n",
    "    r_sign = np.sign(DF[['PRE','POST','DLI']])\n",
    "#     r_sign = r_sign[r_sign['POST']==1]\n",
    "    \n",
    "    \n",
    "#     shared = r_sign[r_sign.sum(axis = 1)!=0]\n",
    "#     all_size = DF.loc[shared.index, 'Log10CloneSize']\n",
    "#     gini_all = gini(all_size)\n",
    "    \n",
    "    dli_post = r_sign[r_sign['POST']==1]\n",
    "#     dli_post = dli_post[dli_post['DLI']==1]\n",
    "#     dli_post = dli_post[dli_post['PRE']==0]\n",
    "\n",
    "#     print(patient, len(dli_post))\n",
    "    dli_size = DF.loc[dli_post.index, 'POST']\n",
    "    gini_all = gini(dli_size)\n",
    "    \n",
    "    just_dli = r_sign[r_sign['PRE']==1]\n",
    "    dli_size = DF.loc[just_dli.index, 'PRE']\n",
    "    gini_pre = gini(dli_size)\n",
    "    \n",
    "    \n",
    "\n",
    "    just_dli = r_sign[r_sign['DLI']==1]\n",
    "    dli_size = DF.loc[just_dli.index, 'DLI']\n",
    "    gini_dli = gini(dli_size)\n",
    "\n",
    "\n",
    "    gini_df.loc[patient] = [\n",
    "        gini_all, \n",
    "        gini_pre,\n",
    "        gini_dli,response]\n",
    "\n",
    "gini_df = gini_df.fillna(0)\n",
    "\n",
    "\n",
    "gini_df_2 = pd.DataFrame(columns = ['patient','value','group','response'])\n",
    "\n",
    "for patient in gini_df.index:\n",
    "    p = patient\n",
    "    response = gini_df.loc[patient,'response']\n",
    "    \n",
    "    for group in ['DLI','PRE','POST']:\n",
    "        gini_df_2.loc[len(gini_df_2)] = [p,gini_df.loc[patient, group],group,response]\n",
    "        \n",
    "import seaborn as sns\n",
    "\n",
    "\n",
    "plt.figure()\n",
    "sns.boxplot(data = gini_df_2, x = 'group',y = 'value',hue = 'response')\n",
    "sns.stripplot(data = gini_df_2, x = 'group',y = 'value',hue = 'response',color = 'black',jitter= False, dodge = True)\n",
    "# plt.title('Gini coefficients calculated on Log10CloneSize for each patient')\n",
    "plt.legend(bbox_to_anchor = (1,0.5),loc = 'center left')\n",
    "plt.tight_layout()\n",
    "plt.savefig('gini_clones_2.eps')\n",
    "plt.show()"
   ]
  },
  {
   "cell_type": "code",
   "execution_count": null,
   "metadata": {},
   "outputs": [],
   "source": []
  },
  {
   "cell_type": "code",
   "execution_count": 344,
   "metadata": {},
   "outputs": [
    {
     "data": {
      "text/html": [
       "<div>\n",
       "<style scoped>\n",
       "    .dataframe tbody tr th:only-of-type {\n",
       "        vertical-align: middle;\n",
       "    }\n",
       "\n",
       "    .dataframe tbody tr th {\n",
       "        vertical-align: top;\n",
       "    }\n",
       "\n",
       "    .dataframe thead th {\n",
       "        text-align: right;\n",
       "    }\n",
       "</style>\n",
       "<table border=\"1\" class=\"dataframe\">\n",
       "  <thead>\n",
       "    <tr style=\"text-align: right;\">\n",
       "      <th></th>\n",
       "      <th>patient</th>\n",
       "      <th>value</th>\n",
       "      <th>group</th>\n",
       "      <th>response</th>\n",
       "    </tr>\n",
       "  </thead>\n",
       "  <tbody>\n",
       "    <tr>\n",
       "      <th>0</th>\n",
       "      <td>EL</td>\n",
       "      <td>0.069742</td>\n",
       "      <td>DLI</td>\n",
       "      <td>R</td>\n",
       "    </tr>\n",
       "    <tr>\n",
       "      <th>1</th>\n",
       "      <td>EL</td>\n",
       "      <td>0.023214</td>\n",
       "      <td>PRE</td>\n",
       "      <td>R</td>\n",
       "    </tr>\n",
       "    <tr>\n",
       "      <th>2</th>\n",
       "      <td>EL</td>\n",
       "      <td>0.265079</td>\n",
       "      <td>POST</td>\n",
       "      <td>R</td>\n",
       "    </tr>\n",
       "    <tr>\n",
       "      <th>3</th>\n",
       "      <td>KC</td>\n",
       "      <td>0.066003</td>\n",
       "      <td>DLI</td>\n",
       "      <td>R</td>\n",
       "    </tr>\n",
       "    <tr>\n",
       "      <th>4</th>\n",
       "      <td>KC</td>\n",
       "      <td>0.556653</td>\n",
       "      <td>PRE</td>\n",
       "      <td>R</td>\n",
       "    </tr>\n",
       "    <tr>\n",
       "      <th>5</th>\n",
       "      <td>KC</td>\n",
       "      <td>0.801079</td>\n",
       "      <td>POST</td>\n",
       "      <td>R</td>\n",
       "    </tr>\n",
       "    <tr>\n",
       "      <th>6</th>\n",
       "      <td>LB</td>\n",
       "      <td>0.186581</td>\n",
       "      <td>DLI</td>\n",
       "      <td>R</td>\n",
       "    </tr>\n",
       "    <tr>\n",
       "      <th>7</th>\n",
       "      <td>LB</td>\n",
       "      <td>0.488889</td>\n",
       "      <td>PRE</td>\n",
       "      <td>R</td>\n",
       "    </tr>\n",
       "    <tr>\n",
       "      <th>8</th>\n",
       "      <td>LB</td>\n",
       "      <td>0.765606</td>\n",
       "      <td>POST</td>\n",
       "      <td>R</td>\n",
       "    </tr>\n",
       "    <tr>\n",
       "      <th>9</th>\n",
       "      <td>MS</td>\n",
       "      <td>0.228557</td>\n",
       "      <td>DLI</td>\n",
       "      <td>R</td>\n",
       "    </tr>\n",
       "    <tr>\n",
       "      <th>10</th>\n",
       "      <td>MS</td>\n",
       "      <td>0.192394</td>\n",
       "      <td>PRE</td>\n",
       "      <td>R</td>\n",
       "    </tr>\n",
       "    <tr>\n",
       "      <th>11</th>\n",
       "      <td>MS</td>\n",
       "      <td>0.543948</td>\n",
       "      <td>POST</td>\n",
       "      <td>R</td>\n",
       "    </tr>\n",
       "    <tr>\n",
       "      <th>12</th>\n",
       "      <td>AH</td>\n",
       "      <td>0.243392</td>\n",
       "      <td>DLI</td>\n",
       "      <td>NR</td>\n",
       "    </tr>\n",
       "    <tr>\n",
       "      <th>13</th>\n",
       "      <td>AH</td>\n",
       "      <td>0.577919</td>\n",
       "      <td>PRE</td>\n",
       "      <td>NR</td>\n",
       "    </tr>\n",
       "    <tr>\n",
       "      <th>14</th>\n",
       "      <td>AH</td>\n",
       "      <td>0.305266</td>\n",
       "      <td>POST</td>\n",
       "      <td>NR</td>\n",
       "    </tr>\n",
       "    <tr>\n",
       "      <th>15</th>\n",
       "      <td>AM</td>\n",
       "      <td>0.035159</td>\n",
       "      <td>DLI</td>\n",
       "      <td>NR</td>\n",
       "    </tr>\n",
       "    <tr>\n",
       "      <th>16</th>\n",
       "      <td>AM</td>\n",
       "      <td>0.034290</td>\n",
       "      <td>PRE</td>\n",
       "      <td>NR</td>\n",
       "    </tr>\n",
       "    <tr>\n",
       "      <th>17</th>\n",
       "      <td>AM</td>\n",
       "      <td>0.000000</td>\n",
       "      <td>POST</td>\n",
       "      <td>NR</td>\n",
       "    </tr>\n",
       "    <tr>\n",
       "      <th>18</th>\n",
       "      <td>GD</td>\n",
       "      <td>0.000000</td>\n",
       "      <td>DLI</td>\n",
       "      <td>NR</td>\n",
       "    </tr>\n",
       "    <tr>\n",
       "      <th>19</th>\n",
       "      <td>GD</td>\n",
       "      <td>0.105813</td>\n",
       "      <td>PRE</td>\n",
       "      <td>NR</td>\n",
       "    </tr>\n",
       "    <tr>\n",
       "      <th>20</th>\n",
       "      <td>GD</td>\n",
       "      <td>0.041438</td>\n",
       "      <td>POST</td>\n",
       "      <td>NR</td>\n",
       "    </tr>\n",
       "    <tr>\n",
       "      <th>21</th>\n",
       "      <td>JS</td>\n",
       "      <td>0.119267</td>\n",
       "      <td>DLI</td>\n",
       "      <td>NR</td>\n",
       "    </tr>\n",
       "    <tr>\n",
       "      <th>22</th>\n",
       "      <td>JS</td>\n",
       "      <td>0.236236</td>\n",
       "      <td>PRE</td>\n",
       "      <td>NR</td>\n",
       "    </tr>\n",
       "    <tr>\n",
       "      <th>23</th>\n",
       "      <td>JS</td>\n",
       "      <td>0.088889</td>\n",
       "      <td>POST</td>\n",
       "      <td>NR</td>\n",
       "    </tr>\n",
       "  </tbody>\n",
       "</table>\n",
       "</div>"
      ],
      "text/plain": [
       "   patient     value group response\n",
       "0       EL  0.069742   DLI        R\n",
       "1       EL  0.023214   PRE        R\n",
       "2       EL  0.265079  POST        R\n",
       "3       KC  0.066003   DLI        R\n",
       "4       KC  0.556653   PRE        R\n",
       "5       KC  0.801079  POST        R\n",
       "6       LB  0.186581   DLI        R\n",
       "7       LB  0.488889   PRE        R\n",
       "8       LB  0.765606  POST        R\n",
       "9       MS  0.228557   DLI        R\n",
       "10      MS  0.192394   PRE        R\n",
       "11      MS  0.543948  POST        R\n",
       "12      AH  0.243392   DLI       NR\n",
       "13      AH  0.577919   PRE       NR\n",
       "14      AH  0.305266  POST       NR\n",
       "15      AM  0.035159   DLI       NR\n",
       "16      AM  0.034290   PRE       NR\n",
       "17      AM  0.000000  POST       NR\n",
       "18      GD  0.000000   DLI       NR\n",
       "19      GD  0.105813   PRE       NR\n",
       "20      GD  0.041438  POST       NR\n",
       "21      JS  0.119267   DLI       NR\n",
       "22      JS  0.236236   PRE       NR\n",
       "23      JS  0.088889  POST       NR"
      ]
     },
     "execution_count": 344,
     "metadata": {},
     "output_type": "execute_result"
    }
   ],
   "source": [
    "gini_df_2"
   ]
  },
  {
   "cell_type": "code",
   "execution_count": 355,
   "metadata": {},
   "outputs": [],
   "source": [
    "test1 = gini_df_2[gini_df_2['group']=='POST']\n",
    "test2 = gini_df_2[gini_df_2['group']=='PRE']"
   ]
  },
  {
   "cell_type": "code",
   "execution_count": 356,
   "metadata": {},
   "outputs": [
    {
     "data": {
      "text/plain": [
       "MannwhitneyuResult(statistic=13.0, pvalue=0.2)"
      ]
     },
     "execution_count": 356,
     "metadata": {},
     "output_type": "execute_result"
    }
   ],
   "source": [
    "r1 = test1[test1['response']=='R']\n",
    "nr1 = test2[test2['response']=='R']\n",
    "\n",
    "from scipy.stats import ttest_ind\n",
    "from scipy.stats import mannwhitneyu\n",
    "\n",
    "mannwhitneyu(r1['value'],nr1['value'])"
   ]
  },
  {
   "cell_type": "code",
   "execution_count": 357,
   "metadata": {},
   "outputs": [
    {
     "data": {
      "text/html": [
       "<div>\n",
       "<style scoped>\n",
       "    .dataframe tbody tr th:only-of-type {\n",
       "        vertical-align: middle;\n",
       "    }\n",
       "\n",
       "    .dataframe tbody tr th {\n",
       "        vertical-align: top;\n",
       "    }\n",
       "\n",
       "    .dataframe thead th {\n",
       "        text-align: right;\n",
       "    }\n",
       "</style>\n",
       "<table border=\"1\" class=\"dataframe\">\n",
       "  <thead>\n",
       "    <tr style=\"text-align: right;\">\n",
       "      <th></th>\n",
       "      <th>patient</th>\n",
       "      <th>value</th>\n",
       "      <th>group</th>\n",
       "      <th>response</th>\n",
       "    </tr>\n",
       "  </thead>\n",
       "  <tbody>\n",
       "    <tr>\n",
       "      <th>2</th>\n",
       "      <td>EL</td>\n",
       "      <td>0.265079</td>\n",
       "      <td>POST</td>\n",
       "      <td>R</td>\n",
       "    </tr>\n",
       "    <tr>\n",
       "      <th>5</th>\n",
       "      <td>KC</td>\n",
       "      <td>0.801079</td>\n",
       "      <td>POST</td>\n",
       "      <td>R</td>\n",
       "    </tr>\n",
       "    <tr>\n",
       "      <th>8</th>\n",
       "      <td>LB</td>\n",
       "      <td>0.765606</td>\n",
       "      <td>POST</td>\n",
       "      <td>R</td>\n",
       "    </tr>\n",
       "    <tr>\n",
       "      <th>11</th>\n",
       "      <td>MS</td>\n",
       "      <td>0.543948</td>\n",
       "      <td>POST</td>\n",
       "      <td>R</td>\n",
       "    </tr>\n",
       "  </tbody>\n",
       "</table>\n",
       "</div>"
      ],
      "text/plain": [
       "   patient     value group response\n",
       "2       EL  0.265079  POST        R\n",
       "5       KC  0.801079  POST        R\n",
       "8       LB  0.765606  POST        R\n",
       "11      MS  0.543948  POST        R"
      ]
     },
     "execution_count": 357,
     "metadata": {},
     "output_type": "execute_result"
    }
   ],
   "source": [
    "r1"
   ]
  },
  {
   "cell_type": "code",
   "execution_count": 358,
   "metadata": {},
   "outputs": [
    {
     "data": {
      "text/html": [
       "<div>\n",
       "<style scoped>\n",
       "    .dataframe tbody tr th:only-of-type {\n",
       "        vertical-align: middle;\n",
       "    }\n",
       "\n",
       "    .dataframe tbody tr th {\n",
       "        vertical-align: top;\n",
       "    }\n",
       "\n",
       "    .dataframe thead th {\n",
       "        text-align: right;\n",
       "    }\n",
       "</style>\n",
       "<table border=\"1\" class=\"dataframe\">\n",
       "  <thead>\n",
       "    <tr style=\"text-align: right;\">\n",
       "      <th></th>\n",
       "      <th>patient</th>\n",
       "      <th>value</th>\n",
       "      <th>group</th>\n",
       "      <th>response</th>\n",
       "    </tr>\n",
       "  </thead>\n",
       "  <tbody>\n",
       "    <tr>\n",
       "      <th>1</th>\n",
       "      <td>EL</td>\n",
       "      <td>0.023214</td>\n",
       "      <td>PRE</td>\n",
       "      <td>R</td>\n",
       "    </tr>\n",
       "    <tr>\n",
       "      <th>4</th>\n",
       "      <td>KC</td>\n",
       "      <td>0.556653</td>\n",
       "      <td>PRE</td>\n",
       "      <td>R</td>\n",
       "    </tr>\n",
       "    <tr>\n",
       "      <th>7</th>\n",
       "      <td>LB</td>\n",
       "      <td>0.488889</td>\n",
       "      <td>PRE</td>\n",
       "      <td>R</td>\n",
       "    </tr>\n",
       "    <tr>\n",
       "      <th>10</th>\n",
       "      <td>MS</td>\n",
       "      <td>0.192394</td>\n",
       "      <td>PRE</td>\n",
       "      <td>R</td>\n",
       "    </tr>\n",
       "  </tbody>\n",
       "</table>\n",
       "</div>"
      ],
      "text/plain": [
       "   patient     value group response\n",
       "1       EL  0.023214   PRE        R\n",
       "4       KC  0.556653   PRE        R\n",
       "7       LB  0.488889   PRE        R\n",
       "10      MS  0.192394   PRE        R"
      ]
     },
     "execution_count": 358,
     "metadata": {},
     "output_type": "execute_result"
    }
   ],
   "source": [
    "nr1"
   ]
  },
  {
   "cell_type": "code",
   "execution_count": 263,
   "metadata": {},
   "outputs": [
    {
     "data": {
      "text/html": [
       "<div>\n",
       "<style scoped>\n",
       "    .dataframe tbody tr th:only-of-type {\n",
       "        vertical-align: middle;\n",
       "    }\n",
       "\n",
       "    .dataframe tbody tr th {\n",
       "        vertical-align: top;\n",
       "    }\n",
       "\n",
       "    .dataframe thead th {\n",
       "        text-align: right;\n",
       "    }\n",
       "</style>\n",
       "<table border=\"1\" class=\"dataframe\">\n",
       "  <thead>\n",
       "    <tr style=\"text-align: right;\">\n",
       "      <th></th>\n",
       "      <th>DLI</th>\n",
       "      <th>POST</th>\n",
       "      <th>PRE</th>\n",
       "    </tr>\n",
       "  </thead>\n",
       "  <tbody>\n",
       "    <tr>\n",
       "      <th>EL</th>\n",
       "      <td>218</td>\n",
       "      <td>143</td>\n",
       "      <td>27</td>\n",
       "    </tr>\n",
       "    <tr>\n",
       "      <th>KC</th>\n",
       "      <td>294</td>\n",
       "      <td>1880</td>\n",
       "      <td>81</td>\n",
       "    </tr>\n",
       "    <tr>\n",
       "      <th>LB</th>\n",
       "      <td>254</td>\n",
       "      <td>3983</td>\n",
       "      <td>22</td>\n",
       "    </tr>\n",
       "    <tr>\n",
       "      <th>MS</th>\n",
       "      <td>868</td>\n",
       "      <td>447</td>\n",
       "      <td>66</td>\n",
       "    </tr>\n",
       "    <tr>\n",
       "      <th>AH</th>\n",
       "      <td>1329</td>\n",
       "      <td>51</td>\n",
       "      <td>771</td>\n",
       "    </tr>\n",
       "    <tr>\n",
       "      <th>AM</th>\n",
       "      <td>61</td>\n",
       "      <td>NaN</td>\n",
       "      <td>9</td>\n",
       "    </tr>\n",
       "    <tr>\n",
       "      <th>GD</th>\n",
       "      <td>NaN</td>\n",
       "      <td>12</td>\n",
       "      <td>58</td>\n",
       "    </tr>\n",
       "    <tr>\n",
       "      <th>JS</th>\n",
       "      <td>282</td>\n",
       "      <td>9</td>\n",
       "      <td>15</td>\n",
       "    </tr>\n",
       "  </tbody>\n",
       "</table>\n",
       "</div>"
      ],
      "text/plain": [
       "     DLI  POST  PRE\n",
       "EL   218   143   27\n",
       "KC   294  1880   81\n",
       "LB   254  3983   22\n",
       "MS   868   447   66\n",
       "AH  1329    51  771\n",
       "AM    61   NaN    9\n",
       "GD   NaN    12   58\n",
       "JS   282     9   15"
      ]
     },
     "execution_count": 263,
     "metadata": {},
     "output_type": "execute_result"
    }
   ],
   "source": [
    "sample_df = pd.DataFrame(index = patients, columns = np.unique(tcr['time']))\n",
    "\n",
    "for patient in patients: \n",
    "    \n",
    "    df = tcr[tcr['patient']==patient]\n",
    "    a,c = np.unique(df['time'], return_counts = True)\n",
    "    \n",
    "    for i,t in enumerate(a):\n",
    "        sample_df.loc[patient, t] = c[i]\n",
    "        \n",
    "sample_df\n"
   ]
  },
  {
   "cell_type": "code",
   "execution_count": 269,
   "metadata": {},
   "outputs": [
    {
     "data": {
      "text/html": [
       "<div>\n",
       "<style scoped>\n",
       "    .dataframe tbody tr th:only-of-type {\n",
       "        vertical-align: middle;\n",
       "    }\n",
       "\n",
       "    .dataframe tbody tr th {\n",
       "        vertical-align: top;\n",
       "    }\n",
       "\n",
       "    .dataframe thead th {\n",
       "        text-align: right;\n",
       "    }\n",
       "</style>\n",
       "<table border=\"1\" class=\"dataframe\">\n",
       "  <thead>\n",
       "    <tr style=\"text-align: right;\">\n",
       "      <th></th>\n",
       "      <th>DLI</th>\n",
       "      <th>POST</th>\n",
       "      <th>PRE</th>\n",
       "    </tr>\n",
       "  </thead>\n",
       "  <tbody>\n",
       "    <tr>\n",
       "      <th>AH</th>\n",
       "      <td>1329</td>\n",
       "      <td>NaN</td>\n",
       "      <td>NaN</td>\n",
       "    </tr>\n",
       "    <tr>\n",
       "      <th>AH1</th>\n",
       "      <td>NaN</td>\n",
       "      <td>NaN</td>\n",
       "      <td>71</td>\n",
       "    </tr>\n",
       "    <tr>\n",
       "      <th>AH2</th>\n",
       "      <td>NaN</td>\n",
       "      <td>NaN</td>\n",
       "      <td>699</td>\n",
       "    </tr>\n",
       "    <tr>\n",
       "      <th>AH2_</th>\n",
       "      <td>NaN</td>\n",
       "      <td>NaN</td>\n",
       "      <td>1</td>\n",
       "    </tr>\n",
       "    <tr>\n",
       "      <th>AH3</th>\n",
       "      <td>NaN</td>\n",
       "      <td>51</td>\n",
       "      <td>NaN</td>\n",
       "    </tr>\n",
       "    <tr>\n",
       "      <th>AM</th>\n",
       "      <td>61</td>\n",
       "      <td>NaN</td>\n",
       "      <td>NaN</td>\n",
       "    </tr>\n",
       "    <tr>\n",
       "      <th>AM2</th>\n",
       "      <td>NaN</td>\n",
       "      <td>NaN</td>\n",
       "      <td>9</td>\n",
       "    </tr>\n",
       "    <tr>\n",
       "      <th>EL</th>\n",
       "      <td>217</td>\n",
       "      <td>NaN</td>\n",
       "      <td>NaN</td>\n",
       "    </tr>\n",
       "    <tr>\n",
       "      <th>EL1</th>\n",
       "      <td>NaN</td>\n",
       "      <td>NaN</td>\n",
       "      <td>7</td>\n",
       "    </tr>\n",
       "    <tr>\n",
       "      <th>EL2</th>\n",
       "      <td>NaN</td>\n",
       "      <td>115</td>\n",
       "      <td>NaN</td>\n",
       "    </tr>\n",
       "    <tr>\n",
       "      <th>EL3</th>\n",
       "      <td>NaN</td>\n",
       "      <td>NaN</td>\n",
       "      <td>20</td>\n",
       "    </tr>\n",
       "    <tr>\n",
       "      <th>EL4</th>\n",
       "      <td>NaN</td>\n",
       "      <td>28</td>\n",
       "      <td>NaN</td>\n",
       "    </tr>\n",
       "    <tr>\n",
       "      <th>GD1</th>\n",
       "      <td>NaN</td>\n",
       "      <td>NaN</td>\n",
       "      <td>57</td>\n",
       "    </tr>\n",
       "    <tr>\n",
       "      <th>GD2</th>\n",
       "      <td>NaN</td>\n",
       "      <td>12</td>\n",
       "      <td>NaN</td>\n",
       "    </tr>\n",
       "    <tr>\n",
       "      <th>GD3</th>\n",
       "      <td>NaN</td>\n",
       "      <td>NaN</td>\n",
       "      <td>1</td>\n",
       "    </tr>\n",
       "    <tr>\n",
       "      <th>JS</th>\n",
       "      <td>282</td>\n",
       "      <td>NaN</td>\n",
       "      <td>NaN</td>\n",
       "    </tr>\n",
       "    <tr>\n",
       "      <th>JS1</th>\n",
       "      <td>NaN</td>\n",
       "      <td>NaN</td>\n",
       "      <td>15</td>\n",
       "    </tr>\n",
       "    <tr>\n",
       "      <th>JS2</th>\n",
       "      <td>NaN</td>\n",
       "      <td>9</td>\n",
       "      <td>NaN</td>\n",
       "    </tr>\n",
       "    <tr>\n",
       "      <th>KC</th>\n",
       "      <td>294</td>\n",
       "      <td>NaN</td>\n",
       "      <td>NaN</td>\n",
       "    </tr>\n",
       "    <tr>\n",
       "      <th>KC1</th>\n",
       "      <td>NaN</td>\n",
       "      <td>NaN</td>\n",
       "      <td>49</td>\n",
       "    </tr>\n",
       "    <tr>\n",
       "      <th>KC2</th>\n",
       "      <td>NaN</td>\n",
       "      <td>NaN</td>\n",
       "      <td>32</td>\n",
       "    </tr>\n",
       "    <tr>\n",
       "      <th>KC3</th>\n",
       "      <td>NaN</td>\n",
       "      <td>683</td>\n",
       "      <td>NaN</td>\n",
       "    </tr>\n",
       "    <tr>\n",
       "      <th>KC4</th>\n",
       "      <td>NaN</td>\n",
       "      <td>1197</td>\n",
       "      <td>NaN</td>\n",
       "    </tr>\n",
       "    <tr>\n",
       "      <th>LB</th>\n",
       "      <td>253</td>\n",
       "      <td>NaN</td>\n",
       "      <td>NaN</td>\n",
       "    </tr>\n",
       "    <tr>\n",
       "      <th>LB1</th>\n",
       "      <td>NaN</td>\n",
       "      <td>2330</td>\n",
       "      <td>NaN</td>\n",
       "    </tr>\n",
       "    <tr>\n",
       "      <th>LB1_</th>\n",
       "      <td>1</td>\n",
       "      <td>NaN</td>\n",
       "      <td>2</td>\n",
       "    </tr>\n",
       "    <tr>\n",
       "      <th>LB2</th>\n",
       "      <td>NaN</td>\n",
       "      <td>563</td>\n",
       "      <td>NaN</td>\n",
       "    </tr>\n",
       "    <tr>\n",
       "      <th>LB3_</th>\n",
       "      <td>1</td>\n",
       "      <td>NaN</td>\n",
       "      <td>20</td>\n",
       "    </tr>\n",
       "    <tr>\n",
       "      <th>LB4</th>\n",
       "      <td>NaN</td>\n",
       "      <td>870</td>\n",
       "      <td>NaN</td>\n",
       "    </tr>\n",
       "    <tr>\n",
       "      <th>LB4_</th>\n",
       "      <td>NaN</td>\n",
       "      <td>1</td>\n",
       "      <td>NaN</td>\n",
       "    </tr>\n",
       "    <tr>\n",
       "      <th>LB6</th>\n",
       "      <td>NaN</td>\n",
       "      <td>217</td>\n",
       "      <td>NaN</td>\n",
       "    </tr>\n",
       "    <tr>\n",
       "      <th>LB6_</th>\n",
       "      <td>1</td>\n",
       "      <td>2</td>\n",
       "      <td>NaN</td>\n",
       "    </tr>\n",
       "    <tr>\n",
       "      <th>MS</th>\n",
       "      <td>867</td>\n",
       "      <td>NaN</td>\n",
       "      <td>NaN</td>\n",
       "    </tr>\n",
       "    <tr>\n",
       "      <th>MS1</th>\n",
       "      <td>NaN</td>\n",
       "      <td>199</td>\n",
       "      <td>NaN</td>\n",
       "    </tr>\n",
       "    <tr>\n",
       "      <th>MS2</th>\n",
       "      <td>NaN</td>\n",
       "      <td>NaN</td>\n",
       "      <td>48</td>\n",
       "    </tr>\n",
       "    <tr>\n",
       "      <th>MS3</th>\n",
       "      <td>NaN</td>\n",
       "      <td>247</td>\n",
       "      <td>NaN</td>\n",
       "    </tr>\n",
       "    <tr>\n",
       "      <th>MS3_</th>\n",
       "      <td>NaN</td>\n",
       "      <td>1</td>\n",
       "      <td>NaN</td>\n",
       "    </tr>\n",
       "    <tr>\n",
       "      <th>MS4</th>\n",
       "      <td>NaN</td>\n",
       "      <td>NaN</td>\n",
       "      <td>18</td>\n",
       "    </tr>\n",
       "  </tbody>\n",
       "</table>\n",
       "</div>"
      ],
      "text/plain": [
       "       DLI  POST  PRE\n",
       "AH    1329   NaN  NaN\n",
       "AH1    NaN   NaN   71\n",
       "AH2    NaN   NaN  699\n",
       "AH2_   NaN   NaN    1\n",
       "AH3    NaN    51  NaN\n",
       "AM      61   NaN  NaN\n",
       "AM2    NaN   NaN    9\n",
       "EL     217   NaN  NaN\n",
       "EL1    NaN   NaN    7\n",
       "EL2    NaN   115  NaN\n",
       "EL3    NaN   NaN   20\n",
       "EL4    NaN    28  NaN\n",
       "GD1    NaN   NaN   57\n",
       "GD2    NaN    12  NaN\n",
       "GD3    NaN   NaN    1\n",
       "JS     282   NaN  NaN\n",
       "JS1    NaN   NaN   15\n",
       "JS2    NaN     9  NaN\n",
       "KC     294   NaN  NaN\n",
       "KC1    NaN   NaN   49\n",
       "KC2    NaN   NaN   32\n",
       "KC3    NaN   683  NaN\n",
       "KC4    NaN  1197  NaN\n",
       "LB     253   NaN  NaN\n",
       "LB1    NaN  2330  NaN\n",
       "LB1_     1   NaN    2\n",
       "LB2    NaN   563  NaN\n",
       "LB3_     1   NaN   20\n",
       "LB4    NaN   870  NaN\n",
       "LB4_   NaN     1  NaN\n",
       "LB6    NaN   217  NaN\n",
       "LB6_     1     2  NaN\n",
       "MS     867   NaN  NaN\n",
       "MS1    NaN   199  NaN\n",
       "MS2    NaN   NaN   48\n",
       "MS3    NaN   247  NaN\n",
       "MS3_   NaN     1  NaN\n",
       "MS4    NaN   NaN   18"
      ]
     },
     "execution_count": 269,
     "metadata": {},
     "output_type": "execute_result"
    }
   ],
   "source": [
    "sample_arr = np.unique(tcr['sample'])\n",
    "sample_df = pd.DataFrame(index = sample_arr, columns = np.unique(tcr['time']))\n",
    "\n",
    "for sample in sample_arr: \n",
    "    sample = sample\n",
    "    df = tcr[tcr['sample']==sample]\n",
    "    a,c = np.unique(df['time'], return_counts = True)\n",
    "    \n",
    "    for i,t in enumerate(a):\n",
    "        sample_df.loc[sample, t] = c[i]\n",
    "        \n",
    "sample_df\n"
   ]
  },
  {
   "cell_type": "code",
   "execution_count": 154,
   "metadata": {},
   "outputs": [
    {
     "data": {
      "text/html": [
       "<div>\n",
       "<style scoped>\n",
       "    .dataframe tbody tr th:only-of-type {\n",
       "        vertical-align: middle;\n",
       "    }\n",
       "\n",
       "    .dataframe tbody tr th {\n",
       "        vertical-align: top;\n",
       "    }\n",
       "\n",
       "    .dataframe thead th {\n",
       "        text-align: right;\n",
       "    }\n",
       "</style>\n",
       "<table border=\"1\" class=\"dataframe\">\n",
       "  <thead>\n",
       "    <tr style=\"text-align: right;\">\n",
       "      <th></th>\n",
       "      <th>num_unique_patients</th>\n",
       "      <th>Log10CloneSize</th>\n",
       "      <th>PRE</th>\n",
       "      <th>POST</th>\n",
       "      <th>DLI</th>\n",
       "    </tr>\n",
       "  </thead>\n",
       "  <tbody>\n",
       "    <tr>\n",
       "      <th>CAIRDAGGPWETQYF</th>\n",
       "      <td>2</td>\n",
       "      <td>0.954243</td>\n",
       "      <td>1</td>\n",
       "      <td>7</td>\n",
       "      <td>1</td>\n",
       "    </tr>\n",
       "    <tr>\n",
       "      <th>CAIREPEQSSYNEQFF</th>\n",
       "      <td>2</td>\n",
       "      <td>0.477121</td>\n",
       "      <td>1</td>\n",
       "      <td>2</td>\n",
       "      <td>0</td>\n",
       "    </tr>\n",
       "    <tr>\n",
       "      <th>CASRAWDNTEAFF</th>\n",
       "      <td>2</td>\n",
       "      <td>0.301030</td>\n",
       "      <td>1</td>\n",
       "      <td>1</td>\n",
       "      <td>0</td>\n",
       "    </tr>\n",
       "    <tr>\n",
       "      <th>CASRQSGDTQYF</th>\n",
       "      <td>2</td>\n",
       "      <td>0.477121</td>\n",
       "      <td>1</td>\n",
       "      <td>1</td>\n",
       "      <td>1</td>\n",
       "    </tr>\n",
       "    <tr>\n",
       "      <th>CASSFGYRETQYF</th>\n",
       "      <td>2</td>\n",
       "      <td>1.146128</td>\n",
       "      <td>1</td>\n",
       "      <td>13</td>\n",
       "      <td>0</td>\n",
       "    </tr>\n",
       "    <tr>\n",
       "      <th>CASSLEARSNQPQHF</th>\n",
       "      <td>2</td>\n",
       "      <td>1.380211</td>\n",
       "      <td>1</td>\n",
       "      <td>23</td>\n",
       "      <td>0</td>\n",
       "    </tr>\n",
       "    <tr>\n",
       "      <th>CASSLGGANTGELFF</th>\n",
       "      <td>2</td>\n",
       "      <td>0.301030</td>\n",
       "      <td>1</td>\n",
       "      <td>0</td>\n",
       "      <td>1</td>\n",
       "    </tr>\n",
       "    <tr>\n",
       "      <th>CASSLGPYGYTF</th>\n",
       "      <td>2</td>\n",
       "      <td>0.301030</td>\n",
       "      <td>1</td>\n",
       "      <td>0</td>\n",
       "      <td>1</td>\n",
       "    </tr>\n",
       "    <tr>\n",
       "      <th>CASSLGRNTEAFF</th>\n",
       "      <td>2</td>\n",
       "      <td>0.602060</td>\n",
       "      <td>1</td>\n",
       "      <td>1</td>\n",
       "      <td>2</td>\n",
       "    </tr>\n",
       "    <tr>\n",
       "      <th>CASSLGSMNTEAFF</th>\n",
       "      <td>2</td>\n",
       "      <td>0.477121</td>\n",
       "      <td>1</td>\n",
       "      <td>1</td>\n",
       "      <td>1</td>\n",
       "    </tr>\n",
       "    <tr>\n",
       "      <th>CASSLRTGVNEQFF</th>\n",
       "      <td>2</td>\n",
       "      <td>2.158362</td>\n",
       "      <td>1</td>\n",
       "      <td>143</td>\n",
       "      <td>0</td>\n",
       "    </tr>\n",
       "    <tr>\n",
       "      <th>CASSLSEISYEQYF</th>\n",
       "      <td>2</td>\n",
       "      <td>1.724276</td>\n",
       "      <td>1</td>\n",
       "      <td>45</td>\n",
       "      <td>7</td>\n",
       "    </tr>\n",
       "    <tr>\n",
       "      <th>CASSLVGGGGVTEAFF</th>\n",
       "      <td>2</td>\n",
       "      <td>2.155336</td>\n",
       "      <td>1</td>\n",
       "      <td>142</td>\n",
       "      <td>0</td>\n",
       "    </tr>\n",
       "    <tr>\n",
       "      <th>CASSPGLGQETQYF</th>\n",
       "      <td>2</td>\n",
       "      <td>1.079181</td>\n",
       "      <td>1</td>\n",
       "      <td>10</td>\n",
       "      <td>1</td>\n",
       "    </tr>\n",
       "    <tr>\n",
       "      <th>CASSQDAGRGLQDTQYF</th>\n",
       "      <td>2</td>\n",
       "      <td>1.982271</td>\n",
       "      <td>1</td>\n",
       "      <td>95</td>\n",
       "      <td>0</td>\n",
       "    </tr>\n",
       "    <tr>\n",
       "      <th>CASSQGPNYEQYF</th>\n",
       "      <td>2</td>\n",
       "      <td>0.301030</td>\n",
       "      <td>1</td>\n",
       "      <td>1</td>\n",
       "      <td>0</td>\n",
       "    </tr>\n",
       "    <tr>\n",
       "      <th>CASSSTYEQYF</th>\n",
       "      <td>2</td>\n",
       "      <td>0.301030</td>\n",
       "      <td>1</td>\n",
       "      <td>0</td>\n",
       "      <td>1</td>\n",
       "    </tr>\n",
       "    <tr>\n",
       "      <th>CASSTAGELFF</th>\n",
       "      <td>2</td>\n",
       "      <td>0.301030</td>\n",
       "      <td>1</td>\n",
       "      <td>1</td>\n",
       "      <td>0</td>\n",
       "    </tr>\n",
       "    <tr>\n",
       "      <th>CASSVSTDTQYF</th>\n",
       "      <td>3</td>\n",
       "      <td>0.477121</td>\n",
       "      <td>1</td>\n",
       "      <td>1</td>\n",
       "      <td>1</td>\n",
       "    </tr>\n",
       "    <tr>\n",
       "      <th>CASSYSDTRGEQFF</th>\n",
       "      <td>2</td>\n",
       "      <td>0.477121</td>\n",
       "      <td>1</td>\n",
       "      <td>2</td>\n",
       "      <td>0</td>\n",
       "    </tr>\n",
       "    <tr>\n",
       "      <th>CATSDLGQGSYNEQFF</th>\n",
       "      <td>2</td>\n",
       "      <td>2.123852</td>\n",
       "      <td>1</td>\n",
       "      <td>132</td>\n",
       "      <td>0</td>\n",
       "    </tr>\n",
       "    <tr>\n",
       "      <th>CSVEGGTHYEQYF</th>\n",
       "      <td>2</td>\n",
       "      <td>2.773786</td>\n",
       "      <td>12</td>\n",
       "      <td>581</td>\n",
       "      <td>0</td>\n",
       "    </tr>\n",
       "    <tr>\n",
       "      <th>CSVTGSGGPLDEQFF</th>\n",
       "      <td>3</td>\n",
       "      <td>1.908485</td>\n",
       "      <td>1</td>\n",
       "      <td>58</td>\n",
       "      <td>21</td>\n",
       "    </tr>\n",
       "    <tr>\n",
       "      <th>CSVVRTSGNEQFF</th>\n",
       "      <td>2</td>\n",
       "      <td>1.278754</td>\n",
       "      <td>1</td>\n",
       "      <td>18</td>\n",
       "      <td>0</td>\n",
       "    </tr>\n",
       "  </tbody>\n",
       "</table>\n",
       "</div>"
      ],
      "text/plain": [
       "                   num_unique_patients  Log10CloneSize  PRE  POST  DLI\n",
       "CAIRDAGGPWETQYF                      2        0.954243    1     7    1\n",
       "CAIREPEQSSYNEQFF                     2        0.477121    1     2    0\n",
       "CASRAWDNTEAFF                        2        0.301030    1     1    0\n",
       "CASRQSGDTQYF                         2        0.477121    1     1    1\n",
       "CASSFGYRETQYF                        2        1.146128    1    13    0\n",
       "CASSLEARSNQPQHF                      2        1.380211    1    23    0\n",
       "CASSLGGANTGELFF                      2        0.301030    1     0    1\n",
       "CASSLGPYGYTF                         2        0.301030    1     0    1\n",
       "CASSLGRNTEAFF                        2        0.602060    1     1    2\n",
       "CASSLGSMNTEAFF                       2        0.477121    1     1    1\n",
       "CASSLRTGVNEQFF                       2        2.158362    1   143    0\n",
       "CASSLSEISYEQYF                       2        1.724276    1    45    7\n",
       "CASSLVGGGGVTEAFF                     2        2.155336    1   142    0\n",
       "CASSPGLGQETQYF                       2        1.079181    1    10    1\n",
       "CASSQDAGRGLQDTQYF                    2        1.982271    1    95    0\n",
       "CASSQGPNYEQYF                        2        0.301030    1     1    0\n",
       "CASSSTYEQYF                          2        0.301030    1     0    1\n",
       "CASSTAGELFF                          2        0.301030    1     1    0\n",
       "CASSVSTDTQYF                         3        0.477121    1     1    1\n",
       "CASSYSDTRGEQFF                       2        0.477121    1     2    0\n",
       "CATSDLGQGSYNEQFF                     2        2.123852    1   132    0\n",
       "CSVEGGTHYEQYF                        2        2.773786   12   581    0\n",
       "CSVTGSGGPLDEQFF                      3        1.908485    1    58   21\n",
       "CSVVRTSGNEQFF                        2        1.278754    1    18    0"
      ]
     },
     "execution_count": 154,
     "metadata": {},
     "output_type": "execute_result"
    }
   ],
   "source": [
    "lb = tcr[tcr['patient']=='LB']\n",
    "# np.unique(lb['time'],return_counts = True)\n",
    "lb_clone = clone_df.loc[np.unique(lb['cdr3'])]\n",
    "lb_clone[lb_clone['PRE']>0]"
   ]
  },
  {
   "cell_type": "code",
   "execution_count": 165,
   "metadata": {},
   "outputs": [
    {
     "data": {
      "text/html": [
       "<div>\n",
       "<style scoped>\n",
       "    .dataframe tbody tr th:only-of-type {\n",
       "        vertical-align: middle;\n",
       "    }\n",
       "\n",
       "    .dataframe tbody tr th {\n",
       "        vertical-align: top;\n",
       "    }\n",
       "\n",
       "    .dataframe thead th {\n",
       "        text-align: right;\n",
       "    }\n",
       "</style>\n",
       "<table border=\"1\" class=\"dataframe\">\n",
       "  <thead>\n",
       "    <tr style=\"text-align: right;\">\n",
       "      <th></th>\n",
       "      <th>num_unique_patients</th>\n",
       "      <th>Log10CloneSize</th>\n",
       "      <th>PRE</th>\n",
       "      <th>POST</th>\n",
       "      <th>DLI</th>\n",
       "    </tr>\n",
       "  </thead>\n",
       "  <tbody>\n",
       "    <tr>\n",
       "      <th>CAAVESWDRNTEAFF</th>\n",
       "      <td>1</td>\n",
       "      <td>0.698970</td>\n",
       "      <td>2</td>\n",
       "      <td>0</td>\n",
       "      <td>3</td>\n",
       "    </tr>\n",
       "    <tr>\n",
       "      <th>CACGQAYGYTF</th>\n",
       "      <td>1</td>\n",
       "      <td>0.778151</td>\n",
       "      <td>1</td>\n",
       "      <td>0</td>\n",
       "      <td>5</td>\n",
       "    </tr>\n",
       "    <tr>\n",
       "      <th>CACRDPGSSYNSPLHF</th>\n",
       "      <td>1</td>\n",
       "      <td>0.301030</td>\n",
       "      <td>0</td>\n",
       "      <td>0</td>\n",
       "      <td>2</td>\n",
       "    </tr>\n",
       "    <tr>\n",
       "      <th>CAGGGAEGRAGELFF</th>\n",
       "      <td>1</td>\n",
       "      <td>0.301030</td>\n",
       "      <td>2</td>\n",
       "      <td>0</td>\n",
       "      <td>0</td>\n",
       "    </tr>\n",
       "    <tr>\n",
       "      <th>CAGNRDSTFSGANVLTF</th>\n",
       "      <td>1</td>\n",
       "      <td>0.301030</td>\n",
       "      <td>1</td>\n",
       "      <td>0</td>\n",
       "      <td>1</td>\n",
       "    </tr>\n",
       "    <tr>\n",
       "      <th>...</th>\n",
       "      <td>...</td>\n",
       "      <td>...</td>\n",
       "      <td>...</td>\n",
       "      <td>...</td>\n",
       "      <td>...</td>\n",
       "    </tr>\n",
       "    <tr>\n",
       "      <th>CSVVDQRSGANVLTF</th>\n",
       "      <td>1</td>\n",
       "      <td>0.954243</td>\n",
       "      <td>0</td>\n",
       "      <td>9</td>\n",
       "      <td>0</td>\n",
       "    </tr>\n",
       "    <tr>\n",
       "      <th>CSVVDRGRFGEQYF</th>\n",
       "      <td>1</td>\n",
       "      <td>0.301030</td>\n",
       "      <td>0</td>\n",
       "      <td>0</td>\n",
       "      <td>2</td>\n",
       "    </tr>\n",
       "    <tr>\n",
       "      <th>CSVVGTGKTYEQYF</th>\n",
       "      <td>1</td>\n",
       "      <td>0.301030</td>\n",
       "      <td>0</td>\n",
       "      <td>2</td>\n",
       "      <td>0</td>\n",
       "    </tr>\n",
       "    <tr>\n",
       "      <th>CSVVRTSGNEQFF</th>\n",
       "      <td>2</td>\n",
       "      <td>1.278754</td>\n",
       "      <td>1</td>\n",
       "      <td>18</td>\n",
       "      <td>0</td>\n",
       "    </tr>\n",
       "    <tr>\n",
       "      <th>CSVYGEGKLSSYEQYF</th>\n",
       "      <td>1</td>\n",
       "      <td>0.301030</td>\n",
       "      <td>0</td>\n",
       "      <td>1</td>\n",
       "      <td>1</td>\n",
       "    </tr>\n",
       "  </tbody>\n",
       "</table>\n",
       "<p>1149 rows × 5 columns</p>\n",
       "</div>"
      ],
      "text/plain": [
       "                   num_unique_patients  Log10CloneSize  PRE  POST  DLI\n",
       "CAAVESWDRNTEAFF                      1        0.698970    2     0    3\n",
       "CACGQAYGYTF                          1        0.778151    1     0    5\n",
       "CACRDPGSSYNSPLHF                     1        0.301030    0     0    2\n",
       "CAGGGAEGRAGELFF                      1        0.301030    2     0    0\n",
       "CAGNRDSTFSGANVLTF                    1        0.301030    1     0    1\n",
       "...                                ...             ...  ...   ...  ...\n",
       "CSVVDQRSGANVLTF                      1        0.954243    0     9    0\n",
       "CSVVDRGRFGEQYF                       1        0.301030    0     0    2\n",
       "CSVVGTGKTYEQYF                       1        0.301030    0     2    0\n",
       "CSVVRTSGNEQFF                        2        1.278754    1    18    0\n",
       "CSVYGEGKLSSYEQYF                     1        0.301030    0     1    1\n",
       "\n",
       "[1149 rows x 5 columns]"
      ]
     },
     "execution_count": 165,
     "metadata": {},
     "output_type": "execute_result"
    }
   ],
   "source": [
    "clone_df"
   ]
  },
  {
   "cell_type": "code",
   "execution_count": 198,
   "metadata": {},
   "outputs": [],
   "source": []
  },
  {
   "cell_type": "code",
   "execution_count": 208,
   "metadata": {},
   "outputs": [],
   "source": []
  },
  {
   "cell_type": "code",
   "execution_count": 229,
   "metadata": {},
   "outputs": [
    {
     "data": {
      "text/plain": [
       "'A'"
      ]
     },
     "execution_count": 229,
     "metadata": {},
     "output_type": "execute_result"
    }
   ],
   "source": [
    "a,c = np.unique(df['patient'])\n",
    "a[0]"
   ]
  },
  {
   "cell_type": "code",
   "execution_count": 238,
   "metadata": {},
   "outputs": [],
   "source": [
    "\n",
    "        \n",
    "        \n",
    "        \n",
    "        \n",
    "    \n",
    "    \n",
    "    \n",
    "    "
   ]
  },
  {
   "cell_type": "code",
   "execution_count": 236,
   "metadata": {},
   "outputs": [
    {
     "data": {
      "text/plain": [
       "'AM1'"
      ]
     },
     "execution_count": 236,
     "metadata": {},
     "output_type": "execute_result"
    }
   ],
   "source": [
    "tcr.loc[index,'sample']"
   ]
  },
  {
   "cell_type": "code",
   "execution_count": 219,
   "metadata": {},
   "outputs": [
    {
     "name": "stdout",
     "output_type": "stream",
     "text": [
      "yes\n"
     ]
    }
   ],
   "source": [
    "for k in ['LB1_', 'EL1_','GD1_','JS1_']:\n",
    "    if 'LB' in k: \n",
    "        print('yes')"
   ]
  },
  {
   "cell_type": "code",
   "execution_count": 221,
   "metadata": {},
   "outputs": [
    {
     "data": {
      "text/plain": [
       "'LB'"
      ]
     },
     "execution_count": 221,
     "metadata": {},
     "output_type": "execute_result"
    }
   ],
   "source": [
    "df = tcr[tcr['cdr3']==reassign[0]]\n",
    "a,c = np.unique(df['patient'],return_counts = True)\n",
    "max(c/len(df))\n",
    "a[c == max(c)][0]"
   ]
  },
  {
   "cell_type": "code",
   "execution_count": 203,
   "metadata": {},
   "outputs": [
    {
     "data": {
      "image/png": "[encoded data removed]",
      "text/plain": [
       "<Figure size 432x288 with 1 Axes>"
      ]
     },
     "metadata": {
      "needs_background": "light"
     },
     "output_type": "display_data"
    }
   ],
   "source": [
    "plt.figure()\n",
    "plt.hist(dup_df['majority_ratio'], bins = 20)\n",
    "plt.show()"
   ]
  },
  {
   "cell_type": "code",
   "execution_count": 179,
   "metadata": {},
   "outputs": [
    {
     "data": {
      "text/plain": [
       "0.425"
      ]
     },
     "execution_count": 179,
     "metadata": {},
     "output_type": "execute_result"
    }
   ],
   "source": []
  },
  {
   "cell_type": "code",
   "execution_count": 161,
   "metadata": {},
   "outputs": [],
   "source": [
    "test = tcr[tcr['cdr3']=='CSVEGGTHYEQYF']\n",
    "lb = test[test['patient']=='LB']\n",
    "am = test[test['patient']=='AM']"
   ]
  },
  {
   "cell_type": "code",
   "execution_count": 162,
   "metadata": {},
   "outputs": [
    {
     "data": {
      "text/plain": [
       "(array(['AM1', 'LB1', 'LB2', 'LB4', 'LB6'], dtype=object),\n",
       " array([ 12, 309,  87, 155,  30]))"
      ]
     },
     "execution_count": 162,
     "metadata": {},
     "output_type": "execute_result"
    }
   ],
   "source": [
    "np.unique(test['sample'], return_counts = True)"
   ]
  },
  {
   "cell_type": "code",
   "execution_count": 163,
   "metadata": {},
   "outputs": [
    {
     "data": {
      "text/html": [
       "<div>\n",
       "<style scoped>\n",
       "    .dataframe tbody tr th:only-of-type {\n",
       "        vertical-align: middle;\n",
       "    }\n",
       "\n",
       "    .dataframe tbody tr th {\n",
       "        vertical-align: top;\n",
       "    }\n",
       "\n",
       "    .dataframe thead th {\n",
       "        text-align: right;\n",
       "    }\n",
       "</style>\n",
       "<table border=\"1\" class=\"dataframe\">\n",
       "  <thead>\n",
       "    <tr style=\"text-align: right;\">\n",
       "      <th></th>\n",
       "      <th>sample</th>\n",
       "      <th>time</th>\n",
       "      <th>response</th>\n",
       "      <th>cluster_number</th>\n",
       "      <th>cdr3</th>\n",
       "      <th>patient</th>\n",
       "      <th>T-subtype</th>\n",
       "      <th>batch</th>\n",
       "      <th>Log10CloneSize</th>\n",
       "    </tr>\n",
       "    <tr>\n",
       "      <th>barcode</th>\n",
       "      <th></th>\n",
       "      <th></th>\n",
       "      <th></th>\n",
       "      <th></th>\n",
       "      <th></th>\n",
       "      <th></th>\n",
       "      <th></th>\n",
       "      <th></th>\n",
       "      <th></th>\n",
       "    </tr>\n",
       "  </thead>\n",
       "  <tbody>\n",
       "    <tr>\n",
       "      <th>AACCATGCAAAGGAAG-1-2</th>\n",
       "      <td>AM1</td>\n",
       "      <td>PRE</td>\n",
       "      <td>NONRESPONDER</td>\n",
       "      <td>25</td>\n",
       "      <td>CSVEGGTHYEQYF</td>\n",
       "      <td>AM</td>\n",
       "      <td>TEM/TRM_2</td>\n",
       "      <td>2</td>\n",
       "      <td>2.773786</td>\n",
       "    </tr>\n",
       "    <tr>\n",
       "      <th>AACGTTGAGCGATCCC-1-2</th>\n",
       "      <td>AM1</td>\n",
       "      <td>PRE</td>\n",
       "      <td>NONRESPONDER</td>\n",
       "      <td>0</td>\n",
       "      <td>CSVEGGTHYEQYF</td>\n",
       "      <td>AM</td>\n",
       "      <td>TEMRA</td>\n",
       "      <td>2</td>\n",
       "      <td>2.773786</td>\n",
       "    </tr>\n",
       "    <tr>\n",
       "      <th>ACAGCCGGTCAGCTAT-1-2</th>\n",
       "      <td>AM1</td>\n",
       "      <td>PRE</td>\n",
       "      <td>NONRESPONDER</td>\n",
       "      <td>0</td>\n",
       "      <td>CSVEGGTHYEQYF</td>\n",
       "      <td>AM</td>\n",
       "      <td>TEMRA</td>\n",
       "      <td>2</td>\n",
       "      <td>2.773786</td>\n",
       "    </tr>\n",
       "    <tr>\n",
       "      <th>ATAGACCCATATACCG-1-2</th>\n",
       "      <td>AM1</td>\n",
       "      <td>PRE</td>\n",
       "      <td>NONRESPONDER</td>\n",
       "      <td>0</td>\n",
       "      <td>CSVEGGTHYEQYF</td>\n",
       "      <td>AM</td>\n",
       "      <td>TEMRA</td>\n",
       "      <td>2</td>\n",
       "      <td>2.773786</td>\n",
       "    </tr>\n",
       "    <tr>\n",
       "      <th>CACATAGGTACCGTTA-1-2</th>\n",
       "      <td>AM1</td>\n",
       "      <td>PRE</td>\n",
       "      <td>NONRESPONDER</td>\n",
       "      <td>25</td>\n",
       "      <td>CSVEGGTHYEQYF</td>\n",
       "      <td>AM</td>\n",
       "      <td>TEM/TRM_2</td>\n",
       "      <td>2</td>\n",
       "      <td>2.773786</td>\n",
       "    </tr>\n",
       "    <tr>\n",
       "      <th>CGCTATCAGATCACGG-1-2</th>\n",
       "      <td>AM1</td>\n",
       "      <td>PRE</td>\n",
       "      <td>NONRESPONDER</td>\n",
       "      <td>0</td>\n",
       "      <td>CSVEGGTHYEQYF</td>\n",
       "      <td>AM</td>\n",
       "      <td>TEMRA</td>\n",
       "      <td>2</td>\n",
       "      <td>2.773786</td>\n",
       "    </tr>\n",
       "    <tr>\n",
       "      <th>CTGAAACAGGGTTCCC-1-2</th>\n",
       "      <td>AM1</td>\n",
       "      <td>PRE</td>\n",
       "      <td>NONRESPONDER</td>\n",
       "      <td>5</td>\n",
       "      <td>CSVEGGTHYEQYF</td>\n",
       "      <td>AM</td>\n",
       "      <td>TEM/TRM_1</td>\n",
       "      <td>2</td>\n",
       "      <td>2.773786</td>\n",
       "    </tr>\n",
       "    <tr>\n",
       "      <th>GACTACACACAGCGTC-1-2</th>\n",
       "      <td>AM1</td>\n",
       "      <td>PRE</td>\n",
       "      <td>NONRESPONDER</td>\n",
       "      <td>0</td>\n",
       "      <td>CSVEGGTHYEQYF</td>\n",
       "      <td>AM</td>\n",
       "      <td>TEMRA</td>\n",
       "      <td>2</td>\n",
       "      <td>2.773786</td>\n",
       "    </tr>\n",
       "    <tr>\n",
       "      <th>GCGAGAATCCAAATGC-1-2</th>\n",
       "      <td>AM1</td>\n",
       "      <td>PRE</td>\n",
       "      <td>NONRESPONDER</td>\n",
       "      <td>25</td>\n",
       "      <td>CSVEGGTHYEQYF</td>\n",
       "      <td>AM</td>\n",
       "      <td>TEM/TRM_2</td>\n",
       "      <td>2</td>\n",
       "      <td>2.773786</td>\n",
       "    </tr>\n",
       "    <tr>\n",
       "      <th>GCGCCAAAGCCAGGAT-1-2</th>\n",
       "      <td>AM1</td>\n",
       "      <td>PRE</td>\n",
       "      <td>NONRESPONDER</td>\n",
       "      <td>5</td>\n",
       "      <td>CSVEGGTHYEQYF</td>\n",
       "      <td>AM</td>\n",
       "      <td>TEM/TRM_1</td>\n",
       "      <td>2</td>\n",
       "      <td>2.773786</td>\n",
       "    </tr>\n",
       "    <tr>\n",
       "      <th>GGTGTTAGTAACGTTC-1-2</th>\n",
       "      <td>AM1</td>\n",
       "      <td>PRE</td>\n",
       "      <td>NONRESPONDER</td>\n",
       "      <td>0</td>\n",
       "      <td>CSVEGGTHYEQYF</td>\n",
       "      <td>AM</td>\n",
       "      <td>TEMRA</td>\n",
       "      <td>2</td>\n",
       "      <td>2.773786</td>\n",
       "    </tr>\n",
       "    <tr>\n",
       "      <th>GTAACTGAGTGCTGCC-1-2</th>\n",
       "      <td>AM1</td>\n",
       "      <td>PRE</td>\n",
       "      <td>NONRESPONDER</td>\n",
       "      <td>25</td>\n",
       "      <td>CSVEGGTHYEQYF</td>\n",
       "      <td>AM</td>\n",
       "      <td>TEM/TRM_2</td>\n",
       "      <td>2</td>\n",
       "      <td>2.773786</td>\n",
       "    </tr>\n",
       "  </tbody>\n",
       "</table>\n",
       "</div>"
      ],
      "text/plain": [
       "                     sample time      response  cluster_number           cdr3  \\\n",
       "barcode                                                                         \n",
       "AACCATGCAAAGGAAG-1-2    AM1  PRE  NONRESPONDER              25  CSVEGGTHYEQYF   \n",
       "AACGTTGAGCGATCCC-1-2    AM1  PRE  NONRESPONDER               0  CSVEGGTHYEQYF   \n",
       "ACAGCCGGTCAGCTAT-1-2    AM1  PRE  NONRESPONDER               0  CSVEGGTHYEQYF   \n",
       "ATAGACCCATATACCG-1-2    AM1  PRE  NONRESPONDER               0  CSVEGGTHYEQYF   \n",
       "CACATAGGTACCGTTA-1-2    AM1  PRE  NONRESPONDER              25  CSVEGGTHYEQYF   \n",
       "CGCTATCAGATCACGG-1-2    AM1  PRE  NONRESPONDER               0  CSVEGGTHYEQYF   \n",
       "CTGAAACAGGGTTCCC-1-2    AM1  PRE  NONRESPONDER               5  CSVEGGTHYEQYF   \n",
       "GACTACACACAGCGTC-1-2    AM1  PRE  NONRESPONDER               0  CSVEGGTHYEQYF   \n",
       "GCGAGAATCCAAATGC-1-2    AM1  PRE  NONRESPONDER              25  CSVEGGTHYEQYF   \n",
       "GCGCCAAAGCCAGGAT-1-2    AM1  PRE  NONRESPONDER               5  CSVEGGTHYEQYF   \n",
       "GGTGTTAGTAACGTTC-1-2    AM1  PRE  NONRESPONDER               0  CSVEGGTHYEQYF   \n",
       "GTAACTGAGTGCTGCC-1-2    AM1  PRE  NONRESPONDER              25  CSVEGGTHYEQYF   \n",
       "\n",
       "                     patient  T-subtype  batch  Log10CloneSize  \n",
       "barcode                                                         \n",
       "AACCATGCAAAGGAAG-1-2      AM  TEM/TRM_2      2        2.773786  \n",
       "AACGTTGAGCGATCCC-1-2      AM      TEMRA      2        2.773786  \n",
       "ACAGCCGGTCAGCTAT-1-2      AM      TEMRA      2        2.773786  \n",
       "ATAGACCCATATACCG-1-2      AM      TEMRA      2        2.773786  \n",
       "CACATAGGTACCGTTA-1-2      AM  TEM/TRM_2      2        2.773786  \n",
       "CGCTATCAGATCACGG-1-2      AM      TEMRA      2        2.773786  \n",
       "CTGAAACAGGGTTCCC-1-2      AM  TEM/TRM_1      2        2.773786  \n",
       "GACTACACACAGCGTC-1-2      AM      TEMRA      2        2.773786  \n",
       "GCGAGAATCCAAATGC-1-2      AM  TEM/TRM_2      2        2.773786  \n",
       "GCGCCAAAGCCAGGAT-1-2      AM  TEM/TRM_1      2        2.773786  \n",
       "GGTGTTAGTAACGTTC-1-2      AM      TEMRA      2        2.773786  \n",
       "GTAACTGAGTGCTGCC-1-2      AM  TEM/TRM_2      2        2.773786  "
      ]
     },
     "execution_count": 163,
     "metadata": {},
     "output_type": "execute_result"
    }
   ],
   "source": [
    "am"
   ]
  },
  {
   "cell_type": "code",
   "execution_count": 116,
   "metadata": {},
   "outputs": [
    {
     "name": "stderr",
     "output_type": "stream",
     "text": [
      "/home/cyp2111_columbia_edu/anaconda3/lib/python3.8/site-packages/seaborn/categorical.py:166: FutureWarning:\n",
      "\n",
      "Setting a gradient palette using color= is deprecated and will be removed in version 0.13. Set `palette='dark:black'` for same effect.\n",
      "\n"
     ]
    },
    {
     "data": {
      "image/png": "[encoded data removed]",
      "text/plain": [
       "<Figure size 432x288 with 1 Axes>"
      ]
     },
     "metadata": {
      "needs_background": "light"
     },
     "output_type": "display_data"
    }
   ],
   "source": []
  },
  {
   "cell_type": "code",
   "execution_count": 119,
   "metadata": {},
   "outputs": [
    {
     "data": {
      "text/html": [
       "<div>\n",
       "<style scoped>\n",
       "    .dataframe tbody tr th:only-of-type {\n",
       "        vertical-align: middle;\n",
       "    }\n",
       "\n",
       "    .dataframe tbody tr th {\n",
       "        vertical-align: top;\n",
       "    }\n",
       "\n",
       "    .dataframe thead th {\n",
       "        text-align: right;\n",
       "    }\n",
       "</style>\n",
       "<table border=\"1\" class=\"dataframe\">\n",
       "  <thead>\n",
       "    <tr style=\"text-align: right;\">\n",
       "      <th></th>\n",
       "      <th>all</th>\n",
       "      <th>pre</th>\n",
       "      <th>dli</th>\n",
       "      <th>post</th>\n",
       "      <th>response</th>\n",
       "    </tr>\n",
       "  </thead>\n",
       "  <tbody>\n",
       "    <tr>\n",
       "      <th>EL</th>\n",
       "      <td>0.228658</td>\n",
       "      <td>0.245969</td>\n",
       "      <td>0.246795</td>\n",
       "      <td>0.166386</td>\n",
       "      <td>R</td>\n",
       "    </tr>\n",
       "    <tr>\n",
       "      <th>KC</th>\n",
       "      <td>0.000000</td>\n",
       "      <td>0.344611</td>\n",
       "      <td>0.366066</td>\n",
       "      <td>0.344611</td>\n",
       "      <td>R</td>\n",
       "    </tr>\n",
       "    <tr>\n",
       "      <th>LB</th>\n",
       "      <td>0.298939</td>\n",
       "      <td>0.385058</td>\n",
       "      <td>0.360942</td>\n",
       "      <td>0.372517</td>\n",
       "      <td>R</td>\n",
       "    </tr>\n",
       "    <tr>\n",
       "      <th>MS</th>\n",
       "      <td>0.250869</td>\n",
       "      <td>0.208110</td>\n",
       "      <td>0.248538</td>\n",
       "      <td>0.208611</td>\n",
       "      <td>R</td>\n",
       "    </tr>\n",
       "    <tr>\n",
       "      <th>AH</th>\n",
       "      <td>0.268531</td>\n",
       "      <td>0.228372</td>\n",
       "      <td>0.192555</td>\n",
       "      <td>0.000000</td>\n",
       "      <td>NR</td>\n",
       "    </tr>\n",
       "    <tr>\n",
       "      <th>AM</th>\n",
       "      <td>0.161384</td>\n",
       "      <td>0.369738</td>\n",
       "      <td>0.000000</td>\n",
       "      <td>0.000000</td>\n",
       "      <td>NR</td>\n",
       "    </tr>\n",
       "    <tr>\n",
       "      <th>GD</th>\n",
       "      <td>0.000000</td>\n",
       "      <td>0.390339</td>\n",
       "      <td>0.083791</td>\n",
       "      <td>0.095687</td>\n",
       "      <td>NR</td>\n",
       "    </tr>\n",
       "    <tr>\n",
       "      <th>JS</th>\n",
       "      <td>0.000000</td>\n",
       "      <td>0.000000</td>\n",
       "      <td>0.221008</td>\n",
       "      <td>0.000000</td>\n",
       "      <td>NR</td>\n",
       "    </tr>\n",
       "  </tbody>\n",
       "</table>\n",
       "</div>"
      ],
      "text/plain": [
       "         all       pre       dli      post response\n",
       "EL  0.228658  0.245969  0.246795  0.166386        R\n",
       "KC  0.000000  0.344611  0.366066  0.344611        R\n",
       "LB  0.298939  0.385058  0.360942  0.372517        R\n",
       "MS  0.250869  0.208110  0.248538  0.208611        R\n",
       "AH  0.268531  0.228372  0.192555  0.000000       NR\n",
       "AM  0.161384  0.369738  0.000000  0.000000       NR\n",
       "GD  0.000000  0.390339  0.083791  0.095687       NR\n",
       "JS  0.000000  0.000000  0.221008  0.000000       NR"
      ]
     },
     "execution_count": 119,
     "metadata": {},
     "output_type": "execute_result"
    }
   ],
   "source": [
    "gini_df"
   ]
  },
  {
   "cell_type": "code",
   "execution_count": 102,
   "metadata": {},
   "outputs": [
    {
     "data": {
      "text/plain": [
       "num_unique_patients    14.000000\n",
       "Log10CloneSize          4.140634\n",
       "PRE                     0.000000\n",
       "POST                   17.000000\n",
       "DLI                    12.000000\n",
       "dtype: float64"
      ]
     },
     "execution_count": 102,
     "metadata": {},
     "output_type": "execute_result"
    }
   ],
   "source": [
    "js = tcr[tcr['patient']=='JS']\n",
    "cdr = np.unique(js['cdr3'])\n",
    "js = clone_df.loc[cdr]\n",
    "js = js[js['POST']>0]\n",
    "js.sum()\n",
    "# np.unique(js['time'],return_counts = True)"
   ]
  },
  {
   "cell_type": "code",
   "execution_count": 37,
   "metadata": {
    "scrolled": true
   },
   "outputs": [
    {
     "data": {
      "application/vnd.plotly.v1+json": {
       "config": {
        "plotlyServerURL": "https://plot.ly"
       },
       "data": [
        {
         "link": {
          "source": [
           0,
           1,
           0,
           1,
           0,
           1,
           0,
           1,
           0,
           1,
           0,
           1,
           0,
           1,
           0,
           1,
           0,
           1,
           0,
           1,
           0,
           1,
           0,
           1,
           0,
           1,
           0,
           1,
           0,
           1,
           0,
           1,
           0,
           1,
           0,
           1,
           0,
           1,
           0,
           1,
           0,
           1,
           0,
           1,
           0,
           1,
           0,
           1,
           0,
           1,
           0,
           1,
           0,
           1,
           0,
           1,
           0,
           1
          ],
          "target": [
           2,
           2,
           2,
           2,
           2,
           2,
           2,
           2,
           2,
           2,
           2,
           2,
           2,
           2,
           2,
           2,
           2,
           2,
           2,
           2,
           2,
           2,
           2,
           2,
           2,
           2,
           2,
           2,
           2,
           2,
           2,
           2,
           2,
           2,
           2,
           2,
           2,
           2,
           2,
           2,
           2,
           2,
           2,
           2,
           2,
           2,
           2,
           2,
           2,
           2,
           2,
           2,
           2,
           2,
           2,
           2,
           2,
           2
          ],
          "value": [
           1,
           0,
           0,
           1,
           0,
           1,
           0,
           1,
           0,
           1,
           0,
           1,
           0,
           1,
           1,
           0,
           0,
           1,
           0,
           1,
           0,
           1,
           0,
           1,
           0,
           1,
           0,
           1,
           0,
           1,
           0,
           1,
           0,
           1,
           0,
           1,
           0,
           1,
           0,
           1,
           0,
           1,
           0,
           1,
           0,
           1,
           0,
           1,
           0,
           1,
           0,
           1,
           1,
           0,
           1,
           0,
           1,
           0
          ]
         },
         "node": {
          "color": [
           "blue",
           "red",
           "orange"
          ],
          "label": [
           "PRE",
           "DLI",
           "POST"
          ],
          "line": {
           "color": "black",
           "width": 0.5
          },
          "pad": 2,
          "thickness": 20
         },
         "type": "sankey"
        }
       ],
       "layout": {
        "font": {
         "size": 10
        },
        "template": {
         "data": {
          "bar": [
           {
            "error_x": {
             "color": "#2a3f5f"
            },
            "error_y": {
             "color": "#2a3f5f"
            },
            "marker": {
             "line": {
              "color": "#E5ECF6",
              "width": 0.5
             },
             "pattern": {
              "fillmode": "overlay",
              "size": 10,
              "solidity": 0.2
             }
            },
            "type": "bar"
           }
          ],
          "barpolar": [
           {
            "marker": {
             "line": {
              "color": "#E5ECF6",
              "width": 0.5
             },
             "pattern": {
              "fillmode": "overlay",
              "size": 10,
              "solidity": 0.2
             }
            },
            "type": "barpolar"
           }
          ],
          "carpet": [
           {
            "aaxis": {
             "endlinecolor": "#2a3f5f",
             "gridcolor": "white",
             "linecolor": "white",
             "minorgridcolor": "white",
             "startlinecolor": "#2a3f5f"
            },
            "baxis": {
             "endlinecolor": "#2a3f5f",
             "gridcolor": "white",
             "linecolor": "white",
             "minorgridcolor": "white",
             "startlinecolor": "#2a3f5f"
            },
            "type": "carpet"
           }
          ],
          "choropleth": [
           {
            "colorbar": {
             "outlinewidth": 0,
             "ticks": ""
            },
            "type": "choropleth"
           }
          ],
          "contour": [
           {
            "colorbar": {
             "outlinewidth": 0,
             "ticks": ""
            },
            "colorscale": [
             [
              0,
              "#0d0887"
             ],
             [
              0.1111111111111111,
              "#46039f"
             ],
             [
              0.2222222222222222,
              "#7201a8"
             ],
             [
              0.3333333333333333,
              "#9c179e"
             ],
             [
              0.4444444444444444,
              "#bd3786"
             ],
             [
              0.5555555555555556,
              "#d8576b"
             ],
             [
              0.6666666666666666,
              "#ed7953"
             ],
             [
              0.7777777777777778,
              "#fb9f3a"
             ],
             [
              0.8888888888888888,
              "#fdca26"
             ],
             [
              1,
              "#f0f921"
             ]
            ],
            "type": "contour"
           }
          ],
          "contourcarpet": [
           {
            "colorbar": {
             "outlinewidth": 0,
             "ticks": ""
            },
            "type": "contourcarpet"
           }
          ],
          "heatmap": [
           {
            "colorbar": {
             "outlinewidth": 0,
             "ticks": ""
            },
            "colorscale": [
             [
              0,
              "#0d0887"
             ],
             [
              0.1111111111111111,
              "#46039f"
             ],
             [
              0.2222222222222222,
              "#7201a8"
             ],
             [
              0.3333333333333333,
              "#9c179e"
             ],
             [
              0.4444444444444444,
              "#bd3786"
             ],
             [
              0.5555555555555556,
              "#d8576b"
             ],
             [
              0.6666666666666666,
              "#ed7953"
             ],
             [
              0.7777777777777778,
              "#fb9f3a"
             ],
             [
              0.8888888888888888,
              "#fdca26"
             ],
             [
              1,
              "#f0f921"
             ]
            ],
            "type": "heatmap"
           }
          ],
          "heatmapgl": [
           {
            "colorbar": {
             "outlinewidth": 0,
             "ticks": ""
            },
            "colorscale": [
             [
              0,
              "#0d0887"
             ],
             [
              0.1111111111111111,
              "#46039f"
             ],
             [
              0.2222222222222222,
              "#7201a8"
             ],
             [
              0.3333333333333333,
              "#9c179e"
             ],
             [
              0.4444444444444444,
              "#bd3786"
             ],
             [
              0.5555555555555556,
              "#d8576b"
             ],
             [
              0.6666666666666666,
              "#ed7953"
             ],
             [
              0.7777777777777778,
              "#fb9f3a"
             ],
             [
              0.8888888888888888,
              "#fdca26"
             ],
             [
              1,
              "#f0f921"
             ]
            ],
            "type": "heatmapgl"
           }
          ],
          "histogram": [
           {
            "marker": {
             "pattern": {
              "fillmode": "overlay",
              "size": 10,
              "solidity": 0.2
             }
            },
            "type": "histogram"
           }
          ],
          "histogram2d": [
           {
            "colorbar": {
             "outlinewidth": 0,
             "ticks": ""
            },
            "colorscale": [
             [
              0,
              "#0d0887"
             ],
             [
              0.1111111111111111,
              "#46039f"
             ],
             [
              0.2222222222222222,
              "#7201a8"
             ],
             [
              0.3333333333333333,
              "#9c179e"
             ],
             [
              0.4444444444444444,
              "#bd3786"
             ],
             [
              0.5555555555555556,
              "#d8576b"
             ],
             [
              0.6666666666666666,
              "#ed7953"
             ],
             [
              0.7777777777777778,
              "#fb9f3a"
             ],
             [
              0.8888888888888888,
              "#fdca26"
             ],
             [
              1,
              "#f0f921"
             ]
            ],
            "type": "histogram2d"
           }
          ],
          "histogram2dcontour": [
           {
            "colorbar": {
             "outlinewidth": 0,
             "ticks": ""
            },
            "colorscale": [
             [
              0,
              "#0d0887"
             ],
             [
              0.1111111111111111,
              "#46039f"
             ],
             [
              0.2222222222222222,
              "#7201a8"
             ],
             [
              0.3333333333333333,
              "#9c179e"
             ],
             [
              0.4444444444444444,
              "#bd3786"
             ],
             [
              0.5555555555555556,
              "#d8576b"
             ],
             [
              0.6666666666666666,
              "#ed7953"
             ],
             [
              0.7777777777777778,
              "#fb9f3a"
             ],
             [
              0.8888888888888888,
              "#fdca26"
             ],
             [
              1,
              "#f0f921"
             ]
            ],
            "type": "histogram2dcontour"
           }
          ],
          "mesh3d": [
           {
            "colorbar": {
             "outlinewidth": 0,
             "ticks": ""
            },
            "type": "mesh3d"
           }
          ],
          "parcoords": [
           {
            "line": {
             "colorbar": {
              "outlinewidth": 0,
              "ticks": ""
             }
            },
            "type": "parcoords"
           }
          ],
          "pie": [
           {
            "automargin": true,
            "type": "pie"
           }
          ],
          "scatter": [
           {
            "fillpattern": {
             "fillmode": "overlay",
             "size": 10,
             "solidity": 0.2
            },
            "type": "scatter"
           }
          ],
          "scatter3d": [
           {
            "line": {
             "colorbar": {
              "outlinewidth": 0,
              "ticks": ""
             }
            },
            "marker": {
             "colorbar": {
              "outlinewidth": 0,
              "ticks": ""
             }
            },
            "type": "scatter3d"
           }
          ],
          "scattercarpet": [
           {
            "marker": {
             "colorbar": {
              "outlinewidth": 0,
              "ticks": ""
             }
            },
            "type": "scattercarpet"
           }
          ],
          "scattergeo": [
           {
            "marker": {
             "colorbar": {
              "outlinewidth": 0,
              "ticks": ""
             }
            },
            "type": "scattergeo"
           }
          ],
          "scattergl": [
           {
            "marker": {
             "colorbar": {
              "outlinewidth": 0,
              "ticks": ""
             }
            },
            "type": "scattergl"
           }
          ],
          "scattermapbox": [
           {
            "marker": {
             "colorbar": {
              "outlinewidth": 0,
              "ticks": ""
             }
            },
            "type": "scattermapbox"
           }
          ],
          "scatterpolar": [
           {
            "marker": {
             "colorbar": {
              "outlinewidth": 0,
              "ticks": ""
             }
            },
            "type": "scatterpolar"
           }
          ],
          "scatterpolargl": [
           {
            "marker": {
             "colorbar": {
              "outlinewidth": 0,
              "ticks": ""
             }
            },
            "type": "scatterpolargl"
           }
          ],
          "scatterternary": [
           {
            "marker": {
             "colorbar": {
              "outlinewidth": 0,
              "ticks": ""
             }
            },
            "type": "scatterternary"
           }
          ],
          "surface": [
           {
            "colorbar": {
             "outlinewidth": 0,
             "ticks": ""
            },
            "colorscale": [
             [
              0,
              "#0d0887"
             ],
             [
              0.1111111111111111,
              "#46039f"
             ],
             [
              0.2222222222222222,
              "#7201a8"
             ],
             [
              0.3333333333333333,
              "#9c179e"
             ],
             [
              0.4444444444444444,
              "#bd3786"
             ],
             [
              0.5555555555555556,
              "#d8576b"
             ],
             [
              0.6666666666666666,
              "#ed7953"
             ],
             [
              0.7777777777777778,
              "#fb9f3a"
             ],
             [
              0.8888888888888888,
              "#fdca26"
             ],
             [
              1,
              "#f0f921"
             ]
            ],
            "type": "surface"
           }
          ],
          "table": [
           {
            "cells": {
             "fill": {
              "color": "#EBF0F8"
             },
             "line": {
              "color": "white"
             }
            },
            "header": {
             "fill": {
              "color": "#C8D4E3"
             },
             "line": {
              "color": "white"
             }
            },
            "type": "table"
           }
          ]
         },
         "layout": {
          "annotationdefaults": {
           "arrowcolor": "#2a3f5f",
           "arrowhead": 0,
           "arrowwidth": 1
          },
          "autotypenumbers": "strict",
          "coloraxis": {
           "colorbar": {
            "outlinewidth": 0,
            "ticks": ""
           }
          },
          "colorscale": {
           "diverging": [
            [
             0,
             "#8e0152"
            ],
            [
             0.1,
             "#c51b7d"
            ],
            [
             0.2,
             "#de77ae"
            ],
            [
             0.3,
             "#f1b6da"
            ],
            [
             0.4,
             "#fde0ef"
            ],
            [
             0.5,
             "#f7f7f7"
            ],
            [
             0.6,
             "#e6f5d0"
            ],
            [
             0.7,
             "#b8e186"
            ],
            [
             0.8,
             "#7fbc41"
            ],
            [
             0.9,
             "#4d9221"
            ],
            [
             1,
             "#276419"
            ]
           ],
           "sequential": [
            [
             0,
             "#0d0887"
            ],
            [
             0.1111111111111111,
             "#46039f"
            ],
            [
             0.2222222222222222,
             "#7201a8"
            ],
            [
             0.3333333333333333,
             "#9c179e"
            ],
            [
             0.4444444444444444,
             "#bd3786"
            ],
            [
             0.5555555555555556,
             "#d8576b"
            ],
            [
             0.6666666666666666,
             "#ed7953"
            ],
            [
             0.7777777777777778,
             "#fb9f3a"
            ],
            [
             0.8888888888888888,
             "#fdca26"
            ],
            [
             1,
             "#f0f921"
            ]
           ],
           "sequentialminus": [
            [
             0,
             "#0d0887"
            ],
            [
             0.1111111111111111,
             "#46039f"
            ],
            [
             0.2222222222222222,
             "#7201a8"
            ],
            [
             0.3333333333333333,
             "#9c179e"
            ],
            [
             0.4444444444444444,
             "#bd3786"
            ],
            [
             0.5555555555555556,
             "#d8576b"
            ],
            [
             0.6666666666666666,
             "#ed7953"
            ],
            [
             0.7777777777777778,
             "#fb9f3a"
            ],
            [
             0.8888888888888888,
             "#fdca26"
            ],
            [
             1,
             "#f0f921"
            ]
           ]
          },
          "colorway": [
           "#636efa",
           "#EF553B",
           "#00cc96",
           "#ab63fa",
           "#FFA15A",
           "#19d3f3",
           "#FF6692",
           "#B6E880",
           "#FF97FF",
           "#FECB52"
          ],
          "font": {
           "color": "#2a3f5f"
          },
          "geo": {
           "bgcolor": "white",
           "lakecolor": "white",
           "landcolor": "#E5ECF6",
           "showlakes": true,
           "showland": true,
           "subunitcolor": "white"
          },
          "hoverlabel": {
           "align": "left"
          },
          "hovermode": "closest",
          "mapbox": {
           "style": "light"
          },
          "paper_bgcolor": "white",
          "plot_bgcolor": "#E5ECF6",
          "polar": {
           "angularaxis": {
            "gridcolor": "white",
            "linecolor": "white",
            "ticks": ""
           },
           "bgcolor": "#E5ECF6",
           "radialaxis": {
            "gridcolor": "white",
            "linecolor": "white",
            "ticks": ""
           }
          },
          "scene": {
           "xaxis": {
            "backgroundcolor": "#E5ECF6",
            "gridcolor": "white",
            "gridwidth": 2,
            "linecolor": "white",
            "showbackground": true,
            "ticks": "",
            "zerolinecolor": "white"
           },
           "yaxis": {
            "backgroundcolor": "#E5ECF6",
            "gridcolor": "white",
            "gridwidth": 2,
            "linecolor": "white",
            "showbackground": true,
            "ticks": "",
            "zerolinecolor": "white"
           },
           "zaxis": {
            "backgroundcolor": "#E5ECF6",
            "gridcolor": "white",
            "gridwidth": 2,
            "linecolor": "white",
            "showbackground": true,
            "ticks": "",
            "zerolinecolor": "white"
           }
          },
          "shapedefaults": {
           "line": {
            "color": "#2a3f5f"
           }
          },
          "ternary": {
           "aaxis": {
            "gridcolor": "white",
            "linecolor": "white",
            "ticks": ""
           },
           "baxis": {
            "gridcolor": "white",
            "linecolor": "white",
            "ticks": ""
           },
           "bgcolor": "#E5ECF6",
           "caxis": {
            "gridcolor": "white",
            "linecolor": "white",
            "ticks": ""
           }
          },
          "title": {
           "x": 0.05
          },
          "xaxis": {
           "automargin": true,
           "gridcolor": "white",
           "linecolor": "white",
           "ticks": "",
           "title": {
            "standoff": 15
           },
           "zerolinecolor": "white",
           "zerolinewidth": 2
          },
          "yaxis": {
           "automargin": true,
           "gridcolor": "white",
           "linecolor": "white",
           "ticks": "",
           "title": {
            "standoff": 15
           },
           "zerolinecolor": "white",
           "zerolinewidth": 2
          }
         }
        },
        "title": {
         "text": "Basic Sankey Diagram EL, 29 clones (excluding clones in all 3 time points)"
        }
       }
      },
      "text/html": [
       "<div>                            <div id=\"7d23f4fb-6f5d-4471-8c03-8eb7d6c317a8\" class=\"plotly-graph-div\" style=\"height:525px; width:100%;\"></div>            <script type=\"text/javascript\">                require([\"plotly\"], function(Plotly) {                    window.PLOTLYENV=window.PLOTLYENV || {};                                    if (document.getElementById(\"7d23f4fb-6f5d-4471-8c03-8eb7d6c317a8\")) {                    Plotly.newPlot(                        \"7d23f4fb-6f5d-4471-8c03-8eb7d6c317a8\",                        [{\"link\":{\"source\":[0,1,0,1,0,1,0,1,0,1,0,1,0,1,0,1,0,1,0,1,0,1,0,1,0,1,0,1,0,1,0,1,0,1,0,1,0,1,0,1,0,1,0,1,0,1,0,1,0,1,0,1,0,1,0,1,0,1],\"target\":[2,2,2,2,2,2,2,2,2,2,2,2,2,2,2,2,2,2,2,2,2,2,2,2,2,2,2,2,2,2,2,2,2,2,2,2,2,2,2,2,2,2,2,2,2,2,2,2,2,2,2,2,2,2,2,2,2,2],\"value\":[1,0,0,1,0,1,0,1,0,1,0,1,0,1,1,0,0,1,0,1,0,1,0,1,0,1,0,1,0,1,0,1,0,1,0,1,0,1,0,1,0,1,0,1,0,1,0,1,0,1,0,1,1,0,1,0,1,0]},\"node\":{\"color\":[\"blue\",\"red\",\"orange\"],\"label\":[\"PRE\",\"DLI\",\"POST\"],\"line\":{\"color\":\"black\",\"width\":0.5},\"pad\":2,\"thickness\":20},\"type\":\"sankey\"}],                        {\"template\":{\"data\":{\"histogram2dcontour\":[{\"type\":\"histogram2dcontour\",\"colorbar\":{\"outlinewidth\":0,\"ticks\":\"\"},\"colorscale\":[[0.0,\"#0d0887\"],[0.1111111111111111,\"#46039f\"],[0.2222222222222222,\"#7201a8\"],[0.3333333333333333,\"#9c179e\"],[0.4444444444444444,\"#bd3786\"],[0.5555555555555556,\"#d8576b\"],[0.6666666666666666,\"#ed7953\"],[0.7777777777777778,\"#fb9f3a\"],[0.8888888888888888,\"#fdca26\"],[1.0,\"#f0f921\"]]}],\"choropleth\":[{\"type\":\"choropleth\",\"colorbar\":{\"outlinewidth\":0,\"ticks\":\"\"}}],\"histogram2d\":[{\"type\":\"histogram2d\",\"colorbar\":{\"outlinewidth\":0,\"ticks\":\"\"},\"colorscale\":[[0.0,\"#0d0887\"],[0.1111111111111111,\"#46039f\"],[0.2222222222222222,\"#7201a8\"],[0.3333333333333333,\"#9c179e\"],[0.4444444444444444,\"#bd3786\"],[0.5555555555555556,\"#d8576b\"],[0.6666666666666666,\"#ed7953\"],[0.7777777777777778,\"#fb9f3a\"],[0.8888888888888888,\"#fdca26\"],[1.0,\"#f0f921\"]]}],\"heatmap\":[{\"type\":\"heatmap\",\"colorbar\":{\"outlinewidth\":0,\"ticks\":\"\"},\"colorscale\":[[0.0,\"#0d0887\"],[0.1111111111111111,\"#46039f\"],[0.2222222222222222,\"#7201a8\"],[0.3333333333333333,\"#9c179e\"],[0.4444444444444444,\"#bd3786\"],[0.5555555555555556,\"#d8576b\"],[0.6666666666666666,\"#ed7953\"],[0.7777777777777778,\"#fb9f3a\"],[0.8888888888888888,\"#fdca26\"],[1.0,\"#f0f921\"]]}],\"heatmapgl\":[{\"type\":\"heatmapgl\",\"colorbar\":{\"outlinewidth\":0,\"ticks\":\"\"},\"colorscale\":[[0.0,\"#0d0887\"],[0.1111111111111111,\"#46039f\"],[0.2222222222222222,\"#7201a8\"],[0.3333333333333333,\"#9c179e\"],[0.4444444444444444,\"#bd3786\"],[0.5555555555555556,\"#d8576b\"],[0.6666666666666666,\"#ed7953\"],[0.7777777777777778,\"#fb9f3a\"],[0.8888888888888888,\"#fdca26\"],[1.0,\"#f0f921\"]]}],\"contourcarpet\":[{\"type\":\"contourcarpet\",\"colorbar\":{\"outlinewidth\":0,\"ticks\":\"\"}}],\"contour\":[{\"type\":\"contour\",\"colorbar\":{\"outlinewidth\":0,\"ticks\":\"\"},\"colorscale\":[[0.0,\"#0d0887\"],[0.1111111111111111,\"#46039f\"],[0.2222222222222222,\"#7201a8\"],[0.3333333333333333,\"#9c179e\"],[0.4444444444444444,\"#bd3786\"],[0.5555555555555556,\"#d8576b\"],[0.6666666666666666,\"#ed7953\"],[0.7777777777777778,\"#fb9f3a\"],[0.8888888888888888,\"#fdca26\"],[1.0,\"#f0f921\"]]}],\"surface\":[{\"type\":\"surface\",\"colorbar\":{\"outlinewidth\":0,\"ticks\":\"\"},\"colorscale\":[[0.0,\"#0d0887\"],[0.1111111111111111,\"#46039f\"],[0.2222222222222222,\"#7201a8\"],[0.3333333333333333,\"#9c179e\"],[0.4444444444444444,\"#bd3786\"],[0.5555555555555556,\"#d8576b\"],[0.6666666666666666,\"#ed7953\"],[0.7777777777777778,\"#fb9f3a\"],[0.8888888888888888,\"#fdca26\"],[1.0,\"#f0f921\"]]}],\"mesh3d\":[{\"type\":\"mesh3d\",\"colorbar\":{\"outlinewidth\":0,\"ticks\":\"\"}}],\"scatter\":[{\"fillpattern\":{\"fillmode\":\"overlay\",\"size\":10,\"solidity\":0.2},\"type\":\"scatter\"}],\"parcoords\":[{\"type\":\"parcoords\",\"line\":{\"colorbar\":{\"outlinewidth\":0,\"ticks\":\"\"}}}],\"scatterpolargl\":[{\"type\":\"scatterpolargl\",\"marker\":{\"colorbar\":{\"outlinewidth\":0,\"ticks\":\"\"}}}],\"bar\":[{\"error_x\":{\"color\":\"#2a3f5f\"},\"error_y\":{\"color\":\"#2a3f5f\"},\"marker\":{\"line\":{\"color\":\"#E5ECF6\",\"width\":0.5},\"pattern\":{\"fillmode\":\"overlay\",\"size\":10,\"solidity\":0.2}},\"type\":\"bar\"}],\"scattergeo\":[{\"type\":\"scattergeo\",\"marker\":{\"colorbar\":{\"outlinewidth\":0,\"ticks\":\"\"}}}],\"scatterpolar\":[{\"type\":\"scatterpolar\",\"marker\":{\"colorbar\":{\"outlinewidth\":0,\"ticks\":\"\"}}}],\"histogram\":[{\"marker\":{\"pattern\":{\"fillmode\":\"overlay\",\"size\":10,\"solidity\":0.2}},\"type\":\"histogram\"}],\"scattergl\":[{\"type\":\"scattergl\",\"marker\":{\"colorbar\":{\"outlinewidth\":0,\"ticks\":\"\"}}}],\"scatter3d\":[{\"type\":\"scatter3d\",\"line\":{\"colorbar\":{\"outlinewidth\":0,\"ticks\":\"\"}},\"marker\":{\"colorbar\":{\"outlinewidth\":0,\"ticks\":\"\"}}}],\"scattermapbox\":[{\"type\":\"scattermapbox\",\"marker\":{\"colorbar\":{\"outlinewidth\":0,\"ticks\":\"\"}}}],\"scatterternary\":[{\"type\":\"scatterternary\",\"marker\":{\"colorbar\":{\"outlinewidth\":0,\"ticks\":\"\"}}}],\"scattercarpet\":[{\"type\":\"scattercarpet\",\"marker\":{\"colorbar\":{\"outlinewidth\":0,\"ticks\":\"\"}}}],\"carpet\":[{\"aaxis\":{\"endlinecolor\":\"#2a3f5f\",\"gridcolor\":\"white\",\"linecolor\":\"white\",\"minorgridcolor\":\"white\",\"startlinecolor\":\"#2a3f5f\"},\"baxis\":{\"endlinecolor\":\"#2a3f5f\",\"gridcolor\":\"white\",\"linecolor\":\"white\",\"minorgridcolor\":\"white\",\"startlinecolor\":\"#2a3f5f\"},\"type\":\"carpet\"}],\"table\":[{\"cells\":{\"fill\":{\"color\":\"#EBF0F8\"},\"line\":{\"color\":\"white\"}},\"header\":{\"fill\":{\"color\":\"#C8D4E3\"},\"line\":{\"color\":\"white\"}},\"type\":\"table\"}],\"barpolar\":[{\"marker\":{\"line\":{\"color\":\"#E5ECF6\",\"width\":0.5},\"pattern\":{\"fillmode\":\"overlay\",\"size\":10,\"solidity\":0.2}},\"type\":\"barpolar\"}],\"pie\":[{\"automargin\":true,\"type\":\"pie\"}]},\"layout\":{\"autotypenumbers\":\"strict\",\"colorway\":[\"#636efa\",\"#EF553B\",\"#00cc96\",\"#ab63fa\",\"#FFA15A\",\"#19d3f3\",\"#FF6692\",\"#B6E880\",\"#FF97FF\",\"#FECB52\"],\"font\":{\"color\":\"#2a3f5f\"},\"hovermode\":\"closest\",\"hoverlabel\":{\"align\":\"left\"},\"paper_bgcolor\":\"white\",\"plot_bgcolor\":\"#E5ECF6\",\"polar\":{\"bgcolor\":\"#E5ECF6\",\"angularaxis\":{\"gridcolor\":\"white\",\"linecolor\":\"white\",\"ticks\":\"\"},\"radialaxis\":{\"gridcolor\":\"white\",\"linecolor\":\"white\",\"ticks\":\"\"}},\"ternary\":{\"bgcolor\":\"#E5ECF6\",\"aaxis\":{\"gridcolor\":\"white\",\"linecolor\":\"white\",\"ticks\":\"\"},\"baxis\":{\"gridcolor\":\"white\",\"linecolor\":\"white\",\"ticks\":\"\"},\"caxis\":{\"gridcolor\":\"white\",\"linecolor\":\"white\",\"ticks\":\"\"}},\"coloraxis\":{\"colorbar\":{\"outlinewidth\":0,\"ticks\":\"\"}},\"colorscale\":{\"sequential\":[[0.0,\"#0d0887\"],[0.1111111111111111,\"#46039f\"],[0.2222222222222222,\"#7201a8\"],[0.3333333333333333,\"#9c179e\"],[0.4444444444444444,\"#bd3786\"],[0.5555555555555556,\"#d8576b\"],[0.6666666666666666,\"#ed7953\"],[0.7777777777777778,\"#fb9f3a\"],[0.8888888888888888,\"#fdca26\"],[1.0,\"#f0f921\"]],\"sequentialminus\":[[0.0,\"#0d0887\"],[0.1111111111111111,\"#46039f\"],[0.2222222222222222,\"#7201a8\"],[0.3333333333333333,\"#9c179e\"],[0.4444444444444444,\"#bd3786\"],[0.5555555555555556,\"#d8576b\"],[0.6666666666666666,\"#ed7953\"],[0.7777777777777778,\"#fb9f3a\"],[0.8888888888888888,\"#fdca26\"],[1.0,\"#f0f921\"]],\"diverging\":[[0,\"#8e0152\"],[0.1,\"#c51b7d\"],[0.2,\"#de77ae\"],[0.3,\"#f1b6da\"],[0.4,\"#fde0ef\"],[0.5,\"#f7f7f7\"],[0.6,\"#e6f5d0\"],[0.7,\"#b8e186\"],[0.8,\"#7fbc41\"],[0.9,\"#4d9221\"],[1,\"#276419\"]]},\"xaxis\":{\"gridcolor\":\"white\",\"linecolor\":\"white\",\"ticks\":\"\",\"title\":{\"standoff\":15},\"zerolinecolor\":\"white\",\"automargin\":true,\"zerolinewidth\":2},\"yaxis\":{\"gridcolor\":\"white\",\"linecolor\":\"white\",\"ticks\":\"\",\"title\":{\"standoff\":15},\"zerolinecolor\":\"white\",\"automargin\":true,\"zerolinewidth\":2},\"scene\":{\"xaxis\":{\"backgroundcolor\":\"#E5ECF6\",\"gridcolor\":\"white\",\"linecolor\":\"white\",\"showbackground\":true,\"ticks\":\"\",\"zerolinecolor\":\"white\",\"gridwidth\":2},\"yaxis\":{\"backgroundcolor\":\"#E5ECF6\",\"gridcolor\":\"white\",\"linecolor\":\"white\",\"showbackground\":true,\"ticks\":\"\",\"zerolinecolor\":\"white\",\"gridwidth\":2},\"zaxis\":{\"backgroundcolor\":\"#E5ECF6\",\"gridcolor\":\"white\",\"linecolor\":\"white\",\"showbackground\":true,\"ticks\":\"\",\"zerolinecolor\":\"white\",\"gridwidth\":2}},\"shapedefaults\":{\"line\":{\"color\":\"#2a3f5f\"}},\"annotationdefaults\":{\"arrowcolor\":\"#2a3f5f\",\"arrowhead\":0,\"arrowwidth\":1},\"geo\":{\"bgcolor\":\"white\",\"landcolor\":\"#E5ECF6\",\"subunitcolor\":\"white\",\"showland\":true,\"showlakes\":true,\"lakecolor\":\"white\"},\"title\":{\"x\":0.05},\"mapbox\":{\"style\":\"light\"}}},\"title\":{\"text\":\"Basic Sankey Diagram EL, 29 clones (excluding clones in all 3 time points)\"},\"font\":{\"size\":10}},                        {\"responsive\": true}                    ).then(function(){\n",
       "                            \n",
       "var gd = document.getElementById('7d23f4fb-6f5d-4471-8c03-8eb7d6c317a8');\n",
       "var x = new MutationObserver(function (mutations, observer) {{\n",
       "        var display = window.getComputedStyle(gd).display;\n",
       "        if (!display || display === 'none') {{\n",
       "            console.log([gd, 'removed!']);\n",
       "            Plotly.purge(gd);\n",
       "            observer.disconnect();\n",
       "        }}\n",
       "}});\n",
       "\n",
       "// Listen for the removal of the full notebook cells\n",
       "var notebookContainer = gd.closest('#notebook-container');\n",
       "if (notebookContainer) {{\n",
       "    x.observe(notebookContainer, {childList: true});\n",
       "}}\n",
       "\n",
       "// Listen for the clearing of the current output cell\n",
       "var outputEl = gd.closest('.output');\n",
       "if (outputEl) {{\n",
       "    x.observe(outputEl, {childList: true});\n",
       "}}\n",
       "\n",
       "                        })                };                });            </script>        </div>"
      ]
     },
     "metadata": {},
     "output_type": "display_data"
    },
    {
     "data": {
      "application/vnd.plotly.v1+json": {
       "config": {
        "plotlyServerURL": "https://plot.ly"
       },
       "data": [
        {
         "link": {
          "source": [
           0,
           1,
           0,
           1,
           0,
           1,
           0,
           1,
           0,
           1,
           0,
           1,
           0,
           1,
           0,
           1,
           0,
           1,
           0,
           1,
           0,
           1,
           0,
           1,
           0,
           1,
           0,
           1,
           0,
           1,
           0,
           1
          ],
          "target": [
           2,
           2,
           2,
           2,
           2,
           2,
           2,
           2,
           2,
           2,
           2,
           2,
           2,
           2,
           2,
           2,
           2,
           2,
           2,
           2,
           2,
           2,
           2,
           2,
           2,
           2,
           2,
           2,
           2,
           2,
           2,
           2
          ],
          "value": [
           0,
           1,
           0,
           1,
           0,
           1,
           0,
           1,
           0,
           1,
           0,
           1,
           0,
           1,
           0,
           1,
           0,
           1,
           0,
           1,
           0,
           1,
           0,
           1,
           0,
           1,
           0,
           1,
           0,
           1,
           0,
           1
          ]
         },
         "node": {
          "color": [
           "blue",
           "red",
           "orange"
          ],
          "label": [
           "PRE",
           "DLI",
           "POST"
          ],
          "line": {
           "color": "black",
           "width": 0.5
          },
          "pad": 2,
          "thickness": 20
         },
         "type": "sankey"
        }
       ],
       "layout": {
        "font": {
         "size": 10
        },
        "template": {
         "data": {
          "bar": [
           {
            "error_x": {
             "color": "#2a3f5f"
            },
            "error_y": {
             "color": "#2a3f5f"
            },
            "marker": {
             "line": {
              "color": "#E5ECF6",
              "width": 0.5
             },
             "pattern": {
              "fillmode": "overlay",
              "size": 10,
              "solidity": 0.2
             }
            },
            "type": "bar"
           }
          ],
          "barpolar": [
           {
            "marker": {
             "line": {
              "color": "#E5ECF6",
              "width": 0.5
             },
             "pattern": {
              "fillmode": "overlay",
              "size": 10,
              "solidity": 0.2
             }
            },
            "type": "barpolar"
           }
          ],
          "carpet": [
           {
            "aaxis": {
             "endlinecolor": "#2a3f5f",
             "gridcolor": "white",
             "linecolor": "white",
             "minorgridcolor": "white",
             "startlinecolor": "#2a3f5f"
            },
            "baxis": {
             "endlinecolor": "#2a3f5f",
             "gridcolor": "white",
             "linecolor": "white",
             "minorgridcolor": "white",
             "startlinecolor": "#2a3f5f"
            },
            "type": "carpet"
           }
          ],
          "choropleth": [
           {
            "colorbar": {
             "outlinewidth": 0,
             "ticks": ""
            },
            "type": "choropleth"
           }
          ],
          "contour": [
           {
            "colorbar": {
             "outlinewidth": 0,
             "ticks": ""
            },
            "colorscale": [
             [
              0,
              "#0d0887"
             ],
             [
              0.1111111111111111,
              "#46039f"
             ],
             [
              0.2222222222222222,
              "#7201a8"
             ],
             [
              0.3333333333333333,
              "#9c179e"
             ],
             [
              0.4444444444444444,
              "#bd3786"
             ],
             [
              0.5555555555555556,
              "#d8576b"
             ],
             [
              0.6666666666666666,
              "#ed7953"
             ],
             [
              0.7777777777777778,
              "#fb9f3a"
             ],
             [
              0.8888888888888888,
              "#fdca26"
             ],
             [
              1,
              "#f0f921"
             ]
            ],
            "type": "contour"
           }
          ],
          "contourcarpet": [
           {
            "colorbar": {
             "outlinewidth": 0,
             "ticks": ""
            },
            "type": "contourcarpet"
           }
          ],
          "heatmap": [
           {
            "colorbar": {
             "outlinewidth": 0,
             "ticks": ""
            },
            "colorscale": [
             [
              0,
              "#0d0887"
             ],
             [
              0.1111111111111111,
              "#46039f"
             ],
             [
              0.2222222222222222,
              "#7201a8"
             ],
             [
              0.3333333333333333,
              "#9c179e"
             ],
             [
              0.4444444444444444,
              "#bd3786"
             ],
             [
              0.5555555555555556,
              "#d8576b"
             ],
             [
              0.6666666666666666,
              "#ed7953"
             ],
             [
              0.7777777777777778,
              "#fb9f3a"
             ],
             [
              0.8888888888888888,
              "#fdca26"
             ],
             [
              1,
              "#f0f921"
             ]
            ],
            "type": "heatmap"
           }
          ],
          "heatmapgl": [
           {
            "colorbar": {
             "outlinewidth": 0,
             "ticks": ""
            },
            "colorscale": [
             [
              0,
              "#0d0887"
             ],
             [
              0.1111111111111111,
              "#46039f"
             ],
             [
              0.2222222222222222,
              "#7201a8"
             ],
             [
              0.3333333333333333,
              "#9c179e"
             ],
             [
              0.4444444444444444,
              "#bd3786"
             ],
             [
              0.5555555555555556,
              "#d8576b"
             ],
             [
              0.6666666666666666,
              "#ed7953"
             ],
             [
              0.7777777777777778,
              "#fb9f3a"
             ],
             [
              0.8888888888888888,
              "#fdca26"
             ],
             [
              1,
              "#f0f921"
             ]
            ],
            "type": "heatmapgl"
           }
          ],
          "histogram": [
           {
            "marker": {
             "pattern": {
              "fillmode": "overlay",
              "size": 10,
              "solidity": 0.2
             }
            },
            "type": "histogram"
           }
          ],
          "histogram2d": [
           {
            "colorbar": {
             "outlinewidth": 0,
             "ticks": ""
            },
            "colorscale": [
             [
              0,
              "#0d0887"
             ],
             [
              0.1111111111111111,
              "#46039f"
             ],
             [
              0.2222222222222222,
              "#7201a8"
             ],
             [
              0.3333333333333333,
              "#9c179e"
             ],
             [
              0.4444444444444444,
              "#bd3786"
             ],
             [
              0.5555555555555556,
              "#d8576b"
             ],
             [
              0.6666666666666666,
              "#ed7953"
             ],
             [
              0.7777777777777778,
              "#fb9f3a"
             ],
             [
              0.8888888888888888,
              "#fdca26"
             ],
             [
              1,
              "#f0f921"
             ]
            ],
            "type": "histogram2d"
           }
          ],
          "histogram2dcontour": [
           {
            "colorbar": {
             "outlinewidth": 0,
             "ticks": ""
            },
            "colorscale": [
             [
              0,
              "#0d0887"
             ],
             [
              0.1111111111111111,
              "#46039f"
             ],
             [
              0.2222222222222222,
              "#7201a8"
             ],
             [
              0.3333333333333333,
              "#9c179e"
             ],
             [
              0.4444444444444444,
              "#bd3786"
             ],
             [
              0.5555555555555556,
              "#d8576b"
             ],
             [
              0.6666666666666666,
              "#ed7953"
             ],
             [
              0.7777777777777778,
              "#fb9f3a"
             ],
             [
              0.8888888888888888,
              "#fdca26"
             ],
             [
              1,
              "#f0f921"
             ]
            ],
            "type": "histogram2dcontour"
           }
          ],
          "mesh3d": [
           {
            "colorbar": {
             "outlinewidth": 0,
             "ticks": ""
            },
            "type": "mesh3d"
           }
          ],
          "parcoords": [
           {
            "line": {
             "colorbar": {
              "outlinewidth": 0,
              "ticks": ""
             }
            },
            "type": "parcoords"
           }
          ],
          "pie": [
           {
            "automargin": true,
            "type": "pie"
           }
          ],
          "scatter": [
           {
            "fillpattern": {
             "fillmode": "overlay",
             "size": 10,
             "solidity": 0.2
            },
            "type": "scatter"
           }
          ],
          "scatter3d": [
           {
            "line": {
             "colorbar": {
              "outlinewidth": 0,
              "ticks": ""
             }
            },
            "marker": {
             "colorbar": {
              "outlinewidth": 0,
              "ticks": ""
             }
            },
            "type": "scatter3d"
           }
          ],
          "scattercarpet": [
           {
            "marker": {
             "colorbar": {
              "outlinewidth": 0,
              "ticks": ""
             }
            },
            "type": "scattercarpet"
           }
          ],
          "scattergeo": [
           {
            "marker": {
             "colorbar": {
              "outlinewidth": 0,
              "ticks": ""
             }
            },
            "type": "scattergeo"
           }
          ],
          "scattergl": [
           {
            "marker": {
             "colorbar": {
              "outlinewidth": 0,
              "ticks": ""
             }
            },
            "type": "scattergl"
           }
          ],
          "scattermapbox": [
           {
            "marker": {
             "colorbar": {
              "outlinewidth": 0,
              "ticks": ""
             }
            },
            "type": "scattermapbox"
           }
          ],
          "scatterpolar": [
           {
            "marker": {
             "colorbar": {
              "outlinewidth": 0,
              "ticks": ""
             }
            },
            "type": "scatterpolar"
           }
          ],
          "scatterpolargl": [
           {
            "marker": {
             "colorbar": {
              "outlinewidth": 0,
              "ticks": ""
             }
            },
            "type": "scatterpolargl"
           }
          ],
          "scatterternary": [
           {
            "marker": {
             "colorbar": {
              "outlinewidth": 0,
              "ticks": ""
             }
            },
            "type": "scatterternary"
           }
          ],
          "surface": [
           {
            "colorbar": {
             "outlinewidth": 0,
             "ticks": ""
            },
            "colorscale": [
             [
              0,
              "#0d0887"
             ],
             [
              0.1111111111111111,
              "#46039f"
             ],
             [
              0.2222222222222222,
              "#7201a8"
             ],
             [
              0.3333333333333333,
              "#9c179e"
             ],
             [
              0.4444444444444444,
              "#bd3786"
             ],
             [
              0.5555555555555556,
              "#d8576b"
             ],
             [
              0.6666666666666666,
              "#ed7953"
             ],
             [
              0.7777777777777778,
              "#fb9f3a"
             ],
             [
              0.8888888888888888,
              "#fdca26"
             ],
             [
              1,
              "#f0f921"
             ]
            ],
            "type": "surface"
           }
          ],
          "table": [
           {
            "cells": {
             "fill": {
              "color": "#EBF0F8"
             },
             "line": {
              "color": "white"
             }
            },
            "header": {
             "fill": {
              "color": "#C8D4E3"
             },
             "line": {
              "color": "white"
             }
            },
            "type": "table"
           }
          ]
         },
         "layout": {
          "annotationdefaults": {
           "arrowcolor": "#2a3f5f",
           "arrowhead": 0,
           "arrowwidth": 1
          },
          "autotypenumbers": "strict",
          "coloraxis": {
           "colorbar": {
            "outlinewidth": 0,
            "ticks": ""
           }
          },
          "colorscale": {
           "diverging": [
            [
             0,
             "#8e0152"
            ],
            [
             0.1,
             "#c51b7d"
            ],
            [
             0.2,
             "#de77ae"
            ],
            [
             0.3,
             "#f1b6da"
            ],
            [
             0.4,
             "#fde0ef"
            ],
            [
             0.5,
             "#f7f7f7"
            ],
            [
             0.6,
             "#e6f5d0"
            ],
            [
             0.7,
             "#b8e186"
            ],
            [
             0.8,
             "#7fbc41"
            ],
            [
             0.9,
             "#4d9221"
            ],
            [
             1,
             "#276419"
            ]
           ],
           "sequential": [
            [
             0,
             "#0d0887"
            ],
            [
             0.1111111111111111,
             "#46039f"
            ],
            [
             0.2222222222222222,
             "#7201a8"
            ],
            [
             0.3333333333333333,
             "#9c179e"
            ],
            [
             0.4444444444444444,
             "#bd3786"
            ],
            [
             0.5555555555555556,
             "#d8576b"
            ],
            [
             0.6666666666666666,
             "#ed7953"
            ],
            [
             0.7777777777777778,
             "#fb9f3a"
            ],
            [
             0.8888888888888888,
             "#fdca26"
            ],
            [
             1,
             "#f0f921"
            ]
           ],
           "sequentialminus": [
            [
             0,
             "#0d0887"
            ],
            [
             0.1111111111111111,
             "#46039f"
            ],
            [
             0.2222222222222222,
             "#7201a8"
            ],
            [
             0.3333333333333333,
             "#9c179e"
            ],
            [
             0.4444444444444444,
             "#bd3786"
            ],
            [
             0.5555555555555556,
             "#d8576b"
            ],
            [
             0.6666666666666666,
             "#ed7953"
            ],
            [
             0.7777777777777778,
             "#fb9f3a"
            ],
            [
             0.8888888888888888,
             "#fdca26"
            ],
            [
             1,
             "#f0f921"
            ]
           ]
          },
          "colorway": [
           "#636efa",
           "#EF553B",
           "#00cc96",
           "#ab63fa",
           "#FFA15A",
           "#19d3f3",
           "#FF6692",
           "#B6E880",
           "#FF97FF",
           "#FECB52"
          ],
          "font": {
           "color": "#2a3f5f"
          },
          "geo": {
           "bgcolor": "white",
           "lakecolor": "white",
           "landcolor": "#E5ECF6",
           "showlakes": true,
           "showland": true,
           "subunitcolor": "white"
          },
          "hoverlabel": {
           "align": "left"
          },
          "hovermode": "closest",
          "mapbox": {
           "style": "light"
          },
          "paper_bgcolor": "white",
          "plot_bgcolor": "#E5ECF6",
          "polar": {
           "angularaxis": {
            "gridcolor": "white",
            "linecolor": "white",
            "ticks": ""
           },
           "bgcolor": "#E5ECF6",
           "radialaxis": {
            "gridcolor": "white",
            "linecolor": "white",
            "ticks": ""
           }
          },
          "scene": {
           "xaxis": {
            "backgroundcolor": "#E5ECF6",
            "gridcolor": "white",
            "gridwidth": 2,
            "linecolor": "white",
            "showbackground": true,
            "ticks": "",
            "zerolinecolor": "white"
           },
           "yaxis": {
            "backgroundcolor": "#E5ECF6",
            "gridcolor": "white",
            "gridwidth": 2,
            "linecolor": "white",
            "showbackground": true,
            "ticks": "",
            "zerolinecolor": "white"
           },
           "zaxis": {
            "backgroundcolor": "#E5ECF6",
            "gridcolor": "white",
            "gridwidth": 2,
            "linecolor": "white",
            "showbackground": true,
            "ticks": "",
            "zerolinecolor": "white"
           }
          },
          "shapedefaults": {
           "line": {
            "color": "#2a3f5f"
           }
          },
          "ternary": {
           "aaxis": {
            "gridcolor": "white",
            "linecolor": "white",
            "ticks": ""
           },
           "baxis": {
            "gridcolor": "white",
            "linecolor": "white",
            "ticks": ""
           },
           "bgcolor": "#E5ECF6",
           "caxis": {
            "gridcolor": "white",
            "linecolor": "white",
            "ticks": ""
           }
          },
          "title": {
           "x": 0.05
          },
          "xaxis": {
           "automargin": true,
           "gridcolor": "white",
           "linecolor": "white",
           "ticks": "",
           "title": {
            "standoff": 15
           },
           "zerolinecolor": "white",
           "zerolinewidth": 2
          },
          "yaxis": {
           "automargin": true,
           "gridcolor": "white",
           "linecolor": "white",
           "ticks": "",
           "title": {
            "standoff": 15
           },
           "zerolinecolor": "white",
           "zerolinewidth": 2
          }
         }
        },
        "title": {
         "text": "Basic Sankey Diagram KC, 16 clones (excluding clones in all 3 time points)"
        }
       }
      },
      "text/html": [
       "<div>                            <div id=\"2139e013-00fb-4590-a05c-a8cc7a13e10c\" class=\"plotly-graph-div\" style=\"height:525px; width:100%;\"></div>            <script type=\"text/javascript\">                require([\"plotly\"], function(Plotly) {                    window.PLOTLYENV=window.PLOTLYENV || {};                                    if (document.getElementById(\"2139e013-00fb-4590-a05c-a8cc7a13e10c\")) {                    Plotly.newPlot(                        \"2139e013-00fb-4590-a05c-a8cc7a13e10c\",                        [{\"link\":{\"source\":[0,1,0,1,0,1,0,1,0,1,0,1,0,1,0,1,0,1,0,1,0,1,0,1,0,1,0,1,0,1,0,1],\"target\":[2,2,2,2,2,2,2,2,2,2,2,2,2,2,2,2,2,2,2,2,2,2,2,2,2,2,2,2,2,2,2,2],\"value\":[0,1,0,1,0,1,0,1,0,1,0,1,0,1,0,1,0,1,0,1,0,1,0,1,0,1,0,1,0,1,0,1]},\"node\":{\"color\":[\"blue\",\"red\",\"orange\"],\"label\":[\"PRE\",\"DLI\",\"POST\"],\"line\":{\"color\":\"black\",\"width\":0.5},\"pad\":2,\"thickness\":20},\"type\":\"sankey\"}],                        {\"template\":{\"data\":{\"histogram2dcontour\":[{\"type\":\"histogram2dcontour\",\"colorbar\":{\"outlinewidth\":0,\"ticks\":\"\"},\"colorscale\":[[0.0,\"#0d0887\"],[0.1111111111111111,\"#46039f\"],[0.2222222222222222,\"#7201a8\"],[0.3333333333333333,\"#9c179e\"],[0.4444444444444444,\"#bd3786\"],[0.5555555555555556,\"#d8576b\"],[0.6666666666666666,\"#ed7953\"],[0.7777777777777778,\"#fb9f3a\"],[0.8888888888888888,\"#fdca26\"],[1.0,\"#f0f921\"]]}],\"choropleth\":[{\"type\":\"choropleth\",\"colorbar\":{\"outlinewidth\":0,\"ticks\":\"\"}}],\"histogram2d\":[{\"type\":\"histogram2d\",\"colorbar\":{\"outlinewidth\":0,\"ticks\":\"\"},\"colorscale\":[[0.0,\"#0d0887\"],[0.1111111111111111,\"#46039f\"],[0.2222222222222222,\"#7201a8\"],[0.3333333333333333,\"#9c179e\"],[0.4444444444444444,\"#bd3786\"],[0.5555555555555556,\"#d8576b\"],[0.6666666666666666,\"#ed7953\"],[0.7777777777777778,\"#fb9f3a\"],[0.8888888888888888,\"#fdca26\"],[1.0,\"#f0f921\"]]}],\"heatmap\":[{\"type\":\"heatmap\",\"colorbar\":{\"outlinewidth\":0,\"ticks\":\"\"},\"colorscale\":[[0.0,\"#0d0887\"],[0.1111111111111111,\"#46039f\"],[0.2222222222222222,\"#7201a8\"],[0.3333333333333333,\"#9c179e\"],[0.4444444444444444,\"#bd3786\"],[0.5555555555555556,\"#d8576b\"],[0.6666666666666666,\"#ed7953\"],[0.7777777777777778,\"#fb9f3a\"],[0.8888888888888888,\"#fdca26\"],[1.0,\"#f0f921\"]]}],\"heatmapgl\":[{\"type\":\"heatmapgl\",\"colorbar\":{\"outlinewidth\":0,\"ticks\":\"\"},\"colorscale\":[[0.0,\"#0d0887\"],[0.1111111111111111,\"#46039f\"],[0.2222222222222222,\"#7201a8\"],[0.3333333333333333,\"#9c179e\"],[0.4444444444444444,\"#bd3786\"],[0.5555555555555556,\"#d8576b\"],[0.6666666666666666,\"#ed7953\"],[0.7777777777777778,\"#fb9f3a\"],[0.8888888888888888,\"#fdca26\"],[1.0,\"#f0f921\"]]}],\"contourcarpet\":[{\"type\":\"contourcarpet\",\"colorbar\":{\"outlinewidth\":0,\"ticks\":\"\"}}],\"contour\":[{\"type\":\"contour\",\"colorbar\":{\"outlinewidth\":0,\"ticks\":\"\"},\"colorscale\":[[0.0,\"#0d0887\"],[0.1111111111111111,\"#46039f\"],[0.2222222222222222,\"#7201a8\"],[0.3333333333333333,\"#9c179e\"],[0.4444444444444444,\"#bd3786\"],[0.5555555555555556,\"#d8576b\"],[0.6666666666666666,\"#ed7953\"],[0.7777777777777778,\"#fb9f3a\"],[0.8888888888888888,\"#fdca26\"],[1.0,\"#f0f921\"]]}],\"surface\":[{\"type\":\"surface\",\"colorbar\":{\"outlinewidth\":0,\"ticks\":\"\"},\"colorscale\":[[0.0,\"#0d0887\"],[0.1111111111111111,\"#46039f\"],[0.2222222222222222,\"#7201a8\"],[0.3333333333333333,\"#9c179e\"],[0.4444444444444444,\"#bd3786\"],[0.5555555555555556,\"#d8576b\"],[0.6666666666666666,\"#ed7953\"],[0.7777777777777778,\"#fb9f3a\"],[0.8888888888888888,\"#fdca26\"],[1.0,\"#f0f921\"]]}],\"mesh3d\":[{\"type\":\"mesh3d\",\"colorbar\":{\"outlinewidth\":0,\"ticks\":\"\"}}],\"scatter\":[{\"fillpattern\":{\"fillmode\":\"overlay\",\"size\":10,\"solidity\":0.2},\"type\":\"scatter\"}],\"parcoords\":[{\"type\":\"parcoords\",\"line\":{\"colorbar\":{\"outlinewidth\":0,\"ticks\":\"\"}}}],\"scatterpolargl\":[{\"type\":\"scatterpolargl\",\"marker\":{\"colorbar\":{\"outlinewidth\":0,\"ticks\":\"\"}}}],\"bar\":[{\"error_x\":{\"color\":\"#2a3f5f\"},\"error_y\":{\"color\":\"#2a3f5f\"},\"marker\":{\"line\":{\"color\":\"#E5ECF6\",\"width\":0.5},\"pattern\":{\"fillmode\":\"overlay\",\"size\":10,\"solidity\":0.2}},\"type\":\"bar\"}],\"scattergeo\":[{\"type\":\"scattergeo\",\"marker\":{\"colorbar\":{\"outlinewidth\":0,\"ticks\":\"\"}}}],\"scatterpolar\":[{\"type\":\"scatterpolar\",\"marker\":{\"colorbar\":{\"outlinewidth\":0,\"ticks\":\"\"}}}],\"histogram\":[{\"marker\":{\"pattern\":{\"fillmode\":\"overlay\",\"size\":10,\"solidity\":0.2}},\"type\":\"histogram\"}],\"scattergl\":[{\"type\":\"scattergl\",\"marker\":{\"colorbar\":{\"outlinewidth\":0,\"ticks\":\"\"}}}],\"scatter3d\":[{\"type\":\"scatter3d\",\"line\":{\"colorbar\":{\"outlinewidth\":0,\"ticks\":\"\"}},\"marker\":{\"colorbar\":{\"outlinewidth\":0,\"ticks\":\"\"}}}],\"scattermapbox\":[{\"type\":\"scattermapbox\",\"marker\":{\"colorbar\":{\"outlinewidth\":0,\"ticks\":\"\"}}}],\"scatterternary\":[{\"type\":\"scatterternary\",\"marker\":{\"colorbar\":{\"outlinewidth\":0,\"ticks\":\"\"}}}],\"scattercarpet\":[{\"type\":\"scattercarpet\",\"marker\":{\"colorbar\":{\"outlinewidth\":0,\"ticks\":\"\"}}}],\"carpet\":[{\"aaxis\":{\"endlinecolor\":\"#2a3f5f\",\"gridcolor\":\"white\",\"linecolor\":\"white\",\"minorgridcolor\":\"white\",\"startlinecolor\":\"#2a3f5f\"},\"baxis\":{\"endlinecolor\":\"#2a3f5f\",\"gridcolor\":\"white\",\"linecolor\":\"white\",\"minorgridcolor\":\"white\",\"startlinecolor\":\"#2a3f5f\"},\"type\":\"carpet\"}],\"table\":[{\"cells\":{\"fill\":{\"color\":\"#EBF0F8\"},\"line\":{\"color\":\"white\"}},\"header\":{\"fill\":{\"color\":\"#C8D4E3\"},\"line\":{\"color\":\"white\"}},\"type\":\"table\"}],\"barpolar\":[{\"marker\":{\"line\":{\"color\":\"#E5ECF6\",\"width\":0.5},\"pattern\":{\"fillmode\":\"overlay\",\"size\":10,\"solidity\":0.2}},\"type\":\"barpolar\"}],\"pie\":[{\"automargin\":true,\"type\":\"pie\"}]},\"layout\":{\"autotypenumbers\":\"strict\",\"colorway\":[\"#636efa\",\"#EF553B\",\"#00cc96\",\"#ab63fa\",\"#FFA15A\",\"#19d3f3\",\"#FF6692\",\"#B6E880\",\"#FF97FF\",\"#FECB52\"],\"font\":{\"color\":\"#2a3f5f\"},\"hovermode\":\"closest\",\"hoverlabel\":{\"align\":\"left\"},\"paper_bgcolor\":\"white\",\"plot_bgcolor\":\"#E5ECF6\",\"polar\":{\"bgcolor\":\"#E5ECF6\",\"angularaxis\":{\"gridcolor\":\"white\",\"linecolor\":\"white\",\"ticks\":\"\"},\"radialaxis\":{\"gridcolor\":\"white\",\"linecolor\":\"white\",\"ticks\":\"\"}},\"ternary\":{\"bgcolor\":\"#E5ECF6\",\"aaxis\":{\"gridcolor\":\"white\",\"linecolor\":\"white\",\"ticks\":\"\"},\"baxis\":{\"gridcolor\":\"white\",\"linecolor\":\"white\",\"ticks\":\"\"},\"caxis\":{\"gridcolor\":\"white\",\"linecolor\":\"white\",\"ticks\":\"\"}},\"coloraxis\":{\"colorbar\":{\"outlinewidth\":0,\"ticks\":\"\"}},\"colorscale\":{\"sequential\":[[0.0,\"#0d0887\"],[0.1111111111111111,\"#46039f\"],[0.2222222222222222,\"#7201a8\"],[0.3333333333333333,\"#9c179e\"],[0.4444444444444444,\"#bd3786\"],[0.5555555555555556,\"#d8576b\"],[0.6666666666666666,\"#ed7953\"],[0.7777777777777778,\"#fb9f3a\"],[0.8888888888888888,\"#fdca26\"],[1.0,\"#f0f921\"]],\"sequentialminus\":[[0.0,\"#0d0887\"],[0.1111111111111111,\"#46039f\"],[0.2222222222222222,\"#7201a8\"],[0.3333333333333333,\"#9c179e\"],[0.4444444444444444,\"#bd3786\"],[0.5555555555555556,\"#d8576b\"],[0.6666666666666666,\"#ed7953\"],[0.7777777777777778,\"#fb9f3a\"],[0.8888888888888888,\"#fdca26\"],[1.0,\"#f0f921\"]],\"diverging\":[[0,\"#8e0152\"],[0.1,\"#c51b7d\"],[0.2,\"#de77ae\"],[0.3,\"#f1b6da\"],[0.4,\"#fde0ef\"],[0.5,\"#f7f7f7\"],[0.6,\"#e6f5d0\"],[0.7,\"#b8e186\"],[0.8,\"#7fbc41\"],[0.9,\"#4d9221\"],[1,\"#276419\"]]},\"xaxis\":{\"gridcolor\":\"white\",\"linecolor\":\"white\",\"ticks\":\"\",\"title\":{\"standoff\":15},\"zerolinecolor\":\"white\",\"automargin\":true,\"zerolinewidth\":2},\"yaxis\":{\"gridcolor\":\"white\",\"linecolor\":\"white\",\"ticks\":\"\",\"title\":{\"standoff\":15},\"zerolinecolor\":\"white\",\"automargin\":true,\"zerolinewidth\":2},\"scene\":{\"xaxis\":{\"backgroundcolor\":\"#E5ECF6\",\"gridcolor\":\"white\",\"linecolor\":\"white\",\"showbackground\":true,\"ticks\":\"\",\"zerolinecolor\":\"white\",\"gridwidth\":2},\"yaxis\":{\"backgroundcolor\":\"#E5ECF6\",\"gridcolor\":\"white\",\"linecolor\":\"white\",\"showbackground\":true,\"ticks\":\"\",\"zerolinecolor\":\"white\",\"gridwidth\":2},\"zaxis\":{\"backgroundcolor\":\"#E5ECF6\",\"gridcolor\":\"white\",\"linecolor\":\"white\",\"showbackground\":true,\"ticks\":\"\",\"zerolinecolor\":\"white\",\"gridwidth\":2}},\"shapedefaults\":{\"line\":{\"color\":\"#2a3f5f\"}},\"annotationdefaults\":{\"arrowcolor\":\"#2a3f5f\",\"arrowhead\":0,\"arrowwidth\":1},\"geo\":{\"bgcolor\":\"white\",\"landcolor\":\"#E5ECF6\",\"subunitcolor\":\"white\",\"showland\":true,\"showlakes\":true,\"lakecolor\":\"white\"},\"title\":{\"x\":0.05},\"mapbox\":{\"style\":\"light\"}}},\"title\":{\"text\":\"Basic Sankey Diagram KC, 16 clones (excluding clones in all 3 time points)\"},\"font\":{\"size\":10}},                        {\"responsive\": true}                    ).then(function(){\n",
       "                            \n",
       "var gd = document.getElementById('2139e013-00fb-4590-a05c-a8cc7a13e10c');\n",
       "var x = new MutationObserver(function (mutations, observer) {{\n",
       "        var display = window.getComputedStyle(gd).display;\n",
       "        if (!display || display === 'none') {{\n",
       "            console.log([gd, 'removed!']);\n",
       "            Plotly.purge(gd);\n",
       "            observer.disconnect();\n",
       "        }}\n",
       "}});\n",
       "\n",
       "// Listen for the removal of the full notebook cells\n",
       "var notebookContainer = gd.closest('#notebook-container');\n",
       "if (notebookContainer) {{\n",
       "    x.observe(notebookContainer, {childList: true});\n",
       "}}\n",
       "\n",
       "// Listen for the clearing of the current output cell\n",
       "var outputEl = gd.closest('.output');\n",
       "if (outputEl) {{\n",
       "    x.observe(outputEl, {childList: true});\n",
       "}}\n",
       "\n",
       "                        })                };                });            </script>        </div>"
      ]
     },
     "metadata": {},
     "output_type": "display_data"
    },
    {
     "data": {
      "application/vnd.plotly.v1+json": {
       "config": {
        "plotlyServerURL": "https://plot.ly"
       },
       "data": [
        {
         "link": {
          "source": [
           0,
           1,
           0,
           1,
           0,
           1,
           0,
           1,
           0,
           1,
           0,
           1,
           0,
           1,
           0,
           1,
           0,
           1,
           0,
           1,
           0,
           1,
           0,
           1,
           0,
           1,
           0,
           1,
           0,
           1,
           0,
           1,
           0,
           1,
           0,
           1,
           0,
           1,
           0,
           1,
           0,
           1,
           0,
           1,
           0,
           1,
           0,
           1,
           0,
           1,
           0,
           1,
           0,
           1,
           0,
           1,
           0,
           1,
           0,
           1,
           0,
           1,
           0,
           1,
           0,
           1,
           0,
           1,
           0,
           1,
           0,
           1,
           0,
           1,
           0,
           1,
           0,
           1,
           0,
           1,
           0,
           1,
           0,
           1,
           0,
           1,
           0,
           1,
           0,
           1,
           0,
           1,
           0,
           1,
           0,
           1,
           0,
           1,
           0,
           1,
           0,
           1,
           0,
           1,
           0,
           1,
           0,
           1,
           0,
           1,
           0,
           1,
           0,
           1,
           0,
           1,
           0,
           1,
           0,
           1,
           0,
           1,
           0,
           1,
           0,
           1,
           0,
           1,
           0,
           1,
           0,
           1,
           0,
           1,
           0,
           1,
           0,
           1,
           0,
           1,
           0,
           1,
           0,
           1,
           0,
           1,
           0,
           1,
           0,
           1,
           0,
           1,
           0,
           1,
           0,
           1,
           0,
           1,
           0,
           1
          ],
          "target": [
           2,
           2,
           2,
           2,
           2,
           2,
           2,
           2,
           2,
           2,
           2,
           2,
           2,
           2,
           2,
           2,
           2,
           2,
           2,
           2,
           2,
           2,
           2,
           2,
           2,
           2,
           2,
           2,
           2,
           2,
           2,
           2,
           2,
           2,
           2,
           2,
           2,
           2,
           2,
           2,
           2,
           2,
           2,
           2,
           2,
           2,
           2,
           2,
           2,
           2,
           2,
           2,
           2,
           2,
           2,
           2,
           2,
           2,
           2,
           2,
           2,
           2,
           2,
           2,
           2,
           2,
           2,
           2,
           2,
           2,
           2,
           2,
           2,
           2,
           2,
           2,
           2,
           2,
           2,
           2,
           2,
           2,
           2,
           2,
           2,
           2,
           2,
           2,
           2,
           2,
           2,
           2,
           2,
           2,
           2,
           2,
           2,
           2,
           2,
           2,
           2,
           2,
           2,
           2,
           2,
           2,
           2,
           2,
           2,
           2,
           2,
           2,
           2,
           2,
           2,
           2,
           2,
           2,
           2,
           2,
           2,
           2,
           2,
           2,
           2,
           2,
           2,
           2,
           2,
           2,
           2,
           2,
           2,
           2,
           2,
           2,
           2,
           2,
           2,
           2,
           2,
           2,
           2,
           2,
           2,
           2,
           2,
           2,
           2,
           2,
           2,
           2,
           2,
           2,
           2,
           2,
           2,
           2,
           2,
           2
          ],
          "value": [
           1,
           0,
           0,
           1,
           0,
           1,
           0,
           1,
           1,
           0,
           0,
           1,
           0,
           1,
           0,
           1,
           0,
           1,
           0,
           1,
           0,
           1,
           0,
           1,
           0,
           1,
           0,
           1,
           0,
           1,
           0,
           1,
           0,
           1,
           0,
           1,
           0,
           1,
           1,
           0,
           0,
           1,
           0,
           1,
           0,
           1,
           0,
           1,
           0,
           1,
           0,
           1,
           1,
           0,
           0,
           1,
           0,
           1,
           0,
           1,
           0,
           1,
           0,
           1,
           0,
           1,
           0,
           1,
           0,
           1,
           0,
           1,
           0,
           1,
           0,
           1,
           1,
           0,
           0,
           1,
           1,
           0,
           0,
           1,
           0,
           1,
           0,
           1,
           0,
           1,
           0,
           1,
           0,
           1,
           0,
           1,
           0,
           1,
           0,
           1,
           0,
           1,
           0,
           1,
           0,
           1,
           1,
           0,
           0,
           1,
           0,
           1,
           1,
           0,
           0,
           1,
           0,
           1,
           0,
           1,
           0,
           1,
           0,
           1,
           0,
           1,
           0,
           1,
           1,
           0,
           0,
           1,
           0,
           1,
           1,
           0,
           0,
           1,
           0,
           1,
           0,
           1,
           1,
           0,
           0,
           1,
           0,
           1,
           0,
           1,
           0,
           1,
           0,
           1,
           0,
           1,
           1,
           0,
           1,
           0
          ]
         },
         "node": {
          "color": [
           "blue",
           "red",
           "orange"
          ],
          "label": [
           "PRE",
           "DLI",
           "POST"
          ],
          "line": {
           "color": "black",
           "width": 0.5
          },
          "pad": 2,
          "thickness": 20
         },
         "type": "sankey"
        }
       ],
       "layout": {
        "font": {
         "size": 10
        },
        "template": {
         "data": {
          "bar": [
           {
            "error_x": {
             "color": "#2a3f5f"
            },
            "error_y": {
             "color": "#2a3f5f"
            },
            "marker": {
             "line": {
              "color": "#E5ECF6",
              "width": 0.5
             },
             "pattern": {
              "fillmode": "overlay",
              "size": 10,
              "solidity": 0.2
             }
            },
            "type": "bar"
           }
          ],
          "barpolar": [
           {
            "marker": {
             "line": {
              "color": "#E5ECF6",
              "width": 0.5
             },
             "pattern": {
              "fillmode": "overlay",
              "size": 10,
              "solidity": 0.2
             }
            },
            "type": "barpolar"
           }
          ],
          "carpet": [
           {
            "aaxis": {
             "endlinecolor": "#2a3f5f",
             "gridcolor": "white",
             "linecolor": "white",
             "minorgridcolor": "white",
             "startlinecolor": "#2a3f5f"
            },
            "baxis": {
             "endlinecolor": "#2a3f5f",
             "gridcolor": "white",
             "linecolor": "white",
             "minorgridcolor": "white",
             "startlinecolor": "#2a3f5f"
            },
            "type": "carpet"
           }
          ],
          "choropleth": [
           {
            "colorbar": {
             "outlinewidth": 0,
             "ticks": ""
            },
            "type": "choropleth"
           }
          ],
          "contour": [
           {
            "colorbar": {
             "outlinewidth": 0,
             "ticks": ""
            },
            "colorscale": [
             [
              0,
              "#0d0887"
             ],
             [
              0.1111111111111111,
              "#46039f"
             ],
             [
              0.2222222222222222,
              "#7201a8"
             ],
             [
              0.3333333333333333,
              "#9c179e"
             ],
             [
              0.4444444444444444,
              "#bd3786"
             ],
             [
              0.5555555555555556,
              "#d8576b"
             ],
             [
              0.6666666666666666,
              "#ed7953"
             ],
             [
              0.7777777777777778,
              "#fb9f3a"
             ],
             [
              0.8888888888888888,
              "#fdca26"
             ],
             [
              1,
              "#f0f921"
             ]
            ],
            "type": "contour"
           }
          ],
          "contourcarpet": [
           {
            "colorbar": {
             "outlinewidth": 0,
             "ticks": ""
            },
            "type": "contourcarpet"
           }
          ],
          "heatmap": [
           {
            "colorbar": {
             "outlinewidth": 0,
             "ticks": ""
            },
            "colorscale": [
             [
              0,
              "#0d0887"
             ],
             [
              0.1111111111111111,
              "#46039f"
             ],
             [
              0.2222222222222222,
              "#7201a8"
             ],
             [
              0.3333333333333333,
              "#9c179e"
             ],
             [
              0.4444444444444444,
              "#bd3786"
             ],
             [
              0.5555555555555556,
              "#d8576b"
             ],
             [
              0.6666666666666666,
              "#ed7953"
             ],
             [
              0.7777777777777778,
              "#fb9f3a"
             ],
             [
              0.8888888888888888,
              "#fdca26"
             ],
             [
              1,
              "#f0f921"
             ]
            ],
            "type": "heatmap"
           }
          ],
          "heatmapgl": [
           {
            "colorbar": {
             "outlinewidth": 0,
             "ticks": ""
            },
            "colorscale": [
             [
              0,
              "#0d0887"
             ],
             [
              0.1111111111111111,
              "#46039f"
             ],
             [
              0.2222222222222222,
              "#7201a8"
             ],
             [
              0.3333333333333333,
              "#9c179e"
             ],
             [
              0.4444444444444444,
              "#bd3786"
             ],
             [
              0.5555555555555556,
              "#d8576b"
             ],
             [
              0.6666666666666666,
              "#ed7953"
             ],
             [
              0.7777777777777778,
              "#fb9f3a"
             ],
             [
              0.8888888888888888,
              "#fdca26"
             ],
             [
              1,
              "#f0f921"
             ]
            ],
            "type": "heatmapgl"
           }
          ],
          "histogram": [
           {
            "marker": {
             "pattern": {
              "fillmode": "overlay",
              "size": 10,
              "solidity": 0.2
             }
            },
            "type": "histogram"
           }
          ],
          "histogram2d": [
           {
            "colorbar": {
             "outlinewidth": 0,
             "ticks": ""
            },
            "colorscale": [
             [
              0,
              "#0d0887"
             ],
             [
              0.1111111111111111,
              "#46039f"
             ],
             [
              0.2222222222222222,
              "#7201a8"
             ],
             [
              0.3333333333333333,
              "#9c179e"
             ],
             [
              0.4444444444444444,
              "#bd3786"
             ],
             [
              0.5555555555555556,
              "#d8576b"
             ],
             [
              0.6666666666666666,
              "#ed7953"
             ],
             [
              0.7777777777777778,
              "#fb9f3a"
             ],
             [
              0.8888888888888888,
              "#fdca26"
             ],
             [
              1,
              "#f0f921"
             ]
            ],
            "type": "histogram2d"
           }
          ],
          "histogram2dcontour": [
           {
            "colorbar": {
             "outlinewidth": 0,
             "ticks": ""
            },
            "colorscale": [
             [
              0,
              "#0d0887"
             ],
             [
              0.1111111111111111,
              "#46039f"
             ],
             [
              0.2222222222222222,
              "#7201a8"
             ],
             [
              0.3333333333333333,
              "#9c179e"
             ],
             [
              0.4444444444444444,
              "#bd3786"
             ],
             [
              0.5555555555555556,
              "#d8576b"
             ],
             [
              0.6666666666666666,
              "#ed7953"
             ],
             [
              0.7777777777777778,
              "#fb9f3a"
             ],
             [
              0.8888888888888888,
              "#fdca26"
             ],
             [
              1,
              "#f0f921"
             ]
            ],
            "type": "histogram2dcontour"
           }
          ],
          "mesh3d": [
           {
            "colorbar": {
             "outlinewidth": 0,
             "ticks": ""
            },
            "type": "mesh3d"
           }
          ],
          "parcoords": [
           {
            "line": {
             "colorbar": {
              "outlinewidth": 0,
              "ticks": ""
             }
            },
            "type": "parcoords"
           }
          ],
          "pie": [
           {
            "automargin": true,
            "type": "pie"
           }
          ],
          "scatter": [
           {
            "fillpattern": {
             "fillmode": "overlay",
             "size": 10,
             "solidity": 0.2
            },
            "type": "scatter"
           }
          ],
          "scatter3d": [
           {
            "line": {
             "colorbar": {
              "outlinewidth": 0,
              "ticks": ""
             }
            },
            "marker": {
             "colorbar": {
              "outlinewidth": 0,
              "ticks": ""
             }
            },
            "type": "scatter3d"
           }
          ],
          "scattercarpet": [
           {
            "marker": {
             "colorbar": {
              "outlinewidth": 0,
              "ticks": ""
             }
            },
            "type": "scattercarpet"
           }
          ],
          "scattergeo": [
           {
            "marker": {
             "colorbar": {
              "outlinewidth": 0,
              "ticks": ""
             }
            },
            "type": "scattergeo"
           }
          ],
          "scattergl": [
           {
            "marker": {
             "colorbar": {
              "outlinewidth": 0,
              "ticks": ""
             }
            },
            "type": "scattergl"
           }
          ],
          "scattermapbox": [
           {
            "marker": {
             "colorbar": {
              "outlinewidth": 0,
              "ticks": ""
             }
            },
            "type": "scattermapbox"
           }
          ],
          "scatterpolar": [
           {
            "marker": {
             "colorbar": {
              "outlinewidth": 0,
              "ticks": ""
             }
            },
            "type": "scatterpolar"
           }
          ],
          "scatterpolargl": [
           {
            "marker": {
             "colorbar": {
              "outlinewidth": 0,
              "ticks": ""
             }
            },
            "type": "scatterpolargl"
           }
          ],
          "scatterternary": [
           {
            "marker": {
             "colorbar": {
              "outlinewidth": 0,
              "ticks": ""
             }
            },
            "type": "scatterternary"
           }
          ],
          "surface": [
           {
            "colorbar": {
             "outlinewidth": 0,
             "ticks": ""
            },
            "colorscale": [
             [
              0,
              "#0d0887"
             ],
             [
              0.1111111111111111,
              "#46039f"
             ],
             [
              0.2222222222222222,
              "#7201a8"
             ],
             [
              0.3333333333333333,
              "#9c179e"
             ],
             [
              0.4444444444444444,
              "#bd3786"
             ],
             [
              0.5555555555555556,
              "#d8576b"
             ],
             [
              0.6666666666666666,
              "#ed7953"
             ],
             [
              0.7777777777777778,
              "#fb9f3a"
             ],
             [
              0.8888888888888888,
              "#fdca26"
             ],
             [
              1,
              "#f0f921"
             ]
            ],
            "type": "surface"
           }
          ],
          "table": [
           {
            "cells": {
             "fill": {
              "color": "#EBF0F8"
             },
             "line": {
              "color": "white"
             }
            },
            "header": {
             "fill": {
              "color": "#C8D4E3"
             },
             "line": {
              "color": "white"
             }
            },
            "type": "table"
           }
          ]
         },
         "layout": {
          "annotationdefaults": {
           "arrowcolor": "#2a3f5f",
           "arrowhead": 0,
           "arrowwidth": 1
          },
          "autotypenumbers": "strict",
          "coloraxis": {
           "colorbar": {
            "outlinewidth": 0,
            "ticks": ""
           }
          },
          "colorscale": {
           "diverging": [
            [
             0,
             "#8e0152"
            ],
            [
             0.1,
             "#c51b7d"
            ],
            [
             0.2,
             "#de77ae"
            ],
            [
             0.3,
             "#f1b6da"
            ],
            [
             0.4,
             "#fde0ef"
            ],
            [
             0.5,
             "#f7f7f7"
            ],
            [
             0.6,
             "#e6f5d0"
            ],
            [
             0.7,
             "#b8e186"
            ],
            [
             0.8,
             "#7fbc41"
            ],
            [
             0.9,
             "#4d9221"
            ],
            [
             1,
             "#276419"
            ]
           ],
           "sequential": [
            [
             0,
             "#0d0887"
            ],
            [
             0.1111111111111111,
             "#46039f"
            ],
            [
             0.2222222222222222,
             "#7201a8"
            ],
            [
             0.3333333333333333,
             "#9c179e"
            ],
            [
             0.4444444444444444,
             "#bd3786"
            ],
            [
             0.5555555555555556,
             "#d8576b"
            ],
            [
             0.6666666666666666,
             "#ed7953"
            ],
            [
             0.7777777777777778,
             "#fb9f3a"
            ],
            [
             0.8888888888888888,
             "#fdca26"
            ],
            [
             1,
             "#f0f921"
            ]
           ],
           "sequentialminus": [
            [
             0,
             "#0d0887"
            ],
            [
             0.1111111111111111,
             "#46039f"
            ],
            [
             0.2222222222222222,
             "#7201a8"
            ],
            [
             0.3333333333333333,
             "#9c179e"
            ],
            [
             0.4444444444444444,
             "#bd3786"
            ],
            [
             0.5555555555555556,
             "#d8576b"
            ],
            [
             0.6666666666666666,
             "#ed7953"
            ],
            [
             0.7777777777777778,
             "#fb9f3a"
            ],
            [
             0.8888888888888888,
             "#fdca26"
            ],
            [
             1,
             "#f0f921"
            ]
           ]
          },
          "colorway": [
           "#636efa",
           "#EF553B",
           "#00cc96",
           "#ab63fa",
           "#FFA15A",
           "#19d3f3",
           "#FF6692",
           "#B6E880",
           "#FF97FF",
           "#FECB52"
          ],
          "font": {
           "color": "#2a3f5f"
          },
          "geo": {
           "bgcolor": "white",
           "lakecolor": "white",
           "landcolor": "#E5ECF6",
           "showlakes": true,
           "showland": true,
           "subunitcolor": "white"
          },
          "hoverlabel": {
           "align": "left"
          },
          "hovermode": "closest",
          "mapbox": {
           "style": "light"
          },
          "paper_bgcolor": "white",
          "plot_bgcolor": "#E5ECF6",
          "polar": {
           "angularaxis": {
            "gridcolor": "white",
            "linecolor": "white",
            "ticks": ""
           },
           "bgcolor": "#E5ECF6",
           "radialaxis": {
            "gridcolor": "white",
            "linecolor": "white",
            "ticks": ""
           }
          },
          "scene": {
           "xaxis": {
            "backgroundcolor": "#E5ECF6",
            "gridcolor": "white",
            "gridwidth": 2,
            "linecolor": "white",
            "showbackground": true,
            "ticks": "",
            "zerolinecolor": "white"
           },
           "yaxis": {
            "backgroundcolor": "#E5ECF6",
            "gridcolor": "white",
            "gridwidth": 2,
            "linecolor": "white",
            "showbackground": true,
            "ticks": "",
            "zerolinecolor": "white"
           },
           "zaxis": {
            "backgroundcolor": "#E5ECF6",
            "gridcolor": "white",
            "gridwidth": 2,
            "linecolor": "white",
            "showbackground": true,
            "ticks": "",
            "zerolinecolor": "white"
           }
          },
          "shapedefaults": {
           "line": {
            "color": "#2a3f5f"
           }
          },
          "ternary": {
           "aaxis": {
            "gridcolor": "white",
            "linecolor": "white",
            "ticks": ""
           },
           "baxis": {
            "gridcolor": "white",
            "linecolor": "white",
            "ticks": ""
           },
           "bgcolor": "#E5ECF6",
           "caxis": {
            "gridcolor": "white",
            "linecolor": "white",
            "ticks": ""
           }
          },
          "title": {
           "x": 0.05
          },
          "xaxis": {
           "automargin": true,
           "gridcolor": "white",
           "linecolor": "white",
           "ticks": "",
           "title": {
            "standoff": 15
           },
           "zerolinecolor": "white",
           "zerolinewidth": 2
          },
          "yaxis": {
           "automargin": true,
           "gridcolor": "white",
           "linecolor": "white",
           "ticks": "",
           "title": {
            "standoff": 15
           },
           "zerolinecolor": "white",
           "zerolinewidth": 2
          }
         }
        },
        "title": {
         "text": "Basic Sankey Diagram LB, 80 clones (excluding clones in all 3 time points)"
        }
       }
      },
      "text/html": [
       "<div>                            <div id=\"53a9a262-6646-4393-b802-35b6b8e019ca\" class=\"plotly-graph-div\" style=\"height:525px; width:100%;\"></div>            <script type=\"text/javascript\">                require([\"plotly\"], function(Plotly) {                    window.PLOTLYENV=window.PLOTLYENV || {};                                    if (document.getElementById(\"53a9a262-6646-4393-b802-35b6b8e019ca\")) {                    Plotly.newPlot(                        \"53a9a262-6646-4393-b802-35b6b8e019ca\",                        [{\"link\":{\"source\":[0,1,0,1,0,1,0,1,0,1,0,1,0,1,0,1,0,1,0,1,0,1,0,1,0,1,0,1,0,1,0,1,0,1,0,1,0,1,0,1,0,1,0,1,0,1,0,1,0,1,0,1,0,1,0,1,0,1,0,1,0,1,0,1,0,1,0,1,0,1,0,1,0,1,0,1,0,1,0,1,0,1,0,1,0,1,0,1,0,1,0,1,0,1,0,1,0,1,0,1,0,1,0,1,0,1,0,1,0,1,0,1,0,1,0,1,0,1,0,1,0,1,0,1,0,1,0,1,0,1,0,1,0,1,0,1,0,1,0,1,0,1,0,1,0,1,0,1,0,1,0,1,0,1,0,1,0,1,0,1],\"target\":[2,2,2,2,2,2,2,2,2,2,2,2,2,2,2,2,2,2,2,2,2,2,2,2,2,2,2,2,2,2,2,2,2,2,2,2,2,2,2,2,2,2,2,2,2,2,2,2,2,2,2,2,2,2,2,2,2,2,2,2,2,2,2,2,2,2,2,2,2,2,2,2,2,2,2,2,2,2,2,2,2,2,2,2,2,2,2,2,2,2,2,2,2,2,2,2,2,2,2,2,2,2,2,2,2,2,2,2,2,2,2,2,2,2,2,2,2,2,2,2,2,2,2,2,2,2,2,2,2,2,2,2,2,2,2,2,2,2,2,2,2,2,2,2,2,2,2,2,2,2,2,2,2,2,2,2,2,2,2,2],\"value\":[1,0,0,1,0,1,0,1,1,0,0,1,0,1,0,1,0,1,0,1,0,1,0,1,0,1,0,1,0,1,0,1,0,1,0,1,0,1,1,0,0,1,0,1,0,1,0,1,0,1,0,1,1,0,0,1,0,1,0,1,0,1,0,1,0,1,0,1,0,1,0,1,0,1,0,1,1,0,0,1,1,0,0,1,0,1,0,1,0,1,0,1,0,1,0,1,0,1,0,1,0,1,0,1,0,1,1,0,0,1,0,1,1,0,0,1,0,1,0,1,0,1,0,1,0,1,0,1,1,0,0,1,0,1,1,0,0,1,0,1,0,1,1,0,0,1,0,1,0,1,0,1,0,1,0,1,1,0,1,0]},\"node\":{\"color\":[\"blue\",\"red\",\"orange\"],\"label\":[\"PRE\",\"DLI\",\"POST\"],\"line\":{\"color\":\"black\",\"width\":0.5},\"pad\":2,\"thickness\":20},\"type\":\"sankey\"}],                        {\"template\":{\"data\":{\"histogram2dcontour\":[{\"type\":\"histogram2dcontour\",\"colorbar\":{\"outlinewidth\":0,\"ticks\":\"\"},\"colorscale\":[[0.0,\"#0d0887\"],[0.1111111111111111,\"#46039f\"],[0.2222222222222222,\"#7201a8\"],[0.3333333333333333,\"#9c179e\"],[0.4444444444444444,\"#bd3786\"],[0.5555555555555556,\"#d8576b\"],[0.6666666666666666,\"#ed7953\"],[0.7777777777777778,\"#fb9f3a\"],[0.8888888888888888,\"#fdca26\"],[1.0,\"#f0f921\"]]}],\"choropleth\":[{\"type\":\"choropleth\",\"colorbar\":{\"outlinewidth\":0,\"ticks\":\"\"}}],\"histogram2d\":[{\"type\":\"histogram2d\",\"colorbar\":{\"outlinewidth\":0,\"ticks\":\"\"},\"colorscale\":[[0.0,\"#0d0887\"],[0.1111111111111111,\"#46039f\"],[0.2222222222222222,\"#7201a8\"],[0.3333333333333333,\"#9c179e\"],[0.4444444444444444,\"#bd3786\"],[0.5555555555555556,\"#d8576b\"],[0.6666666666666666,\"#ed7953\"],[0.7777777777777778,\"#fb9f3a\"],[0.8888888888888888,\"#fdca26\"],[1.0,\"#f0f921\"]]}],\"heatmap\":[{\"type\":\"heatmap\",\"colorbar\":{\"outlinewidth\":0,\"ticks\":\"\"},\"colorscale\":[[0.0,\"#0d0887\"],[0.1111111111111111,\"#46039f\"],[0.2222222222222222,\"#7201a8\"],[0.3333333333333333,\"#9c179e\"],[0.4444444444444444,\"#bd3786\"],[0.5555555555555556,\"#d8576b\"],[0.6666666666666666,\"#ed7953\"],[0.7777777777777778,\"#fb9f3a\"],[0.8888888888888888,\"#fdca26\"],[1.0,\"#f0f921\"]]}],\"heatmapgl\":[{\"type\":\"heatmapgl\",\"colorbar\":{\"outlinewidth\":0,\"ticks\":\"\"},\"colorscale\":[[0.0,\"#0d0887\"],[0.1111111111111111,\"#46039f\"],[0.2222222222222222,\"#7201a8\"],[0.3333333333333333,\"#9c179e\"],[0.4444444444444444,\"#bd3786\"],[0.5555555555555556,\"#d8576b\"],[0.6666666666666666,\"#ed7953\"],[0.7777777777777778,\"#fb9f3a\"],[0.8888888888888888,\"#fdca26\"],[1.0,\"#f0f921\"]]}],\"contourcarpet\":[{\"type\":\"contourcarpet\",\"colorbar\":{\"outlinewidth\":0,\"ticks\":\"\"}}],\"contour\":[{\"type\":\"contour\",\"colorbar\":{\"outlinewidth\":0,\"ticks\":\"\"},\"colorscale\":[[0.0,\"#0d0887\"],[0.1111111111111111,\"#46039f\"],[0.2222222222222222,\"#7201a8\"],[0.3333333333333333,\"#9c179e\"],[0.4444444444444444,\"#bd3786\"],[0.5555555555555556,\"#d8576b\"],[0.6666666666666666,\"#ed7953\"],[0.7777777777777778,\"#fb9f3a\"],[0.8888888888888888,\"#fdca26\"],[1.0,\"#f0f921\"]]}],\"surface\":[{\"type\":\"surface\",\"colorbar\":{\"outlinewidth\":0,\"ticks\":\"\"},\"colorscale\":[[0.0,\"#0d0887\"],[0.1111111111111111,\"#46039f\"],[0.2222222222222222,\"#7201a8\"],[0.3333333333333333,\"#9c179e\"],[0.4444444444444444,\"#bd3786\"],[0.5555555555555556,\"#d8576b\"],[0.6666666666666666,\"#ed7953\"],[0.7777777777777778,\"#fb9f3a\"],[0.8888888888888888,\"#fdca26\"],[1.0,\"#f0f921\"]]}],\"mesh3d\":[{\"type\":\"mesh3d\",\"colorbar\":{\"outlinewidth\":0,\"ticks\":\"\"}}],\"scatter\":[{\"fillpattern\":{\"fillmode\":\"overlay\",\"size\":10,\"solidity\":0.2},\"type\":\"scatter\"}],\"parcoords\":[{\"type\":\"parcoords\",\"line\":{\"colorbar\":{\"outlinewidth\":0,\"ticks\":\"\"}}}],\"scatterpolargl\":[{\"type\":\"scatterpolargl\",\"marker\":{\"colorbar\":{\"outlinewidth\":0,\"ticks\":\"\"}}}],\"bar\":[{\"error_x\":{\"color\":\"#2a3f5f\"},\"error_y\":{\"color\":\"#2a3f5f\"},\"marker\":{\"line\":{\"color\":\"#E5ECF6\",\"width\":0.5},\"pattern\":{\"fillmode\":\"overlay\",\"size\":10,\"solidity\":0.2}},\"type\":\"bar\"}],\"scattergeo\":[{\"type\":\"scattergeo\",\"marker\":{\"colorbar\":{\"outlinewidth\":0,\"ticks\":\"\"}}}],\"scatterpolar\":[{\"type\":\"scatterpolar\",\"marker\":{\"colorbar\":{\"outlinewidth\":0,\"ticks\":\"\"}}}],\"histogram\":[{\"marker\":{\"pattern\":{\"fillmode\":\"overlay\",\"size\":10,\"solidity\":0.2}},\"type\":\"histogram\"}],\"scattergl\":[{\"type\":\"scattergl\",\"marker\":{\"colorbar\":{\"outlinewidth\":0,\"ticks\":\"\"}}}],\"scatter3d\":[{\"type\":\"scatter3d\",\"line\":{\"colorbar\":{\"outlinewidth\":0,\"ticks\":\"\"}},\"marker\":{\"colorbar\":{\"outlinewidth\":0,\"ticks\":\"\"}}}],\"scattermapbox\":[{\"type\":\"scattermapbox\",\"marker\":{\"colorbar\":{\"outlinewidth\":0,\"ticks\":\"\"}}}],\"scatterternary\":[{\"type\":\"scatterternary\",\"marker\":{\"colorbar\":{\"outlinewidth\":0,\"ticks\":\"\"}}}],\"scattercarpet\":[{\"type\":\"scattercarpet\",\"marker\":{\"colorbar\":{\"outlinewidth\":0,\"ticks\":\"\"}}}],\"carpet\":[{\"aaxis\":{\"endlinecolor\":\"#2a3f5f\",\"gridcolor\":\"white\",\"linecolor\":\"white\",\"minorgridcolor\":\"white\",\"startlinecolor\":\"#2a3f5f\"},\"baxis\":{\"endlinecolor\":\"#2a3f5f\",\"gridcolor\":\"white\",\"linecolor\":\"white\",\"minorgridcolor\":\"white\",\"startlinecolor\":\"#2a3f5f\"},\"type\":\"carpet\"}],\"table\":[{\"cells\":{\"fill\":{\"color\":\"#EBF0F8\"},\"line\":{\"color\":\"white\"}},\"header\":{\"fill\":{\"color\":\"#C8D4E3\"},\"line\":{\"color\":\"white\"}},\"type\":\"table\"}],\"barpolar\":[{\"marker\":{\"line\":{\"color\":\"#E5ECF6\",\"width\":0.5},\"pattern\":{\"fillmode\":\"overlay\",\"size\":10,\"solidity\":0.2}},\"type\":\"barpolar\"}],\"pie\":[{\"automargin\":true,\"type\":\"pie\"}]},\"layout\":{\"autotypenumbers\":\"strict\",\"colorway\":[\"#636efa\",\"#EF553B\",\"#00cc96\",\"#ab63fa\",\"#FFA15A\",\"#19d3f3\",\"#FF6692\",\"#B6E880\",\"#FF97FF\",\"#FECB52\"],\"font\":{\"color\":\"#2a3f5f\"},\"hovermode\":\"closest\",\"hoverlabel\":{\"align\":\"left\"},\"paper_bgcolor\":\"white\",\"plot_bgcolor\":\"#E5ECF6\",\"polar\":{\"bgcolor\":\"#E5ECF6\",\"angularaxis\":{\"gridcolor\":\"white\",\"linecolor\":\"white\",\"ticks\":\"\"},\"radialaxis\":{\"gridcolor\":\"white\",\"linecolor\":\"white\",\"ticks\":\"\"}},\"ternary\":{\"bgcolor\":\"#E5ECF6\",\"aaxis\":{\"gridcolor\":\"white\",\"linecolor\":\"white\",\"ticks\":\"\"},\"baxis\":{\"gridcolor\":\"white\",\"linecolor\":\"white\",\"ticks\":\"\"},\"caxis\":{\"gridcolor\":\"white\",\"linecolor\":\"white\",\"ticks\":\"\"}},\"coloraxis\":{\"colorbar\":{\"outlinewidth\":0,\"ticks\":\"\"}},\"colorscale\":{\"sequential\":[[0.0,\"#0d0887\"],[0.1111111111111111,\"#46039f\"],[0.2222222222222222,\"#7201a8\"],[0.3333333333333333,\"#9c179e\"],[0.4444444444444444,\"#bd3786\"],[0.5555555555555556,\"#d8576b\"],[0.6666666666666666,\"#ed7953\"],[0.7777777777777778,\"#fb9f3a\"],[0.8888888888888888,\"#fdca26\"],[1.0,\"#f0f921\"]],\"sequentialminus\":[[0.0,\"#0d0887\"],[0.1111111111111111,\"#46039f\"],[0.2222222222222222,\"#7201a8\"],[0.3333333333333333,\"#9c179e\"],[0.4444444444444444,\"#bd3786\"],[0.5555555555555556,\"#d8576b\"],[0.6666666666666666,\"#ed7953\"],[0.7777777777777778,\"#fb9f3a\"],[0.8888888888888888,\"#fdca26\"],[1.0,\"#f0f921\"]],\"diverging\":[[0,\"#8e0152\"],[0.1,\"#c51b7d\"],[0.2,\"#de77ae\"],[0.3,\"#f1b6da\"],[0.4,\"#fde0ef\"],[0.5,\"#f7f7f7\"],[0.6,\"#e6f5d0\"],[0.7,\"#b8e186\"],[0.8,\"#7fbc41\"],[0.9,\"#4d9221\"],[1,\"#276419\"]]},\"xaxis\":{\"gridcolor\":\"white\",\"linecolor\":\"white\",\"ticks\":\"\",\"title\":{\"standoff\":15},\"zerolinecolor\":\"white\",\"automargin\":true,\"zerolinewidth\":2},\"yaxis\":{\"gridcolor\":\"white\",\"linecolor\":\"white\",\"ticks\":\"\",\"title\":{\"standoff\":15},\"zerolinecolor\":\"white\",\"automargin\":true,\"zerolinewidth\":2},\"scene\":{\"xaxis\":{\"backgroundcolor\":\"#E5ECF6\",\"gridcolor\":\"white\",\"linecolor\":\"white\",\"showbackground\":true,\"ticks\":\"\",\"zerolinecolor\":\"white\",\"gridwidth\":2},\"yaxis\":{\"backgroundcolor\":\"#E5ECF6\",\"gridcolor\":\"white\",\"linecolor\":\"white\",\"showbackground\":true,\"ticks\":\"\",\"zerolinecolor\":\"white\",\"gridwidth\":2},\"zaxis\":{\"backgroundcolor\":\"#E5ECF6\",\"gridcolor\":\"white\",\"linecolor\":\"white\",\"showbackground\":true,\"ticks\":\"\",\"zerolinecolor\":\"white\",\"gridwidth\":2}},\"shapedefaults\":{\"line\":{\"color\":\"#2a3f5f\"}},\"annotationdefaults\":{\"arrowcolor\":\"#2a3f5f\",\"arrowhead\":0,\"arrowwidth\":1},\"geo\":{\"bgcolor\":\"white\",\"landcolor\":\"#E5ECF6\",\"subunitcolor\":\"white\",\"showland\":true,\"showlakes\":true,\"lakecolor\":\"white\"},\"title\":{\"x\":0.05},\"mapbox\":{\"style\":\"light\"}}},\"title\":{\"text\":\"Basic Sankey Diagram LB, 80 clones (excluding clones in all 3 time points)\"},\"font\":{\"size\":10}},                        {\"responsive\": true}                    ).then(function(){\n",
       "                            \n",
       "var gd = document.getElementById('53a9a262-6646-4393-b802-35b6b8e019ca');\n",
       "var x = new MutationObserver(function (mutations, observer) {{\n",
       "        var display = window.getComputedStyle(gd).display;\n",
       "        if (!display || display === 'none') {{\n",
       "            console.log([gd, 'removed!']);\n",
       "            Plotly.purge(gd);\n",
       "            observer.disconnect();\n",
       "        }}\n",
       "}});\n",
       "\n",
       "// Listen for the removal of the full notebook cells\n",
       "var notebookContainer = gd.closest('#notebook-container');\n",
       "if (notebookContainer) {{\n",
       "    x.observe(notebookContainer, {childList: true});\n",
       "}}\n",
       "\n",
       "// Listen for the clearing of the current output cell\n",
       "var outputEl = gd.closest('.output');\n",
       "if (outputEl) {{\n",
       "    x.observe(outputEl, {childList: true});\n",
       "}}\n",
       "\n",
       "                        })                };                });            </script>        </div>"
      ]
     },
     "metadata": {},
     "output_type": "display_data"
    },
    {
     "data": {
      "application/vnd.plotly.v1+json": {
       "config": {
        "plotlyServerURL": "https://plot.ly"
       },
       "data": [
        {
         "link": {
          "source": [
           0,
           1,
           0,
           1,
           0,
           1,
           0,
           1,
           0,
           1,
           0,
           1,
           0,
           1,
           0,
           1,
           0,
           1,
           0,
           1,
           0,
           1,
           0,
           1,
           0,
           1,
           0,
           1,
           0,
           1,
           0,
           1,
           0,
           1,
           0,
           1,
           0,
           1,
           0,
           1,
           0,
           1,
           0,
           1,
           0,
           1,
           0,
           1,
           0,
           1,
           0,
           1,
           0,
           1,
           0,
           1,
           0,
           1,
           0,
           1,
           0,
           1,
           0,
           1,
           0,
           1,
           0,
           1,
           0,
           1,
           0,
           1,
           0,
           1
          ],
          "target": [
           2,
           2,
           2,
           2,
           2,
           2,
           2,
           2,
           2,
           2,
           2,
           2,
           2,
           2,
           2,
           2,
           2,
           2,
           2,
           2,
           2,
           2,
           2,
           2,
           2,
           2,
           2,
           2,
           2,
           2,
           2,
           2,
           2,
           2,
           2,
           2,
           2,
           2,
           2,
           2,
           2,
           2,
           2,
           2,
           2,
           2,
           2,
           2,
           2,
           2,
           2,
           2,
           2,
           2,
           2,
           2,
           2,
           2,
           2,
           2,
           2,
           2,
           2,
           2,
           2,
           2,
           2,
           2,
           2,
           2,
           2,
           2,
           2,
           2
          ],
          "value": [
           1,
           0,
           0,
           1,
           0,
           1,
           0,
           1,
           0,
           1,
           0,
           1,
           0,
           1,
           0,
           1,
           0,
           1,
           0,
           1,
           0,
           1,
           0,
           1,
           0,
           1,
           0,
           1,
           0,
           1,
           0,
           1,
           0,
           1,
           0,
           1,
           0,
           1,
           0,
           1,
           0,
           1,
           1,
           0,
           0,
           1,
           0,
           1,
           0,
           1,
           0,
           1,
           0,
           1,
           0,
           1,
           1,
           0,
           0,
           1,
           0,
           1,
           0,
           1,
           0,
           1,
           0,
           1,
           1,
           0,
           0,
           1,
           0,
           1
          ]
         },
         "node": {
          "color": [
           "blue",
           "red",
           "orange"
          ],
          "label": [
           "PRE",
           "DLI",
           "POST"
          ],
          "line": {
           "color": "black",
           "width": 0.5
          },
          "pad": 2,
          "thickness": 20
         },
         "type": "sankey"
        }
       ],
       "layout": {
        "font": {
         "size": 10
        },
        "template": {
         "data": {
          "bar": [
           {
            "error_x": {
             "color": "#2a3f5f"
            },
            "error_y": {
             "color": "#2a3f5f"
            },
            "marker": {
             "line": {
              "color": "#E5ECF6",
              "width": 0.5
             },
             "pattern": {
              "fillmode": "overlay",
              "size": 10,
              "solidity": 0.2
             }
            },
            "type": "bar"
           }
          ],
          "barpolar": [
           {
            "marker": {
             "line": {
              "color": "#E5ECF6",
              "width": 0.5
             },
             "pattern": {
              "fillmode": "overlay",
              "size": 10,
              "solidity": 0.2
             }
            },
            "type": "barpolar"
           }
          ],
          "carpet": [
           {
            "aaxis": {
             "endlinecolor": "#2a3f5f",
             "gridcolor": "white",
             "linecolor": "white",
             "minorgridcolor": "white",
             "startlinecolor": "#2a3f5f"
            },
            "baxis": {
             "endlinecolor": "#2a3f5f",
             "gridcolor": "white",
             "linecolor": "white",
             "minorgridcolor": "white",
             "startlinecolor": "#2a3f5f"
            },
            "type": "carpet"
           }
          ],
          "choropleth": [
           {
            "colorbar": {
             "outlinewidth": 0,
             "ticks": ""
            },
            "type": "choropleth"
           }
          ],
          "contour": [
           {
            "colorbar": {
             "outlinewidth": 0,
             "ticks": ""
            },
            "colorscale": [
             [
              0,
              "#0d0887"
             ],
             [
              0.1111111111111111,
              "#46039f"
             ],
             [
              0.2222222222222222,
              "#7201a8"
             ],
             [
              0.3333333333333333,
              "#9c179e"
             ],
             [
              0.4444444444444444,
              "#bd3786"
             ],
             [
              0.5555555555555556,
              "#d8576b"
             ],
             [
              0.6666666666666666,
              "#ed7953"
             ],
             [
              0.7777777777777778,
              "#fb9f3a"
             ],
             [
              0.8888888888888888,
              "#fdca26"
             ],
             [
              1,
              "#f0f921"
             ]
            ],
            "type": "contour"
           }
          ],
          "contourcarpet": [
           {
            "colorbar": {
             "outlinewidth": 0,
             "ticks": ""
            },
            "type": "contourcarpet"
           }
          ],
          "heatmap": [
           {
            "colorbar": {
             "outlinewidth": 0,
             "ticks": ""
            },
            "colorscale": [
             [
              0,
              "#0d0887"
             ],
             [
              0.1111111111111111,
              "#46039f"
             ],
             [
              0.2222222222222222,
              "#7201a8"
             ],
             [
              0.3333333333333333,
              "#9c179e"
             ],
             [
              0.4444444444444444,
              "#bd3786"
             ],
             [
              0.5555555555555556,
              "#d8576b"
             ],
             [
              0.6666666666666666,
              "#ed7953"
             ],
             [
              0.7777777777777778,
              "#fb9f3a"
             ],
             [
              0.8888888888888888,
              "#fdca26"
             ],
             [
              1,
              "#f0f921"
             ]
            ],
            "type": "heatmap"
           }
          ],
          "heatmapgl": [
           {
            "colorbar": {
             "outlinewidth": 0,
             "ticks": ""
            },
            "colorscale": [
             [
              0,
              "#0d0887"
             ],
             [
              0.1111111111111111,
              "#46039f"
             ],
             [
              0.2222222222222222,
              "#7201a8"
             ],
             [
              0.3333333333333333,
              "#9c179e"
             ],
             [
              0.4444444444444444,
              "#bd3786"
             ],
             [
              0.5555555555555556,
              "#d8576b"
             ],
             [
              0.6666666666666666,
              "#ed7953"
             ],
             [
              0.7777777777777778,
              "#fb9f3a"
             ],
             [
              0.8888888888888888,
              "#fdca26"
             ],
             [
              1,
              "#f0f921"
             ]
            ],
            "type": "heatmapgl"
           }
          ],
          "histogram": [
           {
            "marker": {
             "pattern": {
              "fillmode": "overlay",
              "size": 10,
              "solidity": 0.2
             }
            },
            "type": "histogram"
           }
          ],
          "histogram2d": [
           {
            "colorbar": {
             "outlinewidth": 0,
             "ticks": ""
            },
            "colorscale": [
             [
              0,
              "#0d0887"
             ],
             [
              0.1111111111111111,
              "#46039f"
             ],
             [
              0.2222222222222222,
              "#7201a8"
             ],
             [
              0.3333333333333333,
              "#9c179e"
             ],
             [
              0.4444444444444444,
              "#bd3786"
             ],
             [
              0.5555555555555556,
              "#d8576b"
             ],
             [
              0.6666666666666666,
              "#ed7953"
             ],
             [
              0.7777777777777778,
              "#fb9f3a"
             ],
             [
              0.8888888888888888,
              "#fdca26"
             ],
             [
              1,
              "#f0f921"
             ]
            ],
            "type": "histogram2d"
           }
          ],
          "histogram2dcontour": [
           {
            "colorbar": {
             "outlinewidth": 0,
             "ticks": ""
            },
            "colorscale": [
             [
              0,
              "#0d0887"
             ],
             [
              0.1111111111111111,
              "#46039f"
             ],
             [
              0.2222222222222222,
              "#7201a8"
             ],
             [
              0.3333333333333333,
              "#9c179e"
             ],
             [
              0.4444444444444444,
              "#bd3786"
             ],
             [
              0.5555555555555556,
              "#d8576b"
             ],
             [
              0.6666666666666666,
              "#ed7953"
             ],
             [
              0.7777777777777778,
              "#fb9f3a"
             ],
             [
              0.8888888888888888,
              "#fdca26"
             ],
             [
              1,
              "#f0f921"
             ]
            ],
            "type": "histogram2dcontour"
           }
          ],
          "mesh3d": [
           {
            "colorbar": {
             "outlinewidth": 0,
             "ticks": ""
            },
            "type": "mesh3d"
           }
          ],
          "parcoords": [
           {
            "line": {
             "colorbar": {
              "outlinewidth": 0,
              "ticks": ""
             }
            },
            "type": "parcoords"
           }
          ],
          "pie": [
           {
            "automargin": true,
            "type": "pie"
           }
          ],
          "scatter": [
           {
            "fillpattern": {
             "fillmode": "overlay",
             "size": 10,
             "solidity": 0.2
            },
            "type": "scatter"
           }
          ],
          "scatter3d": [
           {
            "line": {
             "colorbar": {
              "outlinewidth": 0,
              "ticks": ""
             }
            },
            "marker": {
             "colorbar": {
              "outlinewidth": 0,
              "ticks": ""
             }
            },
            "type": "scatter3d"
           }
          ],
          "scattercarpet": [
           {
            "marker": {
             "colorbar": {
              "outlinewidth": 0,
              "ticks": ""
             }
            },
            "type": "scattercarpet"
           }
          ],
          "scattergeo": [
           {
            "marker": {
             "colorbar": {
              "outlinewidth": 0,
              "ticks": ""
             }
            },
            "type": "scattergeo"
           }
          ],
          "scattergl": [
           {
            "marker": {
             "colorbar": {
              "outlinewidth": 0,
              "ticks": ""
             }
            },
            "type": "scattergl"
           }
          ],
          "scattermapbox": [
           {
            "marker": {
             "colorbar": {
              "outlinewidth": 0,
              "ticks": ""
             }
            },
            "type": "scattermapbox"
           }
          ],
          "scatterpolar": [
           {
            "marker": {
             "colorbar": {
              "outlinewidth": 0,
              "ticks": ""
             }
            },
            "type": "scatterpolar"
           }
          ],
          "scatterpolargl": [
           {
            "marker": {
             "colorbar": {
              "outlinewidth": 0,
              "ticks": ""
             }
            },
            "type": "scatterpolargl"
           }
          ],
          "scatterternary": [
           {
            "marker": {
             "colorbar": {
              "outlinewidth": 0,
              "ticks": ""
             }
            },
            "type": "scatterternary"
           }
          ],
          "surface": [
           {
            "colorbar": {
             "outlinewidth": 0,
             "ticks": ""
            },
            "colorscale": [
             [
              0,
              "#0d0887"
             ],
             [
              0.1111111111111111,
              "#46039f"
             ],
             [
              0.2222222222222222,
              "#7201a8"
             ],
             [
              0.3333333333333333,
              "#9c179e"
             ],
             [
              0.4444444444444444,
              "#bd3786"
             ],
             [
              0.5555555555555556,
              "#d8576b"
             ],
             [
              0.6666666666666666,
              "#ed7953"
             ],
             [
              0.7777777777777778,
              "#fb9f3a"
             ],
             [
              0.8888888888888888,
              "#fdca26"
             ],
             [
              1,
              "#f0f921"
             ]
            ],
            "type": "surface"
           }
          ],
          "table": [
           {
            "cells": {
             "fill": {
              "color": "#EBF0F8"
             },
             "line": {
              "color": "white"
             }
            },
            "header": {
             "fill": {
              "color": "#C8D4E3"
             },
             "line": {
              "color": "white"
             }
            },
            "type": "table"
           }
          ]
         },
         "layout": {
          "annotationdefaults": {
           "arrowcolor": "#2a3f5f",
           "arrowhead": 0,
           "arrowwidth": 1
          },
          "autotypenumbers": "strict",
          "coloraxis": {
           "colorbar": {
            "outlinewidth": 0,
            "ticks": ""
           }
          },
          "colorscale": {
           "diverging": [
            [
             0,
             "#8e0152"
            ],
            [
             0.1,
             "#c51b7d"
            ],
            [
             0.2,
             "#de77ae"
            ],
            [
             0.3,
             "#f1b6da"
            ],
            [
             0.4,
             "#fde0ef"
            ],
            [
             0.5,
             "#f7f7f7"
            ],
            [
             0.6,
             "#e6f5d0"
            ],
            [
             0.7,
             "#b8e186"
            ],
            [
             0.8,
             "#7fbc41"
            ],
            [
             0.9,
             "#4d9221"
            ],
            [
             1,
             "#276419"
            ]
           ],
           "sequential": [
            [
             0,
             "#0d0887"
            ],
            [
             0.1111111111111111,
             "#46039f"
            ],
            [
             0.2222222222222222,
             "#7201a8"
            ],
            [
             0.3333333333333333,
             "#9c179e"
            ],
            [
             0.4444444444444444,
             "#bd3786"
            ],
            [
             0.5555555555555556,
             "#d8576b"
            ],
            [
             0.6666666666666666,
             "#ed7953"
            ],
            [
             0.7777777777777778,
             "#fb9f3a"
            ],
            [
             0.8888888888888888,
             "#fdca26"
            ],
            [
             1,
             "#f0f921"
            ]
           ],
           "sequentialminus": [
            [
             0,
             "#0d0887"
            ],
            [
             0.1111111111111111,
             "#46039f"
            ],
            [
             0.2222222222222222,
             "#7201a8"
            ],
            [
             0.3333333333333333,
             "#9c179e"
            ],
            [
             0.4444444444444444,
             "#bd3786"
            ],
            [
             0.5555555555555556,
             "#d8576b"
            ],
            [
             0.6666666666666666,
             "#ed7953"
            ],
            [
             0.7777777777777778,
             "#fb9f3a"
            ],
            [
             0.8888888888888888,
             "#fdca26"
            ],
            [
             1,
             "#f0f921"
            ]
           ]
          },
          "colorway": [
           "#636efa",
           "#EF553B",
           "#00cc96",
           "#ab63fa",
           "#FFA15A",
           "#19d3f3",
           "#FF6692",
           "#B6E880",
           "#FF97FF",
           "#FECB52"
          ],
          "font": {
           "color": "#2a3f5f"
          },
          "geo": {
           "bgcolor": "white",
           "lakecolor": "white",
           "landcolor": "#E5ECF6",
           "showlakes": true,
           "showland": true,
           "subunitcolor": "white"
          },
          "hoverlabel": {
           "align": "left"
          },
          "hovermode": "closest",
          "mapbox": {
           "style": "light"
          },
          "paper_bgcolor": "white",
          "plot_bgcolor": "#E5ECF6",
          "polar": {
           "angularaxis": {
            "gridcolor": "white",
            "linecolor": "white",
            "ticks": ""
           },
           "bgcolor": "#E5ECF6",
           "radialaxis": {
            "gridcolor": "white",
            "linecolor": "white",
            "ticks": ""
           }
          },
          "scene": {
           "xaxis": {
            "backgroundcolor": "#E5ECF6",
            "gridcolor": "white",
            "gridwidth": 2,
            "linecolor": "white",
            "showbackground": true,
            "ticks": "",
            "zerolinecolor": "white"
           },
           "yaxis": {
            "backgroundcolor": "#E5ECF6",
            "gridcolor": "white",
            "gridwidth": 2,
            "linecolor": "white",
            "showbackground": true,
            "ticks": "",
            "zerolinecolor": "white"
           },
           "zaxis": {
            "backgroundcolor": "#E5ECF6",
            "gridcolor": "white",
            "gridwidth": 2,
            "linecolor": "white",
            "showbackground": true,
            "ticks": "",
            "zerolinecolor": "white"
           }
          },
          "shapedefaults": {
           "line": {
            "color": "#2a3f5f"
           }
          },
          "ternary": {
           "aaxis": {
            "gridcolor": "white",
            "linecolor": "white",
            "ticks": ""
           },
           "baxis": {
            "gridcolor": "white",
            "linecolor": "white",
            "ticks": ""
           },
           "bgcolor": "#E5ECF6",
           "caxis": {
            "gridcolor": "white",
            "linecolor": "white",
            "ticks": ""
           }
          },
          "title": {
           "x": 0.05
          },
          "xaxis": {
           "automargin": true,
           "gridcolor": "white",
           "linecolor": "white",
           "ticks": "",
           "title": {
            "standoff": 15
           },
           "zerolinecolor": "white",
           "zerolinewidth": 2
          },
          "yaxis": {
           "automargin": true,
           "gridcolor": "white",
           "linecolor": "white",
           "ticks": "",
           "title": {
            "standoff": 15
           },
           "zerolinecolor": "white",
           "zerolinewidth": 2
          }
         }
        },
        "title": {
         "text": "Basic Sankey Diagram MS, 37 clones (excluding clones in all 3 time points)"
        }
       }
      },
      "text/html": [
       "<div>                            <div id=\"f6aa7a15-d29a-4649-9163-7b0c616fc13a\" class=\"plotly-graph-div\" style=\"height:525px; width:100%;\"></div>            <script type=\"text/javascript\">                require([\"plotly\"], function(Plotly) {                    window.PLOTLYENV=window.PLOTLYENV || {};                                    if (document.getElementById(\"f6aa7a15-d29a-4649-9163-7b0c616fc13a\")) {                    Plotly.newPlot(                        \"f6aa7a15-d29a-4649-9163-7b0c616fc13a\",                        [{\"link\":{\"source\":[0,1,0,1,0,1,0,1,0,1,0,1,0,1,0,1,0,1,0,1,0,1,0,1,0,1,0,1,0,1,0,1,0,1,0,1,0,1,0,1,0,1,0,1,0,1,0,1,0,1,0,1,0,1,0,1,0,1,0,1,0,1,0,1,0,1,0,1,0,1,0,1,0,1],\"target\":[2,2,2,2,2,2,2,2,2,2,2,2,2,2,2,2,2,2,2,2,2,2,2,2,2,2,2,2,2,2,2,2,2,2,2,2,2,2,2,2,2,2,2,2,2,2,2,2,2,2,2,2,2,2,2,2,2,2,2,2,2,2,2,2,2,2,2,2,2,2,2,2,2,2],\"value\":[1,0,0,1,0,1,0,1,0,1,0,1,0,1,0,1,0,1,0,1,0,1,0,1,0,1,0,1,0,1,0,1,0,1,0,1,0,1,0,1,0,1,1,0,0,1,0,1,0,1,0,1,0,1,0,1,1,0,0,1,0,1,0,1,0,1,0,1,1,0,0,1,0,1]},\"node\":{\"color\":[\"blue\",\"red\",\"orange\"],\"label\":[\"PRE\",\"DLI\",\"POST\"],\"line\":{\"color\":\"black\",\"width\":0.5},\"pad\":2,\"thickness\":20},\"type\":\"sankey\"}],                        {\"template\":{\"data\":{\"histogram2dcontour\":[{\"type\":\"histogram2dcontour\",\"colorbar\":{\"outlinewidth\":0,\"ticks\":\"\"},\"colorscale\":[[0.0,\"#0d0887\"],[0.1111111111111111,\"#46039f\"],[0.2222222222222222,\"#7201a8\"],[0.3333333333333333,\"#9c179e\"],[0.4444444444444444,\"#bd3786\"],[0.5555555555555556,\"#d8576b\"],[0.6666666666666666,\"#ed7953\"],[0.7777777777777778,\"#fb9f3a\"],[0.8888888888888888,\"#fdca26\"],[1.0,\"#f0f921\"]]}],\"choropleth\":[{\"type\":\"choropleth\",\"colorbar\":{\"outlinewidth\":0,\"ticks\":\"\"}}],\"histogram2d\":[{\"type\":\"histogram2d\",\"colorbar\":{\"outlinewidth\":0,\"ticks\":\"\"},\"colorscale\":[[0.0,\"#0d0887\"],[0.1111111111111111,\"#46039f\"],[0.2222222222222222,\"#7201a8\"],[0.3333333333333333,\"#9c179e\"],[0.4444444444444444,\"#bd3786\"],[0.5555555555555556,\"#d8576b\"],[0.6666666666666666,\"#ed7953\"],[0.7777777777777778,\"#fb9f3a\"],[0.8888888888888888,\"#fdca26\"],[1.0,\"#f0f921\"]]}],\"heatmap\":[{\"type\":\"heatmap\",\"colorbar\":{\"outlinewidth\":0,\"ticks\":\"\"},\"colorscale\":[[0.0,\"#0d0887\"],[0.1111111111111111,\"#46039f\"],[0.2222222222222222,\"#7201a8\"],[0.3333333333333333,\"#9c179e\"],[0.4444444444444444,\"#bd3786\"],[0.5555555555555556,\"#d8576b\"],[0.6666666666666666,\"#ed7953\"],[0.7777777777777778,\"#fb9f3a\"],[0.8888888888888888,\"#fdca26\"],[1.0,\"#f0f921\"]]}],\"heatmapgl\":[{\"type\":\"heatmapgl\",\"colorbar\":{\"outlinewidth\":0,\"ticks\":\"\"},\"colorscale\":[[0.0,\"#0d0887\"],[0.1111111111111111,\"#46039f\"],[0.2222222222222222,\"#7201a8\"],[0.3333333333333333,\"#9c179e\"],[0.4444444444444444,\"#bd3786\"],[0.5555555555555556,\"#d8576b\"],[0.6666666666666666,\"#ed7953\"],[0.7777777777777778,\"#fb9f3a\"],[0.8888888888888888,\"#fdca26\"],[1.0,\"#f0f921\"]]}],\"contourcarpet\":[{\"type\":\"contourcarpet\",\"colorbar\":{\"outlinewidth\":0,\"ticks\":\"\"}}],\"contour\":[{\"type\":\"contour\",\"colorbar\":{\"outlinewidth\":0,\"ticks\":\"\"},\"colorscale\":[[0.0,\"#0d0887\"],[0.1111111111111111,\"#46039f\"],[0.2222222222222222,\"#7201a8\"],[0.3333333333333333,\"#9c179e\"],[0.4444444444444444,\"#bd3786\"],[0.5555555555555556,\"#d8576b\"],[0.6666666666666666,\"#ed7953\"],[0.7777777777777778,\"#fb9f3a\"],[0.8888888888888888,\"#fdca26\"],[1.0,\"#f0f921\"]]}],\"surface\":[{\"type\":\"surface\",\"colorbar\":{\"outlinewidth\":0,\"ticks\":\"\"},\"colorscale\":[[0.0,\"#0d0887\"],[0.1111111111111111,\"#46039f\"],[0.2222222222222222,\"#7201a8\"],[0.3333333333333333,\"#9c179e\"],[0.4444444444444444,\"#bd3786\"],[0.5555555555555556,\"#d8576b\"],[0.6666666666666666,\"#ed7953\"],[0.7777777777777778,\"#fb9f3a\"],[0.8888888888888888,\"#fdca26\"],[1.0,\"#f0f921\"]]}],\"mesh3d\":[{\"type\":\"mesh3d\",\"colorbar\":{\"outlinewidth\":0,\"ticks\":\"\"}}],\"scatter\":[{\"fillpattern\":{\"fillmode\":\"overlay\",\"size\":10,\"solidity\":0.2},\"type\":\"scatter\"}],\"parcoords\":[{\"type\":\"parcoords\",\"line\":{\"colorbar\":{\"outlinewidth\":0,\"ticks\":\"\"}}}],\"scatterpolargl\":[{\"type\":\"scatterpolargl\",\"marker\":{\"colorbar\":{\"outlinewidth\":0,\"ticks\":\"\"}}}],\"bar\":[{\"error_x\":{\"color\":\"#2a3f5f\"},\"error_y\":{\"color\":\"#2a3f5f\"},\"marker\":{\"line\":{\"color\":\"#E5ECF6\",\"width\":0.5},\"pattern\":{\"fillmode\":\"overlay\",\"size\":10,\"solidity\":0.2}},\"type\":\"bar\"}],\"scattergeo\":[{\"type\":\"scattergeo\",\"marker\":{\"colorbar\":{\"outlinewidth\":0,\"ticks\":\"\"}}}],\"scatterpolar\":[{\"type\":\"scatterpolar\",\"marker\":{\"colorbar\":{\"outlinewidth\":0,\"ticks\":\"\"}}}],\"histogram\":[{\"marker\":{\"pattern\":{\"fillmode\":\"overlay\",\"size\":10,\"solidity\":0.2}},\"type\":\"histogram\"}],\"scattergl\":[{\"type\":\"scattergl\",\"marker\":{\"colorbar\":{\"outlinewidth\":0,\"ticks\":\"\"}}}],\"scatter3d\":[{\"type\":\"scatter3d\",\"line\":{\"colorbar\":{\"outlinewidth\":0,\"ticks\":\"\"}},\"marker\":{\"colorbar\":{\"outlinewidth\":0,\"ticks\":\"\"}}}],\"scattermapbox\":[{\"type\":\"scattermapbox\",\"marker\":{\"colorbar\":{\"outlinewidth\":0,\"ticks\":\"\"}}}],\"scatterternary\":[{\"type\":\"scatterternary\",\"marker\":{\"colorbar\":{\"outlinewidth\":0,\"ticks\":\"\"}}}],\"scattercarpet\":[{\"type\":\"scattercarpet\",\"marker\":{\"colorbar\":{\"outlinewidth\":0,\"ticks\":\"\"}}}],\"carpet\":[{\"aaxis\":{\"endlinecolor\":\"#2a3f5f\",\"gridcolor\":\"white\",\"linecolor\":\"white\",\"minorgridcolor\":\"white\",\"startlinecolor\":\"#2a3f5f\"},\"baxis\":{\"endlinecolor\":\"#2a3f5f\",\"gridcolor\":\"white\",\"linecolor\":\"white\",\"minorgridcolor\":\"white\",\"startlinecolor\":\"#2a3f5f\"},\"type\":\"carpet\"}],\"table\":[{\"cells\":{\"fill\":{\"color\":\"#EBF0F8\"},\"line\":{\"color\":\"white\"}},\"header\":{\"fill\":{\"color\":\"#C8D4E3\"},\"line\":{\"color\":\"white\"}},\"type\":\"table\"}],\"barpolar\":[{\"marker\":{\"line\":{\"color\":\"#E5ECF6\",\"width\":0.5},\"pattern\":{\"fillmode\":\"overlay\",\"size\":10,\"solidity\":0.2}},\"type\":\"barpolar\"}],\"pie\":[{\"automargin\":true,\"type\":\"pie\"}]},\"layout\":{\"autotypenumbers\":\"strict\",\"colorway\":[\"#636efa\",\"#EF553B\",\"#00cc96\",\"#ab63fa\",\"#FFA15A\",\"#19d3f3\",\"#FF6692\",\"#B6E880\",\"#FF97FF\",\"#FECB52\"],\"font\":{\"color\":\"#2a3f5f\"},\"hovermode\":\"closest\",\"hoverlabel\":{\"align\":\"left\"},\"paper_bgcolor\":\"white\",\"plot_bgcolor\":\"#E5ECF6\",\"polar\":{\"bgcolor\":\"#E5ECF6\",\"angularaxis\":{\"gridcolor\":\"white\",\"linecolor\":\"white\",\"ticks\":\"\"},\"radialaxis\":{\"gridcolor\":\"white\",\"linecolor\":\"white\",\"ticks\":\"\"}},\"ternary\":{\"bgcolor\":\"#E5ECF6\",\"aaxis\":{\"gridcolor\":\"white\",\"linecolor\":\"white\",\"ticks\":\"\"},\"baxis\":{\"gridcolor\":\"white\",\"linecolor\":\"white\",\"ticks\":\"\"},\"caxis\":{\"gridcolor\":\"white\",\"linecolor\":\"white\",\"ticks\":\"\"}},\"coloraxis\":{\"colorbar\":{\"outlinewidth\":0,\"ticks\":\"\"}},\"colorscale\":{\"sequential\":[[0.0,\"#0d0887\"],[0.1111111111111111,\"#46039f\"],[0.2222222222222222,\"#7201a8\"],[0.3333333333333333,\"#9c179e\"],[0.4444444444444444,\"#bd3786\"],[0.5555555555555556,\"#d8576b\"],[0.6666666666666666,\"#ed7953\"],[0.7777777777777778,\"#fb9f3a\"],[0.8888888888888888,\"#fdca26\"],[1.0,\"#f0f921\"]],\"sequentialminus\":[[0.0,\"#0d0887\"],[0.1111111111111111,\"#46039f\"],[0.2222222222222222,\"#7201a8\"],[0.3333333333333333,\"#9c179e\"],[0.4444444444444444,\"#bd3786\"],[0.5555555555555556,\"#d8576b\"],[0.6666666666666666,\"#ed7953\"],[0.7777777777777778,\"#fb9f3a\"],[0.8888888888888888,\"#fdca26\"],[1.0,\"#f0f921\"]],\"diverging\":[[0,\"#8e0152\"],[0.1,\"#c51b7d\"],[0.2,\"#de77ae\"],[0.3,\"#f1b6da\"],[0.4,\"#fde0ef\"],[0.5,\"#f7f7f7\"],[0.6,\"#e6f5d0\"],[0.7,\"#b8e186\"],[0.8,\"#7fbc41\"],[0.9,\"#4d9221\"],[1,\"#276419\"]]},\"xaxis\":{\"gridcolor\":\"white\",\"linecolor\":\"white\",\"ticks\":\"\",\"title\":{\"standoff\":15},\"zerolinecolor\":\"white\",\"automargin\":true,\"zerolinewidth\":2},\"yaxis\":{\"gridcolor\":\"white\",\"linecolor\":\"white\",\"ticks\":\"\",\"title\":{\"standoff\":15},\"zerolinecolor\":\"white\",\"automargin\":true,\"zerolinewidth\":2},\"scene\":{\"xaxis\":{\"backgroundcolor\":\"#E5ECF6\",\"gridcolor\":\"white\",\"linecolor\":\"white\",\"showbackground\":true,\"ticks\":\"\",\"zerolinecolor\":\"white\",\"gridwidth\":2},\"yaxis\":{\"backgroundcolor\":\"#E5ECF6\",\"gridcolor\":\"white\",\"linecolor\":\"white\",\"showbackground\":true,\"ticks\":\"\",\"zerolinecolor\":\"white\",\"gridwidth\":2},\"zaxis\":{\"backgroundcolor\":\"#E5ECF6\",\"gridcolor\":\"white\",\"linecolor\":\"white\",\"showbackground\":true,\"ticks\":\"\",\"zerolinecolor\":\"white\",\"gridwidth\":2}},\"shapedefaults\":{\"line\":{\"color\":\"#2a3f5f\"}},\"annotationdefaults\":{\"arrowcolor\":\"#2a3f5f\",\"arrowhead\":0,\"arrowwidth\":1},\"geo\":{\"bgcolor\":\"white\",\"landcolor\":\"#E5ECF6\",\"subunitcolor\":\"white\",\"showland\":true,\"showlakes\":true,\"lakecolor\":\"white\"},\"title\":{\"x\":0.05},\"mapbox\":{\"style\":\"light\"}}},\"title\":{\"text\":\"Basic Sankey Diagram MS, 37 clones (excluding clones in all 3 time points)\"},\"font\":{\"size\":10}},                        {\"responsive\": true}                    ).then(function(){\n",
       "                            \n",
       "var gd = document.getElementById('f6aa7a15-d29a-4649-9163-7b0c616fc13a');\n",
       "var x = new MutationObserver(function (mutations, observer) {{\n",
       "        var display = window.getComputedStyle(gd).display;\n",
       "        if (!display || display === 'none') {{\n",
       "            console.log([gd, 'removed!']);\n",
       "            Plotly.purge(gd);\n",
       "            observer.disconnect();\n",
       "        }}\n",
       "}});\n",
       "\n",
       "// Listen for the removal of the full notebook cells\n",
       "var notebookContainer = gd.closest('#notebook-container');\n",
       "if (notebookContainer) {{\n",
       "    x.observe(notebookContainer, {childList: true});\n",
       "}}\n",
       "\n",
       "// Listen for the clearing of the current output cell\n",
       "var outputEl = gd.closest('.output');\n",
       "if (outputEl) {{\n",
       "    x.observe(outputEl, {childList: true});\n",
       "}}\n",
       "\n",
       "                        })                };                });            </script>        </div>"
      ]
     },
     "metadata": {},
     "output_type": "display_data"
    },
    {
     "data": {
      "application/vnd.plotly.v1+json": {
       "config": {
        "plotlyServerURL": "https://plot.ly"
       },
       "data": [
        {
         "link": {
          "source": [
           0,
           1,
           0,
           1,
           0,
           1,
           0,
           1,
           0,
           1,
           0,
           1,
           0,
           1,
           0,
           1,
           0,
           1,
           0,
           1
          ],
          "target": [
           2,
           2,
           2,
           2,
           2,
           2,
           2,
           2,
           2,
           2,
           2,
           2,
           2,
           2,
           2,
           2,
           2,
           2,
           2,
           2
          ],
          "value": [
           0,
           1,
           1,
           0,
           0,
           1,
           1,
           0,
           1,
           0,
           0,
           1,
           1,
           0,
           1,
           0,
           0,
           1,
           1,
           0
          ]
         },
         "node": {
          "color": [
           "blue",
           "red",
           "orange"
          ],
          "label": [
           "PRE",
           "DLI",
           "POST"
          ],
          "line": {
           "color": "black",
           "width": 0.5
          },
          "pad": 2,
          "thickness": 20
         },
         "type": "sankey"
        }
       ],
       "layout": {
        "font": {
         "size": 10
        },
        "template": {
         "data": {
          "bar": [
           {
            "error_x": {
             "color": "#2a3f5f"
            },
            "error_y": {
             "color": "#2a3f5f"
            },
            "marker": {
             "line": {
              "color": "#E5ECF6",
              "width": 0.5
             },
             "pattern": {
              "fillmode": "overlay",
              "size": 10,
              "solidity": 0.2
             }
            },
            "type": "bar"
           }
          ],
          "barpolar": [
           {
            "marker": {
             "line": {
              "color": "#E5ECF6",
              "width": 0.5
             },
             "pattern": {
              "fillmode": "overlay",
              "size": 10,
              "solidity": 0.2
             }
            },
            "type": "barpolar"
           }
          ],
          "carpet": [
           {
            "aaxis": {
             "endlinecolor": "#2a3f5f",
             "gridcolor": "white",
             "linecolor": "white",
             "minorgridcolor": "white",
             "startlinecolor": "#2a3f5f"
            },
            "baxis": {
             "endlinecolor": "#2a3f5f",
             "gridcolor": "white",
             "linecolor": "white",
             "minorgridcolor": "white",
             "startlinecolor": "#2a3f5f"
            },
            "type": "carpet"
           }
          ],
          "choropleth": [
           {
            "colorbar": {
             "outlinewidth": 0,
             "ticks": ""
            },
            "type": "choropleth"
           }
          ],
          "contour": [
           {
            "colorbar": {
             "outlinewidth": 0,
             "ticks": ""
            },
            "colorscale": [
             [
              0,
              "#0d0887"
             ],
             [
              0.1111111111111111,
              "#46039f"
             ],
             [
              0.2222222222222222,
              "#7201a8"
             ],
             [
              0.3333333333333333,
              "#9c179e"
             ],
             [
              0.4444444444444444,
              "#bd3786"
             ],
             [
              0.5555555555555556,
              "#d8576b"
             ],
             [
              0.6666666666666666,
              "#ed7953"
             ],
             [
              0.7777777777777778,
              "#fb9f3a"
             ],
             [
              0.8888888888888888,
              "#fdca26"
             ],
             [
              1,
              "#f0f921"
             ]
            ],
            "type": "contour"
           }
          ],
          "contourcarpet": [
           {
            "colorbar": {
             "outlinewidth": 0,
             "ticks": ""
            },
            "type": "contourcarpet"
           }
          ],
          "heatmap": [
           {
            "colorbar": {
             "outlinewidth": 0,
             "ticks": ""
            },
            "colorscale": [
             [
              0,
              "#0d0887"
             ],
             [
              0.1111111111111111,
              "#46039f"
             ],
             [
              0.2222222222222222,
              "#7201a8"
             ],
             [
              0.3333333333333333,
              "#9c179e"
             ],
             [
              0.4444444444444444,
              "#bd3786"
             ],
             [
              0.5555555555555556,
              "#d8576b"
             ],
             [
              0.6666666666666666,
              "#ed7953"
             ],
             [
              0.7777777777777778,
              "#fb9f3a"
             ],
             [
              0.8888888888888888,
              "#fdca26"
             ],
             [
              1,
              "#f0f921"
             ]
            ],
            "type": "heatmap"
           }
          ],
          "heatmapgl": [
           {
            "colorbar": {
             "outlinewidth": 0,
             "ticks": ""
            },
            "colorscale": [
             [
              0,
              "#0d0887"
             ],
             [
              0.1111111111111111,
              "#46039f"
             ],
             [
              0.2222222222222222,
              "#7201a8"
             ],
             [
              0.3333333333333333,
              "#9c179e"
             ],
             [
              0.4444444444444444,
              "#bd3786"
             ],
             [
              0.5555555555555556,
              "#d8576b"
             ],
             [
              0.6666666666666666,
              "#ed7953"
             ],
             [
              0.7777777777777778,
              "#fb9f3a"
             ],
             [
              0.8888888888888888,
              "#fdca26"
             ],
             [
              1,
              "#f0f921"
             ]
            ],
            "type": "heatmapgl"
           }
          ],
          "histogram": [
           {
            "marker": {
             "pattern": {
              "fillmode": "overlay",
              "size": 10,
              "solidity": 0.2
             }
            },
            "type": "histogram"
           }
          ],
          "histogram2d": [
           {
            "colorbar": {
             "outlinewidth": 0,
             "ticks": ""
            },
            "colorscale": [
             [
              0,
              "#0d0887"
             ],
             [
              0.1111111111111111,
              "#46039f"
             ],
             [
              0.2222222222222222,
              "#7201a8"
             ],
             [
              0.3333333333333333,
              "#9c179e"
             ],
             [
              0.4444444444444444,
              "#bd3786"
             ],
             [
              0.5555555555555556,
              "#d8576b"
             ],
             [
              0.6666666666666666,
              "#ed7953"
             ],
             [
              0.7777777777777778,
              "#fb9f3a"
             ],
             [
              0.8888888888888888,
              "#fdca26"
             ],
             [
              1,
              "#f0f921"
             ]
            ],
            "type": "histogram2d"
           }
          ],
          "histogram2dcontour": [
           {
            "colorbar": {
             "outlinewidth": 0,
             "ticks": ""
            },
            "colorscale": [
             [
              0,
              "#0d0887"
             ],
             [
              0.1111111111111111,
              "#46039f"
             ],
             [
              0.2222222222222222,
              "#7201a8"
             ],
             [
              0.3333333333333333,
              "#9c179e"
             ],
             [
              0.4444444444444444,
              "#bd3786"
             ],
             [
              0.5555555555555556,
              "#d8576b"
             ],
             [
              0.6666666666666666,
              "#ed7953"
             ],
             [
              0.7777777777777778,
              "#fb9f3a"
             ],
             [
              0.8888888888888888,
              "#fdca26"
             ],
             [
              1,
              "#f0f921"
             ]
            ],
            "type": "histogram2dcontour"
           }
          ],
          "mesh3d": [
           {
            "colorbar": {
             "outlinewidth": 0,
             "ticks": ""
            },
            "type": "mesh3d"
           }
          ],
          "parcoords": [
           {
            "line": {
             "colorbar": {
              "outlinewidth": 0,
              "ticks": ""
             }
            },
            "type": "parcoords"
           }
          ],
          "pie": [
           {
            "automargin": true,
            "type": "pie"
           }
          ],
          "scatter": [
           {
            "fillpattern": {
             "fillmode": "overlay",
             "size": 10,
             "solidity": 0.2
            },
            "type": "scatter"
           }
          ],
          "scatter3d": [
           {
            "line": {
             "colorbar": {
              "outlinewidth": 0,
              "ticks": ""
             }
            },
            "marker": {
             "colorbar": {
              "outlinewidth": 0,
              "ticks": ""
             }
            },
            "type": "scatter3d"
           }
          ],
          "scattercarpet": [
           {
            "marker": {
             "colorbar": {
              "outlinewidth": 0,
              "ticks": ""
             }
            },
            "type": "scattercarpet"
           }
          ],
          "scattergeo": [
           {
            "marker": {
             "colorbar": {
              "outlinewidth": 0,
              "ticks": ""
             }
            },
            "type": "scattergeo"
           }
          ],
          "scattergl": [
           {
            "marker": {
             "colorbar": {
              "outlinewidth": 0,
              "ticks": ""
             }
            },
            "type": "scattergl"
           }
          ],
          "scattermapbox": [
           {
            "marker": {
             "colorbar": {
              "outlinewidth": 0,
              "ticks": ""
             }
            },
            "type": "scattermapbox"
           }
          ],
          "scatterpolar": [
           {
            "marker": {
             "colorbar": {
              "outlinewidth": 0,
              "ticks": ""
             }
            },
            "type": "scatterpolar"
           }
          ],
          "scatterpolargl": [
           {
            "marker": {
             "colorbar": {
              "outlinewidth": 0,
              "ticks": ""
             }
            },
            "type": "scatterpolargl"
           }
          ],
          "scatterternary": [
           {
            "marker": {
             "colorbar": {
              "outlinewidth": 0,
              "ticks": ""
             }
            },
            "type": "scatterternary"
           }
          ],
          "surface": [
           {
            "colorbar": {
             "outlinewidth": 0,
             "ticks": ""
            },
            "colorscale": [
             [
              0,
              "#0d0887"
             ],
             [
              0.1111111111111111,
              "#46039f"
             ],
             [
              0.2222222222222222,
              "#7201a8"
             ],
             [
              0.3333333333333333,
              "#9c179e"
             ],
             [
              0.4444444444444444,
              "#bd3786"
             ],
             [
              0.5555555555555556,
              "#d8576b"
             ],
             [
              0.6666666666666666,
              "#ed7953"
             ],
             [
              0.7777777777777778,
              "#fb9f3a"
             ],
             [
              0.8888888888888888,
              "#fdca26"
             ],
             [
              1,
              "#f0f921"
             ]
            ],
            "type": "surface"
           }
          ],
          "table": [
           {
            "cells": {
             "fill": {
              "color": "#EBF0F8"
             },
             "line": {
              "color": "white"
             }
            },
            "header": {
             "fill": {
              "color": "#C8D4E3"
             },
             "line": {
              "color": "white"
             }
            },
            "type": "table"
           }
          ]
         },
         "layout": {
          "annotationdefaults": {
           "arrowcolor": "#2a3f5f",
           "arrowhead": 0,
           "arrowwidth": 1
          },
          "autotypenumbers": "strict",
          "coloraxis": {
           "colorbar": {
            "outlinewidth": 0,
            "ticks": ""
           }
          },
          "colorscale": {
           "diverging": [
            [
             0,
             "#8e0152"
            ],
            [
             0.1,
             "#c51b7d"
            ],
            [
             0.2,
             "#de77ae"
            ],
            [
             0.3,
             "#f1b6da"
            ],
            [
             0.4,
             "#fde0ef"
            ],
            [
             0.5,
             "#f7f7f7"
            ],
            [
             0.6,
             "#e6f5d0"
            ],
            [
             0.7,
             "#b8e186"
            ],
            [
             0.8,
             "#7fbc41"
            ],
            [
             0.9,
             "#4d9221"
            ],
            [
             1,
             "#276419"
            ]
           ],
           "sequential": [
            [
             0,
             "#0d0887"
            ],
            [
             0.1111111111111111,
             "#46039f"
            ],
            [
             0.2222222222222222,
             "#7201a8"
            ],
            [
             0.3333333333333333,
             "#9c179e"
            ],
            [
             0.4444444444444444,
             "#bd3786"
            ],
            [
             0.5555555555555556,
             "#d8576b"
            ],
            [
             0.6666666666666666,
             "#ed7953"
            ],
            [
             0.7777777777777778,
             "#fb9f3a"
            ],
            [
             0.8888888888888888,
             "#fdca26"
            ],
            [
             1,
             "#f0f921"
            ]
           ],
           "sequentialminus": [
            [
             0,
             "#0d0887"
            ],
            [
             0.1111111111111111,
             "#46039f"
            ],
            [
             0.2222222222222222,
             "#7201a8"
            ],
            [
             0.3333333333333333,
             "#9c179e"
            ],
            [
             0.4444444444444444,
             "#bd3786"
            ],
            [
             0.5555555555555556,
             "#d8576b"
            ],
            [
             0.6666666666666666,
             "#ed7953"
            ],
            [
             0.7777777777777778,
             "#fb9f3a"
            ],
            [
             0.8888888888888888,
             "#fdca26"
            ],
            [
             1,
             "#f0f921"
            ]
           ]
          },
          "colorway": [
           "#636efa",
           "#EF553B",
           "#00cc96",
           "#ab63fa",
           "#FFA15A",
           "#19d3f3",
           "#FF6692",
           "#B6E880",
           "#FF97FF",
           "#FECB52"
          ],
          "font": {
           "color": "#2a3f5f"
          },
          "geo": {
           "bgcolor": "white",
           "lakecolor": "white",
           "landcolor": "#E5ECF6",
           "showlakes": true,
           "showland": true,
           "subunitcolor": "white"
          },
          "hoverlabel": {
           "align": "left"
          },
          "hovermode": "closest",
          "mapbox": {
           "style": "light"
          },
          "paper_bgcolor": "white",
          "plot_bgcolor": "#E5ECF6",
          "polar": {
           "angularaxis": {
            "gridcolor": "white",
            "linecolor": "white",
            "ticks": ""
           },
           "bgcolor": "#E5ECF6",
           "radialaxis": {
            "gridcolor": "white",
            "linecolor": "white",
            "ticks": ""
           }
          },
          "scene": {
           "xaxis": {
            "backgroundcolor": "#E5ECF6",
            "gridcolor": "white",
            "gridwidth": 2,
            "linecolor": "white",
            "showbackground": true,
            "ticks": "",
            "zerolinecolor": "white"
           },
           "yaxis": {
            "backgroundcolor": "#E5ECF6",
            "gridcolor": "white",
            "gridwidth": 2,
            "linecolor": "white",
            "showbackground": true,
            "ticks": "",
            "zerolinecolor": "white"
           },
           "zaxis": {
            "backgroundcolor": "#E5ECF6",
            "gridcolor": "white",
            "gridwidth": 2,
            "linecolor": "white",
            "showbackground": true,
            "ticks": "",
            "zerolinecolor": "white"
           }
          },
          "shapedefaults": {
           "line": {
            "color": "#2a3f5f"
           }
          },
          "ternary": {
           "aaxis": {
            "gridcolor": "white",
            "linecolor": "white",
            "ticks": ""
           },
           "baxis": {
            "gridcolor": "white",
            "linecolor": "white",
            "ticks": ""
           },
           "bgcolor": "#E5ECF6",
           "caxis": {
            "gridcolor": "white",
            "linecolor": "white",
            "ticks": ""
           }
          },
          "title": {
           "x": 0.05
          },
          "xaxis": {
           "automargin": true,
           "gridcolor": "white",
           "linecolor": "white",
           "ticks": "",
           "title": {
            "standoff": 15
           },
           "zerolinecolor": "white",
           "zerolinewidth": 2
          },
          "yaxis": {
           "automargin": true,
           "gridcolor": "white",
           "linecolor": "white",
           "ticks": "",
           "title": {
            "standoff": 15
           },
           "zerolinecolor": "white",
           "zerolinewidth": 2
          }
         }
        },
        "title": {
         "text": "Basic Sankey Diagram AH, 10 clones (excluding clones in all 3 time points)"
        }
       }
      },
      "text/html": [
       "<div>                            <div id=\"18f4d31a-7e93-4a2e-991e-eda8644cc66c\" class=\"plotly-graph-div\" style=\"height:525px; width:100%;\"></div>            <script type=\"text/javascript\">                require([\"plotly\"], function(Plotly) {                    window.PLOTLYENV=window.PLOTLYENV || {};                                    if (document.getElementById(\"18f4d31a-7e93-4a2e-991e-eda8644cc66c\")) {                    Plotly.newPlot(                        \"18f4d31a-7e93-4a2e-991e-eda8644cc66c\",                        [{\"link\":{\"source\":[0,1,0,1,0,1,0,1,0,1,0,1,0,1,0,1,0,1,0,1],\"target\":[2,2,2,2,2,2,2,2,2,2,2,2,2,2,2,2,2,2,2,2],\"value\":[0,1,1,0,0,1,1,0,1,0,0,1,1,0,1,0,0,1,1,0]},\"node\":{\"color\":[\"blue\",\"red\",\"orange\"],\"label\":[\"PRE\",\"DLI\",\"POST\"],\"line\":{\"color\":\"black\",\"width\":0.5},\"pad\":2,\"thickness\":20},\"type\":\"sankey\"}],                        {\"template\":{\"data\":{\"histogram2dcontour\":[{\"type\":\"histogram2dcontour\",\"colorbar\":{\"outlinewidth\":0,\"ticks\":\"\"},\"colorscale\":[[0.0,\"#0d0887\"],[0.1111111111111111,\"#46039f\"],[0.2222222222222222,\"#7201a8\"],[0.3333333333333333,\"#9c179e\"],[0.4444444444444444,\"#bd3786\"],[0.5555555555555556,\"#d8576b\"],[0.6666666666666666,\"#ed7953\"],[0.7777777777777778,\"#fb9f3a\"],[0.8888888888888888,\"#fdca26\"],[1.0,\"#f0f921\"]]}],\"choropleth\":[{\"type\":\"choropleth\",\"colorbar\":{\"outlinewidth\":0,\"ticks\":\"\"}}],\"histogram2d\":[{\"type\":\"histogram2d\",\"colorbar\":{\"outlinewidth\":0,\"ticks\":\"\"},\"colorscale\":[[0.0,\"#0d0887\"],[0.1111111111111111,\"#46039f\"],[0.2222222222222222,\"#7201a8\"],[0.3333333333333333,\"#9c179e\"],[0.4444444444444444,\"#bd3786\"],[0.5555555555555556,\"#d8576b\"],[0.6666666666666666,\"#ed7953\"],[0.7777777777777778,\"#fb9f3a\"],[0.8888888888888888,\"#fdca26\"],[1.0,\"#f0f921\"]]}],\"heatmap\":[{\"type\":\"heatmap\",\"colorbar\":{\"outlinewidth\":0,\"ticks\":\"\"},\"colorscale\":[[0.0,\"#0d0887\"],[0.1111111111111111,\"#46039f\"],[0.2222222222222222,\"#7201a8\"],[0.3333333333333333,\"#9c179e\"],[0.4444444444444444,\"#bd3786\"],[0.5555555555555556,\"#d8576b\"],[0.6666666666666666,\"#ed7953\"],[0.7777777777777778,\"#fb9f3a\"],[0.8888888888888888,\"#fdca26\"],[1.0,\"#f0f921\"]]}],\"heatmapgl\":[{\"type\":\"heatmapgl\",\"colorbar\":{\"outlinewidth\":0,\"ticks\":\"\"},\"colorscale\":[[0.0,\"#0d0887\"],[0.1111111111111111,\"#46039f\"],[0.2222222222222222,\"#7201a8\"],[0.3333333333333333,\"#9c179e\"],[0.4444444444444444,\"#bd3786\"],[0.5555555555555556,\"#d8576b\"],[0.6666666666666666,\"#ed7953\"],[0.7777777777777778,\"#fb9f3a\"],[0.8888888888888888,\"#fdca26\"],[1.0,\"#f0f921\"]]}],\"contourcarpet\":[{\"type\":\"contourcarpet\",\"colorbar\":{\"outlinewidth\":0,\"ticks\":\"\"}}],\"contour\":[{\"type\":\"contour\",\"colorbar\":{\"outlinewidth\":0,\"ticks\":\"\"},\"colorscale\":[[0.0,\"#0d0887\"],[0.1111111111111111,\"#46039f\"],[0.2222222222222222,\"#7201a8\"],[0.3333333333333333,\"#9c179e\"],[0.4444444444444444,\"#bd3786\"],[0.5555555555555556,\"#d8576b\"],[0.6666666666666666,\"#ed7953\"],[0.7777777777777778,\"#fb9f3a\"],[0.8888888888888888,\"#fdca26\"],[1.0,\"#f0f921\"]]}],\"surface\":[{\"type\":\"surface\",\"colorbar\":{\"outlinewidth\":0,\"ticks\":\"\"},\"colorscale\":[[0.0,\"#0d0887\"],[0.1111111111111111,\"#46039f\"],[0.2222222222222222,\"#7201a8\"],[0.3333333333333333,\"#9c179e\"],[0.4444444444444444,\"#bd3786\"],[0.5555555555555556,\"#d8576b\"],[0.6666666666666666,\"#ed7953\"],[0.7777777777777778,\"#fb9f3a\"],[0.8888888888888888,\"#fdca26\"],[1.0,\"#f0f921\"]]}],\"mesh3d\":[{\"type\":\"mesh3d\",\"colorbar\":{\"outlinewidth\":0,\"ticks\":\"\"}}],\"scatter\":[{\"fillpattern\":{\"fillmode\":\"overlay\",\"size\":10,\"solidity\":0.2},\"type\":\"scatter\"}],\"parcoords\":[{\"type\":\"parcoords\",\"line\":{\"colorbar\":{\"outlinewidth\":0,\"ticks\":\"\"}}}],\"scatterpolargl\":[{\"type\":\"scatterpolargl\",\"marker\":{\"colorbar\":{\"outlinewidth\":0,\"ticks\":\"\"}}}],\"bar\":[{\"error_x\":{\"color\":\"#2a3f5f\"},\"error_y\":{\"color\":\"#2a3f5f\"},\"marker\":{\"line\":{\"color\":\"#E5ECF6\",\"width\":0.5},\"pattern\":{\"fillmode\":\"overlay\",\"size\":10,\"solidity\":0.2}},\"type\":\"bar\"}],\"scattergeo\":[{\"type\":\"scattergeo\",\"marker\":{\"colorbar\":{\"outlinewidth\":0,\"ticks\":\"\"}}}],\"scatterpolar\":[{\"type\":\"scatterpolar\",\"marker\":{\"colorbar\":{\"outlinewidth\":0,\"ticks\":\"\"}}}],\"histogram\":[{\"marker\":{\"pattern\":{\"fillmode\":\"overlay\",\"size\":10,\"solidity\":0.2}},\"type\":\"histogram\"}],\"scattergl\":[{\"type\":\"scattergl\",\"marker\":{\"colorbar\":{\"outlinewidth\":0,\"ticks\":\"\"}}}],\"scatter3d\":[{\"type\":\"scatter3d\",\"line\":{\"colorbar\":{\"outlinewidth\":0,\"ticks\":\"\"}},\"marker\":{\"colorbar\":{\"outlinewidth\":0,\"ticks\":\"\"}}}],\"scattermapbox\":[{\"type\":\"scattermapbox\",\"marker\":{\"colorbar\":{\"outlinewidth\":0,\"ticks\":\"\"}}}],\"scatterternary\":[{\"type\":\"scatterternary\",\"marker\":{\"colorbar\":{\"outlinewidth\":0,\"ticks\":\"\"}}}],\"scattercarpet\":[{\"type\":\"scattercarpet\",\"marker\":{\"colorbar\":{\"outlinewidth\":0,\"ticks\":\"\"}}}],\"carpet\":[{\"aaxis\":{\"endlinecolor\":\"#2a3f5f\",\"gridcolor\":\"white\",\"linecolor\":\"white\",\"minorgridcolor\":\"white\",\"startlinecolor\":\"#2a3f5f\"},\"baxis\":{\"endlinecolor\":\"#2a3f5f\",\"gridcolor\":\"white\",\"linecolor\":\"white\",\"minorgridcolor\":\"white\",\"startlinecolor\":\"#2a3f5f\"},\"type\":\"carpet\"}],\"table\":[{\"cells\":{\"fill\":{\"color\":\"#EBF0F8\"},\"line\":{\"color\":\"white\"}},\"header\":{\"fill\":{\"color\":\"#C8D4E3\"},\"line\":{\"color\":\"white\"}},\"type\":\"table\"}],\"barpolar\":[{\"marker\":{\"line\":{\"color\":\"#E5ECF6\",\"width\":0.5},\"pattern\":{\"fillmode\":\"overlay\",\"size\":10,\"solidity\":0.2}},\"type\":\"barpolar\"}],\"pie\":[{\"automargin\":true,\"type\":\"pie\"}]},\"layout\":{\"autotypenumbers\":\"strict\",\"colorway\":[\"#636efa\",\"#EF553B\",\"#00cc96\",\"#ab63fa\",\"#FFA15A\",\"#19d3f3\",\"#FF6692\",\"#B6E880\",\"#FF97FF\",\"#FECB52\"],\"font\":{\"color\":\"#2a3f5f\"},\"hovermode\":\"closest\",\"hoverlabel\":{\"align\":\"left\"},\"paper_bgcolor\":\"white\",\"plot_bgcolor\":\"#E5ECF6\",\"polar\":{\"bgcolor\":\"#E5ECF6\",\"angularaxis\":{\"gridcolor\":\"white\",\"linecolor\":\"white\",\"ticks\":\"\"},\"radialaxis\":{\"gridcolor\":\"white\",\"linecolor\":\"white\",\"ticks\":\"\"}},\"ternary\":{\"bgcolor\":\"#E5ECF6\",\"aaxis\":{\"gridcolor\":\"white\",\"linecolor\":\"white\",\"ticks\":\"\"},\"baxis\":{\"gridcolor\":\"white\",\"linecolor\":\"white\",\"ticks\":\"\"},\"caxis\":{\"gridcolor\":\"white\",\"linecolor\":\"white\",\"ticks\":\"\"}},\"coloraxis\":{\"colorbar\":{\"outlinewidth\":0,\"ticks\":\"\"}},\"colorscale\":{\"sequential\":[[0.0,\"#0d0887\"],[0.1111111111111111,\"#46039f\"],[0.2222222222222222,\"#7201a8\"],[0.3333333333333333,\"#9c179e\"],[0.4444444444444444,\"#bd3786\"],[0.5555555555555556,\"#d8576b\"],[0.6666666666666666,\"#ed7953\"],[0.7777777777777778,\"#fb9f3a\"],[0.8888888888888888,\"#fdca26\"],[1.0,\"#f0f921\"]],\"sequentialminus\":[[0.0,\"#0d0887\"],[0.1111111111111111,\"#46039f\"],[0.2222222222222222,\"#7201a8\"],[0.3333333333333333,\"#9c179e\"],[0.4444444444444444,\"#bd3786\"],[0.5555555555555556,\"#d8576b\"],[0.6666666666666666,\"#ed7953\"],[0.7777777777777778,\"#fb9f3a\"],[0.8888888888888888,\"#fdca26\"],[1.0,\"#f0f921\"]],\"diverging\":[[0,\"#8e0152\"],[0.1,\"#c51b7d\"],[0.2,\"#de77ae\"],[0.3,\"#f1b6da\"],[0.4,\"#fde0ef\"],[0.5,\"#f7f7f7\"],[0.6,\"#e6f5d0\"],[0.7,\"#b8e186\"],[0.8,\"#7fbc41\"],[0.9,\"#4d9221\"],[1,\"#276419\"]]},\"xaxis\":{\"gridcolor\":\"white\",\"linecolor\":\"white\",\"ticks\":\"\",\"title\":{\"standoff\":15},\"zerolinecolor\":\"white\",\"automargin\":true,\"zerolinewidth\":2},\"yaxis\":{\"gridcolor\":\"white\",\"linecolor\":\"white\",\"ticks\":\"\",\"title\":{\"standoff\":15},\"zerolinecolor\":\"white\",\"automargin\":true,\"zerolinewidth\":2},\"scene\":{\"xaxis\":{\"backgroundcolor\":\"#E5ECF6\",\"gridcolor\":\"white\",\"linecolor\":\"white\",\"showbackground\":true,\"ticks\":\"\",\"zerolinecolor\":\"white\",\"gridwidth\":2},\"yaxis\":{\"backgroundcolor\":\"#E5ECF6\",\"gridcolor\":\"white\",\"linecolor\":\"white\",\"showbackground\":true,\"ticks\":\"\",\"zerolinecolor\":\"white\",\"gridwidth\":2},\"zaxis\":{\"backgroundcolor\":\"#E5ECF6\",\"gridcolor\":\"white\",\"linecolor\":\"white\",\"showbackground\":true,\"ticks\":\"\",\"zerolinecolor\":\"white\",\"gridwidth\":2}},\"shapedefaults\":{\"line\":{\"color\":\"#2a3f5f\"}},\"annotationdefaults\":{\"arrowcolor\":\"#2a3f5f\",\"arrowhead\":0,\"arrowwidth\":1},\"geo\":{\"bgcolor\":\"white\",\"landcolor\":\"#E5ECF6\",\"subunitcolor\":\"white\",\"showland\":true,\"showlakes\":true,\"lakecolor\":\"white\"},\"title\":{\"x\":0.05},\"mapbox\":{\"style\":\"light\"}}},\"title\":{\"text\":\"Basic Sankey Diagram AH, 10 clones (excluding clones in all 3 time points)\"},\"font\":{\"size\":10}},                        {\"responsive\": true}                    ).then(function(){\n",
       "                            \n",
       "var gd = document.getElementById('18f4d31a-7e93-4a2e-991e-eda8644cc66c');\n",
       "var x = new MutationObserver(function (mutations, observer) {{\n",
       "        var display = window.getComputedStyle(gd).display;\n",
       "        if (!display || display === 'none') {{\n",
       "            console.log([gd, 'removed!']);\n",
       "            Plotly.purge(gd);\n",
       "            observer.disconnect();\n",
       "        }}\n",
       "}});\n",
       "\n",
       "// Listen for the removal of the full notebook cells\n",
       "var notebookContainer = gd.closest('#notebook-container');\n",
       "if (notebookContainer) {{\n",
       "    x.observe(notebookContainer, {childList: true});\n",
       "}}\n",
       "\n",
       "// Listen for the clearing of the current output cell\n",
       "var outputEl = gd.closest('.output');\n",
       "if (outputEl) {{\n",
       "    x.observe(outputEl, {childList: true});\n",
       "}}\n",
       "\n",
       "                        })                };                });            </script>        </div>"
      ]
     },
     "metadata": {},
     "output_type": "display_data"
    },
    {
     "data": {
      "application/vnd.plotly.v1+json": {
       "config": {
        "plotlyServerURL": "https://plot.ly"
       },
       "data": [
        {
         "link": {
          "source": [
           0,
           1,
           0,
           1,
           0,
           1,
           0,
           1,
           0,
           1,
           0,
           1,
           0,
           1,
           0,
           1,
           0,
           1,
           0,
           1
          ],
          "target": [
           2,
           2,
           2,
           2,
           2,
           2,
           2,
           2,
           2,
           2,
           2,
           2,
           2,
           2,
           2,
           2,
           2,
           2,
           2,
           2
          ],
          "value": [
           1,
           0,
           1,
           0,
           1,
           0,
           1,
           0,
           1,
           0,
           1,
           0,
           1,
           0,
           1,
           0,
           1,
           0,
           1,
           0
          ]
         },
         "node": {
          "color": [
           "blue",
           "red",
           "orange"
          ],
          "label": [
           "PRE",
           "DLI",
           "POST"
          ],
          "line": {
           "color": "black",
           "width": 0.5
          },
          "pad": 2,
          "thickness": 20
         },
         "type": "sankey"
        }
       ],
       "layout": {
        "font": {
         "size": 10
        },
        "template": {
         "data": {
          "bar": [
           {
            "error_x": {
             "color": "#2a3f5f"
            },
            "error_y": {
             "color": "#2a3f5f"
            },
            "marker": {
             "line": {
              "color": "#E5ECF6",
              "width": 0.5
             },
             "pattern": {
              "fillmode": "overlay",
              "size": 10,
              "solidity": 0.2
             }
            },
            "type": "bar"
           }
          ],
          "barpolar": [
           {
            "marker": {
             "line": {
              "color": "#E5ECF6",
              "width": 0.5
             },
             "pattern": {
              "fillmode": "overlay",
              "size": 10,
              "solidity": 0.2
             }
            },
            "type": "barpolar"
           }
          ],
          "carpet": [
           {
            "aaxis": {
             "endlinecolor": "#2a3f5f",
             "gridcolor": "white",
             "linecolor": "white",
             "minorgridcolor": "white",
             "startlinecolor": "#2a3f5f"
            },
            "baxis": {
             "endlinecolor": "#2a3f5f",
             "gridcolor": "white",
             "linecolor": "white",
             "minorgridcolor": "white",
             "startlinecolor": "#2a3f5f"
            },
            "type": "carpet"
           }
          ],
          "choropleth": [
           {
            "colorbar": {
             "outlinewidth": 0,
             "ticks": ""
            },
            "type": "choropleth"
           }
          ],
          "contour": [
           {
            "colorbar": {
             "outlinewidth": 0,
             "ticks": ""
            },
            "colorscale": [
             [
              0,
              "#0d0887"
             ],
             [
              0.1111111111111111,
              "#46039f"
             ],
             [
              0.2222222222222222,
              "#7201a8"
             ],
             [
              0.3333333333333333,
              "#9c179e"
             ],
             [
              0.4444444444444444,
              "#bd3786"
             ],
             [
              0.5555555555555556,
              "#d8576b"
             ],
             [
              0.6666666666666666,
              "#ed7953"
             ],
             [
              0.7777777777777778,
              "#fb9f3a"
             ],
             [
              0.8888888888888888,
              "#fdca26"
             ],
             [
              1,
              "#f0f921"
             ]
            ],
            "type": "contour"
           }
          ],
          "contourcarpet": [
           {
            "colorbar": {
             "outlinewidth": 0,
             "ticks": ""
            },
            "type": "contourcarpet"
           }
          ],
          "heatmap": [
           {
            "colorbar": {
             "outlinewidth": 0,
             "ticks": ""
            },
            "colorscale": [
             [
              0,
              "#0d0887"
             ],
             [
              0.1111111111111111,
              "#46039f"
             ],
             [
              0.2222222222222222,
              "#7201a8"
             ],
             [
              0.3333333333333333,
              "#9c179e"
             ],
             [
              0.4444444444444444,
              "#bd3786"
             ],
             [
              0.5555555555555556,
              "#d8576b"
             ],
             [
              0.6666666666666666,
              "#ed7953"
             ],
             [
              0.7777777777777778,
              "#fb9f3a"
             ],
             [
              0.8888888888888888,
              "#fdca26"
             ],
             [
              1,
              "#f0f921"
             ]
            ],
            "type": "heatmap"
           }
          ],
          "heatmapgl": [
           {
            "colorbar": {
             "outlinewidth": 0,
             "ticks": ""
            },
            "colorscale": [
             [
              0,
              "#0d0887"
             ],
             [
              0.1111111111111111,
              "#46039f"
             ],
             [
              0.2222222222222222,
              "#7201a8"
             ],
             [
              0.3333333333333333,
              "#9c179e"
             ],
             [
              0.4444444444444444,
              "#bd3786"
             ],
             [
              0.5555555555555556,
              "#d8576b"
             ],
             [
              0.6666666666666666,
              "#ed7953"
             ],
             [
              0.7777777777777778,
              "#fb9f3a"
             ],
             [
              0.8888888888888888,
              "#fdca26"
             ],
             [
              1,
              "#f0f921"
             ]
            ],
            "type": "heatmapgl"
           }
          ],
          "histogram": [
           {
            "marker": {
             "pattern": {
              "fillmode": "overlay",
              "size": 10,
              "solidity": 0.2
             }
            },
            "type": "histogram"
           }
          ],
          "histogram2d": [
           {
            "colorbar": {
             "outlinewidth": 0,
             "ticks": ""
            },
            "colorscale": [
             [
              0,
              "#0d0887"
             ],
             [
              0.1111111111111111,
              "#46039f"
             ],
             [
              0.2222222222222222,
              "#7201a8"
             ],
             [
              0.3333333333333333,
              "#9c179e"
             ],
             [
              0.4444444444444444,
              "#bd3786"
             ],
             [
              0.5555555555555556,
              "#d8576b"
             ],
             [
              0.6666666666666666,
              "#ed7953"
             ],
             [
              0.7777777777777778,
              "#fb9f3a"
             ],
             [
              0.8888888888888888,
              "#fdca26"
             ],
             [
              1,
              "#f0f921"
             ]
            ],
            "type": "histogram2d"
           }
          ],
          "histogram2dcontour": [
           {
            "colorbar": {
             "outlinewidth": 0,
             "ticks": ""
            },
            "colorscale": [
             [
              0,
              "#0d0887"
             ],
             [
              0.1111111111111111,
              "#46039f"
             ],
             [
              0.2222222222222222,
              "#7201a8"
             ],
             [
              0.3333333333333333,
              "#9c179e"
             ],
             [
              0.4444444444444444,
              "#bd3786"
             ],
             [
              0.5555555555555556,
              "#d8576b"
             ],
             [
              0.6666666666666666,
              "#ed7953"
             ],
             [
              0.7777777777777778,
              "#fb9f3a"
             ],
             [
              0.8888888888888888,
              "#fdca26"
             ],
             [
              1,
              "#f0f921"
             ]
            ],
            "type": "histogram2dcontour"
           }
          ],
          "mesh3d": [
           {
            "colorbar": {
             "outlinewidth": 0,
             "ticks": ""
            },
            "type": "mesh3d"
           }
          ],
          "parcoords": [
           {
            "line": {
             "colorbar": {
              "outlinewidth": 0,
              "ticks": ""
             }
            },
            "type": "parcoords"
           }
          ],
          "pie": [
           {
            "automargin": true,
            "type": "pie"
           }
          ],
          "scatter": [
           {
            "fillpattern": {
             "fillmode": "overlay",
             "size": 10,
             "solidity": 0.2
            },
            "type": "scatter"
           }
          ],
          "scatter3d": [
           {
            "line": {
             "colorbar": {
              "outlinewidth": 0,
              "ticks": ""
             }
            },
            "marker": {
             "colorbar": {
              "outlinewidth": 0,
              "ticks": ""
             }
            },
            "type": "scatter3d"
           }
          ],
          "scattercarpet": [
           {
            "marker": {
             "colorbar": {
              "outlinewidth": 0,
              "ticks": ""
             }
            },
            "type": "scattercarpet"
           }
          ],
          "scattergeo": [
           {
            "marker": {
             "colorbar": {
              "outlinewidth": 0,
              "ticks": ""
             }
            },
            "type": "scattergeo"
           }
          ],
          "scattergl": [
           {
            "marker": {
             "colorbar": {
              "outlinewidth": 0,
              "ticks": ""
             }
            },
            "type": "scattergl"
           }
          ],
          "scattermapbox": [
           {
            "marker": {
             "colorbar": {
              "outlinewidth": 0,
              "ticks": ""
             }
            },
            "type": "scattermapbox"
           }
          ],
          "scatterpolar": [
           {
            "marker": {
             "colorbar": {
              "outlinewidth": 0,
              "ticks": ""
             }
            },
            "type": "scatterpolar"
           }
          ],
          "scatterpolargl": [
           {
            "marker": {
             "colorbar": {
              "outlinewidth": 0,
              "ticks": ""
             }
            },
            "type": "scatterpolargl"
           }
          ],
          "scatterternary": [
           {
            "marker": {
             "colorbar": {
              "outlinewidth": 0,
              "ticks": ""
             }
            },
            "type": "scatterternary"
           }
          ],
          "surface": [
           {
            "colorbar": {
             "outlinewidth": 0,
             "ticks": ""
            },
            "colorscale": [
             [
              0,
              "#0d0887"
             ],
             [
              0.1111111111111111,
              "#46039f"
             ],
             [
              0.2222222222222222,
              "#7201a8"
             ],
             [
              0.3333333333333333,
              "#9c179e"
             ],
             [
              0.4444444444444444,
              "#bd3786"
             ],
             [
              0.5555555555555556,
              "#d8576b"
             ],
             [
              0.6666666666666666,
              "#ed7953"
             ],
             [
              0.7777777777777778,
              "#fb9f3a"
             ],
             [
              0.8888888888888888,
              "#fdca26"
             ],
             [
              1,
              "#f0f921"
             ]
            ],
            "type": "surface"
           }
          ],
          "table": [
           {
            "cells": {
             "fill": {
              "color": "#EBF0F8"
             },
             "line": {
              "color": "white"
             }
            },
            "header": {
             "fill": {
              "color": "#C8D4E3"
             },
             "line": {
              "color": "white"
             }
            },
            "type": "table"
           }
          ]
         },
         "layout": {
          "annotationdefaults": {
           "arrowcolor": "#2a3f5f",
           "arrowhead": 0,
           "arrowwidth": 1
          },
          "autotypenumbers": "strict",
          "coloraxis": {
           "colorbar": {
            "outlinewidth": 0,
            "ticks": ""
           }
          },
          "colorscale": {
           "diverging": [
            [
             0,
             "#8e0152"
            ],
            [
             0.1,
             "#c51b7d"
            ],
            [
             0.2,
             "#de77ae"
            ],
            [
             0.3,
             "#f1b6da"
            ],
            [
             0.4,
             "#fde0ef"
            ],
            [
             0.5,
             "#f7f7f7"
            ],
            [
             0.6,
             "#e6f5d0"
            ],
            [
             0.7,
             "#b8e186"
            ],
            [
             0.8,
             "#7fbc41"
            ],
            [
             0.9,
             "#4d9221"
            ],
            [
             1,
             "#276419"
            ]
           ],
           "sequential": [
            [
             0,
             "#0d0887"
            ],
            [
             0.1111111111111111,
             "#46039f"
            ],
            [
             0.2222222222222222,
             "#7201a8"
            ],
            [
             0.3333333333333333,
             "#9c179e"
            ],
            [
             0.4444444444444444,
             "#bd3786"
            ],
            [
             0.5555555555555556,
             "#d8576b"
            ],
            [
             0.6666666666666666,
             "#ed7953"
            ],
            [
             0.7777777777777778,
             "#fb9f3a"
            ],
            [
             0.8888888888888888,
             "#fdca26"
            ],
            [
             1,
             "#f0f921"
            ]
           ],
           "sequentialminus": [
            [
             0,
             "#0d0887"
            ],
            [
             0.1111111111111111,
             "#46039f"
            ],
            [
             0.2222222222222222,
             "#7201a8"
            ],
            [
             0.3333333333333333,
             "#9c179e"
            ],
            [
             0.4444444444444444,
             "#bd3786"
            ],
            [
             0.5555555555555556,
             "#d8576b"
            ],
            [
             0.6666666666666666,
             "#ed7953"
            ],
            [
             0.7777777777777778,
             "#fb9f3a"
            ],
            [
             0.8888888888888888,
             "#fdca26"
            ],
            [
             1,
             "#f0f921"
            ]
           ]
          },
          "colorway": [
           "#636efa",
           "#EF553B",
           "#00cc96",
           "#ab63fa",
           "#FFA15A",
           "#19d3f3",
           "#FF6692",
           "#B6E880",
           "#FF97FF",
           "#FECB52"
          ],
          "font": {
           "color": "#2a3f5f"
          },
          "geo": {
           "bgcolor": "white",
           "lakecolor": "white",
           "landcolor": "#E5ECF6",
           "showlakes": true,
           "showland": true,
           "subunitcolor": "white"
          },
          "hoverlabel": {
           "align": "left"
          },
          "hovermode": "closest",
          "mapbox": {
           "style": "light"
          },
          "paper_bgcolor": "white",
          "plot_bgcolor": "#E5ECF6",
          "polar": {
           "angularaxis": {
            "gridcolor": "white",
            "linecolor": "white",
            "ticks": ""
           },
           "bgcolor": "#E5ECF6",
           "radialaxis": {
            "gridcolor": "white",
            "linecolor": "white",
            "ticks": ""
           }
          },
          "scene": {
           "xaxis": {
            "backgroundcolor": "#E5ECF6",
            "gridcolor": "white",
            "gridwidth": 2,
            "linecolor": "white",
            "showbackground": true,
            "ticks": "",
            "zerolinecolor": "white"
           },
           "yaxis": {
            "backgroundcolor": "#E5ECF6",
            "gridcolor": "white",
            "gridwidth": 2,
            "linecolor": "white",
            "showbackground": true,
            "ticks": "",
            "zerolinecolor": "white"
           },
           "zaxis": {
            "backgroundcolor": "#E5ECF6",
            "gridcolor": "white",
            "gridwidth": 2,
            "linecolor": "white",
            "showbackground": true,
            "ticks": "",
            "zerolinecolor": "white"
           }
          },
          "shapedefaults": {
           "line": {
            "color": "#2a3f5f"
           }
          },
          "ternary": {
           "aaxis": {
            "gridcolor": "white",
            "linecolor": "white",
            "ticks": ""
           },
           "baxis": {
            "gridcolor": "white",
            "linecolor": "white",
            "ticks": ""
           },
           "bgcolor": "#E5ECF6",
           "caxis": {
            "gridcolor": "white",
            "linecolor": "white",
            "ticks": ""
           }
          },
          "title": {
           "x": 0.05
          },
          "xaxis": {
           "automargin": true,
           "gridcolor": "white",
           "linecolor": "white",
           "ticks": "",
           "title": {
            "standoff": 15
           },
           "zerolinecolor": "white",
           "zerolinewidth": 2
          },
          "yaxis": {
           "automargin": true,
           "gridcolor": "white",
           "linecolor": "white",
           "ticks": "",
           "title": {
            "standoff": 15
           },
           "zerolinecolor": "white",
           "zerolinewidth": 2
          }
         }
        },
        "title": {
         "text": "Basic Sankey Diagram AM, 10 clones (excluding clones in all 3 time points)"
        }
       }
      },
      "text/html": [
       "<div>                            <div id=\"9a5e67b8-70a8-497c-9e1f-e870838369cc\" class=\"plotly-graph-div\" style=\"height:525px; width:100%;\"></div>            <script type=\"text/javascript\">                require([\"plotly\"], function(Plotly) {                    window.PLOTLYENV=window.PLOTLYENV || {};                                    if (document.getElementById(\"9a5e67b8-70a8-497c-9e1f-e870838369cc\")) {                    Plotly.newPlot(                        \"9a5e67b8-70a8-497c-9e1f-e870838369cc\",                        [{\"link\":{\"source\":[0,1,0,1,0,1,0,1,0,1,0,1,0,1,0,1,0,1,0,1],\"target\":[2,2,2,2,2,2,2,2,2,2,2,2,2,2,2,2,2,2,2,2],\"value\":[1,0,1,0,1,0,1,0,1,0,1,0,1,0,1,0,1,0,1,0]},\"node\":{\"color\":[\"blue\",\"red\",\"orange\"],\"label\":[\"PRE\",\"DLI\",\"POST\"],\"line\":{\"color\":\"black\",\"width\":0.5},\"pad\":2,\"thickness\":20},\"type\":\"sankey\"}],                        {\"template\":{\"data\":{\"histogram2dcontour\":[{\"type\":\"histogram2dcontour\",\"colorbar\":{\"outlinewidth\":0,\"ticks\":\"\"},\"colorscale\":[[0.0,\"#0d0887\"],[0.1111111111111111,\"#46039f\"],[0.2222222222222222,\"#7201a8\"],[0.3333333333333333,\"#9c179e\"],[0.4444444444444444,\"#bd3786\"],[0.5555555555555556,\"#d8576b\"],[0.6666666666666666,\"#ed7953\"],[0.7777777777777778,\"#fb9f3a\"],[0.8888888888888888,\"#fdca26\"],[1.0,\"#f0f921\"]]}],\"choropleth\":[{\"type\":\"choropleth\",\"colorbar\":{\"outlinewidth\":0,\"ticks\":\"\"}}],\"histogram2d\":[{\"type\":\"histogram2d\",\"colorbar\":{\"outlinewidth\":0,\"ticks\":\"\"},\"colorscale\":[[0.0,\"#0d0887\"],[0.1111111111111111,\"#46039f\"],[0.2222222222222222,\"#7201a8\"],[0.3333333333333333,\"#9c179e\"],[0.4444444444444444,\"#bd3786\"],[0.5555555555555556,\"#d8576b\"],[0.6666666666666666,\"#ed7953\"],[0.7777777777777778,\"#fb9f3a\"],[0.8888888888888888,\"#fdca26\"],[1.0,\"#f0f921\"]]}],\"heatmap\":[{\"type\":\"heatmap\",\"colorbar\":{\"outlinewidth\":0,\"ticks\":\"\"},\"colorscale\":[[0.0,\"#0d0887\"],[0.1111111111111111,\"#46039f\"],[0.2222222222222222,\"#7201a8\"],[0.3333333333333333,\"#9c179e\"],[0.4444444444444444,\"#bd3786\"],[0.5555555555555556,\"#d8576b\"],[0.6666666666666666,\"#ed7953\"],[0.7777777777777778,\"#fb9f3a\"],[0.8888888888888888,\"#fdca26\"],[1.0,\"#f0f921\"]]}],\"heatmapgl\":[{\"type\":\"heatmapgl\",\"colorbar\":{\"outlinewidth\":0,\"ticks\":\"\"},\"colorscale\":[[0.0,\"#0d0887\"],[0.1111111111111111,\"#46039f\"],[0.2222222222222222,\"#7201a8\"],[0.3333333333333333,\"#9c179e\"],[0.4444444444444444,\"#bd3786\"],[0.5555555555555556,\"#d8576b\"],[0.6666666666666666,\"#ed7953\"],[0.7777777777777778,\"#fb9f3a\"],[0.8888888888888888,\"#fdca26\"],[1.0,\"#f0f921\"]]}],\"contourcarpet\":[{\"type\":\"contourcarpet\",\"colorbar\":{\"outlinewidth\":0,\"ticks\":\"\"}}],\"contour\":[{\"type\":\"contour\",\"colorbar\":{\"outlinewidth\":0,\"ticks\":\"\"},\"colorscale\":[[0.0,\"#0d0887\"],[0.1111111111111111,\"#46039f\"],[0.2222222222222222,\"#7201a8\"],[0.3333333333333333,\"#9c179e\"],[0.4444444444444444,\"#bd3786\"],[0.5555555555555556,\"#d8576b\"],[0.6666666666666666,\"#ed7953\"],[0.7777777777777778,\"#fb9f3a\"],[0.8888888888888888,\"#fdca26\"],[1.0,\"#f0f921\"]]}],\"surface\":[{\"type\":\"surface\",\"colorbar\":{\"outlinewidth\":0,\"ticks\":\"\"},\"colorscale\":[[0.0,\"#0d0887\"],[0.1111111111111111,\"#46039f\"],[0.2222222222222222,\"#7201a8\"],[0.3333333333333333,\"#9c179e\"],[0.4444444444444444,\"#bd3786\"],[0.5555555555555556,\"#d8576b\"],[0.6666666666666666,\"#ed7953\"],[0.7777777777777778,\"#fb9f3a\"],[0.8888888888888888,\"#fdca26\"],[1.0,\"#f0f921\"]]}],\"mesh3d\":[{\"type\":\"mesh3d\",\"colorbar\":{\"outlinewidth\":0,\"ticks\":\"\"}}],\"scatter\":[{\"fillpattern\":{\"fillmode\":\"overlay\",\"size\":10,\"solidity\":0.2},\"type\":\"scatter\"}],\"parcoords\":[{\"type\":\"parcoords\",\"line\":{\"colorbar\":{\"outlinewidth\":0,\"ticks\":\"\"}}}],\"scatterpolargl\":[{\"type\":\"scatterpolargl\",\"marker\":{\"colorbar\":{\"outlinewidth\":0,\"ticks\":\"\"}}}],\"bar\":[{\"error_x\":{\"color\":\"#2a3f5f\"},\"error_y\":{\"color\":\"#2a3f5f\"},\"marker\":{\"line\":{\"color\":\"#E5ECF6\",\"width\":0.5},\"pattern\":{\"fillmode\":\"overlay\",\"size\":10,\"solidity\":0.2}},\"type\":\"bar\"}],\"scattergeo\":[{\"type\":\"scattergeo\",\"marker\":{\"colorbar\":{\"outlinewidth\":0,\"ticks\":\"\"}}}],\"scatterpolar\":[{\"type\":\"scatterpolar\",\"marker\":{\"colorbar\":{\"outlinewidth\":0,\"ticks\":\"\"}}}],\"histogram\":[{\"marker\":{\"pattern\":{\"fillmode\":\"overlay\",\"size\":10,\"solidity\":0.2}},\"type\":\"histogram\"}],\"scattergl\":[{\"type\":\"scattergl\",\"marker\":{\"colorbar\":{\"outlinewidth\":0,\"ticks\":\"\"}}}],\"scatter3d\":[{\"type\":\"scatter3d\",\"line\":{\"colorbar\":{\"outlinewidth\":0,\"ticks\":\"\"}},\"marker\":{\"colorbar\":{\"outlinewidth\":0,\"ticks\":\"\"}}}],\"scattermapbox\":[{\"type\":\"scattermapbox\",\"marker\":{\"colorbar\":{\"outlinewidth\":0,\"ticks\":\"\"}}}],\"scatterternary\":[{\"type\":\"scatterternary\",\"marker\":{\"colorbar\":{\"outlinewidth\":0,\"ticks\":\"\"}}}],\"scattercarpet\":[{\"type\":\"scattercarpet\",\"marker\":{\"colorbar\":{\"outlinewidth\":0,\"ticks\":\"\"}}}],\"carpet\":[{\"aaxis\":{\"endlinecolor\":\"#2a3f5f\",\"gridcolor\":\"white\",\"linecolor\":\"white\",\"minorgridcolor\":\"white\",\"startlinecolor\":\"#2a3f5f\"},\"baxis\":{\"endlinecolor\":\"#2a3f5f\",\"gridcolor\":\"white\",\"linecolor\":\"white\",\"minorgridcolor\":\"white\",\"startlinecolor\":\"#2a3f5f\"},\"type\":\"carpet\"}],\"table\":[{\"cells\":{\"fill\":{\"color\":\"#EBF0F8\"},\"line\":{\"color\":\"white\"}},\"header\":{\"fill\":{\"color\":\"#C8D4E3\"},\"line\":{\"color\":\"white\"}},\"type\":\"table\"}],\"barpolar\":[{\"marker\":{\"line\":{\"color\":\"#E5ECF6\",\"width\":0.5},\"pattern\":{\"fillmode\":\"overlay\",\"size\":10,\"solidity\":0.2}},\"type\":\"barpolar\"}],\"pie\":[{\"automargin\":true,\"type\":\"pie\"}]},\"layout\":{\"autotypenumbers\":\"strict\",\"colorway\":[\"#636efa\",\"#EF553B\",\"#00cc96\",\"#ab63fa\",\"#FFA15A\",\"#19d3f3\",\"#FF6692\",\"#B6E880\",\"#FF97FF\",\"#FECB52\"],\"font\":{\"color\":\"#2a3f5f\"},\"hovermode\":\"closest\",\"hoverlabel\":{\"align\":\"left\"},\"paper_bgcolor\":\"white\",\"plot_bgcolor\":\"#E5ECF6\",\"polar\":{\"bgcolor\":\"#E5ECF6\",\"angularaxis\":{\"gridcolor\":\"white\",\"linecolor\":\"white\",\"ticks\":\"\"},\"radialaxis\":{\"gridcolor\":\"white\",\"linecolor\":\"white\",\"ticks\":\"\"}},\"ternary\":{\"bgcolor\":\"#E5ECF6\",\"aaxis\":{\"gridcolor\":\"white\",\"linecolor\":\"white\",\"ticks\":\"\"},\"baxis\":{\"gridcolor\":\"white\",\"linecolor\":\"white\",\"ticks\":\"\"},\"caxis\":{\"gridcolor\":\"white\",\"linecolor\":\"white\",\"ticks\":\"\"}},\"coloraxis\":{\"colorbar\":{\"outlinewidth\":0,\"ticks\":\"\"}},\"colorscale\":{\"sequential\":[[0.0,\"#0d0887\"],[0.1111111111111111,\"#46039f\"],[0.2222222222222222,\"#7201a8\"],[0.3333333333333333,\"#9c179e\"],[0.4444444444444444,\"#bd3786\"],[0.5555555555555556,\"#d8576b\"],[0.6666666666666666,\"#ed7953\"],[0.7777777777777778,\"#fb9f3a\"],[0.8888888888888888,\"#fdca26\"],[1.0,\"#f0f921\"]],\"sequentialminus\":[[0.0,\"#0d0887\"],[0.1111111111111111,\"#46039f\"],[0.2222222222222222,\"#7201a8\"],[0.3333333333333333,\"#9c179e\"],[0.4444444444444444,\"#bd3786\"],[0.5555555555555556,\"#d8576b\"],[0.6666666666666666,\"#ed7953\"],[0.7777777777777778,\"#fb9f3a\"],[0.8888888888888888,\"#fdca26\"],[1.0,\"#f0f921\"]],\"diverging\":[[0,\"#8e0152\"],[0.1,\"#c51b7d\"],[0.2,\"#de77ae\"],[0.3,\"#f1b6da\"],[0.4,\"#fde0ef\"],[0.5,\"#f7f7f7\"],[0.6,\"#e6f5d0\"],[0.7,\"#b8e186\"],[0.8,\"#7fbc41\"],[0.9,\"#4d9221\"],[1,\"#276419\"]]},\"xaxis\":{\"gridcolor\":\"white\",\"linecolor\":\"white\",\"ticks\":\"\",\"title\":{\"standoff\":15},\"zerolinecolor\":\"white\",\"automargin\":true,\"zerolinewidth\":2},\"yaxis\":{\"gridcolor\":\"white\",\"linecolor\":\"white\",\"ticks\":\"\",\"title\":{\"standoff\":15},\"zerolinecolor\":\"white\",\"automargin\":true,\"zerolinewidth\":2},\"scene\":{\"xaxis\":{\"backgroundcolor\":\"#E5ECF6\",\"gridcolor\":\"white\",\"linecolor\":\"white\",\"showbackground\":true,\"ticks\":\"\",\"zerolinecolor\":\"white\",\"gridwidth\":2},\"yaxis\":{\"backgroundcolor\":\"#E5ECF6\",\"gridcolor\":\"white\",\"linecolor\":\"white\",\"showbackground\":true,\"ticks\":\"\",\"zerolinecolor\":\"white\",\"gridwidth\":2},\"zaxis\":{\"backgroundcolor\":\"#E5ECF6\",\"gridcolor\":\"white\",\"linecolor\":\"white\",\"showbackground\":true,\"ticks\":\"\",\"zerolinecolor\":\"white\",\"gridwidth\":2}},\"shapedefaults\":{\"line\":{\"color\":\"#2a3f5f\"}},\"annotationdefaults\":{\"arrowcolor\":\"#2a3f5f\",\"arrowhead\":0,\"arrowwidth\":1},\"geo\":{\"bgcolor\":\"white\",\"landcolor\":\"#E5ECF6\",\"subunitcolor\":\"white\",\"showland\":true,\"showlakes\":true,\"lakecolor\":\"white\"},\"title\":{\"x\":0.05},\"mapbox\":{\"style\":\"light\"}}},\"title\":{\"text\":\"Basic Sankey Diagram AM, 10 clones (excluding clones in all 3 time points)\"},\"font\":{\"size\":10}},                        {\"responsive\": true}                    ).then(function(){\n",
       "                            \n",
       "var gd = document.getElementById('9a5e67b8-70a8-497c-9e1f-e870838369cc');\n",
       "var x = new MutationObserver(function (mutations, observer) {{\n",
       "        var display = window.getComputedStyle(gd).display;\n",
       "        if (!display || display === 'none') {{\n",
       "            console.log([gd, 'removed!']);\n",
       "            Plotly.purge(gd);\n",
       "            observer.disconnect();\n",
       "        }}\n",
       "}});\n",
       "\n",
       "// Listen for the removal of the full notebook cells\n",
       "var notebookContainer = gd.closest('#notebook-container');\n",
       "if (notebookContainer) {{\n",
       "    x.observe(notebookContainer, {childList: true});\n",
       "}}\n",
       "\n",
       "// Listen for the clearing of the current output cell\n",
       "var outputEl = gd.closest('.output');\n",
       "if (outputEl) {{\n",
       "    x.observe(outputEl, {childList: true});\n",
       "}}\n",
       "\n",
       "                        })                };                });            </script>        </div>"
      ]
     },
     "metadata": {},
     "output_type": "display_data"
    },
    {
     "data": {
      "application/vnd.plotly.v1+json": {
       "config": {
        "plotlyServerURL": "https://plot.ly"
       },
       "data": [
        {
         "link": {
          "source": [
           0,
           1,
           0,
           1,
           0,
           1,
           0,
           1,
           0,
           1
          ],
          "target": [
           2,
           2,
           2,
           2,
           2,
           2,
           2,
           2,
           2,
           2
          ],
          "value": [
           1,
           0,
           0,
           1,
           1,
           0,
           1,
           0,
           1,
           0
          ]
         },
         "node": {
          "color": [
           "blue",
           "red",
           "orange"
          ],
          "label": [
           "PRE",
           "DLI",
           "POST"
          ],
          "line": {
           "color": "black",
           "width": 0.5
          },
          "pad": 2,
          "thickness": 20
         },
         "type": "sankey"
        }
       ],
       "layout": {
        "font": {
         "size": 10
        },
        "template": {
         "data": {
          "bar": [
           {
            "error_x": {
             "color": "#2a3f5f"
            },
            "error_y": {
             "color": "#2a3f5f"
            },
            "marker": {
             "line": {
              "color": "#E5ECF6",
              "width": 0.5
             },
             "pattern": {
              "fillmode": "overlay",
              "size": 10,
              "solidity": 0.2
             }
            },
            "type": "bar"
           }
          ],
          "barpolar": [
           {
            "marker": {
             "line": {
              "color": "#E5ECF6",
              "width": 0.5
             },
             "pattern": {
              "fillmode": "overlay",
              "size": 10,
              "solidity": 0.2
             }
            },
            "type": "barpolar"
           }
          ],
          "carpet": [
           {
            "aaxis": {
             "endlinecolor": "#2a3f5f",
             "gridcolor": "white",
             "linecolor": "white",
             "minorgridcolor": "white",
             "startlinecolor": "#2a3f5f"
            },
            "baxis": {
             "endlinecolor": "#2a3f5f",
             "gridcolor": "white",
             "linecolor": "white",
             "minorgridcolor": "white",
             "startlinecolor": "#2a3f5f"
            },
            "type": "carpet"
           }
          ],
          "choropleth": [
           {
            "colorbar": {
             "outlinewidth": 0,
             "ticks": ""
            },
            "type": "choropleth"
           }
          ],
          "contour": [
           {
            "colorbar": {
             "outlinewidth": 0,
             "ticks": ""
            },
            "colorscale": [
             [
              0,
              "#0d0887"
             ],
             [
              0.1111111111111111,
              "#46039f"
             ],
             [
              0.2222222222222222,
              "#7201a8"
             ],
             [
              0.3333333333333333,
              "#9c179e"
             ],
             [
              0.4444444444444444,
              "#bd3786"
             ],
             [
              0.5555555555555556,
              "#d8576b"
             ],
             [
              0.6666666666666666,
              "#ed7953"
             ],
             [
              0.7777777777777778,
              "#fb9f3a"
             ],
             [
              0.8888888888888888,
              "#fdca26"
             ],
             [
              1,
              "#f0f921"
             ]
            ],
            "type": "contour"
           }
          ],
          "contourcarpet": [
           {
            "colorbar": {
             "outlinewidth": 0,
             "ticks": ""
            },
            "type": "contourcarpet"
           }
          ],
          "heatmap": [
           {
            "colorbar": {
             "outlinewidth": 0,
             "ticks": ""
            },
            "colorscale": [
             [
              0,
              "#0d0887"
             ],
             [
              0.1111111111111111,
              "#46039f"
             ],
             [
              0.2222222222222222,
              "#7201a8"
             ],
             [
              0.3333333333333333,
              "#9c179e"
             ],
             [
              0.4444444444444444,
              "#bd3786"
             ],
             [
              0.5555555555555556,
              "#d8576b"
             ],
             [
              0.6666666666666666,
              "#ed7953"
             ],
             [
              0.7777777777777778,
              "#fb9f3a"
             ],
             [
              0.8888888888888888,
              "#fdca26"
             ],
             [
              1,
              "#f0f921"
             ]
            ],
            "type": "heatmap"
           }
          ],
          "heatmapgl": [
           {
            "colorbar": {
             "outlinewidth": 0,
             "ticks": ""
            },
            "colorscale": [
             [
              0,
              "#0d0887"
             ],
             [
              0.1111111111111111,
              "#46039f"
             ],
             [
              0.2222222222222222,
              "#7201a8"
             ],
             [
              0.3333333333333333,
              "#9c179e"
             ],
             [
              0.4444444444444444,
              "#bd3786"
             ],
             [
              0.5555555555555556,
              "#d8576b"
             ],
             [
              0.6666666666666666,
              "#ed7953"
             ],
             [
              0.7777777777777778,
              "#fb9f3a"
             ],
             [
              0.8888888888888888,
              "#fdca26"
             ],
             [
              1,
              "#f0f921"
             ]
            ],
            "type": "heatmapgl"
           }
          ],
          "histogram": [
           {
            "marker": {
             "pattern": {
              "fillmode": "overlay",
              "size": 10,
              "solidity": 0.2
             }
            },
            "type": "histogram"
           }
          ],
          "histogram2d": [
           {
            "colorbar": {
             "outlinewidth": 0,
             "ticks": ""
            },
            "colorscale": [
             [
              0,
              "#0d0887"
             ],
             [
              0.1111111111111111,
              "#46039f"
             ],
             [
              0.2222222222222222,
              "#7201a8"
             ],
             [
              0.3333333333333333,
              "#9c179e"
             ],
             [
              0.4444444444444444,
              "#bd3786"
             ],
             [
              0.5555555555555556,
              "#d8576b"
             ],
             [
              0.6666666666666666,
              "#ed7953"
             ],
             [
              0.7777777777777778,
              "#fb9f3a"
             ],
             [
              0.8888888888888888,
              "#fdca26"
             ],
             [
              1,
              "#f0f921"
             ]
            ],
            "type": "histogram2d"
           }
          ],
          "histogram2dcontour": [
           {
            "colorbar": {
             "outlinewidth": 0,
             "ticks": ""
            },
            "colorscale": [
             [
              0,
              "#0d0887"
             ],
             [
              0.1111111111111111,
              "#46039f"
             ],
             [
              0.2222222222222222,
              "#7201a8"
             ],
             [
              0.3333333333333333,
              "#9c179e"
             ],
             [
              0.4444444444444444,
              "#bd3786"
             ],
             [
              0.5555555555555556,
              "#d8576b"
             ],
             [
              0.6666666666666666,
              "#ed7953"
             ],
             [
              0.7777777777777778,
              "#fb9f3a"
             ],
             [
              0.8888888888888888,
              "#fdca26"
             ],
             [
              1,
              "#f0f921"
             ]
            ],
            "type": "histogram2dcontour"
           }
          ],
          "mesh3d": [
           {
            "colorbar": {
             "outlinewidth": 0,
             "ticks": ""
            },
            "type": "mesh3d"
           }
          ],
          "parcoords": [
           {
            "line": {
             "colorbar": {
              "outlinewidth": 0,
              "ticks": ""
             }
            },
            "type": "parcoords"
           }
          ],
          "pie": [
           {
            "automargin": true,
            "type": "pie"
           }
          ],
          "scatter": [
           {
            "fillpattern": {
             "fillmode": "overlay",
             "size": 10,
             "solidity": 0.2
            },
            "type": "scatter"
           }
          ],
          "scatter3d": [
           {
            "line": {
             "colorbar": {
              "outlinewidth": 0,
              "ticks": ""
             }
            },
            "marker": {
             "colorbar": {
              "outlinewidth": 0,
              "ticks": ""
             }
            },
            "type": "scatter3d"
           }
          ],
          "scattercarpet": [
           {
            "marker": {
             "colorbar": {
              "outlinewidth": 0,
              "ticks": ""
             }
            },
            "type": "scattercarpet"
           }
          ],
          "scattergeo": [
           {
            "marker": {
             "colorbar": {
              "outlinewidth": 0,
              "ticks": ""
             }
            },
            "type": "scattergeo"
           }
          ],
          "scattergl": [
           {
            "marker": {
             "colorbar": {
              "outlinewidth": 0,
              "ticks": ""
             }
            },
            "type": "scattergl"
           }
          ],
          "scattermapbox": [
           {
            "marker": {
             "colorbar": {
              "outlinewidth": 0,
              "ticks": ""
             }
            },
            "type": "scattermapbox"
           }
          ],
          "scatterpolar": [
           {
            "marker": {
             "colorbar": {
              "outlinewidth": 0,
              "ticks": ""
             }
            },
            "type": "scatterpolar"
           }
          ],
          "scatterpolargl": [
           {
            "marker": {
             "colorbar": {
              "outlinewidth": 0,
              "ticks": ""
             }
            },
            "type": "scatterpolargl"
           }
          ],
          "scatterternary": [
           {
            "marker": {
             "colorbar": {
              "outlinewidth": 0,
              "ticks": ""
             }
            },
            "type": "scatterternary"
           }
          ],
          "surface": [
           {
            "colorbar": {
             "outlinewidth": 0,
             "ticks": ""
            },
            "colorscale": [
             [
              0,
              "#0d0887"
             ],
             [
              0.1111111111111111,
              "#46039f"
             ],
             [
              0.2222222222222222,
              "#7201a8"
             ],
             [
              0.3333333333333333,
              "#9c179e"
             ],
             [
              0.4444444444444444,
              "#bd3786"
             ],
             [
              0.5555555555555556,
              "#d8576b"
             ],
             [
              0.6666666666666666,
              "#ed7953"
             ],
             [
              0.7777777777777778,
              "#fb9f3a"
             ],
             [
              0.8888888888888888,
              "#fdca26"
             ],
             [
              1,
              "#f0f921"
             ]
            ],
            "type": "surface"
           }
          ],
          "table": [
           {
            "cells": {
             "fill": {
              "color": "#EBF0F8"
             },
             "line": {
              "color": "white"
             }
            },
            "header": {
             "fill": {
              "color": "#C8D4E3"
             },
             "line": {
              "color": "white"
             }
            },
            "type": "table"
           }
          ]
         },
         "layout": {
          "annotationdefaults": {
           "arrowcolor": "#2a3f5f",
           "arrowhead": 0,
           "arrowwidth": 1
          },
          "autotypenumbers": "strict",
          "coloraxis": {
           "colorbar": {
            "outlinewidth": 0,
            "ticks": ""
           }
          },
          "colorscale": {
           "diverging": [
            [
             0,
             "#8e0152"
            ],
            [
             0.1,
             "#c51b7d"
            ],
            [
             0.2,
             "#de77ae"
            ],
            [
             0.3,
             "#f1b6da"
            ],
            [
             0.4,
             "#fde0ef"
            ],
            [
             0.5,
             "#f7f7f7"
            ],
            [
             0.6,
             "#e6f5d0"
            ],
            [
             0.7,
             "#b8e186"
            ],
            [
             0.8,
             "#7fbc41"
            ],
            [
             0.9,
             "#4d9221"
            ],
            [
             1,
             "#276419"
            ]
           ],
           "sequential": [
            [
             0,
             "#0d0887"
            ],
            [
             0.1111111111111111,
             "#46039f"
            ],
            [
             0.2222222222222222,
             "#7201a8"
            ],
            [
             0.3333333333333333,
             "#9c179e"
            ],
            [
             0.4444444444444444,
             "#bd3786"
            ],
            [
             0.5555555555555556,
             "#d8576b"
            ],
            [
             0.6666666666666666,
             "#ed7953"
            ],
            [
             0.7777777777777778,
             "#fb9f3a"
            ],
            [
             0.8888888888888888,
             "#fdca26"
            ],
            [
             1,
             "#f0f921"
            ]
           ],
           "sequentialminus": [
            [
             0,
             "#0d0887"
            ],
            [
             0.1111111111111111,
             "#46039f"
            ],
            [
             0.2222222222222222,
             "#7201a8"
            ],
            [
             0.3333333333333333,
             "#9c179e"
            ],
            [
             0.4444444444444444,
             "#bd3786"
            ],
            [
             0.5555555555555556,
             "#d8576b"
            ],
            [
             0.6666666666666666,
             "#ed7953"
            ],
            [
             0.7777777777777778,
             "#fb9f3a"
            ],
            [
             0.8888888888888888,
             "#fdca26"
            ],
            [
             1,
             "#f0f921"
            ]
           ]
          },
          "colorway": [
           "#636efa",
           "#EF553B",
           "#00cc96",
           "#ab63fa",
           "#FFA15A",
           "#19d3f3",
           "#FF6692",
           "#B6E880",
           "#FF97FF",
           "#FECB52"
          ],
          "font": {
           "color": "#2a3f5f"
          },
          "geo": {
           "bgcolor": "white",
           "lakecolor": "white",
           "landcolor": "#E5ECF6",
           "showlakes": true,
           "showland": true,
           "subunitcolor": "white"
          },
          "hoverlabel": {
           "align": "left"
          },
          "hovermode": "closest",
          "mapbox": {
           "style": "light"
          },
          "paper_bgcolor": "white",
          "plot_bgcolor": "#E5ECF6",
          "polar": {
           "angularaxis": {
            "gridcolor": "white",
            "linecolor": "white",
            "ticks": ""
           },
           "bgcolor": "#E5ECF6",
           "radialaxis": {
            "gridcolor": "white",
            "linecolor": "white",
            "ticks": ""
           }
          },
          "scene": {
           "xaxis": {
            "backgroundcolor": "#E5ECF6",
            "gridcolor": "white",
            "gridwidth": 2,
            "linecolor": "white",
            "showbackground": true,
            "ticks": "",
            "zerolinecolor": "white"
           },
           "yaxis": {
            "backgroundcolor": "#E5ECF6",
            "gridcolor": "white",
            "gridwidth": 2,
            "linecolor": "white",
            "showbackground": true,
            "ticks": "",
            "zerolinecolor": "white"
           },
           "zaxis": {
            "backgroundcolor": "#E5ECF6",
            "gridcolor": "white",
            "gridwidth": 2,
            "linecolor": "white",
            "showbackground": true,
            "ticks": "",
            "zerolinecolor": "white"
           }
          },
          "shapedefaults": {
           "line": {
            "color": "#2a3f5f"
           }
          },
          "ternary": {
           "aaxis": {
            "gridcolor": "white",
            "linecolor": "white",
            "ticks": ""
           },
           "baxis": {
            "gridcolor": "white",
            "linecolor": "white",
            "ticks": ""
           },
           "bgcolor": "#E5ECF6",
           "caxis": {
            "gridcolor": "white",
            "linecolor": "white",
            "ticks": ""
           }
          },
          "title": {
           "x": 0.05
          },
          "xaxis": {
           "automargin": true,
           "gridcolor": "white",
           "linecolor": "white",
           "ticks": "",
           "title": {
            "standoff": 15
           },
           "zerolinecolor": "white",
           "zerolinewidth": 2
          },
          "yaxis": {
           "automargin": true,
           "gridcolor": "white",
           "linecolor": "white",
           "ticks": "",
           "title": {
            "standoff": 15
           },
           "zerolinecolor": "white",
           "zerolinewidth": 2
          }
         }
        },
        "title": {
         "text": "Basic Sankey Diagram GD, 5 clones (excluding clones in all 3 time points)"
        }
       }
      },
      "text/html": [
       "<div>                            <div id=\"da757cc7-c305-443d-b977-470bb4ae296a\" class=\"plotly-graph-div\" style=\"height:525px; width:100%;\"></div>            <script type=\"text/javascript\">                require([\"plotly\"], function(Plotly) {                    window.PLOTLYENV=window.PLOTLYENV || {};                                    if (document.getElementById(\"da757cc7-c305-443d-b977-470bb4ae296a\")) {                    Plotly.newPlot(                        \"da757cc7-c305-443d-b977-470bb4ae296a\",                        [{\"link\":{\"source\":[0,1,0,1,0,1,0,1,0,1],\"target\":[2,2,2,2,2,2,2,2,2,2],\"value\":[1,0,0,1,1,0,1,0,1,0]},\"node\":{\"color\":[\"blue\",\"red\",\"orange\"],\"label\":[\"PRE\",\"DLI\",\"POST\"],\"line\":{\"color\":\"black\",\"width\":0.5},\"pad\":2,\"thickness\":20},\"type\":\"sankey\"}],                        {\"template\":{\"data\":{\"histogram2dcontour\":[{\"type\":\"histogram2dcontour\",\"colorbar\":{\"outlinewidth\":0,\"ticks\":\"\"},\"colorscale\":[[0.0,\"#0d0887\"],[0.1111111111111111,\"#46039f\"],[0.2222222222222222,\"#7201a8\"],[0.3333333333333333,\"#9c179e\"],[0.4444444444444444,\"#bd3786\"],[0.5555555555555556,\"#d8576b\"],[0.6666666666666666,\"#ed7953\"],[0.7777777777777778,\"#fb9f3a\"],[0.8888888888888888,\"#fdca26\"],[1.0,\"#f0f921\"]]}],\"choropleth\":[{\"type\":\"choropleth\",\"colorbar\":{\"outlinewidth\":0,\"ticks\":\"\"}}],\"histogram2d\":[{\"type\":\"histogram2d\",\"colorbar\":{\"outlinewidth\":0,\"ticks\":\"\"},\"colorscale\":[[0.0,\"#0d0887\"],[0.1111111111111111,\"#46039f\"],[0.2222222222222222,\"#7201a8\"],[0.3333333333333333,\"#9c179e\"],[0.4444444444444444,\"#bd3786\"],[0.5555555555555556,\"#d8576b\"],[0.6666666666666666,\"#ed7953\"],[0.7777777777777778,\"#fb9f3a\"],[0.8888888888888888,\"#fdca26\"],[1.0,\"#f0f921\"]]}],\"heatmap\":[{\"type\":\"heatmap\",\"colorbar\":{\"outlinewidth\":0,\"ticks\":\"\"},\"colorscale\":[[0.0,\"#0d0887\"],[0.1111111111111111,\"#46039f\"],[0.2222222222222222,\"#7201a8\"],[0.3333333333333333,\"#9c179e\"],[0.4444444444444444,\"#bd3786\"],[0.5555555555555556,\"#d8576b\"],[0.6666666666666666,\"#ed7953\"],[0.7777777777777778,\"#fb9f3a\"],[0.8888888888888888,\"#fdca26\"],[1.0,\"#f0f921\"]]}],\"heatmapgl\":[{\"type\":\"heatmapgl\",\"colorbar\":{\"outlinewidth\":0,\"ticks\":\"\"},\"colorscale\":[[0.0,\"#0d0887\"],[0.1111111111111111,\"#46039f\"],[0.2222222222222222,\"#7201a8\"],[0.3333333333333333,\"#9c179e\"],[0.4444444444444444,\"#bd3786\"],[0.5555555555555556,\"#d8576b\"],[0.6666666666666666,\"#ed7953\"],[0.7777777777777778,\"#fb9f3a\"],[0.8888888888888888,\"#fdca26\"],[1.0,\"#f0f921\"]]}],\"contourcarpet\":[{\"type\":\"contourcarpet\",\"colorbar\":{\"outlinewidth\":0,\"ticks\":\"\"}}],\"contour\":[{\"type\":\"contour\",\"colorbar\":{\"outlinewidth\":0,\"ticks\":\"\"},\"colorscale\":[[0.0,\"#0d0887\"],[0.1111111111111111,\"#46039f\"],[0.2222222222222222,\"#7201a8\"],[0.3333333333333333,\"#9c179e\"],[0.4444444444444444,\"#bd3786\"],[0.5555555555555556,\"#d8576b\"],[0.6666666666666666,\"#ed7953\"],[0.7777777777777778,\"#fb9f3a\"],[0.8888888888888888,\"#fdca26\"],[1.0,\"#f0f921\"]]}],\"surface\":[{\"type\":\"surface\",\"colorbar\":{\"outlinewidth\":0,\"ticks\":\"\"},\"colorscale\":[[0.0,\"#0d0887\"],[0.1111111111111111,\"#46039f\"],[0.2222222222222222,\"#7201a8\"],[0.3333333333333333,\"#9c179e\"],[0.4444444444444444,\"#bd3786\"],[0.5555555555555556,\"#d8576b\"],[0.6666666666666666,\"#ed7953\"],[0.7777777777777778,\"#fb9f3a\"],[0.8888888888888888,\"#fdca26\"],[1.0,\"#f0f921\"]]}],\"mesh3d\":[{\"type\":\"mesh3d\",\"colorbar\":{\"outlinewidth\":0,\"ticks\":\"\"}}],\"scatter\":[{\"fillpattern\":{\"fillmode\":\"overlay\",\"size\":10,\"solidity\":0.2},\"type\":\"scatter\"}],\"parcoords\":[{\"type\":\"parcoords\",\"line\":{\"colorbar\":{\"outlinewidth\":0,\"ticks\":\"\"}}}],\"scatterpolargl\":[{\"type\":\"scatterpolargl\",\"marker\":{\"colorbar\":{\"outlinewidth\":0,\"ticks\":\"\"}}}],\"bar\":[{\"error_x\":{\"color\":\"#2a3f5f\"},\"error_y\":{\"color\":\"#2a3f5f\"},\"marker\":{\"line\":{\"color\":\"#E5ECF6\",\"width\":0.5},\"pattern\":{\"fillmode\":\"overlay\",\"size\":10,\"solidity\":0.2}},\"type\":\"bar\"}],\"scattergeo\":[{\"type\":\"scattergeo\",\"marker\":{\"colorbar\":{\"outlinewidth\":0,\"ticks\":\"\"}}}],\"scatterpolar\":[{\"type\":\"scatterpolar\",\"marker\":{\"colorbar\":{\"outlinewidth\":0,\"ticks\":\"\"}}}],\"histogram\":[{\"marker\":{\"pattern\":{\"fillmode\":\"overlay\",\"size\":10,\"solidity\":0.2}},\"type\":\"histogram\"}],\"scattergl\":[{\"type\":\"scattergl\",\"marker\":{\"colorbar\":{\"outlinewidth\":0,\"ticks\":\"\"}}}],\"scatter3d\":[{\"type\":\"scatter3d\",\"line\":{\"colorbar\":{\"outlinewidth\":0,\"ticks\":\"\"}},\"marker\":{\"colorbar\":{\"outlinewidth\":0,\"ticks\":\"\"}}}],\"scattermapbox\":[{\"type\":\"scattermapbox\",\"marker\":{\"colorbar\":{\"outlinewidth\":0,\"ticks\":\"\"}}}],\"scatterternary\":[{\"type\":\"scatterternary\",\"marker\":{\"colorbar\":{\"outlinewidth\":0,\"ticks\":\"\"}}}],\"scattercarpet\":[{\"type\":\"scattercarpet\",\"marker\":{\"colorbar\":{\"outlinewidth\":0,\"ticks\":\"\"}}}],\"carpet\":[{\"aaxis\":{\"endlinecolor\":\"#2a3f5f\",\"gridcolor\":\"white\",\"linecolor\":\"white\",\"minorgridcolor\":\"white\",\"startlinecolor\":\"#2a3f5f\"},\"baxis\":{\"endlinecolor\":\"#2a3f5f\",\"gridcolor\":\"white\",\"linecolor\":\"white\",\"minorgridcolor\":\"white\",\"startlinecolor\":\"#2a3f5f\"},\"type\":\"carpet\"}],\"table\":[{\"cells\":{\"fill\":{\"color\":\"#EBF0F8\"},\"line\":{\"color\":\"white\"}},\"header\":{\"fill\":{\"color\":\"#C8D4E3\"},\"line\":{\"color\":\"white\"}},\"type\":\"table\"}],\"barpolar\":[{\"marker\":{\"line\":{\"color\":\"#E5ECF6\",\"width\":0.5},\"pattern\":{\"fillmode\":\"overlay\",\"size\":10,\"solidity\":0.2}},\"type\":\"barpolar\"}],\"pie\":[{\"automargin\":true,\"type\":\"pie\"}]},\"layout\":{\"autotypenumbers\":\"strict\",\"colorway\":[\"#636efa\",\"#EF553B\",\"#00cc96\",\"#ab63fa\",\"#FFA15A\",\"#19d3f3\",\"#FF6692\",\"#B6E880\",\"#FF97FF\",\"#FECB52\"],\"font\":{\"color\":\"#2a3f5f\"},\"hovermode\":\"closest\",\"hoverlabel\":{\"align\":\"left\"},\"paper_bgcolor\":\"white\",\"plot_bgcolor\":\"#E5ECF6\",\"polar\":{\"bgcolor\":\"#E5ECF6\",\"angularaxis\":{\"gridcolor\":\"white\",\"linecolor\":\"white\",\"ticks\":\"\"},\"radialaxis\":{\"gridcolor\":\"white\",\"linecolor\":\"white\",\"ticks\":\"\"}},\"ternary\":{\"bgcolor\":\"#E5ECF6\",\"aaxis\":{\"gridcolor\":\"white\",\"linecolor\":\"white\",\"ticks\":\"\"},\"baxis\":{\"gridcolor\":\"white\",\"linecolor\":\"white\",\"ticks\":\"\"},\"caxis\":{\"gridcolor\":\"white\",\"linecolor\":\"white\",\"ticks\":\"\"}},\"coloraxis\":{\"colorbar\":{\"outlinewidth\":0,\"ticks\":\"\"}},\"colorscale\":{\"sequential\":[[0.0,\"#0d0887\"],[0.1111111111111111,\"#46039f\"],[0.2222222222222222,\"#7201a8\"],[0.3333333333333333,\"#9c179e\"],[0.4444444444444444,\"#bd3786\"],[0.5555555555555556,\"#d8576b\"],[0.6666666666666666,\"#ed7953\"],[0.7777777777777778,\"#fb9f3a\"],[0.8888888888888888,\"#fdca26\"],[1.0,\"#f0f921\"]],\"sequentialminus\":[[0.0,\"#0d0887\"],[0.1111111111111111,\"#46039f\"],[0.2222222222222222,\"#7201a8\"],[0.3333333333333333,\"#9c179e\"],[0.4444444444444444,\"#bd3786\"],[0.5555555555555556,\"#d8576b\"],[0.6666666666666666,\"#ed7953\"],[0.7777777777777778,\"#fb9f3a\"],[0.8888888888888888,\"#fdca26\"],[1.0,\"#f0f921\"]],\"diverging\":[[0,\"#8e0152\"],[0.1,\"#c51b7d\"],[0.2,\"#de77ae\"],[0.3,\"#f1b6da\"],[0.4,\"#fde0ef\"],[0.5,\"#f7f7f7\"],[0.6,\"#e6f5d0\"],[0.7,\"#b8e186\"],[0.8,\"#7fbc41\"],[0.9,\"#4d9221\"],[1,\"#276419\"]]},\"xaxis\":{\"gridcolor\":\"white\",\"linecolor\":\"white\",\"ticks\":\"\",\"title\":{\"standoff\":15},\"zerolinecolor\":\"white\",\"automargin\":true,\"zerolinewidth\":2},\"yaxis\":{\"gridcolor\":\"white\",\"linecolor\":\"white\",\"ticks\":\"\",\"title\":{\"standoff\":15},\"zerolinecolor\":\"white\",\"automargin\":true,\"zerolinewidth\":2},\"scene\":{\"xaxis\":{\"backgroundcolor\":\"#E5ECF6\",\"gridcolor\":\"white\",\"linecolor\":\"white\",\"showbackground\":true,\"ticks\":\"\",\"zerolinecolor\":\"white\",\"gridwidth\":2},\"yaxis\":{\"backgroundcolor\":\"#E5ECF6\",\"gridcolor\":\"white\",\"linecolor\":\"white\",\"showbackground\":true,\"ticks\":\"\",\"zerolinecolor\":\"white\",\"gridwidth\":2},\"zaxis\":{\"backgroundcolor\":\"#E5ECF6\",\"gridcolor\":\"white\",\"linecolor\":\"white\",\"showbackground\":true,\"ticks\":\"\",\"zerolinecolor\":\"white\",\"gridwidth\":2}},\"shapedefaults\":{\"line\":{\"color\":\"#2a3f5f\"}},\"annotationdefaults\":{\"arrowcolor\":\"#2a3f5f\",\"arrowhead\":0,\"arrowwidth\":1},\"geo\":{\"bgcolor\":\"white\",\"landcolor\":\"#E5ECF6\",\"subunitcolor\":\"white\",\"showland\":true,\"showlakes\":true,\"lakecolor\":\"white\"},\"title\":{\"x\":0.05},\"mapbox\":{\"style\":\"light\"}}},\"title\":{\"text\":\"Basic Sankey Diagram GD, 5 clones (excluding clones in all 3 time points)\"},\"font\":{\"size\":10}},                        {\"responsive\": true}                    ).then(function(){\n",
       "                            \n",
       "var gd = document.getElementById('da757cc7-c305-443d-b977-470bb4ae296a');\n",
       "var x = new MutationObserver(function (mutations, observer) {{\n",
       "        var display = window.getComputedStyle(gd).display;\n",
       "        if (!display || display === 'none') {{\n",
       "            console.log([gd, 'removed!']);\n",
       "            Plotly.purge(gd);\n",
       "            observer.disconnect();\n",
       "        }}\n",
       "}});\n",
       "\n",
       "// Listen for the removal of the full notebook cells\n",
       "var notebookContainer = gd.closest('#notebook-container');\n",
       "if (notebookContainer) {{\n",
       "    x.observe(notebookContainer, {childList: true});\n",
       "}}\n",
       "\n",
       "// Listen for the clearing of the current output cell\n",
       "var outputEl = gd.closest('.output');\n",
       "if (outputEl) {{\n",
       "    x.observe(outputEl, {childList: true});\n",
       "}}\n",
       "\n",
       "                        })                };                });            </script>        </div>"
      ]
     },
     "metadata": {},
     "output_type": "display_data"
    },
    {
     "data": {
      "application/vnd.plotly.v1+json": {
       "config": {
        "plotlyServerURL": "https://plot.ly"
       },
       "data": [
        {
         "link": {
          "source": [
           0,
           1,
           0,
           1,
           0,
           1,
           0,
           1,
           0,
           1
          ],
          "target": [
           2,
           2,
           2,
           2,
           2,
           2,
           2,
           2,
           2,
           2
          ],
          "value": [
           0,
           1,
           0,
           1,
           0,
           1,
           0,
           1,
           0,
           1
          ]
         },
         "node": {
          "color": [
           "blue",
           "red",
           "orange"
          ],
          "label": [
           "PRE",
           "DLI",
           "POST"
          ],
          "line": {
           "color": "black",
           "width": 0.5
          },
          "pad": 2,
          "thickness": 20
         },
         "type": "sankey"
        }
       ],
       "layout": {
        "font": {
         "size": 10
        },
        "template": {
         "data": {
          "bar": [
           {
            "error_x": {
             "color": "#2a3f5f"
            },
            "error_y": {
             "color": "#2a3f5f"
            },
            "marker": {
             "line": {
              "color": "#E5ECF6",
              "width": 0.5
             },
             "pattern": {
              "fillmode": "overlay",
              "size": 10,
              "solidity": 0.2
             }
            },
            "type": "bar"
           }
          ],
          "barpolar": [
           {
            "marker": {
             "line": {
              "color": "#E5ECF6",
              "width": 0.5
             },
             "pattern": {
              "fillmode": "overlay",
              "size": 10,
              "solidity": 0.2
             }
            },
            "type": "barpolar"
           }
          ],
          "carpet": [
           {
            "aaxis": {
             "endlinecolor": "#2a3f5f",
             "gridcolor": "white",
             "linecolor": "white",
             "minorgridcolor": "white",
             "startlinecolor": "#2a3f5f"
            },
            "baxis": {
             "endlinecolor": "#2a3f5f",
             "gridcolor": "white",
             "linecolor": "white",
             "minorgridcolor": "white",
             "startlinecolor": "#2a3f5f"
            },
            "type": "carpet"
           }
          ],
          "choropleth": [
           {
            "colorbar": {
             "outlinewidth": 0,
             "ticks": ""
            },
            "type": "choropleth"
           }
          ],
          "contour": [
           {
            "colorbar": {
             "outlinewidth": 0,
             "ticks": ""
            },
            "colorscale": [
             [
              0,
              "#0d0887"
             ],
             [
              0.1111111111111111,
              "#46039f"
             ],
             [
              0.2222222222222222,
              "#7201a8"
             ],
             [
              0.3333333333333333,
              "#9c179e"
             ],
             [
              0.4444444444444444,
              "#bd3786"
             ],
             [
              0.5555555555555556,
              "#d8576b"
             ],
             [
              0.6666666666666666,
              "#ed7953"
             ],
             [
              0.7777777777777778,
              "#fb9f3a"
             ],
             [
              0.8888888888888888,
              "#fdca26"
             ],
             [
              1,
              "#f0f921"
             ]
            ],
            "type": "contour"
           }
          ],
          "contourcarpet": [
           {
            "colorbar": {
             "outlinewidth": 0,
             "ticks": ""
            },
            "type": "contourcarpet"
           }
          ],
          "heatmap": [
           {
            "colorbar": {
             "outlinewidth": 0,
             "ticks": ""
            },
            "colorscale": [
             [
              0,
              "#0d0887"
             ],
             [
              0.1111111111111111,
              "#46039f"
             ],
             [
              0.2222222222222222,
              "#7201a8"
             ],
             [
              0.3333333333333333,
              "#9c179e"
             ],
             [
              0.4444444444444444,
              "#bd3786"
             ],
             [
              0.5555555555555556,
              "#d8576b"
             ],
             [
              0.6666666666666666,
              "#ed7953"
             ],
             [
              0.7777777777777778,
              "#fb9f3a"
             ],
             [
              0.8888888888888888,
              "#fdca26"
             ],
             [
              1,
              "#f0f921"
             ]
            ],
            "type": "heatmap"
           }
          ],
          "heatmapgl": [
           {
            "colorbar": {
             "outlinewidth": 0,
             "ticks": ""
            },
            "colorscale": [
             [
              0,
              "#0d0887"
             ],
             [
              0.1111111111111111,
              "#46039f"
             ],
             [
              0.2222222222222222,
              "#7201a8"
             ],
             [
              0.3333333333333333,
              "#9c179e"
             ],
             [
              0.4444444444444444,
              "#bd3786"
             ],
             [
              0.5555555555555556,
              "#d8576b"
             ],
             [
              0.6666666666666666,
              "#ed7953"
             ],
             [
              0.7777777777777778,
              "#fb9f3a"
             ],
             [
              0.8888888888888888,
              "#fdca26"
             ],
             [
              1,
              "#f0f921"
             ]
            ],
            "type": "heatmapgl"
           }
          ],
          "histogram": [
           {
            "marker": {
             "pattern": {
              "fillmode": "overlay",
              "size": 10,
              "solidity": 0.2
             }
            },
            "type": "histogram"
           }
          ],
          "histogram2d": [
           {
            "colorbar": {
             "outlinewidth": 0,
             "ticks": ""
            },
            "colorscale": [
             [
              0,
              "#0d0887"
             ],
             [
              0.1111111111111111,
              "#46039f"
             ],
             [
              0.2222222222222222,
              "#7201a8"
             ],
             [
              0.3333333333333333,
              "#9c179e"
             ],
             [
              0.4444444444444444,
              "#bd3786"
             ],
             [
              0.5555555555555556,
              "#d8576b"
             ],
             [
              0.6666666666666666,
              "#ed7953"
             ],
             [
              0.7777777777777778,
              "#fb9f3a"
             ],
             [
              0.8888888888888888,
              "#fdca26"
             ],
             [
              1,
              "#f0f921"
             ]
            ],
            "type": "histogram2d"
           }
          ],
          "histogram2dcontour": [
           {
            "colorbar": {
             "outlinewidth": 0,
             "ticks": ""
            },
            "colorscale": [
             [
              0,
              "#0d0887"
             ],
             [
              0.1111111111111111,
              "#46039f"
             ],
             [
              0.2222222222222222,
              "#7201a8"
             ],
             [
              0.3333333333333333,
              "#9c179e"
             ],
             [
              0.4444444444444444,
              "#bd3786"
             ],
             [
              0.5555555555555556,
              "#d8576b"
             ],
             [
              0.6666666666666666,
              "#ed7953"
             ],
             [
              0.7777777777777778,
              "#fb9f3a"
             ],
             [
              0.8888888888888888,
              "#fdca26"
             ],
             [
              1,
              "#f0f921"
             ]
            ],
            "type": "histogram2dcontour"
           }
          ],
          "mesh3d": [
           {
            "colorbar": {
             "outlinewidth": 0,
             "ticks": ""
            },
            "type": "mesh3d"
           }
          ],
          "parcoords": [
           {
            "line": {
             "colorbar": {
              "outlinewidth": 0,
              "ticks": ""
             }
            },
            "type": "parcoords"
           }
          ],
          "pie": [
           {
            "automargin": true,
            "type": "pie"
           }
          ],
          "scatter": [
           {
            "fillpattern": {
             "fillmode": "overlay",
             "size": 10,
             "solidity": 0.2
            },
            "type": "scatter"
           }
          ],
          "scatter3d": [
           {
            "line": {
             "colorbar": {
              "outlinewidth": 0,
              "ticks": ""
             }
            },
            "marker": {
             "colorbar": {
              "outlinewidth": 0,
              "ticks": ""
             }
            },
            "type": "scatter3d"
           }
          ],
          "scattercarpet": [
           {
            "marker": {
             "colorbar": {
              "outlinewidth": 0,
              "ticks": ""
             }
            },
            "type": "scattercarpet"
           }
          ],
          "scattergeo": [
           {
            "marker": {
             "colorbar": {
              "outlinewidth": 0,
              "ticks": ""
             }
            },
            "type": "scattergeo"
           }
          ],
          "scattergl": [
           {
            "marker": {
             "colorbar": {
              "outlinewidth": 0,
              "ticks": ""
             }
            },
            "type": "scattergl"
           }
          ],
          "scattermapbox": [
           {
            "marker": {
             "colorbar": {
              "outlinewidth": 0,
              "ticks": ""
             }
            },
            "type": "scattermapbox"
           }
          ],
          "scatterpolar": [
           {
            "marker": {
             "colorbar": {
              "outlinewidth": 0,
              "ticks": ""
             }
            },
            "type": "scatterpolar"
           }
          ],
          "scatterpolargl": [
           {
            "marker": {
             "colorbar": {
              "outlinewidth": 0,
              "ticks": ""
             }
            },
            "type": "scatterpolargl"
           }
          ],
          "scatterternary": [
           {
            "marker": {
             "colorbar": {
              "outlinewidth": 0,
              "ticks": ""
             }
            },
            "type": "scatterternary"
           }
          ],
          "surface": [
           {
            "colorbar": {
             "outlinewidth": 0,
             "ticks": ""
            },
            "colorscale": [
             [
              0,
              "#0d0887"
             ],
             [
              0.1111111111111111,
              "#46039f"
             ],
             [
              0.2222222222222222,
              "#7201a8"
             ],
             [
              0.3333333333333333,
              "#9c179e"
             ],
             [
              0.4444444444444444,
              "#bd3786"
             ],
             [
              0.5555555555555556,
              "#d8576b"
             ],
             [
              0.6666666666666666,
              "#ed7953"
             ],
             [
              0.7777777777777778,
              "#fb9f3a"
             ],
             [
              0.8888888888888888,
              "#fdca26"
             ],
             [
              1,
              "#f0f921"
             ]
            ],
            "type": "surface"
           }
          ],
          "table": [
           {
            "cells": {
             "fill": {
              "color": "#EBF0F8"
             },
             "line": {
              "color": "white"
             }
            },
            "header": {
             "fill": {
              "color": "#C8D4E3"
             },
             "line": {
              "color": "white"
             }
            },
            "type": "table"
           }
          ]
         },
         "layout": {
          "annotationdefaults": {
           "arrowcolor": "#2a3f5f",
           "arrowhead": 0,
           "arrowwidth": 1
          },
          "autotypenumbers": "strict",
          "coloraxis": {
           "colorbar": {
            "outlinewidth": 0,
            "ticks": ""
           }
          },
          "colorscale": {
           "diverging": [
            [
             0,
             "#8e0152"
            ],
            [
             0.1,
             "#c51b7d"
            ],
            [
             0.2,
             "#de77ae"
            ],
            [
             0.3,
             "#f1b6da"
            ],
            [
             0.4,
             "#fde0ef"
            ],
            [
             0.5,
             "#f7f7f7"
            ],
            [
             0.6,
             "#e6f5d0"
            ],
            [
             0.7,
             "#b8e186"
            ],
            [
             0.8,
             "#7fbc41"
            ],
            [
             0.9,
             "#4d9221"
            ],
            [
             1,
             "#276419"
            ]
           ],
           "sequential": [
            [
             0,
             "#0d0887"
            ],
            [
             0.1111111111111111,
             "#46039f"
            ],
            [
             0.2222222222222222,
             "#7201a8"
            ],
            [
             0.3333333333333333,
             "#9c179e"
            ],
            [
             0.4444444444444444,
             "#bd3786"
            ],
            [
             0.5555555555555556,
             "#d8576b"
            ],
            [
             0.6666666666666666,
             "#ed7953"
            ],
            [
             0.7777777777777778,
             "#fb9f3a"
            ],
            [
             0.8888888888888888,
             "#fdca26"
            ],
            [
             1,
             "#f0f921"
            ]
           ],
           "sequentialminus": [
            [
             0,
             "#0d0887"
            ],
            [
             0.1111111111111111,
             "#46039f"
            ],
            [
             0.2222222222222222,
             "#7201a8"
            ],
            [
             0.3333333333333333,
             "#9c179e"
            ],
            [
             0.4444444444444444,
             "#bd3786"
            ],
            [
             0.5555555555555556,
             "#d8576b"
            ],
            [
             0.6666666666666666,
             "#ed7953"
            ],
            [
             0.7777777777777778,
             "#fb9f3a"
            ],
            [
             0.8888888888888888,
             "#fdca26"
            ],
            [
             1,
             "#f0f921"
            ]
           ]
          },
          "colorway": [
           "#636efa",
           "#EF553B",
           "#00cc96",
           "#ab63fa",
           "#FFA15A",
           "#19d3f3",
           "#FF6692",
           "#B6E880",
           "#FF97FF",
           "#FECB52"
          ],
          "font": {
           "color": "#2a3f5f"
          },
          "geo": {
           "bgcolor": "white",
           "lakecolor": "white",
           "landcolor": "#E5ECF6",
           "showlakes": true,
           "showland": true,
           "subunitcolor": "white"
          },
          "hoverlabel": {
           "align": "left"
          },
          "hovermode": "closest",
          "mapbox": {
           "style": "light"
          },
          "paper_bgcolor": "white",
          "plot_bgcolor": "#E5ECF6",
          "polar": {
           "angularaxis": {
            "gridcolor": "white",
            "linecolor": "white",
            "ticks": ""
           },
           "bgcolor": "#E5ECF6",
           "radialaxis": {
            "gridcolor": "white",
            "linecolor": "white",
            "ticks": ""
           }
          },
          "scene": {
           "xaxis": {
            "backgroundcolor": "#E5ECF6",
            "gridcolor": "white",
            "gridwidth": 2,
            "linecolor": "white",
            "showbackground": true,
            "ticks": "",
            "zerolinecolor": "white"
           },
           "yaxis": {
            "backgroundcolor": "#E5ECF6",
            "gridcolor": "white",
            "gridwidth": 2,
            "linecolor": "white",
            "showbackground": true,
            "ticks": "",
            "zerolinecolor": "white"
           },
           "zaxis": {
            "backgroundcolor": "#E5ECF6",
            "gridcolor": "white",
            "gridwidth": 2,
            "linecolor": "white",
            "showbackground": true,
            "ticks": "",
            "zerolinecolor": "white"
           }
          },
          "shapedefaults": {
           "line": {
            "color": "#2a3f5f"
           }
          },
          "ternary": {
           "aaxis": {
            "gridcolor": "white",
            "linecolor": "white",
            "ticks": ""
           },
           "baxis": {
            "gridcolor": "white",
            "linecolor": "white",
            "ticks": ""
           },
           "bgcolor": "#E5ECF6",
           "caxis": {
            "gridcolor": "white",
            "linecolor": "white",
            "ticks": ""
           }
          },
          "title": {
           "x": 0.05
          },
          "xaxis": {
           "automargin": true,
           "gridcolor": "white",
           "linecolor": "white",
           "ticks": "",
           "title": {
            "standoff": 15
           },
           "zerolinecolor": "white",
           "zerolinewidth": 2
          },
          "yaxis": {
           "automargin": true,
           "gridcolor": "white",
           "linecolor": "white",
           "ticks": "",
           "title": {
            "standoff": 15
           },
           "zerolinecolor": "white",
           "zerolinewidth": 2
          }
         }
        },
        "title": {
         "text": "Basic Sankey Diagram JS, 5 clones (excluding clones in all 3 time points)"
        }
       }
      },
      "text/html": [
       "<div>                            <div id=\"51a162ee-8f15-43c1-ac87-6e31f1067d97\" class=\"plotly-graph-div\" style=\"height:525px; width:100%;\"></div>            <script type=\"text/javascript\">                require([\"plotly\"], function(Plotly) {                    window.PLOTLYENV=window.PLOTLYENV || {};                                    if (document.getElementById(\"51a162ee-8f15-43c1-ac87-6e31f1067d97\")) {                    Plotly.newPlot(                        \"51a162ee-8f15-43c1-ac87-6e31f1067d97\",                        [{\"link\":{\"source\":[0,1,0,1,0,1,0,1,0,1],\"target\":[2,2,2,2,2,2,2,2,2,2],\"value\":[0,1,0,1,0,1,0,1,0,1]},\"node\":{\"color\":[\"blue\",\"red\",\"orange\"],\"label\":[\"PRE\",\"DLI\",\"POST\"],\"line\":{\"color\":\"black\",\"width\":0.5},\"pad\":2,\"thickness\":20},\"type\":\"sankey\"}],                        {\"template\":{\"data\":{\"histogram2dcontour\":[{\"type\":\"histogram2dcontour\",\"colorbar\":{\"outlinewidth\":0,\"ticks\":\"\"},\"colorscale\":[[0.0,\"#0d0887\"],[0.1111111111111111,\"#46039f\"],[0.2222222222222222,\"#7201a8\"],[0.3333333333333333,\"#9c179e\"],[0.4444444444444444,\"#bd3786\"],[0.5555555555555556,\"#d8576b\"],[0.6666666666666666,\"#ed7953\"],[0.7777777777777778,\"#fb9f3a\"],[0.8888888888888888,\"#fdca26\"],[1.0,\"#f0f921\"]]}],\"choropleth\":[{\"type\":\"choropleth\",\"colorbar\":{\"outlinewidth\":0,\"ticks\":\"\"}}],\"histogram2d\":[{\"type\":\"histogram2d\",\"colorbar\":{\"outlinewidth\":0,\"ticks\":\"\"},\"colorscale\":[[0.0,\"#0d0887\"],[0.1111111111111111,\"#46039f\"],[0.2222222222222222,\"#7201a8\"],[0.3333333333333333,\"#9c179e\"],[0.4444444444444444,\"#bd3786\"],[0.5555555555555556,\"#d8576b\"],[0.6666666666666666,\"#ed7953\"],[0.7777777777777778,\"#fb9f3a\"],[0.8888888888888888,\"#fdca26\"],[1.0,\"#f0f921\"]]}],\"heatmap\":[{\"type\":\"heatmap\",\"colorbar\":{\"outlinewidth\":0,\"ticks\":\"\"},\"colorscale\":[[0.0,\"#0d0887\"],[0.1111111111111111,\"#46039f\"],[0.2222222222222222,\"#7201a8\"],[0.3333333333333333,\"#9c179e\"],[0.4444444444444444,\"#bd3786\"],[0.5555555555555556,\"#d8576b\"],[0.6666666666666666,\"#ed7953\"],[0.7777777777777778,\"#fb9f3a\"],[0.8888888888888888,\"#fdca26\"],[1.0,\"#f0f921\"]]}],\"heatmapgl\":[{\"type\":\"heatmapgl\",\"colorbar\":{\"outlinewidth\":0,\"ticks\":\"\"},\"colorscale\":[[0.0,\"#0d0887\"],[0.1111111111111111,\"#46039f\"],[0.2222222222222222,\"#7201a8\"],[0.3333333333333333,\"#9c179e\"],[0.4444444444444444,\"#bd3786\"],[0.5555555555555556,\"#d8576b\"],[0.6666666666666666,\"#ed7953\"],[0.7777777777777778,\"#fb9f3a\"],[0.8888888888888888,\"#fdca26\"],[1.0,\"#f0f921\"]]}],\"contourcarpet\":[{\"type\":\"contourcarpet\",\"colorbar\":{\"outlinewidth\":0,\"ticks\":\"\"}}],\"contour\":[{\"type\":\"contour\",\"colorbar\":{\"outlinewidth\":0,\"ticks\":\"\"},\"colorscale\":[[0.0,\"#0d0887\"],[0.1111111111111111,\"#46039f\"],[0.2222222222222222,\"#7201a8\"],[0.3333333333333333,\"#9c179e\"],[0.4444444444444444,\"#bd3786\"],[0.5555555555555556,\"#d8576b\"],[0.6666666666666666,\"#ed7953\"],[0.7777777777777778,\"#fb9f3a\"],[0.8888888888888888,\"#fdca26\"],[1.0,\"#f0f921\"]]}],\"surface\":[{\"type\":\"surface\",\"colorbar\":{\"outlinewidth\":0,\"ticks\":\"\"},\"colorscale\":[[0.0,\"#0d0887\"],[0.1111111111111111,\"#46039f\"],[0.2222222222222222,\"#7201a8\"],[0.3333333333333333,\"#9c179e\"],[0.4444444444444444,\"#bd3786\"],[0.5555555555555556,\"#d8576b\"],[0.6666666666666666,\"#ed7953\"],[0.7777777777777778,\"#fb9f3a\"],[0.8888888888888888,\"#fdca26\"],[1.0,\"#f0f921\"]]}],\"mesh3d\":[{\"type\":\"mesh3d\",\"colorbar\":{\"outlinewidth\":0,\"ticks\":\"\"}}],\"scatter\":[{\"fillpattern\":{\"fillmode\":\"overlay\",\"size\":10,\"solidity\":0.2},\"type\":\"scatter\"}],\"parcoords\":[{\"type\":\"parcoords\",\"line\":{\"colorbar\":{\"outlinewidth\":0,\"ticks\":\"\"}}}],\"scatterpolargl\":[{\"type\":\"scatterpolargl\",\"marker\":{\"colorbar\":{\"outlinewidth\":0,\"ticks\":\"\"}}}],\"bar\":[{\"error_x\":{\"color\":\"#2a3f5f\"},\"error_y\":{\"color\":\"#2a3f5f\"},\"marker\":{\"line\":{\"color\":\"#E5ECF6\",\"width\":0.5},\"pattern\":{\"fillmode\":\"overlay\",\"size\":10,\"solidity\":0.2}},\"type\":\"bar\"}],\"scattergeo\":[{\"type\":\"scattergeo\",\"marker\":{\"colorbar\":{\"outlinewidth\":0,\"ticks\":\"\"}}}],\"scatterpolar\":[{\"type\":\"scatterpolar\",\"marker\":{\"colorbar\":{\"outlinewidth\":0,\"ticks\":\"\"}}}],\"histogram\":[{\"marker\":{\"pattern\":{\"fillmode\":\"overlay\",\"size\":10,\"solidity\":0.2}},\"type\":\"histogram\"}],\"scattergl\":[{\"type\":\"scattergl\",\"marker\":{\"colorbar\":{\"outlinewidth\":0,\"ticks\":\"\"}}}],\"scatter3d\":[{\"type\":\"scatter3d\",\"line\":{\"colorbar\":{\"outlinewidth\":0,\"ticks\":\"\"}},\"marker\":{\"colorbar\":{\"outlinewidth\":0,\"ticks\":\"\"}}}],\"scattermapbox\":[{\"type\":\"scattermapbox\",\"marker\":{\"colorbar\":{\"outlinewidth\":0,\"ticks\":\"\"}}}],\"scatterternary\":[{\"type\":\"scatterternary\",\"marker\":{\"colorbar\":{\"outlinewidth\":0,\"ticks\":\"\"}}}],\"scattercarpet\":[{\"type\":\"scattercarpet\",\"marker\":{\"colorbar\":{\"outlinewidth\":0,\"ticks\":\"\"}}}],\"carpet\":[{\"aaxis\":{\"endlinecolor\":\"#2a3f5f\",\"gridcolor\":\"white\",\"linecolor\":\"white\",\"minorgridcolor\":\"white\",\"startlinecolor\":\"#2a3f5f\"},\"baxis\":{\"endlinecolor\":\"#2a3f5f\",\"gridcolor\":\"white\",\"linecolor\":\"white\",\"minorgridcolor\":\"white\",\"startlinecolor\":\"#2a3f5f\"},\"type\":\"carpet\"}],\"table\":[{\"cells\":{\"fill\":{\"color\":\"#EBF0F8\"},\"line\":{\"color\":\"white\"}},\"header\":{\"fill\":{\"color\":\"#C8D4E3\"},\"line\":{\"color\":\"white\"}},\"type\":\"table\"}],\"barpolar\":[{\"marker\":{\"line\":{\"color\":\"#E5ECF6\",\"width\":0.5},\"pattern\":{\"fillmode\":\"overlay\",\"size\":10,\"solidity\":0.2}},\"type\":\"barpolar\"}],\"pie\":[{\"automargin\":true,\"type\":\"pie\"}]},\"layout\":{\"autotypenumbers\":\"strict\",\"colorway\":[\"#636efa\",\"#EF553B\",\"#00cc96\",\"#ab63fa\",\"#FFA15A\",\"#19d3f3\",\"#FF6692\",\"#B6E880\",\"#FF97FF\",\"#FECB52\"],\"font\":{\"color\":\"#2a3f5f\"},\"hovermode\":\"closest\",\"hoverlabel\":{\"align\":\"left\"},\"paper_bgcolor\":\"white\",\"plot_bgcolor\":\"#E5ECF6\",\"polar\":{\"bgcolor\":\"#E5ECF6\",\"angularaxis\":{\"gridcolor\":\"white\",\"linecolor\":\"white\",\"ticks\":\"\"},\"radialaxis\":{\"gridcolor\":\"white\",\"linecolor\":\"white\",\"ticks\":\"\"}},\"ternary\":{\"bgcolor\":\"#E5ECF6\",\"aaxis\":{\"gridcolor\":\"white\",\"linecolor\":\"white\",\"ticks\":\"\"},\"baxis\":{\"gridcolor\":\"white\",\"linecolor\":\"white\",\"ticks\":\"\"},\"caxis\":{\"gridcolor\":\"white\",\"linecolor\":\"white\",\"ticks\":\"\"}},\"coloraxis\":{\"colorbar\":{\"outlinewidth\":0,\"ticks\":\"\"}},\"colorscale\":{\"sequential\":[[0.0,\"#0d0887\"],[0.1111111111111111,\"#46039f\"],[0.2222222222222222,\"#7201a8\"],[0.3333333333333333,\"#9c179e\"],[0.4444444444444444,\"#bd3786\"],[0.5555555555555556,\"#d8576b\"],[0.6666666666666666,\"#ed7953\"],[0.7777777777777778,\"#fb9f3a\"],[0.8888888888888888,\"#fdca26\"],[1.0,\"#f0f921\"]],\"sequentialminus\":[[0.0,\"#0d0887\"],[0.1111111111111111,\"#46039f\"],[0.2222222222222222,\"#7201a8\"],[0.3333333333333333,\"#9c179e\"],[0.4444444444444444,\"#bd3786\"],[0.5555555555555556,\"#d8576b\"],[0.6666666666666666,\"#ed7953\"],[0.7777777777777778,\"#fb9f3a\"],[0.8888888888888888,\"#fdca26\"],[1.0,\"#f0f921\"]],\"diverging\":[[0,\"#8e0152\"],[0.1,\"#c51b7d\"],[0.2,\"#de77ae\"],[0.3,\"#f1b6da\"],[0.4,\"#fde0ef\"],[0.5,\"#f7f7f7\"],[0.6,\"#e6f5d0\"],[0.7,\"#b8e186\"],[0.8,\"#7fbc41\"],[0.9,\"#4d9221\"],[1,\"#276419\"]]},\"xaxis\":{\"gridcolor\":\"white\",\"linecolor\":\"white\",\"ticks\":\"\",\"title\":{\"standoff\":15},\"zerolinecolor\":\"white\",\"automargin\":true,\"zerolinewidth\":2},\"yaxis\":{\"gridcolor\":\"white\",\"linecolor\":\"white\",\"ticks\":\"\",\"title\":{\"standoff\":15},\"zerolinecolor\":\"white\",\"automargin\":true,\"zerolinewidth\":2},\"scene\":{\"xaxis\":{\"backgroundcolor\":\"#E5ECF6\",\"gridcolor\":\"white\",\"linecolor\":\"white\",\"showbackground\":true,\"ticks\":\"\",\"zerolinecolor\":\"white\",\"gridwidth\":2},\"yaxis\":{\"backgroundcolor\":\"#E5ECF6\",\"gridcolor\":\"white\",\"linecolor\":\"white\",\"showbackground\":true,\"ticks\":\"\",\"zerolinecolor\":\"white\",\"gridwidth\":2},\"zaxis\":{\"backgroundcolor\":\"#E5ECF6\",\"gridcolor\":\"white\",\"linecolor\":\"white\",\"showbackground\":true,\"ticks\":\"\",\"zerolinecolor\":\"white\",\"gridwidth\":2}},\"shapedefaults\":{\"line\":{\"color\":\"#2a3f5f\"}},\"annotationdefaults\":{\"arrowcolor\":\"#2a3f5f\",\"arrowhead\":0,\"arrowwidth\":1},\"geo\":{\"bgcolor\":\"white\",\"landcolor\":\"#E5ECF6\",\"subunitcolor\":\"white\",\"showland\":true,\"showlakes\":true,\"lakecolor\":\"white\"},\"title\":{\"x\":0.05},\"mapbox\":{\"style\":\"light\"}}},\"title\":{\"text\":\"Basic Sankey Diagram JS, 5 clones (excluding clones in all 3 time points)\"},\"font\":{\"size\":10}},                        {\"responsive\": true}                    ).then(function(){\n",
       "                            \n",
       "var gd = document.getElementById('51a162ee-8f15-43c1-ac87-6e31f1067d97');\n",
       "var x = new MutationObserver(function (mutations, observer) {{\n",
       "        var display = window.getComputedStyle(gd).display;\n",
       "        if (!display || display === 'none') {{\n",
       "            console.log([gd, 'removed!']);\n",
       "            Plotly.purge(gd);\n",
       "            observer.disconnect();\n",
       "        }}\n",
       "}});\n",
       "\n",
       "// Listen for the removal of the full notebook cells\n",
       "var notebookContainer = gd.closest('#notebook-container');\n",
       "if (notebookContainer) {{\n",
       "    x.observe(notebookContainer, {childList: true});\n",
       "}}\n",
       "\n",
       "// Listen for the clearing of the current output cell\n",
       "var outputEl = gd.closest('.output');\n",
       "if (outputEl) {{\n",
       "    x.observe(outputEl, {childList: true});\n",
       "}}\n",
       "\n",
       "                        })                };                });            </script>        </div>"
      ]
     },
     "metadata": {},
     "output_type": "display_data"
    }
   ],
   "source": [
    "patients = [ 'EL', 'KC', 'LB', 'MS','AH', 'AM', 'GD', 'JS']\n",
    "\n",
    "for patient in patients:\n",
    "    sub = tcr[tcr['patient']==patient]\n",
    "    cdr = np.unique(sub['cdr3'])\n",
    "    sub_cdr = clone_df.loc[cdr]\n",
    "    sub_cdr = sub_cdr[sub_cdr['POST']!=0]\n",
    "    sub_cdr = sub_cdr[sub_cdr['PRE']+sub_cdr['DLI']!=0]\n",
    "\n",
    "\n",
    "    sub_cdr[['PRE','POST','DLI']] = np.sign(sub_cdr[['PRE','POST','DLI']] )\n",
    "    ms = sub_cdr[['PRE','POST','DLI']].sum(axis = 1)\n",
    "    keep = ms.index[ms<3]\n",
    "    sub_cdr = sub_cdr.loc[keep]\n",
    "    \n",
    "\n",
    "\n",
    "    # starting with just dli->post\n",
    "    source_arr = []\n",
    "    target_arr = []\n",
    "    val_arr = []\n",
    "\n",
    "    for clone in sub_cdr.index:\n",
    "    #     source_arr.append(1)\n",
    "    #     target_arr.append(2)\n",
    "\n",
    "    #     val_arr.append(sub_cdr.loc[clone,'Log10CloneSize'])\n",
    "\n",
    "    #     else: val_arr.append(0)\n",
    "\n",
    "        source_arr.append(0)\n",
    "        target_arr.append(2)\n",
    "\n",
    "        if sub_cdr.loc[clone,'PRE']!=0 and sub_cdr.loc[clone,'POST']!=0:\n",
    "            val_arr.append(1)\n",
    "    #         val_arr.append(sub_cdr.loc[clone,'Log10CloneSize'])\n",
    "        else: val_arr.append(0)\n",
    "\n",
    "        source_arr.append(1)\n",
    "        target_arr.append(2)\n",
    "\n",
    "        if sub_cdr.loc[clone,'DLI']!=0 and sub_cdr.loc[clone,'POST']!=0:\n",
    "            val_arr.append(1)\n",
    "    #         val_arr.append(sub_cdr.loc[clone,'Log10CloneSize'])\n",
    "        else: val_arr.append(0)\n",
    "\n",
    "    #     if sub_cdr.loc[clone,'PRE']!=0 and sub_cdr.loc[clone,'POST']!=0:\n",
    "    #         val_arr.append(sub_cdr.loc[clone,'Log10CloneSize'])\n",
    "\n",
    "    #     else: val_arr.append(0)\n",
    "\n",
    "\n",
    "\n",
    "\n",
    "    #     source_arr.append(s)\n",
    "    #     target_arr.append(t)\n",
    "    #     label_arr.append('PRE')\n",
    "    #     label_arr.append('DLI')\n",
    "    #     color_arr.append('blue')\n",
    "    #     color_arr.append('red')\n",
    "    #     s += 2\n",
    "    #     t += 2\n",
    "\n",
    "    #     if sub_cdr.loc[clone,'PRE']!=0 and sub_cdr.loc[clone,'DLI']!=0:\n",
    "    #         val_arr.append(sub_cdr.loc[clone,'Log10CloneSize'])\n",
    "\n",
    "    #     else: val_arr.append(0)\n",
    "\n",
    "\n",
    "\n",
    "\n",
    "    fig = go.Figure(data=[go.Sankey(\n",
    "        node = dict(\n",
    "          pad = 2,\n",
    "          thickness = 20,\n",
    "          line = dict(color = \"black\", width = 0.5),\n",
    "    #       label = label_arr,\n",
    "    #       color = color_arr\n",
    "          label = [\"PRE\", \"DLI\", \"POST\"],\n",
    "          color = [\"blue\",'red','orange']\n",
    "        ),\n",
    "\n",
    "        link = dict(\n",
    "          source = source_arr, # indices correspond to labels, eg A1, A2, A1, B1, ...\n",
    "          target = target_arr,\n",
    "          value = val_arr\n",
    "\n",
    "\n",
    "\n",
    "    #       source = [0, 1], # indices correspond to labels, eg A1, A2, A1, B1, ...\n",
    "    #       target = [2, 2],\n",
    "    #       value = [0, 4]\n",
    "      ))])\n",
    "\n",
    "    fig.update_layout(title_text=f\"Basic Sankey Diagram {patient}, {len(sub_cdr)} clones (excluding clones in all 3 time points)\", font_size=10)\n",
    "    fig.show()"
   ]
  },
  {
   "cell_type": "code",
   "execution_count": 34,
   "metadata": {},
   "outputs": [
    {
     "data": {
      "text/html": [
       "<div>\n",
       "<style scoped>\n",
       "    .dataframe tbody tr th:only-of-type {\n",
       "        vertical-align: middle;\n",
       "    }\n",
       "\n",
       "    .dataframe tbody tr th {\n",
       "        vertical-align: top;\n",
       "    }\n",
       "\n",
       "    .dataframe thead th {\n",
       "        text-align: right;\n",
       "    }\n",
       "</style>\n",
       "<table border=\"1\" class=\"dataframe\">\n",
       "  <thead>\n",
       "    <tr style=\"text-align: right;\">\n",
       "      <th></th>\n",
       "      <th>num_unique_patients</th>\n",
       "      <th>Log10CloneSize</th>\n",
       "      <th>PRE</th>\n",
       "      <th>POST</th>\n",
       "      <th>DLI</th>\n",
       "    </tr>\n",
       "  </thead>\n",
       "  <tbody>\n",
       "    <tr>\n",
       "      <th>CASAISGRAFEQYF</th>\n",
       "      <td>1</td>\n",
       "      <td>0.778151</td>\n",
       "      <td>0</td>\n",
       "      <td>1</td>\n",
       "      <td>1</td>\n",
       "    </tr>\n",
       "    <tr>\n",
       "      <th>CASSDGTGGNEQFF</th>\n",
       "      <td>2</td>\n",
       "      <td>0.778151</td>\n",
       "      <td>0</td>\n",
       "      <td>1</td>\n",
       "      <td>1</td>\n",
       "    </tr>\n",
       "    <tr>\n",
       "      <th>CASSDIGKGQQETQYF</th>\n",
       "      <td>1</td>\n",
       "      <td>0.301030</td>\n",
       "      <td>0</td>\n",
       "      <td>1</td>\n",
       "      <td>0</td>\n",
       "    </tr>\n",
       "    <tr>\n",
       "      <th>CASSLGPYEQYF</th>\n",
       "      <td>2</td>\n",
       "      <td>0.477121</td>\n",
       "      <td>0</td>\n",
       "      <td>1</td>\n",
       "      <td>1</td>\n",
       "    </tr>\n",
       "    <tr>\n",
       "      <th>CASSLGTQNTEAFF</th>\n",
       "      <td>2</td>\n",
       "      <td>0.301030</td>\n",
       "      <td>0</td>\n",
       "      <td>1</td>\n",
       "      <td>1</td>\n",
       "    </tr>\n",
       "    <tr>\n",
       "      <th>CASSPGTGNTEAFF</th>\n",
       "      <td>3</td>\n",
       "      <td>0.602060</td>\n",
       "      <td>0</td>\n",
       "      <td>1</td>\n",
       "      <td>1</td>\n",
       "    </tr>\n",
       "    <tr>\n",
       "      <th>CASSSGHPNTEAFF</th>\n",
       "      <td>1</td>\n",
       "      <td>0.301030</td>\n",
       "      <td>0</td>\n",
       "      <td>1</td>\n",
       "      <td>0</td>\n",
       "    </tr>\n",
       "    <tr>\n",
       "      <th>CASSTRTGVGSPLHF</th>\n",
       "      <td>1</td>\n",
       "      <td>0.301030</td>\n",
       "      <td>0</td>\n",
       "      <td>1</td>\n",
       "      <td>0</td>\n",
       "    </tr>\n",
       "    <tr>\n",
       "      <th>CSARAGGPRNEQFF</th>\n",
       "      <td>1</td>\n",
       "      <td>0.301030</td>\n",
       "      <td>0</td>\n",
       "      <td>1</td>\n",
       "      <td>0</td>\n",
       "    </tr>\n",
       "  </tbody>\n",
       "</table>\n",
       "</div>"
      ],
      "text/plain": [
       "                  num_unique_patients  Log10CloneSize  PRE  POST  DLI\n",
       "CASAISGRAFEQYF                      1        0.778151    0     1    1\n",
       "CASSDGTGGNEQFF                      2        0.778151    0     1    1\n",
       "CASSDIGKGQQETQYF                    1        0.301030    0     1    0\n",
       "CASSLGPYEQYF                        2        0.477121    0     1    1\n",
       "CASSLGTQNTEAFF                      2        0.301030    0     1    1\n",
       "CASSPGTGNTEAFF                      3        0.602060    0     1    1\n",
       "CASSSGHPNTEAFF                      1        0.301030    0     1    0\n",
       "CASSTRTGVGSPLHF                     1        0.301030    0     1    0\n",
       "CSARAGGPRNEQFF                      1        0.301030    0     1    0"
      ]
     },
     "execution_count": 34,
     "metadata": {},
     "output_type": "execute_result"
    }
   ],
   "source": [
    "sub_cdr"
   ]
  },
  {
   "cell_type": "code",
   "execution_count": 13,
   "metadata": {},
   "outputs": [],
   "source": [
    "r = [ 'EL', 'KC', 'LB', 'MS']\n",
    "nr = ['AH', 'AM', 'GD', 'JS']\n",
    "sub = tcr[tcr['patient'].isin(r)]\n",
    "cdr = np.unique(sub['cdr3'])\n",
    "sub_cdr = clone_df.loc[cdr]\n",
    "\n",
    "\n",
    "sign_cdr = pd.DataFrame(index = sub_cdr.index, columns = ['PRE','POST','DLI'] )\n",
    "# sign_cdr[['PRE','POST','DLI']] = np.sign(sub_cdr[['PRE','POST','DLI']] )\n",
    "# ms = sign_cdr[['PRE','POST','DLI']].sum(axis = 1)\n",
    "# keep = ms.index[ms<3]\n",
    "# sub_cdr = sub_cdr.loc[keep]\n",
    "\n",
    "sub_cdr_post = sub_cdr[sub_cdr['POST']!=0]\n",
    "# sub_cdr_post = sub_cdr_post[sub_cdr['PRE']+sub_cdr['DLI']!=0]\n",
    "sub_cdr_post = sub_cdr_post.sort_values(by = 'POST',ascending = False)\n",
    "\n"
   ]
  },
  {
   "cell_type": "code",
   "execution_count": 16,
   "metadata": {},
   "outputs": [
    {
     "data": {
      "text/html": [
       "<div>\n",
       "<style scoped>\n",
       "    .dataframe tbody tr th:only-of-type {\n",
       "        vertical-align: middle;\n",
       "    }\n",
       "\n",
       "    .dataframe tbody tr th {\n",
       "        vertical-align: top;\n",
       "    }\n",
       "\n",
       "    .dataframe thead th {\n",
       "        text-align: right;\n",
       "    }\n",
       "</style>\n",
       "<table border=\"1\" class=\"dataframe\">\n",
       "  <thead>\n",
       "    <tr style=\"text-align: right;\">\n",
       "      <th></th>\n",
       "      <th>num_unique_patients</th>\n",
       "      <th>Log10CloneSize</th>\n",
       "      <th>PRE</th>\n",
       "      <th>POST</th>\n",
       "      <th>DLI</th>\n",
       "    </tr>\n",
       "  </thead>\n",
       "  <tbody>\n",
       "    <tr>\n",
       "      <th>CSVEGGTHYEQYF</th>\n",
       "      <td>2</td>\n",
       "      <td>2.773786</td>\n",
       "      <td>12</td>\n",
       "      <td>581</td>\n",
       "      <td>0</td>\n",
       "    </tr>\n",
       "    <tr>\n",
       "      <th>CASSEPGQGALDTQYF</th>\n",
       "      <td>1</td>\n",
       "      <td>2.649335</td>\n",
       "      <td>0</td>\n",
       "      <td>446</td>\n",
       "      <td>0</td>\n",
       "    </tr>\n",
       "    <tr>\n",
       "      <th>CASSLRGQGNYGYTF</th>\n",
       "      <td>1</td>\n",
       "      <td>2.604226</td>\n",
       "      <td>0</td>\n",
       "      <td>401</td>\n",
       "      <td>0</td>\n",
       "    </tr>\n",
       "    <tr>\n",
       "      <th>CASSQDYSSNNSPLHF</th>\n",
       "      <td>1</td>\n",
       "      <td>2.552668</td>\n",
       "      <td>0</td>\n",
       "      <td>357</td>\n",
       "      <td>0</td>\n",
       "    </tr>\n",
       "    <tr>\n",
       "      <th>CASSLGAGLSRTDTQYF</th>\n",
       "      <td>1</td>\n",
       "      <td>2.447158</td>\n",
       "      <td>0</td>\n",
       "      <td>280</td>\n",
       "      <td>0</td>\n",
       "    </tr>\n",
       "    <tr>\n",
       "      <th>CASSLGLDSYNEQFF</th>\n",
       "      <td>1</td>\n",
       "      <td>2.281033</td>\n",
       "      <td>0</td>\n",
       "      <td>191</td>\n",
       "      <td>0</td>\n",
       "    </tr>\n",
       "    <tr>\n",
       "      <th>CASTERTSWGEQYF</th>\n",
       "      <td>1</td>\n",
       "      <td>2.164353</td>\n",
       "      <td>0</td>\n",
       "      <td>146</td>\n",
       "      <td>0</td>\n",
       "    </tr>\n",
       "    <tr>\n",
       "      <th>CASSLRTGVNEQFF</th>\n",
       "      <td>2</td>\n",
       "      <td>2.158362</td>\n",
       "      <td>1</td>\n",
       "      <td>143</td>\n",
       "      <td>0</td>\n",
       "    </tr>\n",
       "    <tr>\n",
       "      <th>CASSLVGGGGVTEAFF</th>\n",
       "      <td>2</td>\n",
       "      <td>2.155336</td>\n",
       "      <td>1</td>\n",
       "      <td>142</td>\n",
       "      <td>0</td>\n",
       "    </tr>\n",
       "    <tr>\n",
       "      <th>CASSIDVTSGYEQYF</th>\n",
       "      <td>1</td>\n",
       "      <td>2.152288</td>\n",
       "      <td>0</td>\n",
       "      <td>141</td>\n",
       "      <td>0</td>\n",
       "    </tr>\n",
       "    <tr>\n",
       "      <th>CATSDLGQGSYNEQFF</th>\n",
       "      <td>2</td>\n",
       "      <td>2.123852</td>\n",
       "      <td>1</td>\n",
       "      <td>132</td>\n",
       "      <td>0</td>\n",
       "    </tr>\n",
       "    <tr>\n",
       "      <th>CASSQDAGRGLQDTQYF</th>\n",
       "      <td>2</td>\n",
       "      <td>1.982271</td>\n",
       "      <td>1</td>\n",
       "      <td>95</td>\n",
       "      <td>0</td>\n",
       "    </tr>\n",
       "    <tr>\n",
       "      <th>CASRTGRDEQFF</th>\n",
       "      <td>1</td>\n",
       "      <td>1.939519</td>\n",
       "      <td>0</td>\n",
       "      <td>87</td>\n",
       "      <td>0</td>\n",
       "    </tr>\n",
       "    <tr>\n",
       "      <th>CASSVGTASEQYF</th>\n",
       "      <td>1</td>\n",
       "      <td>1.939519</td>\n",
       "      <td>0</td>\n",
       "      <td>87</td>\n",
       "      <td>0</td>\n",
       "    </tr>\n",
       "    <tr>\n",
       "      <th>CASSLATSGSDEQFF</th>\n",
       "      <td>1</td>\n",
       "      <td>1.924279</td>\n",
       "      <td>0</td>\n",
       "      <td>84</td>\n",
       "      <td>0</td>\n",
       "    </tr>\n",
       "    <tr>\n",
       "      <th>CASSIEGTGSREDTQYF</th>\n",
       "      <td>1</td>\n",
       "      <td>1.897627</td>\n",
       "      <td>0</td>\n",
       "      <td>79</td>\n",
       "      <td>0</td>\n",
       "    </tr>\n",
       "    <tr>\n",
       "      <th>CASRTEKNEKLFF</th>\n",
       "      <td>1</td>\n",
       "      <td>1.875061</td>\n",
       "      <td>0</td>\n",
       "      <td>75</td>\n",
       "      <td>0</td>\n",
       "    </tr>\n",
       "    <tr>\n",
       "      <th>CASSEGPGGTQYF</th>\n",
       "      <td>1</td>\n",
       "      <td>1.826075</td>\n",
       "      <td>0</td>\n",
       "      <td>67</td>\n",
       "      <td>0</td>\n",
       "    </tr>\n",
       "    <tr>\n",
       "      <th>CSARRQAISYEQYF</th>\n",
       "      <td>1</td>\n",
       "      <td>1.778151</td>\n",
       "      <td>0</td>\n",
       "      <td>60</td>\n",
       "      <td>0</td>\n",
       "    </tr>\n",
       "    <tr>\n",
       "      <th>CSVTGSGGPLDEQFF</th>\n",
       "      <td>3</td>\n",
       "      <td>1.908485</td>\n",
       "      <td>1</td>\n",
       "      <td>58</td>\n",
       "      <td>21</td>\n",
       "    </tr>\n",
       "    <tr>\n",
       "      <th>CASTQGQISNQPQHF</th>\n",
       "      <td>1</td>\n",
       "      <td>1.755875</td>\n",
       "      <td>0</td>\n",
       "      <td>57</td>\n",
       "      <td>0</td>\n",
       "    </tr>\n",
       "    <tr>\n",
       "      <th>CASSEFNGEETQYF</th>\n",
       "      <td>1</td>\n",
       "      <td>1.732394</td>\n",
       "      <td>0</td>\n",
       "      <td>54</td>\n",
       "      <td>0</td>\n",
       "    </tr>\n",
       "    <tr>\n",
       "      <th>CSAQGQDYEQYF</th>\n",
       "      <td>1</td>\n",
       "      <td>1.924279</td>\n",
       "      <td>11</td>\n",
       "      <td>53</td>\n",
       "      <td>20</td>\n",
       "    </tr>\n",
       "    <tr>\n",
       "      <th>CASSWEGQGYEKLFF</th>\n",
       "      <td>1</td>\n",
       "      <td>1.716003</td>\n",
       "      <td>0</td>\n",
       "      <td>52</td>\n",
       "      <td>0</td>\n",
       "    </tr>\n",
       "    <tr>\n",
       "      <th>CASRDRDRVNTEAFF</th>\n",
       "      <td>1</td>\n",
       "      <td>1.698970</td>\n",
       "      <td>0</td>\n",
       "      <td>50</td>\n",
       "      <td>0</td>\n",
       "    </tr>\n",
       "    <tr>\n",
       "      <th>CSARPSDLAGAVISYEQYF</th>\n",
       "      <td>1</td>\n",
       "      <td>1.681241</td>\n",
       "      <td>0</td>\n",
       "      <td>48</td>\n",
       "      <td>0</td>\n",
       "    </tr>\n",
       "    <tr>\n",
       "      <th>CASSLSEISYEQYF</th>\n",
       "      <td>2</td>\n",
       "      <td>1.724276</td>\n",
       "      <td>1</td>\n",
       "      <td>45</td>\n",
       "      <td>7</td>\n",
       "    </tr>\n",
       "    <tr>\n",
       "      <th>CASSYDEDGPLYEQYF</th>\n",
       "      <td>1</td>\n",
       "      <td>1.643453</td>\n",
       "      <td>0</td>\n",
       "      <td>44</td>\n",
       "      <td>0</td>\n",
       "    </tr>\n",
       "    <tr>\n",
       "      <th>CASSPISNEQFF</th>\n",
       "      <td>1</td>\n",
       "      <td>1.612784</td>\n",
       "      <td>0</td>\n",
       "      <td>41</td>\n",
       "      <td>0</td>\n",
       "    </tr>\n",
       "    <tr>\n",
       "      <th>CASSLSRGQNEAFF</th>\n",
       "      <td>1</td>\n",
       "      <td>1.591065</td>\n",
       "      <td>0</td>\n",
       "      <td>39</td>\n",
       "      <td>0</td>\n",
       "    </tr>\n",
       "    <tr>\n",
       "      <th>CASSLLLADYEQFF</th>\n",
       "      <td>1</td>\n",
       "      <td>1.579784</td>\n",
       "      <td>0</td>\n",
       "      <td>38</td>\n",
       "      <td>0</td>\n",
       "    </tr>\n",
       "    <tr>\n",
       "      <th>CASSQVEGQETQYF</th>\n",
       "      <td>1</td>\n",
       "      <td>1.568202</td>\n",
       "      <td>0</td>\n",
       "      <td>37</td>\n",
       "      <td>0</td>\n",
       "    </tr>\n",
       "    <tr>\n",
       "      <th>CSAKRQASNQPQHF</th>\n",
       "      <td>1</td>\n",
       "      <td>1.763428</td>\n",
       "      <td>5</td>\n",
       "      <td>35</td>\n",
       "      <td>18</td>\n",
       "    </tr>\n",
       "    <tr>\n",
       "      <th>CASSPGTSWNEQFF</th>\n",
       "      <td>1</td>\n",
       "      <td>1.544068</td>\n",
       "      <td>0</td>\n",
       "      <td>35</td>\n",
       "      <td>0</td>\n",
       "    </tr>\n",
       "    <tr>\n",
       "      <th>CASSLTLPSYEQYF</th>\n",
       "      <td>1</td>\n",
       "      <td>1.505150</td>\n",
       "      <td>0</td>\n",
       "      <td>32</td>\n",
       "      <td>0</td>\n",
       "    </tr>\n",
       "    <tr>\n",
       "      <th>CASSVGTGHTEAFF</th>\n",
       "      <td>1</td>\n",
       "      <td>1.633468</td>\n",
       "      <td>5</td>\n",
       "      <td>32</td>\n",
       "      <td>6</td>\n",
       "    </tr>\n",
       "    <tr>\n",
       "      <th>CASSLYGGGGETQYF</th>\n",
       "      <td>1</td>\n",
       "      <td>1.505150</td>\n",
       "      <td>0</td>\n",
       "      <td>32</td>\n",
       "      <td>0</td>\n",
       "    </tr>\n",
       "    <tr>\n",
       "      <th>CASSYRGLSDQPQHF</th>\n",
       "      <td>1</td>\n",
       "      <td>1.447158</td>\n",
       "      <td>0</td>\n",
       "      <td>28</td>\n",
       "      <td>0</td>\n",
       "    </tr>\n",
       "    <tr>\n",
       "      <th>CASNSLAGGAYNEQFF</th>\n",
       "      <td>1</td>\n",
       "      <td>1.447158</td>\n",
       "      <td>0</td>\n",
       "      <td>28</td>\n",
       "      <td>0</td>\n",
       "    </tr>\n",
       "    <tr>\n",
       "      <th>CSAPGGTEKNTGELFF</th>\n",
       "      <td>1</td>\n",
       "      <td>1.447158</td>\n",
       "      <td>0</td>\n",
       "      <td>28</td>\n",
       "      <td>0</td>\n",
       "    </tr>\n",
       "  </tbody>\n",
       "</table>\n",
       "</div>"
      ],
      "text/plain": [
       "                     num_unique_patients  Log10CloneSize  PRE  POST  DLI\n",
       "CSVEGGTHYEQYF                          2        2.773786   12   581    0\n",
       "CASSEPGQGALDTQYF                       1        2.649335    0   446    0\n",
       "CASSLRGQGNYGYTF                        1        2.604226    0   401    0\n",
       "CASSQDYSSNNSPLHF                       1        2.552668    0   357    0\n",
       "CASSLGAGLSRTDTQYF                      1        2.447158    0   280    0\n",
       "CASSLGLDSYNEQFF                        1        2.281033    0   191    0\n",
       "CASTERTSWGEQYF                         1        2.164353    0   146    0\n",
       "CASSLRTGVNEQFF                         2        2.158362    1   143    0\n",
       "CASSLVGGGGVTEAFF                       2        2.155336    1   142    0\n",
       "CASSIDVTSGYEQYF                        1        2.152288    0   141    0\n",
       "CATSDLGQGSYNEQFF                       2        2.123852    1   132    0\n",
       "CASSQDAGRGLQDTQYF                      2        1.982271    1    95    0\n",
       "CASRTGRDEQFF                           1        1.939519    0    87    0\n",
       "CASSVGTASEQYF                          1        1.939519    0    87    0\n",
       "CASSLATSGSDEQFF                        1        1.924279    0    84    0\n",
       "CASSIEGTGSREDTQYF                      1        1.897627    0    79    0\n",
       "CASRTEKNEKLFF                          1        1.875061    0    75    0\n",
       "CASSEGPGGTQYF                          1        1.826075    0    67    0\n",
       "CSARRQAISYEQYF                         1        1.778151    0    60    0\n",
       "CSVTGSGGPLDEQFF                        3        1.908485    1    58   21\n",
       "CASTQGQISNQPQHF                        1        1.755875    0    57    0\n",
       "CASSEFNGEETQYF                         1        1.732394    0    54    0\n",
       "CSAQGQDYEQYF                           1        1.924279   11    53   20\n",
       "CASSWEGQGYEKLFF                        1        1.716003    0    52    0\n",
       "CASRDRDRVNTEAFF                        1        1.698970    0    50    0\n",
       "CSARPSDLAGAVISYEQYF                    1        1.681241    0    48    0\n",
       "CASSLSEISYEQYF                         2        1.724276    1    45    7\n",
       "CASSYDEDGPLYEQYF                       1        1.643453    0    44    0\n",
       "CASSPISNEQFF                           1        1.612784    0    41    0\n",
       "CASSLSRGQNEAFF                         1        1.591065    0    39    0\n",
       "CASSLLLADYEQFF                         1        1.579784    0    38    0\n",
       "CASSQVEGQETQYF                         1        1.568202    0    37    0\n",
       "CSAKRQASNQPQHF                         1        1.763428    5    35   18\n",
       "CASSPGTSWNEQFF                         1        1.544068    0    35    0\n",
       "CASSLTLPSYEQYF                         1        1.505150    0    32    0\n",
       "CASSVGTGHTEAFF                         1        1.633468    5    32    6\n",
       "CASSLYGGGGETQYF                        1        1.505150    0    32    0\n",
       "CASSYRGLSDQPQHF                        1        1.447158    0    28    0\n",
       "CASNSLAGGAYNEQFF                       1        1.447158    0    28    0\n",
       "CSAPGGTEKNTGELFF                       1        1.447158    0    28    0"
      ]
     },
     "execution_count": 16,
     "metadata": {},
     "output_type": "execute_result"
    }
   ],
   "source": [
    "sub_cdr_post[0:40]"
   ]
  },
  {
   "cell_type": "code",
   "execution_count": 7,
   "metadata": {},
   "outputs": [
    {
     "ename": "NameError",
     "evalue": "name 'plt' is not defined",
     "output_type": "error",
     "traceback": [
      "\u001b[0;31m---------------------------------------------------------------------------\u001b[0m",
      "\u001b[0;31mNameError\u001b[0m                                 Traceback (most recent call last)",
      "\u001b[0;32m<ipython-input-7-9d30796133ba>\u001b[0m in \u001b[0;36m<module>\u001b[0;34m\u001b[0m\n\u001b[0;32m----> 1\u001b[0;31m \u001b[0mplt\u001b[0m\u001b[0;34m.\u001b[0m\u001b[0mfigure\u001b[0m\u001b[0;34m(\u001b[0m\u001b[0;34m)\u001b[0m\u001b[0;34m\u001b[0m\u001b[0;34m\u001b[0m\u001b[0m\n\u001b[0m\u001b[1;32m      2\u001b[0m \u001b[0mplt\u001b[0m\u001b[0;34m.\u001b[0m\u001b[0mhist\u001b[0m\u001b[0;34m(\u001b[0m\u001b[0msub_cdr_post\u001b[0m\u001b[0;34m[\u001b[0m\u001b[0;34m'POST'\u001b[0m\u001b[0;34m]\u001b[0m\u001b[0;34m,\u001b[0m \u001b[0mbins\u001b[0m \u001b[0;34m=\u001b[0m \u001b[0;36m100\u001b[0m\u001b[0;34m)\u001b[0m\u001b[0;34m\u001b[0m\u001b[0;34m\u001b[0m\u001b[0m\n\u001b[1;32m      3\u001b[0m \u001b[0mplt\u001b[0m\u001b[0;34m.\u001b[0m\u001b[0mshow\u001b[0m\u001b[0;34m(\u001b[0m\u001b[0;34m)\u001b[0m\u001b[0;34m\u001b[0m\u001b[0;34m\u001b[0m\u001b[0m\n",
      "\u001b[0;31mNameError\u001b[0m: name 'plt' is not defined"
     ]
    }
   ],
   "source": [
    "plt.figure()\n",
    "plt.hist(sub_cdr_post['POST'], bins = 100)\n",
    "plt.show()"
   ]
  },
  {
   "cell_type": "code",
   "execution_count": 18,
   "metadata": {},
   "outputs": [
    {
     "data": {
      "text/plain": [
       "162"
      ]
     },
     "execution_count": 18,
     "metadata": {},
     "output_type": "execute_result"
    }
   ],
   "source": [
    "# sub_cdr_post = sub_cdr_post[0:200]\n",
    "n_dli = len(sub_cdr_post[sub_cdr_post['DLI']>0])\n",
    "n_dli"
   ]
  },
  {
   "cell_type": "code",
   "execution_count": 23,
   "metadata": {},
   "outputs": [
    {
     "data": {
      "application/vnd.plotly.v1+json": {
       "config": {
        "plotlyServerURL": "https://plot.ly"
       },
       "data": [
        {
         "link": {
          "color": [
           "lightgrey",
           "white",
           "white",
           "white",
           "white",
           "white",
           "white",
           "lightgrey",
           "lightgrey",
           "white",
           "lightgrey",
           "lightgrey",
           "white",
           "white",
           "white",
           "white",
           "white",
           "white",
           "white",
           "lightgrey",
           "white",
           "white",
           "lightgrey",
           "white",
           "white",
           "white",
           "lightgrey",
           "white",
           "white",
           "white",
           "white",
           "white",
           "lightgrey",
           "white",
           "white",
           "lightgrey",
           "white",
           "white",
           "white",
           "white",
           "white",
           "white",
           "white",
           "white",
           "white",
           "white",
           "white",
           "white",
           "white",
           "white",
           "white",
           "white",
           "lightgrey",
           "white",
           "lightgrey",
           "white",
           "white",
           "white",
           "white",
           "white",
           "lightgrey",
           "white",
           "white",
           "white",
           "white",
           "lightgrey",
           "white",
           "white",
           "white",
           "lightgrey",
           "lightgrey",
           "white",
           "lightgrey",
           "white",
           "white",
           "white",
           "white",
           "lightgrey",
           "lightgrey",
           "white",
           "white",
           "white",
           "white",
           "white",
           "white",
           "white",
           "lightgrey",
           "white",
           "lightgrey",
           "white",
           "white",
           "white",
           "white",
           "lightgrey",
           "white",
           "white",
           "white",
           "white",
           "lightgrey",
           "white",
           "white",
           "white",
           "lightgrey",
           "white",
           "lightgrey",
           "white",
           "white",
           "lightgrey",
           "lightgrey",
           "white",
           "white",
           "white",
           "white",
           "white",
           "white",
           "white",
           "white",
           "lightgrey",
           "white",
           "lightgrey",
           "lightgrey",
           "lightgrey",
           "lightgrey",
           "white",
           "lightgrey",
           "white",
           "white",
           "lightgrey",
           "white",
           "white",
           "white",
           "white",
           "lightgrey",
           "white",
           "white",
           "lightgrey",
           "white",
           "white",
           "lightgrey",
           "lightgrey",
           "white",
           "lightgrey",
           "lightgrey",
           "white",
           "white",
           "white",
           "lightgrey",
           "white",
           "white",
           "white",
           "white",
           "lightgrey",
           "white",
           "lightgrey",
           "white",
           "white",
           "lightgrey",
           "white",
           "white",
           "lightgrey",
           "white",
           "white",
           "lightgrey",
           "lightgrey",
           "white",
           "white",
           "white",
           "white",
           "white",
           "lightgrey",
           "white",
           "white",
           "white",
           "white",
           "white",
           "white",
           "white",
           "lightgrey",
           "white",
           "white",
           "white",
           "white",
           "white",
           "white",
           "white",
           "lightgrey",
           "white",
           "white",
           "lightgrey",
           "white",
           "white",
           "white",
           "lightgrey",
           "white",
           "white",
           "white",
           "white",
           "white",
           "white",
           "white",
           "lightgrey",
           "white",
           "white",
           "white",
           "lightgrey",
           "white",
           "white",
           "white",
           "white",
           "white",
           "white",
           "white",
           "white",
           "white",
           "white",
           "white",
           "white",
           "lightgrey",
           "white",
           "lightgrey",
           "lightgrey",
           "white",
           "white",
           "white",
           "lightgrey",
           "white",
           "white",
           "lightgrey",
           "white",
           "white",
           "white",
           "white",
           "white",
           "white",
           "lightgrey",
           "white",
           "white",
           "white",
           "lightgrey",
           "white",
           "white",
           "white",
           "lightgrey",
           "white",
           "white",
           "lightgrey",
           "white",
           "lightgrey",
           "white",
           "lightgrey",
           "white",
           "white",
           "white",
           "white",
           "white",
           "white",
           "white",
           "white",
           "white",
           "white",
           "white",
           "white",
           "white",
           "lightgrey",
           "white",
           "white",
           "white",
           "white",
           "white",
           "white",
           "lightgrey",
           "white",
           "white",
           "white",
           "white",
           "white",
           "white",
           "white",
           "white",
           "white",
           "white",
           "white",
           "white",
           "white",
           "white",
           "white",
           "white",
           "white",
           "white",
           "lightgrey",
           "white",
           "lightgrey",
           "white",
           "lightgrey",
           "white",
           "white",
           "white",
           "white",
           "white",
           "white",
           "white",
           "white",
           "white",
           "white",
           "white",
           "white",
           "white",
           "white",
           "white",
           "white",
           "lightgrey",
           "white",
           "white",
           "white",
           "lightgrey",
           "white",
           "white",
           "white",
           "white",
           "white",
           "lightgrey",
           "white",
           "white",
           "white",
           "white",
           "white",
           "white",
           "lightgrey",
           "white",
           "white",
           "lightgrey",
           "white",
           "lightgrey",
           "white",
           "lightgrey",
           "white",
           "white",
           "white",
           "lightgrey",
           "lightgrey",
           "white",
           "white",
           "white",
           "white",
           "white",
           "lightgrey",
           "white",
           "white",
           "white",
           "white",
           "white",
           "white",
           "white",
           "lightgrey",
           "lightgrey",
           "white",
           "white",
           "white",
           "lightgrey",
           "lightgrey",
           "lightgrey",
           "lightgrey",
           "lightgrey",
           "lightgrey",
           "lightgrey",
           "lightgrey",
           "lightgrey",
           "lightgrey",
           "lightgrey",
           "lightgrey",
           "lightgrey",
           "lightgrey",
           "lightgrey",
           "lightgrey",
           "lightgrey",
           "lightgrey",
           "lightgrey",
           "lightgrey",
           "lightgrey",
           "lightgrey",
           "lightgrey",
           "lightgrey",
           "lightgrey",
           "lightgrey",
           "lightgrey",
           "lightgrey",
           "lightgrey",
           "lightgrey",
           "lightgrey",
           "lightgrey",
           "lightgrey",
           "lightgrey",
           "lightgrey",
           "lightgrey",
           "lightgrey",
           "lightgrey",
           "lightgrey",
           "lightgrey",
           "lightgrey",
           "lightgrey",
           "lightgrey",
           "lightgrey",
           "lightgrey",
           "lightgrey",
           "lightgrey",
           "lightgrey",
           "lightgrey",
           "lightgrey",
           "lightgrey",
           "lightgrey",
           "lightgrey",
           "lightgrey",
           "lightgrey",
           "lightgrey",
           "lightgrey",
           "lightgrey",
           "lightgrey",
           "lightgrey",
           "lightgrey",
           "lightgrey",
           "lightgrey",
           "lightgrey",
           "lightgrey",
           "lightgrey",
           "lightgrey",
           "lightgrey",
           "lightgrey",
           "lightgrey",
           "lightgrey",
           "lightgrey",
           "lightgrey",
           "lightgrey",
           "lightgrey",
           "lightgrey",
           "lightgrey",
           "lightgrey",
           "lightgrey",
           "lightgrey",
           "lightgrey",
           "lightgrey",
           "lightgrey",
           "lightgrey",
           "lightgrey",
           "lightgrey",
           "lightgrey",
           "lightgrey",
           "lightgrey",
           "lightgrey",
           "lightgrey",
           "lightgrey",
           "lightgrey",
           "lightgrey",
           "lightgrey",
           "lightgrey",
           "lightgrey",
           "lightgrey",
           "lightgrey",
           "lightgrey"
          ],
          "source": [
           0,
           2,
           4,
           6,
           8,
           10,
           12,
           14,
           16,
           18,
           20,
           22,
           24,
           26,
           28,
           30,
           32,
           34,
           36,
           38,
           40,
           42,
           44,
           46,
           48,
           50,
           52,
           54,
           56,
           58,
           60,
           62,
           64,
           66,
           68,
           70,
           72,
           74,
           76,
           78,
           80,
           82,
           84,
           86,
           88,
           90,
           92,
           94,
           96,
           98,
           100,
           102,
           104,
           106,
           108,
           110,
           112,
           114,
           116,
           118,
           120,
           122,
           124,
           126,
           128,
           130,
           132,
           134,
           136,
           138,
           140,
           142,
           144,
           146,
           148,
           150,
           152,
           154,
           156,
           158,
           160,
           162,
           164,
           166,
           168,
           170,
           172,
           174,
           176,
           178,
           180,
           182,
           184,
           186,
           188,
           190,
           192,
           194,
           196,
           198,
           200,
           202,
           204,
           206,
           208,
           210,
           212,
           214,
           216,
           218,
           220,
           222,
           224,
           226,
           228,
           230,
           232,
           234,
           236,
           238,
           240,
           242,
           244,
           246,
           248,
           250,
           252,
           254,
           256,
           258,
           260,
           262,
           264,
           266,
           268,
           270,
           272,
           274,
           276,
           278,
           280,
           282,
           284,
           286,
           288,
           290,
           292,
           294,
           296,
           298,
           300,
           302,
           304,
           306,
           308,
           310,
           312,
           314,
           316,
           318,
           320,
           322,
           324,
           326,
           328,
           330,
           332,
           334,
           336,
           338,
           340,
           342,
           344,
           346,
           348,
           350,
           352,
           354,
           356,
           358,
           360,
           362,
           364,
           366,
           368,
           370,
           372,
           374,
           376,
           378,
           380,
           382,
           384,
           386,
           388,
           390,
           392,
           394,
           396,
           398,
           400,
           402,
           404,
           406,
           408,
           410,
           412,
           414,
           416,
           418,
           420,
           422,
           424,
           426,
           428,
           430,
           432,
           434,
           436,
           438,
           440,
           442,
           444,
           446,
           448,
           450,
           452,
           454,
           456,
           458,
           460,
           462,
           464,
           466,
           468,
           470,
           472,
           474,
           476,
           478,
           480,
           482,
           484,
           486,
           488,
           490,
           492,
           494,
           496,
           498,
           500,
           502,
           504,
           506,
           508,
           510,
           512,
           514,
           516,
           518,
           520,
           522,
           524,
           526,
           528,
           530,
           532,
           534,
           536,
           538,
           540,
           542,
           544,
           546,
           548,
           550,
           552,
           554,
           556,
           558,
           560,
           562,
           564,
           566,
           568,
           570,
           572,
           574,
           576,
           578,
           580,
           582,
           584,
           586,
           588,
           590,
           592,
           594,
           596,
           598,
           600,
           602,
           604,
           606,
           608,
           610,
           612,
           614,
           616,
           618,
           620,
           622,
           624,
           626,
           628,
           630,
           632,
           634,
           636,
           638,
           640,
           642,
           644,
           646,
           648,
           650,
           652,
           654,
           656,
           658,
           660,
           662,
           664,
           666,
           668,
           670,
           672,
           674,
           676,
           678,
           680,
           682,
           684,
           686,
           688,
           690,
           692,
           694,
           696,
           698,
           700,
           702,
           704,
           706,
           708,
           710,
           712,
           714,
           716,
           718,
           720,
           722,
           724,
           726,
           728,
           730,
           732,
           734,
           736,
           738,
           740,
           742,
           744,
           746,
           748,
           750,
           752,
           754,
           756,
           758,
           760,
           762,
           764,
           766,
           768,
           770,
           772,
           774,
           776,
           778,
           780,
           782,
           784,
           786,
           788,
           790,
           792,
           794,
           796,
           798,
           800,
           802,
           804,
           806,
           808,
           810,
           812,
           814,
           816,
           818,
           820,
           822,
           824,
           826,
           828,
           830,
           832,
           834,
           836,
           838,
           840,
           842,
           844,
           846,
           848,
           850,
           852,
           854,
           856,
           858,
           860,
           862,
           864,
           866,
           868,
           870,
           872,
           874,
           876,
           878,
           880,
           882,
           884,
           886,
           888,
           890,
           892,
           894,
           896,
           898,
           900,
           902,
           904,
           906,
           908,
           910,
           912,
           914
          ],
          "target": [
           1,
           3,
           5,
           7,
           9,
           11,
           13,
           15,
           17,
           19,
           21,
           23,
           25,
           27,
           29,
           31,
           33,
           35,
           37,
           39,
           41,
           43,
           45,
           47,
           49,
           51,
           53,
           55,
           57,
           59,
           61,
           63,
           65,
           67,
           69,
           71,
           73,
           75,
           77,
           79,
           81,
           83,
           85,
           87,
           89,
           91,
           93,
           95,
           97,
           99,
           101,
           103,
           105,
           107,
           109,
           111,
           113,
           115,
           117,
           119,
           121,
           123,
           125,
           127,
           129,
           131,
           133,
           135,
           137,
           139,
           141,
           143,
           145,
           147,
           149,
           151,
           153,
           155,
           157,
           159,
           161,
           163,
           165,
           167,
           169,
           171,
           173,
           175,
           177,
           179,
           181,
           183,
           185,
           187,
           189,
           191,
           193,
           195,
           197,
           199,
           201,
           203,
           205,
           207,
           209,
           211,
           213,
           215,
           217,
           219,
           221,
           223,
           225,
           227,
           229,
           231,
           233,
           235,
           237,
           239,
           241,
           243,
           245,
           247,
           249,
           251,
           253,
           255,
           257,
           259,
           261,
           263,
           265,
           267,
           269,
           271,
           273,
           275,
           277,
           279,
           281,
           283,
           285,
           287,
           289,
           291,
           293,
           295,
           297,
           299,
           301,
           303,
           305,
           307,
           309,
           311,
           313,
           315,
           317,
           319,
           321,
           323,
           325,
           327,
           329,
           331,
           333,
           335,
           337,
           339,
           341,
           343,
           345,
           347,
           349,
           351,
           353,
           355,
           357,
           359,
           361,
           363,
           365,
           367,
           369,
           371,
           373,
           375,
           377,
           379,
           381,
           383,
           385,
           387,
           389,
           391,
           393,
           395,
           397,
           399,
           401,
           403,
           405,
           407,
           409,
           411,
           413,
           415,
           417,
           419,
           421,
           423,
           425,
           427,
           429,
           431,
           433,
           435,
           437,
           439,
           441,
           443,
           445,
           447,
           449,
           451,
           453,
           455,
           457,
           459,
           461,
           463,
           465,
           467,
           469,
           471,
           473,
           475,
           477,
           479,
           481,
           483,
           485,
           487,
           489,
           491,
           493,
           495,
           497,
           499,
           501,
           503,
           505,
           507,
           509,
           511,
           513,
           515,
           517,
           519,
           521,
           523,
           525,
           527,
           529,
           531,
           533,
           535,
           537,
           539,
           541,
           543,
           545,
           547,
           549,
           551,
           553,
           555,
           557,
           559,
           561,
           563,
           565,
           567,
           569,
           571,
           573,
           575,
           577,
           579,
           581,
           583,
           585,
           587,
           589,
           591,
           593,
           595,
           597,
           599,
           601,
           603,
           605,
           607,
           609,
           611,
           613,
           615,
           617,
           619,
           621,
           623,
           625,
           627,
           629,
           631,
           633,
           635,
           637,
           639,
           641,
           643,
           645,
           647,
           649,
           651,
           653,
           655,
           657,
           659,
           661,
           663,
           665,
           667,
           669,
           671,
           673,
           675,
           677,
           679,
           681,
           683,
           685,
           687,
           689,
           691,
           693,
           695,
           697,
           699,
           701,
           703,
           705,
           707,
           709,
           711,
           713,
           715,
           717,
           719,
           721,
           723,
           725,
           727,
           729,
           731,
           733,
           735,
           737,
           739,
           741,
           743,
           745,
           747,
           749,
           751,
           753,
           755,
           757,
           759,
           761,
           763,
           765,
           767,
           769,
           771,
           773,
           775,
           777,
           779,
           781,
           783,
           785,
           787,
           789,
           791,
           793,
           795,
           797,
           799,
           801,
           803,
           805,
           807,
           809,
           811,
           813,
           815,
           817,
           819,
           821,
           823,
           825,
           827,
           829,
           831,
           833,
           835,
           837,
           839,
           841,
           843,
           845,
           847,
           849,
           851,
           853,
           855,
           857,
           859,
           861,
           863,
           865,
           867,
           869,
           871,
           873,
           875,
           877,
           879,
           881,
           883,
           885,
           887,
           889,
           891,
           893,
           895,
           897,
           899,
           901,
           903,
           905,
           907,
           909,
           911,
           913,
           915
          ],
          "value": [
           2.773786444981193,
           2.649334858712142,
           2.6042260530844703,
           2.5526682161121936,
           2.4471580313422194,
           2.281033367247728,
           2.1643528557844367,
           2.1583624920952498,
           2.155336037465062,
           2.1522883443830563,
           2.123851640967086,
           1.9822712330395684,
           1.9395192526186185,
           1.9395192526186185,
           1.9242792860618816,
           1.8976270912904412,
           1.8750612633917,
           1.8260748027008264,
           1.7781512503836436,
           1.9084850188786495,
           1.7558748556724917,
           1.7323937598229686,
           1.9242792860618816,
           1.7160033436347992,
           1.6989700043360187,
           1.6812412373755872,
           1.7242758696007892,
           1.6434526764861874,
           1.6127838567197357,
           1.5910646070264989,
           1.57978359661681,
           1.568201724066995,
           1.7634279935629371,
           1.5440680443502757,
           1.505149978319906,
           1.6334684555795866,
           1.505149978319906,
           1.4471580313422192,
           1.4471580313422192,
           1.4471580313422192,
           1.4471580313422192,
           1.4313637641589874,
           1.4313637641589874,
           1.4313637641589874,
           1.414973347970818,
           1.414973347970818,
           1.414973347970818,
           1.3979400086720375,
           1.3979400086720375,
           1.3979400086720375,
           1.3802112417116061,
           1.3802112417116061,
           1.3802112417116061,
           1.3617278360175928,
           1.4471580313422192,
           1.3424226808222062,
           1.3222192947339193,
           1.3010299956639813,
           1.3010299956639813,
           1.3010299956639813,
           1.3979400086720375,
           1.2787536009528289,
           1.2787536009528289,
           1.2787536009528289,
           1.2552725051033058,
           1.2787536009528289,
           1.2552725051033058,
           1.2552725051033058,
           1.2552725051033058,
           1.3222192947339193,
           1.3979400086720375,
           1.2041199826559248,
           1.3424226808222062,
           1.2041199826559248,
           1.2041199826559248,
           1.2041199826559248,
           1.2041199826559248,
           1.3010299956639813,
           1.230448921378274,
           1.146128035678238,
           1.146128035678238,
           1.146128035678238,
           1.146128035678238,
           1.1139433523068367,
           1.1139433523068367,
           1.1139433523068367,
           1.146128035678238,
           1.1139433523068367,
           1.1760912590556811,
           1.0791812460476249,
           1.0791812460476249,
           1.0791812460476249,
           1.041392685158225,
           1.146128035678238,
           1.041392685158225,
           1.041392685158225,
           1,
           1,
           1.0791812460476249,
           1,
           1,
           0.9542425094393248,
           1.3979400086720375,
           0.9542425094393248,
           1.1139433523068367,
           0.9542425094393248,
           0.9542425094393248,
           1.4313637641589874,
           1.1760912590556811,
           0.9030899869919436,
           0.9030899869919436,
           0.9030899869919436,
           0.9030899869919436,
           0.9030899869919436,
           0.9030899869919436,
           0.9030899869919436,
           0.9030899869919436,
           2.3502480183341627,
           0.9030899869919436,
           1.0791812460476249,
           1.041392685158225,
           1.041392685158225,
           0.9542425094393248,
           0.8450980400142568,
           1.146128035678238,
           0.8450980400142568,
           0.8450980400142568,
           0.9542425094393248,
           0.8450980400142568,
           0.8450980400142568,
           0.8450980400142568,
           0.7781512503836436,
           1.1760912590556811,
           0.7781512503836436,
           0.7781512503836436,
           1.041392685158225,
           0.7781512503836436,
           0.7781512503836436,
           0.9542425094393248,
           0.8450980400142568,
           0.7781512503836436,
           0.9030899869919436,
           1.2787536009528289,
           0.7781512503836436,
           0.6989700043360189,
           0.6989700043360189,
           1,
           0.6989700043360189,
           0.6989700043360189,
           0.6989700043360189,
           0.6989700043360189,
           0.7781512503836436,
           0.6989700043360189,
           1.041392685158225,
           0.6020599913279624,
           0.6020599913279624,
           0.6989700043360189,
           0.6020599913279624,
           0.6020599913279624,
           0.7781512503836436,
           0.6020599913279624,
           0.6020599913279624,
           0.6989700043360189,
           0.7781512503836436,
           0.6020599913279624,
           0.6020599913279624,
           0.6020599913279624,
           0.6020599913279624,
           0.6020599913279624,
           0.7781512503836436,
           0.6020599913279624,
           0.6020599913279624,
           0.6020599913279624,
           0.6020599913279624,
           0.6020599913279624,
           0.6020599913279624,
           0.6020599913279624,
           1,
           0.6020599913279624,
           0.6020599913279624,
           0.6020599913279624,
           0.6020599913279624,
           0.6020599913279624,
           0.6020599913279624,
           0.4771212547196624,
           1.230448921378274,
           0.4771212547196624,
           0.4771212547196624,
           0.7781512503836436,
           0.4771212547196624,
           0.4771212547196624,
           0.4771212547196624,
           0.6989700043360189,
           0.4771212547196624,
           0.4771212547196624,
           0.4771212547196624,
           0.4771212547196624,
           0.4771212547196624,
           0.4771212547196624,
           0.4771212547196624,
           1.1139433523068367,
           0.4771212547196624,
           0.4771212547196624,
           0.4771212547196624,
           0.6020599913279624,
           0.4771212547196624,
           0.4771212547196624,
           0.4771212547196624,
           0.4771212547196624,
           0.4771212547196624,
           0.4771212547196624,
           0.4771212547196624,
           0.4771212547196624,
           0.4771212547196624,
           0.4771212547196624,
           0.4771212547196624,
           0.4771212547196624,
           0.6020599913279624,
           0.4771212547196624,
           0.6020599913279624,
           0.6020599913279624,
           0.4771212547196624,
           0.4771212547196624,
           0.3010299956639812,
           1.2041199826559248,
           0.3010299956639812,
           0.3010299956639812,
           0.4771212547196624,
           0.3010299956639812,
           0.3010299956639812,
           0.3010299956639812,
           0.3010299956639812,
           0.3010299956639812,
           0.3010299956639812,
           0.4771212547196624,
           0.3010299956639812,
           0.3010299956639812,
           0.3010299956639812,
           0.4771212547196624,
           0.3010299956639812,
           0.3010299956639812,
           0.3010299956639812,
           1,
           0.3010299956639812,
           0.3010299956639812,
           0.9542425094393248,
           0.3010299956639812,
           0.4771212547196624,
           0.3010299956639812,
           0.7781512503836436,
           0.3010299956639812,
           0.3010299956639812,
           0.3010299956639812,
           0.3010299956639812,
           0.3010299956639812,
           0.3010299956639812,
           0.3010299956639812,
           0.3010299956639812,
           0.3010299956639812,
           0.3010299956639812,
           0.3010299956639812,
           0.3010299956639812,
           0.3010299956639812,
           0.6020599913279624,
           0.3010299956639812,
           0.3010299956639812,
           0.3010299956639812,
           0.3010299956639812,
           0.3010299956639812,
           0.3010299956639812,
           0.4771212547196624,
           0.3010299956639812,
           0.3010299956639812,
           0.3010299956639812,
           0.3010299956639812,
           0.3010299956639812,
           0.3010299956639812,
           0.3010299956639812,
           0.3010299956639812,
           0.3010299956639812,
           0.3010299956639812,
           0.3010299956639812,
           0.3010299956639812,
           0.3010299956639812,
           0.3010299956639812,
           0.3010299956639812,
           0.3010299956639812,
           0.3010299956639812,
           0.3010299956639812,
           0.4771212547196624,
           0.3010299956639812,
           0.4771212547196624,
           0.3010299956639812,
           0.4771212547196624,
           0.3010299956639812,
           0.3010299956639812,
           0.3010299956639812,
           0.3010299956639812,
           0.3010299956639812,
           0.3010299956639812,
           0.3010299956639812,
           0.3010299956639812,
           0.3010299956639812,
           0.3010299956639812,
           0.3010299956639812,
           0.3010299956639812,
           0.3010299956639812,
           0.3010299956639812,
           0.3010299956639812,
           0.3010299956639812,
           0.6020599913279624,
           0.3010299956639812,
           0.3010299956639812,
           0.3010299956639812,
           0.6020599913279624,
           0.3010299956639812,
           0.3010299956639812,
           0.3010299956639812,
           0.3010299956639812,
           0.3010299956639812,
           1.0791812460476249,
           0.3010299956639812,
           0.3010299956639812,
           0.3010299956639812,
           0.3010299956639812,
           0.3010299956639812,
           0.3010299956639812,
           0.4771212547196624,
           0.3010299956639812,
           0.3010299956639812,
           0.9030899869919436,
           0.3010299956639812,
           0.4771212547196624,
           0.3010299956639812,
           0.4771212547196624,
           0.3010299956639812,
           0.3010299956639812,
           0.3010299956639812,
           0.4771212547196624,
           0.4771212547196624,
           0.3010299956639812,
           0.3010299956639812,
           0.4771212547196624,
           0.3010299956639812,
           0.3010299956639812,
           1.1139433523068367,
           0.3010299956639812,
           0.3010299956639812,
           0.3010299956639812,
           0.3010299956639812,
           0.3010299956639812,
           0.3010299956639812,
           0.3010299956639812,
           0.4771212547196624,
           0.4771212547196624,
           0.3010299956639812,
           0.3010299956639812,
           0.3010299956639812,
           0.4771212547196624,
           0.3010299956639812,
           0.3010299956639812,
           0.6020599913279624,
           0.8450980400142568,
           0.4771212547196624,
           0.3010299956639812,
           0.3010299956639812,
           0.3010299956639812,
           0.3010299956639812,
           0.3010299956639812,
           0.3010299956639812,
           0.3010299956639812,
           0.3010299956639812,
           0.3010299956639812,
           0.6020599913279624,
           0.8450980400142568,
           0.3010299956639812,
           0.6020599913279624,
           0.4771212547196624,
           0.3010299956639812,
           0.3010299956639812,
           0.3010299956639812,
           0.3010299956639812,
           0.3010299956639812,
           0.4771212547196624,
           0.3010299956639812,
           0.3010299956639812,
           0.3010299956639812,
           0.3010299956639812,
           0.6020599913279624,
           0.4771212547196624,
           0.4771212547196624,
           0.3010299956639812,
           0.4771212547196624,
           0.3010299956639812,
           0.4771212547196624,
           0.3010299956639812,
           0.6020599913279624,
           0.3010299956639812,
           2.6794278966121188,
           0.3010299956639812,
           0.3010299956639812,
           0.3010299956639812,
           0.4771212547196624,
           0.3010299956639812,
           0.3010299956639812,
           0.3010299956639812,
           0.3010299956639812,
           0.4771212547196624,
           0.3010299956639812,
           0.3010299956639812,
           0.3010299956639812,
           0.3010299956639812,
           0.3010299956639812,
           0.8450980400142568,
           0.3010299956639812,
           0.3010299956639812,
           0.3010299956639812,
           0.4771212547196624,
           0.3010299956639812,
           0.3010299956639812,
           0.4771212547196624,
           0.3010299956639812,
           0.4771212547196624,
           0.4771212547196624,
           0.3010299956639812,
           0.3010299956639812,
           0.4771212547196624,
           0.3010299956639812,
           0.3010299956639812,
           0.6020599913279624,
           0.3010299956639812,
           0.4771212547196624,
           0.6989700043360189,
           0.4771212547196624,
           0.6020599913279624,
           0.4771212547196624,
           0.3010299956639812,
           0.3010299956639812,
           0.6989700043360189,
           0.3010299956639812,
           0.4771212547196624,
           0.3010299956639812,
           0.4771212547196624,
           0.3010299956639812,
           0.3010299956639812,
           0.3010299956639812,
           1.3617278360175928,
           0.4771212547196624,
           0.3010299956639812,
           0.3010299956639812,
           1,
           0.3010299956639812,
           0.3010299956639812,
           0.4771212547196624,
           0.6989700043360189,
           0.4771212547196624,
           0.4771212547196624,
           0.3010299956639812
          ]
         },
         "node": {
          "color": [
           "blue",
           "orange",
           "white",
           "orange",
           "white",
           "orange",
           "white",
           "orange",
           "white",
           "orange",
           "white",
           "orange",
           "white",
           "orange",
           "blue",
           "orange",
           "blue",
           "orange",
           "white",
           "orange",
           "blue",
           "orange",
           "blue",
           "orange",
           "white",
           "orange",
           "white",
           "orange",
           "white",
           "orange",
           "white",
           "orange",
           "white",
           "orange",
           "white",
           "orange",
           "white",
           "orange",
           "red",
           "orange",
           "white",
           "orange",
           "white",
           "orange",
           "red",
           "orange",
           "white",
           "orange",
           "white",
           "orange",
           "white",
           "orange",
           "red",
           "orange",
           "white",
           "orange",
           "white",
           "orange",
           "white",
           "orange",
           "white",
           "orange",
           "white",
           "orange",
           "red",
           "orange",
           "white",
           "orange",
           "white",
           "orange",
           "red",
           "orange",
           "white",
           "orange",
           "white",
           "orange",
           "white",
           "orange",
           "white",
           "orange",
           "white",
           "orange",
           "white",
           "orange",
           "white",
           "orange",
           "white",
           "orange",
           "white",
           "orange",
           "white",
           "orange",
           "white",
           "orange",
           "white",
           "orange",
           "white",
           "orange",
           "white",
           "orange",
           "white",
           "orange",
           "white",
           "orange",
           "blue",
           "orange",
           "white",
           "orange",
           "red",
           "orange",
           "white",
           "orange",
           "white",
           "orange",
           "white",
           "orange",
           "white",
           "orange",
           "white",
           "orange",
           "red",
           "orange",
           "white",
           "orange",
           "white",
           "orange",
           "white",
           "orange",
           "white",
           "orange",
           "blue",
           "orange",
           "white",
           "orange",
           "white",
           "orange",
           "white",
           "orange",
           "red",
           "orange",
           "red",
           "orange",
           "white",
           "orange",
           "red",
           "orange",
           "white",
           "orange",
           "white",
           "orange",
           "white",
           "orange",
           "white",
           "orange",
           "red",
           "orange",
           "red",
           "orange",
           "white",
           "orange",
           "white",
           "orange",
           "white",
           "orange",
           "white",
           "orange",
           "white",
           "orange",
           "white",
           "orange",
           "white",
           "orange",
           "blue",
           "orange",
           "white",
           "orange",
           "red",
           "orange",
           "white",
           "orange",
           "white",
           "orange",
           "white",
           "orange",
           "white",
           "orange",
           "red",
           "orange",
           "white",
           "orange",
           "white",
           "orange",
           "white",
           "orange",
           "white",
           "orange",
           "red",
           "orange",
           "white",
           "orange",
           "white",
           "orange",
           "white",
           "orange",
           "red",
           "orange",
           "white",
           "orange",
           "red",
           "orange",
           "white",
           "orange",
           "white",
           "orange",
           "red",
           "orange",
           "red",
           "orange",
           "white",
           "orange",
           "white",
           "orange",
           "white",
           "orange",
           "white",
           "orange",
           "white",
           "orange",
           "white",
           "orange",
           "white",
           "orange",
           "white",
           "orange",
           "red",
           "orange",
           "white",
           "orange",
           "red",
           "orange",
           "red",
           "orange",
           "red",
           "orange",
           "red",
           "orange",
           "white",
           "orange",
           "red",
           "orange",
           "white",
           "orange",
           "white",
           "orange",
           "red",
           "orange",
           "white",
           "orange",
           "white",
           "orange",
           "white",
           "orange",
           "white",
           "orange",
           "red",
           "orange",
           "white",
           "orange",
           "white",
           "orange",
           "red",
           "orange",
           "white",
           "orange",
           "white",
           "orange",
           "red",
           "orange",
           "red",
           "orange",
           "white",
           "orange",
           "red",
           "orange",
           "red",
           "orange",
           "white",
           "orange",
           "white",
           "orange",
           "white",
           "orange",
           "red",
           "orange",
           "white",
           "orange",
           "white",
           "orange",
           "white",
           "orange",
           "white",
           "orange",
           "red",
           "orange",
           "white",
           "orange",
           "red",
           "orange",
           "white",
           "orange",
           "white",
           "orange",
           "blue",
           "orange",
           "white",
           "orange",
           "white",
           "orange",
           "red",
           "orange",
           "white",
           "orange",
           "white",
           "orange",
           "red",
           "orange",
           "red",
           "orange",
           "white",
           "orange",
           "white",
           "orange",
           "white",
           "orange",
           "white",
           "orange",
           "white",
           "orange",
           "red",
           "orange",
           "white",
           "orange",
           "white",
           "orange",
           "white",
           "orange",
           "white",
           "orange",
           "white",
           "orange",
           "white",
           "orange",
           "white",
           "orange",
           "red",
           "orange",
           "white",
           "orange",
           "white",
           "orange",
           "white",
           "orange",
           "white",
           "orange",
           "white",
           "orange",
           "white",
           "orange",
           "white",
           "orange",
           "red",
           "orange",
           "white",
           "orange",
           "white",
           "orange",
           "red",
           "orange",
           "white",
           "orange",
           "white",
           "orange",
           "white",
           "orange",
           "red",
           "orange",
           "white",
           "orange",
           "white",
           "orange",
           "white",
           "orange",
           "white",
           "orange",
           "white",
           "orange",
           "white",
           "orange",
           "white",
           "orange",
           "red",
           "orange",
           "white",
           "orange",
           "white",
           "orange",
           "white",
           "orange",
           "red",
           "orange",
           "white",
           "orange",
           "white",
           "orange",
           "white",
           "orange",
           "white",
           "orange",
           "white",
           "orange",
           "white",
           "orange",
           "white",
           "orange",
           "white",
           "orange",
           "white",
           "orange",
           "white",
           "orange",
           "white",
           "orange",
           "white",
           "orange",
           "red",
           "orange",
           "white",
           "orange",
           "red",
           "orange",
           "red",
           "orange",
           "white",
           "orange",
           "white",
           "orange",
           "white",
           "orange",
           "red",
           "orange",
           "white",
           "orange",
           "white",
           "orange",
           "red",
           "orange",
           "white",
           "orange",
           "white",
           "orange",
           "white",
           "orange",
           "white",
           "orange",
           "white",
           "orange",
           "white",
           "orange",
           "red",
           "orange",
           "white",
           "orange",
           "white",
           "orange",
           "white",
           "orange",
           "red",
           "orange",
           "white",
           "orange",
           "white",
           "orange",
           "white",
           "orange",
           "red",
           "orange",
           "white",
           "orange",
           "white",
           "orange",
           "red",
           "orange",
           "white",
           "orange",
           "blue",
           "orange",
           "white",
           "orange",
           "red",
           "orange",
           "white",
           "orange",
           "white",
           "orange",
           "white",
           "orange",
           "white",
           "orange",
           "white",
           "orange",
           "white",
           "orange",
           "white",
           "orange",
           "white",
           "orange",
           "white",
           "orange",
           "white",
           "orange",
           "white",
           "orange",
           "white",
           "orange",
           "white",
           "orange",
           "red",
           "orange",
           "white",
           "orange",
           "white",
           "orange",
           "white",
           "orange",
           "white",
           "orange",
           "white",
           "orange",
           "white",
           "orange",
           "red",
           "orange",
           "white",
           "orange",
           "white",
           "orange",
           "white",
           "orange",
           "white",
           "orange",
           "white",
           "orange",
           "white",
           "orange",
           "white",
           "orange",
           "white",
           "orange",
           "white",
           "orange",
           "white",
           "orange",
           "white",
           "orange",
           "white",
           "orange",
           "white",
           "orange",
           "white",
           "orange",
           "white",
           "orange",
           "white",
           "orange",
           "white",
           "orange",
           "white",
           "orange",
           "red",
           "orange",
           "white",
           "orange",
           "red",
           "orange",
           "white",
           "orange",
           "blue",
           "orange",
           "white",
           "orange",
           "white",
           "orange",
           "white",
           "orange",
           "white",
           "orange",
           "white",
           "orange",
           "white",
           "orange",
           "white",
           "orange",
           "white",
           "orange",
           "white",
           "orange",
           "white",
           "orange",
           "white",
           "orange",
           "white",
           "orange",
           "white",
           "orange",
           "white",
           "orange",
           "white",
           "orange",
           "white",
           "orange",
           "red",
           "orange",
           "white",
           "orange",
           "white",
           "orange",
           "white",
           "orange",
           "red",
           "orange",
           "white",
           "orange",
           "white",
           "orange",
           "white",
           "orange",
           "white",
           "orange",
           "white",
           "orange",
           "red",
           "orange",
           "white",
           "orange",
           "white",
           "orange",
           "white",
           "orange",
           "white",
           "orange",
           "white",
           "orange",
           "white",
           "orange",
           "red",
           "orange",
           "white",
           "orange",
           "white",
           "orange",
           "red",
           "orange",
           "white",
           "orange",
           "red",
           "orange",
           "white",
           "orange",
           "red",
           "orange",
           "white",
           "orange",
           "white",
           "orange",
           "white",
           "orange",
           "red",
           "orange",
           "red",
           "orange",
           "white",
           "orange",
           "white",
           "orange",
           "white",
           "orange",
           "white",
           "orange",
           "white",
           "orange",
           "red",
           "orange",
           "white",
           "orange",
           "white",
           "orange",
           "white",
           "orange",
           "white",
           "orange",
           "white",
           "orange",
           "white",
           "orange",
           "white",
           "orange",
           "blue",
           "orange",
           "blue",
           "orange",
           "white",
           "orange",
           "white",
           "orange",
           "white",
           "orange",
           "red",
           "orange",
           "blue",
           "orange",
           "red",
           "orange",
           "red",
           "orange",
           "red",
           "orange",
           "red",
           "orange",
           "red",
           "orange",
           "red",
           "orange",
           "blue",
           "orange",
           "red",
           "orange",
           "red",
           "orange",
           "red",
           "orange",
           "blue",
           "orange",
           "blue",
           "orange",
           "red",
           "orange",
           "red",
           "orange",
           "red",
           "orange",
           "blue",
           "orange",
           "red",
           "orange",
           "red",
           "orange",
           "red",
           "orange",
           "red",
           "orange",
           "red",
           "orange",
           "red",
           "orange",
           "red",
           "orange",
           "red",
           "orange",
           "red",
           "orange",
           "red",
           "orange",
           "red",
           "orange",
           "red",
           "orange",
           "red",
           "orange",
           "red",
           "orange",
           "red",
           "orange",
           "red",
           "orange",
           "red",
           "orange",
           "red",
           "orange",
           "red",
           "orange",
           "red",
           "orange",
           "red",
           "orange",
           "red",
           "orange",
           "red",
           "orange",
           "red",
           "orange",
           "red",
           "orange",
           "red",
           "orange",
           "red",
           "orange",
           "red",
           "orange",
           "red",
           "orange",
           "red",
           "orange",
           "red",
           "orange",
           "red",
           "orange",
           "red",
           "orange",
           "red",
           "orange",
           "red",
           "orange",
           "red",
           "orange",
           "red",
           "orange",
           "red",
           "orange",
           "red",
           "orange",
           "red",
           "orange",
           "red",
           "orange",
           "red",
           "orange",
           "red",
           "orange",
           "red",
           "orange",
           "red",
           "orange",
           "red",
           "orange",
           "red",
           "orange",
           "red",
           "orange",
           "red",
           "orange",
           "red",
           "orange",
           "red",
           "orange",
           "red",
           "orange",
           "blue",
           "orange",
           "red",
           "orange",
           "red",
           "orange",
           "red",
           "orange",
           "red",
           "orange",
           "red",
           "orange",
           "red",
           "orange",
           "red",
           "orange",
           "red",
           "orange",
           "blue",
           "orange",
           "red",
           "orange",
           "red",
           "orange",
           "red",
           "orange",
           "red",
           "orange",
           "red",
           "orange",
           "red",
           "orange",
           "red",
           "orange",
           "red",
           "orange",
           "red",
           "orange",
           "red",
           "orange",
           "red",
           "orange",
           "red",
           "orange",
           "red",
           "orange",
           "red",
           "orange",
           "red",
           "orange",
           "red",
           "orange",
           "red",
           "orange",
           "red",
           "orange",
           "red",
           "orange",
           "red",
           "orange"
          ],
          "line": {
           "color": "black",
           "width": 0
          },
          "pad": 1,
          "thickness": 20
         },
         "type": "sankey"
        }
       ],
       "layout": {
        "font": {
         "size": 10
        },
        "template": {
         "data": {
          "bar": [
           {
            "error_x": {
             "color": "#2a3f5f"
            },
            "error_y": {
             "color": "#2a3f5f"
            },
            "marker": {
             "line": {
              "color": "#E5ECF6",
              "width": 0.5
             },
             "pattern": {
              "fillmode": "overlay",
              "size": 10,
              "solidity": 0.2
             }
            },
            "type": "bar"
           }
          ],
          "barpolar": [
           {
            "marker": {
             "line": {
              "color": "#E5ECF6",
              "width": 0.5
             },
             "pattern": {
              "fillmode": "overlay",
              "size": 10,
              "solidity": 0.2
             }
            },
            "type": "barpolar"
           }
          ],
          "carpet": [
           {
            "aaxis": {
             "endlinecolor": "#2a3f5f",
             "gridcolor": "white",
             "linecolor": "white",
             "minorgridcolor": "white",
             "startlinecolor": "#2a3f5f"
            },
            "baxis": {
             "endlinecolor": "#2a3f5f",
             "gridcolor": "white",
             "linecolor": "white",
             "minorgridcolor": "white",
             "startlinecolor": "#2a3f5f"
            },
            "type": "carpet"
           }
          ],
          "choropleth": [
           {
            "colorbar": {
             "outlinewidth": 0,
             "ticks": ""
            },
            "type": "choropleth"
           }
          ],
          "contour": [
           {
            "colorbar": {
             "outlinewidth": 0,
             "ticks": ""
            },
            "colorscale": [
             [
              0,
              "#0d0887"
             ],
             [
              0.1111111111111111,
              "#46039f"
             ],
             [
              0.2222222222222222,
              "#7201a8"
             ],
             [
              0.3333333333333333,
              "#9c179e"
             ],
             [
              0.4444444444444444,
              "#bd3786"
             ],
             [
              0.5555555555555556,
              "#d8576b"
             ],
             [
              0.6666666666666666,
              "#ed7953"
             ],
             [
              0.7777777777777778,
              "#fb9f3a"
             ],
             [
              0.8888888888888888,
              "#fdca26"
             ],
             [
              1,
              "#f0f921"
             ]
            ],
            "type": "contour"
           }
          ],
          "contourcarpet": [
           {
            "colorbar": {
             "outlinewidth": 0,
             "ticks": ""
            },
            "type": "contourcarpet"
           }
          ],
          "heatmap": [
           {
            "colorbar": {
             "outlinewidth": 0,
             "ticks": ""
            },
            "colorscale": [
             [
              0,
              "#0d0887"
             ],
             [
              0.1111111111111111,
              "#46039f"
             ],
             [
              0.2222222222222222,
              "#7201a8"
             ],
             [
              0.3333333333333333,
              "#9c179e"
             ],
             [
              0.4444444444444444,
              "#bd3786"
             ],
             [
              0.5555555555555556,
              "#d8576b"
             ],
             [
              0.6666666666666666,
              "#ed7953"
             ],
             [
              0.7777777777777778,
              "#fb9f3a"
             ],
             [
              0.8888888888888888,
              "#fdca26"
             ],
             [
              1,
              "#f0f921"
             ]
            ],
            "type": "heatmap"
           }
          ],
          "heatmapgl": [
           {
            "colorbar": {
             "outlinewidth": 0,
             "ticks": ""
            },
            "colorscale": [
             [
              0,
              "#0d0887"
             ],
             [
              0.1111111111111111,
              "#46039f"
             ],
             [
              0.2222222222222222,
              "#7201a8"
             ],
             [
              0.3333333333333333,
              "#9c179e"
             ],
             [
              0.4444444444444444,
              "#bd3786"
             ],
             [
              0.5555555555555556,
              "#d8576b"
             ],
             [
              0.6666666666666666,
              "#ed7953"
             ],
             [
              0.7777777777777778,
              "#fb9f3a"
             ],
             [
              0.8888888888888888,
              "#fdca26"
             ],
             [
              1,
              "#f0f921"
             ]
            ],
            "type": "heatmapgl"
           }
          ],
          "histogram": [
           {
            "marker": {
             "pattern": {
              "fillmode": "overlay",
              "size": 10,
              "solidity": 0.2
             }
            },
            "type": "histogram"
           }
          ],
          "histogram2d": [
           {
            "colorbar": {
             "outlinewidth": 0,
             "ticks": ""
            },
            "colorscale": [
             [
              0,
              "#0d0887"
             ],
             [
              0.1111111111111111,
              "#46039f"
             ],
             [
              0.2222222222222222,
              "#7201a8"
             ],
             [
              0.3333333333333333,
              "#9c179e"
             ],
             [
              0.4444444444444444,
              "#bd3786"
             ],
             [
              0.5555555555555556,
              "#d8576b"
             ],
             [
              0.6666666666666666,
              "#ed7953"
             ],
             [
              0.7777777777777778,
              "#fb9f3a"
             ],
             [
              0.8888888888888888,
              "#fdca26"
             ],
             [
              1,
              "#f0f921"
             ]
            ],
            "type": "histogram2d"
           }
          ],
          "histogram2dcontour": [
           {
            "colorbar": {
             "outlinewidth": 0,
             "ticks": ""
            },
            "colorscale": [
             [
              0,
              "#0d0887"
             ],
             [
              0.1111111111111111,
              "#46039f"
             ],
             [
              0.2222222222222222,
              "#7201a8"
             ],
             [
              0.3333333333333333,
              "#9c179e"
             ],
             [
              0.4444444444444444,
              "#bd3786"
             ],
             [
              0.5555555555555556,
              "#d8576b"
             ],
             [
              0.6666666666666666,
              "#ed7953"
             ],
             [
              0.7777777777777778,
              "#fb9f3a"
             ],
             [
              0.8888888888888888,
              "#fdca26"
             ],
             [
              1,
              "#f0f921"
             ]
            ],
            "type": "histogram2dcontour"
           }
          ],
          "mesh3d": [
           {
            "colorbar": {
             "outlinewidth": 0,
             "ticks": ""
            },
            "type": "mesh3d"
           }
          ],
          "parcoords": [
           {
            "line": {
             "colorbar": {
              "outlinewidth": 0,
              "ticks": ""
             }
            },
            "type": "parcoords"
           }
          ],
          "pie": [
           {
            "automargin": true,
            "type": "pie"
           }
          ],
          "scatter": [
           {
            "fillpattern": {
             "fillmode": "overlay",
             "size": 10,
             "solidity": 0.2
            },
            "type": "scatter"
           }
          ],
          "scatter3d": [
           {
            "line": {
             "colorbar": {
              "outlinewidth": 0,
              "ticks": ""
             }
            },
            "marker": {
             "colorbar": {
              "outlinewidth": 0,
              "ticks": ""
             }
            },
            "type": "scatter3d"
           }
          ],
          "scattercarpet": [
           {
            "marker": {
             "colorbar": {
              "outlinewidth": 0,
              "ticks": ""
             }
            },
            "type": "scattercarpet"
           }
          ],
          "scattergeo": [
           {
            "marker": {
             "colorbar": {
              "outlinewidth": 0,
              "ticks": ""
             }
            },
            "type": "scattergeo"
           }
          ],
          "scattergl": [
           {
            "marker": {
             "colorbar": {
              "outlinewidth": 0,
              "ticks": ""
             }
            },
            "type": "scattergl"
           }
          ],
          "scattermapbox": [
           {
            "marker": {
             "colorbar": {
              "outlinewidth": 0,
              "ticks": ""
             }
            },
            "type": "scattermapbox"
           }
          ],
          "scatterpolar": [
           {
            "marker": {
             "colorbar": {
              "outlinewidth": 0,
              "ticks": ""
             }
            },
            "type": "scatterpolar"
           }
          ],
          "scatterpolargl": [
           {
            "marker": {
             "colorbar": {
              "outlinewidth": 0,
              "ticks": ""
             }
            },
            "type": "scatterpolargl"
           }
          ],
          "scatterternary": [
           {
            "marker": {
             "colorbar": {
              "outlinewidth": 0,
              "ticks": ""
             }
            },
            "type": "scatterternary"
           }
          ],
          "surface": [
           {
            "colorbar": {
             "outlinewidth": 0,
             "ticks": ""
            },
            "colorscale": [
             [
              0,
              "#0d0887"
             ],
             [
              0.1111111111111111,
              "#46039f"
             ],
             [
              0.2222222222222222,
              "#7201a8"
             ],
             [
              0.3333333333333333,
              "#9c179e"
             ],
             [
              0.4444444444444444,
              "#bd3786"
             ],
             [
              0.5555555555555556,
              "#d8576b"
             ],
             [
              0.6666666666666666,
              "#ed7953"
             ],
             [
              0.7777777777777778,
              "#fb9f3a"
             ],
             [
              0.8888888888888888,
              "#fdca26"
             ],
             [
              1,
              "#f0f921"
             ]
            ],
            "type": "surface"
           }
          ],
          "table": [
           {
            "cells": {
             "fill": {
              "color": "#EBF0F8"
             },
             "line": {
              "color": "white"
             }
            },
            "header": {
             "fill": {
              "color": "#C8D4E3"
             },
             "line": {
              "color": "white"
             }
            },
            "type": "table"
           }
          ]
         },
         "layout": {
          "annotationdefaults": {
           "arrowcolor": "#2a3f5f",
           "arrowhead": 0,
           "arrowwidth": 1
          },
          "autotypenumbers": "strict",
          "coloraxis": {
           "colorbar": {
            "outlinewidth": 0,
            "ticks": ""
           }
          },
          "colorscale": {
           "diverging": [
            [
             0,
             "#8e0152"
            ],
            [
             0.1,
             "#c51b7d"
            ],
            [
             0.2,
             "#de77ae"
            ],
            [
             0.3,
             "#f1b6da"
            ],
            [
             0.4,
             "#fde0ef"
            ],
            [
             0.5,
             "#f7f7f7"
            ],
            [
             0.6,
             "#e6f5d0"
            ],
            [
             0.7,
             "#b8e186"
            ],
            [
             0.8,
             "#7fbc41"
            ],
            [
             0.9,
             "#4d9221"
            ],
            [
             1,
             "#276419"
            ]
           ],
           "sequential": [
            [
             0,
             "#0d0887"
            ],
            [
             0.1111111111111111,
             "#46039f"
            ],
            [
             0.2222222222222222,
             "#7201a8"
            ],
            [
             0.3333333333333333,
             "#9c179e"
            ],
            [
             0.4444444444444444,
             "#bd3786"
            ],
            [
             0.5555555555555556,
             "#d8576b"
            ],
            [
             0.6666666666666666,
             "#ed7953"
            ],
            [
             0.7777777777777778,
             "#fb9f3a"
            ],
            [
             0.8888888888888888,
             "#fdca26"
            ],
            [
             1,
             "#f0f921"
            ]
           ],
           "sequentialminus": [
            [
             0,
             "#0d0887"
            ],
            [
             0.1111111111111111,
             "#46039f"
            ],
            [
             0.2222222222222222,
             "#7201a8"
            ],
            [
             0.3333333333333333,
             "#9c179e"
            ],
            [
             0.4444444444444444,
             "#bd3786"
            ],
            [
             0.5555555555555556,
             "#d8576b"
            ],
            [
             0.6666666666666666,
             "#ed7953"
            ],
            [
             0.7777777777777778,
             "#fb9f3a"
            ],
            [
             0.8888888888888888,
             "#fdca26"
            ],
            [
             1,
             "#f0f921"
            ]
           ]
          },
          "colorway": [
           "#636efa",
           "#EF553B",
           "#00cc96",
           "#ab63fa",
           "#FFA15A",
           "#19d3f3",
           "#FF6692",
           "#B6E880",
           "#FF97FF",
           "#FECB52"
          ],
          "font": {
           "color": "#2a3f5f"
          },
          "geo": {
           "bgcolor": "white",
           "lakecolor": "white",
           "landcolor": "#E5ECF6",
           "showlakes": true,
           "showland": true,
           "subunitcolor": "white"
          },
          "hoverlabel": {
           "align": "left"
          },
          "hovermode": "closest",
          "mapbox": {
           "style": "light"
          },
          "paper_bgcolor": "white",
          "plot_bgcolor": "#E5ECF6",
          "polar": {
           "angularaxis": {
            "gridcolor": "white",
            "linecolor": "white",
            "ticks": ""
           },
           "bgcolor": "#E5ECF6",
           "radialaxis": {
            "gridcolor": "white",
            "linecolor": "white",
            "ticks": ""
           }
          },
          "scene": {
           "xaxis": {
            "backgroundcolor": "#E5ECF6",
            "gridcolor": "white",
            "gridwidth": 2,
            "linecolor": "white",
            "showbackground": true,
            "ticks": "",
            "zerolinecolor": "white"
           },
           "yaxis": {
            "backgroundcolor": "#E5ECF6",
            "gridcolor": "white",
            "gridwidth": 2,
            "linecolor": "white",
            "showbackground": true,
            "ticks": "",
            "zerolinecolor": "white"
           },
           "zaxis": {
            "backgroundcolor": "#E5ECF6",
            "gridcolor": "white",
            "gridwidth": 2,
            "linecolor": "white",
            "showbackground": true,
            "ticks": "",
            "zerolinecolor": "white"
           }
          },
          "shapedefaults": {
           "line": {
            "color": "#2a3f5f"
           }
          },
          "ternary": {
           "aaxis": {
            "gridcolor": "white",
            "linecolor": "white",
            "ticks": ""
           },
           "baxis": {
            "gridcolor": "white",
            "linecolor": "white",
            "ticks": ""
           },
           "bgcolor": "#E5ECF6",
           "caxis": {
            "gridcolor": "white",
            "linecolor": "white",
            "ticks": ""
           }
          },
          "title": {
           "x": 0.05
          },
          "xaxis": {
           "automargin": true,
           "gridcolor": "white",
           "linecolor": "white",
           "ticks": "",
           "title": {
            "standoff": 15
           },
           "zerolinecolor": "white",
           "zerolinewidth": 2
          },
          "yaxis": {
           "automargin": true,
           "gridcolor": "white",
           "linecolor": "white",
           "ticks": "",
           "title": {
            "standoff": 15
           },
           "zerolinecolor": "white",
           "zerolinewidth": 2
          }
         }
        },
        "title": {
         "text": "Sankey Diagram - R"
        }
       }
      },
      "text/html": [
       "<div>                            <div id=\"8c82ca8c-4ff5-4971-bb7d-ae2e5763497c\" class=\"plotly-graph-div\" style=\"height:525px; width:100%;\"></div>            <script type=\"text/javascript\">                require([\"plotly\"], function(Plotly) {                    window.PLOTLYENV=window.PLOTLYENV || {};                                    if (document.getElementById(\"8c82ca8c-4ff5-4971-bb7d-ae2e5763497c\")) {                    Plotly.newPlot(                        \"8c82ca8c-4ff5-4971-bb7d-ae2e5763497c\",                        [{\"link\":{\"color\":[\"lightgrey\",\"white\",\"white\",\"white\",\"white\",\"white\",\"white\",\"lightgrey\",\"lightgrey\",\"white\",\"lightgrey\",\"lightgrey\",\"white\",\"white\",\"white\",\"white\",\"white\",\"white\",\"white\",\"lightgrey\",\"white\",\"white\",\"lightgrey\",\"white\",\"white\",\"white\",\"lightgrey\",\"white\",\"white\",\"white\",\"white\",\"white\",\"lightgrey\",\"white\",\"white\",\"lightgrey\",\"white\",\"white\",\"white\",\"white\",\"white\",\"white\",\"white\",\"white\",\"white\",\"white\",\"white\",\"white\",\"white\",\"white\",\"white\",\"white\",\"lightgrey\",\"white\",\"lightgrey\",\"white\",\"white\",\"white\",\"white\",\"white\",\"lightgrey\",\"white\",\"white\",\"white\",\"white\",\"lightgrey\",\"white\",\"white\",\"white\",\"lightgrey\",\"lightgrey\",\"white\",\"lightgrey\",\"white\",\"white\",\"white\",\"white\",\"lightgrey\",\"lightgrey\",\"white\",\"white\",\"white\",\"white\",\"white\",\"white\",\"white\",\"lightgrey\",\"white\",\"lightgrey\",\"white\",\"white\",\"white\",\"white\",\"lightgrey\",\"white\",\"white\",\"white\",\"white\",\"lightgrey\",\"white\",\"white\",\"white\",\"lightgrey\",\"white\",\"lightgrey\",\"white\",\"white\",\"lightgrey\",\"lightgrey\",\"white\",\"white\",\"white\",\"white\",\"white\",\"white\",\"white\",\"white\",\"lightgrey\",\"white\",\"lightgrey\",\"lightgrey\",\"lightgrey\",\"lightgrey\",\"white\",\"lightgrey\",\"white\",\"white\",\"lightgrey\",\"white\",\"white\",\"white\",\"white\",\"lightgrey\",\"white\",\"white\",\"lightgrey\",\"white\",\"white\",\"lightgrey\",\"lightgrey\",\"white\",\"lightgrey\",\"lightgrey\",\"white\",\"white\",\"white\",\"lightgrey\",\"white\",\"white\",\"white\",\"white\",\"lightgrey\",\"white\",\"lightgrey\",\"white\",\"white\",\"lightgrey\",\"white\",\"white\",\"lightgrey\",\"white\",\"white\",\"lightgrey\",\"lightgrey\",\"white\",\"white\",\"white\",\"white\",\"white\",\"lightgrey\",\"white\",\"white\",\"white\",\"white\",\"white\",\"white\",\"white\",\"lightgrey\",\"white\",\"white\",\"white\",\"white\",\"white\",\"white\",\"white\",\"lightgrey\",\"white\",\"white\",\"lightgrey\",\"white\",\"white\",\"white\",\"lightgrey\",\"white\",\"white\",\"white\",\"white\",\"white\",\"white\",\"white\",\"lightgrey\",\"white\",\"white\",\"white\",\"lightgrey\",\"white\",\"white\",\"white\",\"white\",\"white\",\"white\",\"white\",\"white\",\"white\",\"white\",\"white\",\"white\",\"lightgrey\",\"white\",\"lightgrey\",\"lightgrey\",\"white\",\"white\",\"white\",\"lightgrey\",\"white\",\"white\",\"lightgrey\",\"white\",\"white\",\"white\",\"white\",\"white\",\"white\",\"lightgrey\",\"white\",\"white\",\"white\",\"lightgrey\",\"white\",\"white\",\"white\",\"lightgrey\",\"white\",\"white\",\"lightgrey\",\"white\",\"lightgrey\",\"white\",\"lightgrey\",\"white\",\"white\",\"white\",\"white\",\"white\",\"white\",\"white\",\"white\",\"white\",\"white\",\"white\",\"white\",\"white\",\"lightgrey\",\"white\",\"white\",\"white\",\"white\",\"white\",\"white\",\"lightgrey\",\"white\",\"white\",\"white\",\"white\",\"white\",\"white\",\"white\",\"white\",\"white\",\"white\",\"white\",\"white\",\"white\",\"white\",\"white\",\"white\",\"white\",\"white\",\"lightgrey\",\"white\",\"lightgrey\",\"white\",\"lightgrey\",\"white\",\"white\",\"white\",\"white\",\"white\",\"white\",\"white\",\"white\",\"white\",\"white\",\"white\",\"white\",\"white\",\"white\",\"white\",\"white\",\"lightgrey\",\"white\",\"white\",\"white\",\"lightgrey\",\"white\",\"white\",\"white\",\"white\",\"white\",\"lightgrey\",\"white\",\"white\",\"white\",\"white\",\"white\",\"white\",\"lightgrey\",\"white\",\"white\",\"lightgrey\",\"white\",\"lightgrey\",\"white\",\"lightgrey\",\"white\",\"white\",\"white\",\"lightgrey\",\"lightgrey\",\"white\",\"white\",\"white\",\"white\",\"white\",\"lightgrey\",\"white\",\"white\",\"white\",\"white\",\"white\",\"white\",\"white\",\"lightgrey\",\"lightgrey\",\"white\",\"white\",\"white\",\"lightgrey\",\"lightgrey\",\"lightgrey\",\"lightgrey\",\"lightgrey\",\"lightgrey\",\"lightgrey\",\"lightgrey\",\"lightgrey\",\"lightgrey\",\"lightgrey\",\"lightgrey\",\"lightgrey\",\"lightgrey\",\"lightgrey\",\"lightgrey\",\"lightgrey\",\"lightgrey\",\"lightgrey\",\"lightgrey\",\"lightgrey\",\"lightgrey\",\"lightgrey\",\"lightgrey\",\"lightgrey\",\"lightgrey\",\"lightgrey\",\"lightgrey\",\"lightgrey\",\"lightgrey\",\"lightgrey\",\"lightgrey\",\"lightgrey\",\"lightgrey\",\"lightgrey\",\"lightgrey\",\"lightgrey\",\"lightgrey\",\"lightgrey\",\"lightgrey\",\"lightgrey\",\"lightgrey\",\"lightgrey\",\"lightgrey\",\"lightgrey\",\"lightgrey\",\"lightgrey\",\"lightgrey\",\"lightgrey\",\"lightgrey\",\"lightgrey\",\"lightgrey\",\"lightgrey\",\"lightgrey\",\"lightgrey\",\"lightgrey\",\"lightgrey\",\"lightgrey\",\"lightgrey\",\"lightgrey\",\"lightgrey\",\"lightgrey\",\"lightgrey\",\"lightgrey\",\"lightgrey\",\"lightgrey\",\"lightgrey\",\"lightgrey\",\"lightgrey\",\"lightgrey\",\"lightgrey\",\"lightgrey\",\"lightgrey\",\"lightgrey\",\"lightgrey\",\"lightgrey\",\"lightgrey\",\"lightgrey\",\"lightgrey\",\"lightgrey\",\"lightgrey\",\"lightgrey\",\"lightgrey\",\"lightgrey\",\"lightgrey\",\"lightgrey\",\"lightgrey\",\"lightgrey\",\"lightgrey\",\"lightgrey\",\"lightgrey\",\"lightgrey\",\"lightgrey\",\"lightgrey\",\"lightgrey\",\"lightgrey\",\"lightgrey\",\"lightgrey\",\"lightgrey\",\"lightgrey\"],\"source\":[0,2,4,6,8,10,12,14,16,18,20,22,24,26,28,30,32,34,36,38,40,42,44,46,48,50,52,54,56,58,60,62,64,66,68,70,72,74,76,78,80,82,84,86,88,90,92,94,96,98,100,102,104,106,108,110,112,114,116,118,120,122,124,126,128,130,132,134,136,138,140,142,144,146,148,150,152,154,156,158,160,162,164,166,168,170,172,174,176,178,180,182,184,186,188,190,192,194,196,198,200,202,204,206,208,210,212,214,216,218,220,222,224,226,228,230,232,234,236,238,240,242,244,246,248,250,252,254,256,258,260,262,264,266,268,270,272,274,276,278,280,282,284,286,288,290,292,294,296,298,300,302,304,306,308,310,312,314,316,318,320,322,324,326,328,330,332,334,336,338,340,342,344,346,348,350,352,354,356,358,360,362,364,366,368,370,372,374,376,378,380,382,384,386,388,390,392,394,396,398,400,402,404,406,408,410,412,414,416,418,420,422,424,426,428,430,432,434,436,438,440,442,444,446,448,450,452,454,456,458,460,462,464,466,468,470,472,474,476,478,480,482,484,486,488,490,492,494,496,498,500,502,504,506,508,510,512,514,516,518,520,522,524,526,528,530,532,534,536,538,540,542,544,546,548,550,552,554,556,558,560,562,564,566,568,570,572,574,576,578,580,582,584,586,588,590,592,594,596,598,600,602,604,606,608,610,612,614,616,618,620,622,624,626,628,630,632,634,636,638,640,642,644,646,648,650,652,654,656,658,660,662,664,666,668,670,672,674,676,678,680,682,684,686,688,690,692,694,696,698,700,702,704,706,708,710,712,714,716,718,720,722,724,726,728,730,732,734,736,738,740,742,744,746,748,750,752,754,756,758,760,762,764,766,768,770,772,774,776,778,780,782,784,786,788,790,792,794,796,798,800,802,804,806,808,810,812,814,816,818,820,822,824,826,828,830,832,834,836,838,840,842,844,846,848,850,852,854,856,858,860,862,864,866,868,870,872,874,876,878,880,882,884,886,888,890,892,894,896,898,900,902,904,906,908,910,912,914],\"target\":[1,3,5,7,9,11,13,15,17,19,21,23,25,27,29,31,33,35,37,39,41,43,45,47,49,51,53,55,57,59,61,63,65,67,69,71,73,75,77,79,81,83,85,87,89,91,93,95,97,99,101,103,105,107,109,111,113,115,117,119,121,123,125,127,129,131,133,135,137,139,141,143,145,147,149,151,153,155,157,159,161,163,165,167,169,171,173,175,177,179,181,183,185,187,189,191,193,195,197,199,201,203,205,207,209,211,213,215,217,219,221,223,225,227,229,231,233,235,237,239,241,243,245,247,249,251,253,255,257,259,261,263,265,267,269,271,273,275,277,279,281,283,285,287,289,291,293,295,297,299,301,303,305,307,309,311,313,315,317,319,321,323,325,327,329,331,333,335,337,339,341,343,345,347,349,351,353,355,357,359,361,363,365,367,369,371,373,375,377,379,381,383,385,387,389,391,393,395,397,399,401,403,405,407,409,411,413,415,417,419,421,423,425,427,429,431,433,435,437,439,441,443,445,447,449,451,453,455,457,459,461,463,465,467,469,471,473,475,477,479,481,483,485,487,489,491,493,495,497,499,501,503,505,507,509,511,513,515,517,519,521,523,525,527,529,531,533,535,537,539,541,543,545,547,549,551,553,555,557,559,561,563,565,567,569,571,573,575,577,579,581,583,585,587,589,591,593,595,597,599,601,603,605,607,609,611,613,615,617,619,621,623,625,627,629,631,633,635,637,639,641,643,645,647,649,651,653,655,657,659,661,663,665,667,669,671,673,675,677,679,681,683,685,687,689,691,693,695,697,699,701,703,705,707,709,711,713,715,717,719,721,723,725,727,729,731,733,735,737,739,741,743,745,747,749,751,753,755,757,759,761,763,765,767,769,771,773,775,777,779,781,783,785,787,789,791,793,795,797,799,801,803,805,807,809,811,813,815,817,819,821,823,825,827,829,831,833,835,837,839,841,843,845,847,849,851,853,855,857,859,861,863,865,867,869,871,873,875,877,879,881,883,885,887,889,891,893,895,897,899,901,903,905,907,909,911,913,915],\"value\":[2.773786444981193,2.649334858712142,2.6042260530844703,2.5526682161121936,2.4471580313422194,2.281033367247728,2.1643528557844367,2.1583624920952498,2.155336037465062,2.1522883443830563,2.123851640967086,1.9822712330395684,1.9395192526186185,1.9395192526186185,1.9242792860618816,1.8976270912904412,1.8750612633917,1.8260748027008264,1.7781512503836436,1.9084850188786495,1.7558748556724917,1.7323937598229686,1.9242792860618816,1.7160033436347992,1.6989700043360187,1.6812412373755872,1.7242758696007892,1.6434526764861874,1.6127838567197357,1.5910646070264989,1.57978359661681,1.568201724066995,1.7634279935629371,1.5440680443502757,1.505149978319906,1.6334684555795866,1.505149978319906,1.4471580313422192,1.4471580313422192,1.4471580313422192,1.4471580313422192,1.4313637641589874,1.4313637641589874,1.4313637641589874,1.414973347970818,1.414973347970818,1.414973347970818,1.3979400086720375,1.3979400086720375,1.3979400086720375,1.3802112417116061,1.3802112417116061,1.3802112417116061,1.3617278360175928,1.4471580313422192,1.3424226808222062,1.3222192947339193,1.3010299956639813,1.3010299956639813,1.3010299956639813,1.3979400086720375,1.2787536009528289,1.2787536009528289,1.2787536009528289,1.2552725051033058,1.2787536009528289,1.2552725051033058,1.2552725051033058,1.2552725051033058,1.3222192947339193,1.3979400086720375,1.2041199826559248,1.3424226808222062,1.2041199826559248,1.2041199826559248,1.2041199826559248,1.2041199826559248,1.3010299956639813,1.230448921378274,1.146128035678238,1.146128035678238,1.146128035678238,1.146128035678238,1.1139433523068367,1.1139433523068367,1.1139433523068367,1.146128035678238,1.1139433523068367,1.1760912590556811,1.0791812460476249,1.0791812460476249,1.0791812460476249,1.041392685158225,1.146128035678238,1.041392685158225,1.041392685158225,1.0,1.0,1.0791812460476249,1.0,1.0,0.9542425094393248,1.3979400086720375,0.9542425094393248,1.1139433523068367,0.9542425094393248,0.9542425094393248,1.4313637641589874,1.1760912590556811,0.9030899869919436,0.9030899869919436,0.9030899869919436,0.9030899869919436,0.9030899869919436,0.9030899869919436,0.9030899869919436,0.9030899869919436,2.3502480183341627,0.9030899869919436,1.0791812460476249,1.041392685158225,1.041392685158225,0.9542425094393248,0.8450980400142568,1.146128035678238,0.8450980400142568,0.8450980400142568,0.9542425094393248,0.8450980400142568,0.8450980400142568,0.8450980400142568,0.7781512503836436,1.1760912590556811,0.7781512503836436,0.7781512503836436,1.041392685158225,0.7781512503836436,0.7781512503836436,0.9542425094393248,0.8450980400142568,0.7781512503836436,0.9030899869919436,1.2787536009528289,0.7781512503836436,0.6989700043360189,0.6989700043360189,1.0,0.6989700043360189,0.6989700043360189,0.6989700043360189,0.6989700043360189,0.7781512503836436,0.6989700043360189,1.041392685158225,0.6020599913279624,0.6020599913279624,0.6989700043360189,0.6020599913279624,0.6020599913279624,0.7781512503836436,0.6020599913279624,0.6020599913279624,0.6989700043360189,0.7781512503836436,0.6020599913279624,0.6020599913279624,0.6020599913279624,0.6020599913279624,0.6020599913279624,0.7781512503836436,0.6020599913279624,0.6020599913279624,0.6020599913279624,0.6020599913279624,0.6020599913279624,0.6020599913279624,0.6020599913279624,1.0,0.6020599913279624,0.6020599913279624,0.6020599913279624,0.6020599913279624,0.6020599913279624,0.6020599913279624,0.4771212547196624,1.230448921378274,0.4771212547196624,0.4771212547196624,0.7781512503836436,0.4771212547196624,0.4771212547196624,0.4771212547196624,0.6989700043360189,0.4771212547196624,0.4771212547196624,0.4771212547196624,0.4771212547196624,0.4771212547196624,0.4771212547196624,0.4771212547196624,1.1139433523068367,0.4771212547196624,0.4771212547196624,0.4771212547196624,0.6020599913279624,0.4771212547196624,0.4771212547196624,0.4771212547196624,0.4771212547196624,0.4771212547196624,0.4771212547196624,0.4771212547196624,0.4771212547196624,0.4771212547196624,0.4771212547196624,0.4771212547196624,0.4771212547196624,0.6020599913279624,0.4771212547196624,0.6020599913279624,0.6020599913279624,0.4771212547196624,0.4771212547196624,0.3010299956639812,1.2041199826559248,0.3010299956639812,0.3010299956639812,0.4771212547196624,0.3010299956639812,0.3010299956639812,0.3010299956639812,0.3010299956639812,0.3010299956639812,0.3010299956639812,0.4771212547196624,0.3010299956639812,0.3010299956639812,0.3010299956639812,0.4771212547196624,0.3010299956639812,0.3010299956639812,0.3010299956639812,1.0,0.3010299956639812,0.3010299956639812,0.9542425094393248,0.3010299956639812,0.4771212547196624,0.3010299956639812,0.7781512503836436,0.3010299956639812,0.3010299956639812,0.3010299956639812,0.3010299956639812,0.3010299956639812,0.3010299956639812,0.3010299956639812,0.3010299956639812,0.3010299956639812,0.3010299956639812,0.3010299956639812,0.3010299956639812,0.3010299956639812,0.6020599913279624,0.3010299956639812,0.3010299956639812,0.3010299956639812,0.3010299956639812,0.3010299956639812,0.3010299956639812,0.4771212547196624,0.3010299956639812,0.3010299956639812,0.3010299956639812,0.3010299956639812,0.3010299956639812,0.3010299956639812,0.3010299956639812,0.3010299956639812,0.3010299956639812,0.3010299956639812,0.3010299956639812,0.3010299956639812,0.3010299956639812,0.3010299956639812,0.3010299956639812,0.3010299956639812,0.3010299956639812,0.3010299956639812,0.4771212547196624,0.3010299956639812,0.4771212547196624,0.3010299956639812,0.4771212547196624,0.3010299956639812,0.3010299956639812,0.3010299956639812,0.3010299956639812,0.3010299956639812,0.3010299956639812,0.3010299956639812,0.3010299956639812,0.3010299956639812,0.3010299956639812,0.3010299956639812,0.3010299956639812,0.3010299956639812,0.3010299956639812,0.3010299956639812,0.3010299956639812,0.6020599913279624,0.3010299956639812,0.3010299956639812,0.3010299956639812,0.6020599913279624,0.3010299956639812,0.3010299956639812,0.3010299956639812,0.3010299956639812,0.3010299956639812,1.0791812460476249,0.3010299956639812,0.3010299956639812,0.3010299956639812,0.3010299956639812,0.3010299956639812,0.3010299956639812,0.4771212547196624,0.3010299956639812,0.3010299956639812,0.9030899869919436,0.3010299956639812,0.4771212547196624,0.3010299956639812,0.4771212547196624,0.3010299956639812,0.3010299956639812,0.3010299956639812,0.4771212547196624,0.4771212547196624,0.3010299956639812,0.3010299956639812,0.4771212547196624,0.3010299956639812,0.3010299956639812,1.1139433523068367,0.3010299956639812,0.3010299956639812,0.3010299956639812,0.3010299956639812,0.3010299956639812,0.3010299956639812,0.3010299956639812,0.4771212547196624,0.4771212547196624,0.3010299956639812,0.3010299956639812,0.3010299956639812,0.4771212547196624,0.3010299956639812,0.3010299956639812,0.6020599913279624,0.8450980400142568,0.4771212547196624,0.3010299956639812,0.3010299956639812,0.3010299956639812,0.3010299956639812,0.3010299956639812,0.3010299956639812,0.3010299956639812,0.3010299956639812,0.3010299956639812,0.6020599913279624,0.8450980400142568,0.3010299956639812,0.6020599913279624,0.4771212547196624,0.3010299956639812,0.3010299956639812,0.3010299956639812,0.3010299956639812,0.3010299956639812,0.4771212547196624,0.3010299956639812,0.3010299956639812,0.3010299956639812,0.3010299956639812,0.6020599913279624,0.4771212547196624,0.4771212547196624,0.3010299956639812,0.4771212547196624,0.3010299956639812,0.4771212547196624,0.3010299956639812,0.6020599913279624,0.3010299956639812,2.6794278966121188,0.3010299956639812,0.3010299956639812,0.3010299956639812,0.4771212547196624,0.3010299956639812,0.3010299956639812,0.3010299956639812,0.3010299956639812,0.4771212547196624,0.3010299956639812,0.3010299956639812,0.3010299956639812,0.3010299956639812,0.3010299956639812,0.8450980400142568,0.3010299956639812,0.3010299956639812,0.3010299956639812,0.4771212547196624,0.3010299956639812,0.3010299956639812,0.4771212547196624,0.3010299956639812,0.4771212547196624,0.4771212547196624,0.3010299956639812,0.3010299956639812,0.4771212547196624,0.3010299956639812,0.3010299956639812,0.6020599913279624,0.3010299956639812,0.4771212547196624,0.6989700043360189,0.4771212547196624,0.6020599913279624,0.4771212547196624,0.3010299956639812,0.3010299956639812,0.6989700043360189,0.3010299956639812,0.4771212547196624,0.3010299956639812,0.4771212547196624,0.3010299956639812,0.3010299956639812,0.3010299956639812,1.3617278360175928,0.4771212547196624,0.3010299956639812,0.3010299956639812,1.0,0.3010299956639812,0.3010299956639812,0.4771212547196624,0.6989700043360189,0.4771212547196624,0.4771212547196624,0.3010299956639812]},\"node\":{\"color\":[\"blue\",\"orange\",\"white\",\"orange\",\"white\",\"orange\",\"white\",\"orange\",\"white\",\"orange\",\"white\",\"orange\",\"white\",\"orange\",\"blue\",\"orange\",\"blue\",\"orange\",\"white\",\"orange\",\"blue\",\"orange\",\"blue\",\"orange\",\"white\",\"orange\",\"white\",\"orange\",\"white\",\"orange\",\"white\",\"orange\",\"white\",\"orange\",\"white\",\"orange\",\"white\",\"orange\",\"red\",\"orange\",\"white\",\"orange\",\"white\",\"orange\",\"red\",\"orange\",\"white\",\"orange\",\"white\",\"orange\",\"white\",\"orange\",\"red\",\"orange\",\"white\",\"orange\",\"white\",\"orange\",\"white\",\"orange\",\"white\",\"orange\",\"white\",\"orange\",\"red\",\"orange\",\"white\",\"orange\",\"white\",\"orange\",\"red\",\"orange\",\"white\",\"orange\",\"white\",\"orange\",\"white\",\"orange\",\"white\",\"orange\",\"white\",\"orange\",\"white\",\"orange\",\"white\",\"orange\",\"white\",\"orange\",\"white\",\"orange\",\"white\",\"orange\",\"white\",\"orange\",\"white\",\"orange\",\"white\",\"orange\",\"white\",\"orange\",\"white\",\"orange\",\"white\",\"orange\",\"blue\",\"orange\",\"white\",\"orange\",\"red\",\"orange\",\"white\",\"orange\",\"white\",\"orange\",\"white\",\"orange\",\"white\",\"orange\",\"white\",\"orange\",\"red\",\"orange\",\"white\",\"orange\",\"white\",\"orange\",\"white\",\"orange\",\"white\",\"orange\",\"blue\",\"orange\",\"white\",\"orange\",\"white\",\"orange\",\"white\",\"orange\",\"red\",\"orange\",\"red\",\"orange\",\"white\",\"orange\",\"red\",\"orange\",\"white\",\"orange\",\"white\",\"orange\",\"white\",\"orange\",\"white\",\"orange\",\"red\",\"orange\",\"red\",\"orange\",\"white\",\"orange\",\"white\",\"orange\",\"white\",\"orange\",\"white\",\"orange\",\"white\",\"orange\",\"white\",\"orange\",\"white\",\"orange\",\"blue\",\"orange\",\"white\",\"orange\",\"red\",\"orange\",\"white\",\"orange\",\"white\",\"orange\",\"white\",\"orange\",\"white\",\"orange\",\"red\",\"orange\",\"white\",\"orange\",\"white\",\"orange\",\"white\",\"orange\",\"white\",\"orange\",\"red\",\"orange\",\"white\",\"orange\",\"white\",\"orange\",\"white\",\"orange\",\"red\",\"orange\",\"white\",\"orange\",\"red\",\"orange\",\"white\",\"orange\",\"white\",\"orange\",\"red\",\"orange\",\"red\",\"orange\",\"white\",\"orange\",\"white\",\"orange\",\"white\",\"orange\",\"white\",\"orange\",\"white\",\"orange\",\"white\",\"orange\",\"white\",\"orange\",\"white\",\"orange\",\"red\",\"orange\",\"white\",\"orange\",\"red\",\"orange\",\"red\",\"orange\",\"red\",\"orange\",\"red\",\"orange\",\"white\",\"orange\",\"red\",\"orange\",\"white\",\"orange\",\"white\",\"orange\",\"red\",\"orange\",\"white\",\"orange\",\"white\",\"orange\",\"white\",\"orange\",\"white\",\"orange\",\"red\",\"orange\",\"white\",\"orange\",\"white\",\"orange\",\"red\",\"orange\",\"white\",\"orange\",\"white\",\"orange\",\"red\",\"orange\",\"red\",\"orange\",\"white\",\"orange\",\"red\",\"orange\",\"red\",\"orange\",\"white\",\"orange\",\"white\",\"orange\",\"white\",\"orange\",\"red\",\"orange\",\"white\",\"orange\",\"white\",\"orange\",\"white\",\"orange\",\"white\",\"orange\",\"red\",\"orange\",\"white\",\"orange\",\"red\",\"orange\",\"white\",\"orange\",\"white\",\"orange\",\"blue\",\"orange\",\"white\",\"orange\",\"white\",\"orange\",\"red\",\"orange\",\"white\",\"orange\",\"white\",\"orange\",\"red\",\"orange\",\"red\",\"orange\",\"white\",\"orange\",\"white\",\"orange\",\"white\",\"orange\",\"white\",\"orange\",\"white\",\"orange\",\"red\",\"orange\",\"white\",\"orange\",\"white\",\"orange\",\"white\",\"orange\",\"white\",\"orange\",\"white\",\"orange\",\"white\",\"orange\",\"white\",\"orange\",\"red\",\"orange\",\"white\",\"orange\",\"white\",\"orange\",\"white\",\"orange\",\"white\",\"orange\",\"white\",\"orange\",\"white\",\"orange\",\"white\",\"orange\",\"red\",\"orange\",\"white\",\"orange\",\"white\",\"orange\",\"red\",\"orange\",\"white\",\"orange\",\"white\",\"orange\",\"white\",\"orange\",\"red\",\"orange\",\"white\",\"orange\",\"white\",\"orange\",\"white\",\"orange\",\"white\",\"orange\",\"white\",\"orange\",\"white\",\"orange\",\"white\",\"orange\",\"red\",\"orange\",\"white\",\"orange\",\"white\",\"orange\",\"white\",\"orange\",\"red\",\"orange\",\"white\",\"orange\",\"white\",\"orange\",\"white\",\"orange\",\"white\",\"orange\",\"white\",\"orange\",\"white\",\"orange\",\"white\",\"orange\",\"white\",\"orange\",\"white\",\"orange\",\"white\",\"orange\",\"white\",\"orange\",\"white\",\"orange\",\"red\",\"orange\",\"white\",\"orange\",\"red\",\"orange\",\"red\",\"orange\",\"white\",\"orange\",\"white\",\"orange\",\"white\",\"orange\",\"red\",\"orange\",\"white\",\"orange\",\"white\",\"orange\",\"red\",\"orange\",\"white\",\"orange\",\"white\",\"orange\",\"white\",\"orange\",\"white\",\"orange\",\"white\",\"orange\",\"white\",\"orange\",\"red\",\"orange\",\"white\",\"orange\",\"white\",\"orange\",\"white\",\"orange\",\"red\",\"orange\",\"white\",\"orange\",\"white\",\"orange\",\"white\",\"orange\",\"red\",\"orange\",\"white\",\"orange\",\"white\",\"orange\",\"red\",\"orange\",\"white\",\"orange\",\"blue\",\"orange\",\"white\",\"orange\",\"red\",\"orange\",\"white\",\"orange\",\"white\",\"orange\",\"white\",\"orange\",\"white\",\"orange\",\"white\",\"orange\",\"white\",\"orange\",\"white\",\"orange\",\"white\",\"orange\",\"white\",\"orange\",\"white\",\"orange\",\"white\",\"orange\",\"white\",\"orange\",\"white\",\"orange\",\"red\",\"orange\",\"white\",\"orange\",\"white\",\"orange\",\"white\",\"orange\",\"white\",\"orange\",\"white\",\"orange\",\"white\",\"orange\",\"red\",\"orange\",\"white\",\"orange\",\"white\",\"orange\",\"white\",\"orange\",\"white\",\"orange\",\"white\",\"orange\",\"white\",\"orange\",\"white\",\"orange\",\"white\",\"orange\",\"white\",\"orange\",\"white\",\"orange\",\"white\",\"orange\",\"white\",\"orange\",\"white\",\"orange\",\"white\",\"orange\",\"white\",\"orange\",\"white\",\"orange\",\"white\",\"orange\",\"white\",\"orange\",\"red\",\"orange\",\"white\",\"orange\",\"red\",\"orange\",\"white\",\"orange\",\"blue\",\"orange\",\"white\",\"orange\",\"white\",\"orange\",\"white\",\"orange\",\"white\",\"orange\",\"white\",\"orange\",\"white\",\"orange\",\"white\",\"orange\",\"white\",\"orange\",\"white\",\"orange\",\"white\",\"orange\",\"white\",\"orange\",\"white\",\"orange\",\"white\",\"orange\",\"white\",\"orange\",\"white\",\"orange\",\"white\",\"orange\",\"red\",\"orange\",\"white\",\"orange\",\"white\",\"orange\",\"white\",\"orange\",\"red\",\"orange\",\"white\",\"orange\",\"white\",\"orange\",\"white\",\"orange\",\"white\",\"orange\",\"white\",\"orange\",\"red\",\"orange\",\"white\",\"orange\",\"white\",\"orange\",\"white\",\"orange\",\"white\",\"orange\",\"white\",\"orange\",\"white\",\"orange\",\"red\",\"orange\",\"white\",\"orange\",\"white\",\"orange\",\"red\",\"orange\",\"white\",\"orange\",\"red\",\"orange\",\"white\",\"orange\",\"red\",\"orange\",\"white\",\"orange\",\"white\",\"orange\",\"white\",\"orange\",\"red\",\"orange\",\"red\",\"orange\",\"white\",\"orange\",\"white\",\"orange\",\"white\",\"orange\",\"white\",\"orange\",\"white\",\"orange\",\"red\",\"orange\",\"white\",\"orange\",\"white\",\"orange\",\"white\",\"orange\",\"white\",\"orange\",\"white\",\"orange\",\"white\",\"orange\",\"white\",\"orange\",\"blue\",\"orange\",\"blue\",\"orange\",\"white\",\"orange\",\"white\",\"orange\",\"white\",\"orange\",\"red\",\"orange\",\"blue\",\"orange\",\"red\",\"orange\",\"red\",\"orange\",\"red\",\"orange\",\"red\",\"orange\",\"red\",\"orange\",\"red\",\"orange\",\"blue\",\"orange\",\"red\",\"orange\",\"red\",\"orange\",\"red\",\"orange\",\"blue\",\"orange\",\"blue\",\"orange\",\"red\",\"orange\",\"red\",\"orange\",\"red\",\"orange\",\"blue\",\"orange\",\"red\",\"orange\",\"red\",\"orange\",\"red\",\"orange\",\"red\",\"orange\",\"red\",\"orange\",\"red\",\"orange\",\"red\",\"orange\",\"red\",\"orange\",\"red\",\"orange\",\"red\",\"orange\",\"red\",\"orange\",\"red\",\"orange\",\"red\",\"orange\",\"red\",\"orange\",\"red\",\"orange\",\"red\",\"orange\",\"red\",\"orange\",\"red\",\"orange\",\"red\",\"orange\",\"red\",\"orange\",\"red\",\"orange\",\"red\",\"orange\",\"red\",\"orange\",\"red\",\"orange\",\"red\",\"orange\",\"red\",\"orange\",\"red\",\"orange\",\"red\",\"orange\",\"red\",\"orange\",\"red\",\"orange\",\"red\",\"orange\",\"red\",\"orange\",\"red\",\"orange\",\"red\",\"orange\",\"red\",\"orange\",\"red\",\"orange\",\"red\",\"orange\",\"red\",\"orange\",\"red\",\"orange\",\"red\",\"orange\",\"red\",\"orange\",\"red\",\"orange\",\"red\",\"orange\",\"red\",\"orange\",\"red\",\"orange\",\"red\",\"orange\",\"red\",\"orange\",\"red\",\"orange\",\"red\",\"orange\",\"red\",\"orange\",\"red\",\"orange\",\"red\",\"orange\",\"blue\",\"orange\",\"red\",\"orange\",\"red\",\"orange\",\"red\",\"orange\",\"red\",\"orange\",\"red\",\"orange\",\"red\",\"orange\",\"red\",\"orange\",\"red\",\"orange\",\"blue\",\"orange\",\"red\",\"orange\",\"red\",\"orange\",\"red\",\"orange\",\"red\",\"orange\",\"red\",\"orange\",\"red\",\"orange\",\"red\",\"orange\",\"red\",\"orange\",\"red\",\"orange\",\"red\",\"orange\",\"red\",\"orange\",\"red\",\"orange\",\"red\",\"orange\",\"red\",\"orange\",\"red\",\"orange\",\"red\",\"orange\",\"red\",\"orange\",\"red\",\"orange\",\"red\",\"orange\",\"red\",\"orange\"],\"line\":{\"color\":\"black\",\"width\":0},\"pad\":1,\"thickness\":20},\"type\":\"sankey\"}],                        {\"template\":{\"data\":{\"histogram2dcontour\":[{\"type\":\"histogram2dcontour\",\"colorbar\":{\"outlinewidth\":0,\"ticks\":\"\"},\"colorscale\":[[0.0,\"#0d0887\"],[0.1111111111111111,\"#46039f\"],[0.2222222222222222,\"#7201a8\"],[0.3333333333333333,\"#9c179e\"],[0.4444444444444444,\"#bd3786\"],[0.5555555555555556,\"#d8576b\"],[0.6666666666666666,\"#ed7953\"],[0.7777777777777778,\"#fb9f3a\"],[0.8888888888888888,\"#fdca26\"],[1.0,\"#f0f921\"]]}],\"choropleth\":[{\"type\":\"choropleth\",\"colorbar\":{\"outlinewidth\":0,\"ticks\":\"\"}}],\"histogram2d\":[{\"type\":\"histogram2d\",\"colorbar\":{\"outlinewidth\":0,\"ticks\":\"\"},\"colorscale\":[[0.0,\"#0d0887\"],[0.1111111111111111,\"#46039f\"],[0.2222222222222222,\"#7201a8\"],[0.3333333333333333,\"#9c179e\"],[0.4444444444444444,\"#bd3786\"],[0.5555555555555556,\"#d8576b\"],[0.6666666666666666,\"#ed7953\"],[0.7777777777777778,\"#fb9f3a\"],[0.8888888888888888,\"#fdca26\"],[1.0,\"#f0f921\"]]}],\"heatmap\":[{\"type\":\"heatmap\",\"colorbar\":{\"outlinewidth\":0,\"ticks\":\"\"},\"colorscale\":[[0.0,\"#0d0887\"],[0.1111111111111111,\"#46039f\"],[0.2222222222222222,\"#7201a8\"],[0.3333333333333333,\"#9c179e\"],[0.4444444444444444,\"#bd3786\"],[0.5555555555555556,\"#d8576b\"],[0.6666666666666666,\"#ed7953\"],[0.7777777777777778,\"#fb9f3a\"],[0.8888888888888888,\"#fdca26\"],[1.0,\"#f0f921\"]]}],\"heatmapgl\":[{\"type\":\"heatmapgl\",\"colorbar\":{\"outlinewidth\":0,\"ticks\":\"\"},\"colorscale\":[[0.0,\"#0d0887\"],[0.1111111111111111,\"#46039f\"],[0.2222222222222222,\"#7201a8\"],[0.3333333333333333,\"#9c179e\"],[0.4444444444444444,\"#bd3786\"],[0.5555555555555556,\"#d8576b\"],[0.6666666666666666,\"#ed7953\"],[0.7777777777777778,\"#fb9f3a\"],[0.8888888888888888,\"#fdca26\"],[1.0,\"#f0f921\"]]}],\"contourcarpet\":[{\"type\":\"contourcarpet\",\"colorbar\":{\"outlinewidth\":0,\"ticks\":\"\"}}],\"contour\":[{\"type\":\"contour\",\"colorbar\":{\"outlinewidth\":0,\"ticks\":\"\"},\"colorscale\":[[0.0,\"#0d0887\"],[0.1111111111111111,\"#46039f\"],[0.2222222222222222,\"#7201a8\"],[0.3333333333333333,\"#9c179e\"],[0.4444444444444444,\"#bd3786\"],[0.5555555555555556,\"#d8576b\"],[0.6666666666666666,\"#ed7953\"],[0.7777777777777778,\"#fb9f3a\"],[0.8888888888888888,\"#fdca26\"],[1.0,\"#f0f921\"]]}],\"surface\":[{\"type\":\"surface\",\"colorbar\":{\"outlinewidth\":0,\"ticks\":\"\"},\"colorscale\":[[0.0,\"#0d0887\"],[0.1111111111111111,\"#46039f\"],[0.2222222222222222,\"#7201a8\"],[0.3333333333333333,\"#9c179e\"],[0.4444444444444444,\"#bd3786\"],[0.5555555555555556,\"#d8576b\"],[0.6666666666666666,\"#ed7953\"],[0.7777777777777778,\"#fb9f3a\"],[0.8888888888888888,\"#fdca26\"],[1.0,\"#f0f921\"]]}],\"mesh3d\":[{\"type\":\"mesh3d\",\"colorbar\":{\"outlinewidth\":0,\"ticks\":\"\"}}],\"scatter\":[{\"fillpattern\":{\"fillmode\":\"overlay\",\"size\":10,\"solidity\":0.2},\"type\":\"scatter\"}],\"parcoords\":[{\"type\":\"parcoords\",\"line\":{\"colorbar\":{\"outlinewidth\":0,\"ticks\":\"\"}}}],\"scatterpolargl\":[{\"type\":\"scatterpolargl\",\"marker\":{\"colorbar\":{\"outlinewidth\":0,\"ticks\":\"\"}}}],\"bar\":[{\"error_x\":{\"color\":\"#2a3f5f\"},\"error_y\":{\"color\":\"#2a3f5f\"},\"marker\":{\"line\":{\"color\":\"#E5ECF6\",\"width\":0.5},\"pattern\":{\"fillmode\":\"overlay\",\"size\":10,\"solidity\":0.2}},\"type\":\"bar\"}],\"scattergeo\":[{\"type\":\"scattergeo\",\"marker\":{\"colorbar\":{\"outlinewidth\":0,\"ticks\":\"\"}}}],\"scatterpolar\":[{\"type\":\"scatterpolar\",\"marker\":{\"colorbar\":{\"outlinewidth\":0,\"ticks\":\"\"}}}],\"histogram\":[{\"marker\":{\"pattern\":{\"fillmode\":\"overlay\",\"size\":10,\"solidity\":0.2}},\"type\":\"histogram\"}],\"scattergl\":[{\"type\":\"scattergl\",\"marker\":{\"colorbar\":{\"outlinewidth\":0,\"ticks\":\"\"}}}],\"scatter3d\":[{\"type\":\"scatter3d\",\"line\":{\"colorbar\":{\"outlinewidth\":0,\"ticks\":\"\"}},\"marker\":{\"colorbar\":{\"outlinewidth\":0,\"ticks\":\"\"}}}],\"scattermapbox\":[{\"type\":\"scattermapbox\",\"marker\":{\"colorbar\":{\"outlinewidth\":0,\"ticks\":\"\"}}}],\"scatterternary\":[{\"type\":\"scatterternary\",\"marker\":{\"colorbar\":{\"outlinewidth\":0,\"ticks\":\"\"}}}],\"scattercarpet\":[{\"type\":\"scattercarpet\",\"marker\":{\"colorbar\":{\"outlinewidth\":0,\"ticks\":\"\"}}}],\"carpet\":[{\"aaxis\":{\"endlinecolor\":\"#2a3f5f\",\"gridcolor\":\"white\",\"linecolor\":\"white\",\"minorgridcolor\":\"white\",\"startlinecolor\":\"#2a3f5f\"},\"baxis\":{\"endlinecolor\":\"#2a3f5f\",\"gridcolor\":\"white\",\"linecolor\":\"white\",\"minorgridcolor\":\"white\",\"startlinecolor\":\"#2a3f5f\"},\"type\":\"carpet\"}],\"table\":[{\"cells\":{\"fill\":{\"color\":\"#EBF0F8\"},\"line\":{\"color\":\"white\"}},\"header\":{\"fill\":{\"color\":\"#C8D4E3\"},\"line\":{\"color\":\"white\"}},\"type\":\"table\"}],\"barpolar\":[{\"marker\":{\"line\":{\"color\":\"#E5ECF6\",\"width\":0.5},\"pattern\":{\"fillmode\":\"overlay\",\"size\":10,\"solidity\":0.2}},\"type\":\"barpolar\"}],\"pie\":[{\"automargin\":true,\"type\":\"pie\"}]},\"layout\":{\"autotypenumbers\":\"strict\",\"colorway\":[\"#636efa\",\"#EF553B\",\"#00cc96\",\"#ab63fa\",\"#FFA15A\",\"#19d3f3\",\"#FF6692\",\"#B6E880\",\"#FF97FF\",\"#FECB52\"],\"font\":{\"color\":\"#2a3f5f\"},\"hovermode\":\"closest\",\"hoverlabel\":{\"align\":\"left\"},\"paper_bgcolor\":\"white\",\"plot_bgcolor\":\"#E5ECF6\",\"polar\":{\"bgcolor\":\"#E5ECF6\",\"angularaxis\":{\"gridcolor\":\"white\",\"linecolor\":\"white\",\"ticks\":\"\"},\"radialaxis\":{\"gridcolor\":\"white\",\"linecolor\":\"white\",\"ticks\":\"\"}},\"ternary\":{\"bgcolor\":\"#E5ECF6\",\"aaxis\":{\"gridcolor\":\"white\",\"linecolor\":\"white\",\"ticks\":\"\"},\"baxis\":{\"gridcolor\":\"white\",\"linecolor\":\"white\",\"ticks\":\"\"},\"caxis\":{\"gridcolor\":\"white\",\"linecolor\":\"white\",\"ticks\":\"\"}},\"coloraxis\":{\"colorbar\":{\"outlinewidth\":0,\"ticks\":\"\"}},\"colorscale\":{\"sequential\":[[0.0,\"#0d0887\"],[0.1111111111111111,\"#46039f\"],[0.2222222222222222,\"#7201a8\"],[0.3333333333333333,\"#9c179e\"],[0.4444444444444444,\"#bd3786\"],[0.5555555555555556,\"#d8576b\"],[0.6666666666666666,\"#ed7953\"],[0.7777777777777778,\"#fb9f3a\"],[0.8888888888888888,\"#fdca26\"],[1.0,\"#f0f921\"]],\"sequentialminus\":[[0.0,\"#0d0887\"],[0.1111111111111111,\"#46039f\"],[0.2222222222222222,\"#7201a8\"],[0.3333333333333333,\"#9c179e\"],[0.4444444444444444,\"#bd3786\"],[0.5555555555555556,\"#d8576b\"],[0.6666666666666666,\"#ed7953\"],[0.7777777777777778,\"#fb9f3a\"],[0.8888888888888888,\"#fdca26\"],[1.0,\"#f0f921\"]],\"diverging\":[[0,\"#8e0152\"],[0.1,\"#c51b7d\"],[0.2,\"#de77ae\"],[0.3,\"#f1b6da\"],[0.4,\"#fde0ef\"],[0.5,\"#f7f7f7\"],[0.6,\"#e6f5d0\"],[0.7,\"#b8e186\"],[0.8,\"#7fbc41\"],[0.9,\"#4d9221\"],[1,\"#276419\"]]},\"xaxis\":{\"gridcolor\":\"white\",\"linecolor\":\"white\",\"ticks\":\"\",\"title\":{\"standoff\":15},\"zerolinecolor\":\"white\",\"automargin\":true,\"zerolinewidth\":2},\"yaxis\":{\"gridcolor\":\"white\",\"linecolor\":\"white\",\"ticks\":\"\",\"title\":{\"standoff\":15},\"zerolinecolor\":\"white\",\"automargin\":true,\"zerolinewidth\":2},\"scene\":{\"xaxis\":{\"backgroundcolor\":\"#E5ECF6\",\"gridcolor\":\"white\",\"linecolor\":\"white\",\"showbackground\":true,\"ticks\":\"\",\"zerolinecolor\":\"white\",\"gridwidth\":2},\"yaxis\":{\"backgroundcolor\":\"#E5ECF6\",\"gridcolor\":\"white\",\"linecolor\":\"white\",\"showbackground\":true,\"ticks\":\"\",\"zerolinecolor\":\"white\",\"gridwidth\":2},\"zaxis\":{\"backgroundcolor\":\"#E5ECF6\",\"gridcolor\":\"white\",\"linecolor\":\"white\",\"showbackground\":true,\"ticks\":\"\",\"zerolinecolor\":\"white\",\"gridwidth\":2}},\"shapedefaults\":{\"line\":{\"color\":\"#2a3f5f\"}},\"annotationdefaults\":{\"arrowcolor\":\"#2a3f5f\",\"arrowhead\":0,\"arrowwidth\":1},\"geo\":{\"bgcolor\":\"white\",\"landcolor\":\"#E5ECF6\",\"subunitcolor\":\"white\",\"showland\":true,\"showlakes\":true,\"lakecolor\":\"white\"},\"title\":{\"x\":0.05},\"mapbox\":{\"style\":\"light\"}}},\"title\":{\"text\":\"Sankey Diagram - R\"},\"font\":{\"size\":10}},                        {\"responsive\": true}                    ).then(function(){\n",
       "                            \n",
       "var gd = document.getElementById('8c82ca8c-4ff5-4971-bb7d-ae2e5763497c');\n",
       "var x = new MutationObserver(function (mutations, observer) {{\n",
       "        var display = window.getComputedStyle(gd).display;\n",
       "        if (!display || display === 'none') {{\n",
       "            console.log([gd, 'removed!']);\n",
       "            Plotly.purge(gd);\n",
       "            observer.disconnect();\n",
       "        }}\n",
       "}});\n",
       "\n",
       "// Listen for the removal of the full notebook cells\n",
       "var notebookContainer = gd.closest('#notebook-container');\n",
       "if (notebookContainer) {{\n",
       "    x.observe(notebookContainer, {childList: true});\n",
       "}}\n",
       "\n",
       "// Listen for the clearing of the current output cell\n",
       "var outputEl = gd.closest('.output');\n",
       "if (outputEl) {{\n",
       "    x.observe(outputEl, {childList: true});\n",
       "}}\n",
       "\n",
       "                        })                };                });            </script>        </div>"
      ]
     },
     "metadata": {},
     "output_type": "display_data"
    }
   ],
   "source": [
    "# starting with just dli->post\n",
    "source_arr = []\n",
    "target_arr = []\n",
    "val_arr = []\n",
    "label_arr = []\n",
    "color_arr = []\n",
    "color_link = []\n",
    "s_dli = 0\n",
    "s_pre = 2\n",
    "t_post = 1\n",
    "sub_cdr = sub_cdr_post\n",
    "for clone in sub_cdr.index:\n",
    "\n",
    "    if sub_cdr.loc[clone,'DLI']!=0 and sub_cdr.loc[clone,'POST']!=0:\n",
    "        val_arr.append(sub_cdr.loc[clone,'Log10CloneSize'])\n",
    "        source_arr.append(s_dli)\n",
    "        target_arr.append(t_post)\n",
    "        label_arr.append('DLI')\n",
    "        label_arr.append('POST')\n",
    "        color_arr.append('red')\n",
    "        color_arr.append('orange')\n",
    "        s_dli += 2\n",
    "        t_post+=2\n",
    "        color_link.append('lightgrey')\n",
    "#         continue\n",
    "#     else: \n",
    "#         val_arr.append(sub_cdr.loc[clone,'Log10CloneSize'])\n",
    "#         source_arr.append(s_dli)\n",
    "#         target_arr.append(t_post)\n",
    "#         label_arr.append('DLI')\n",
    "#         label_arr.append('POST')\n",
    "#         color_arr.append('red')\n",
    "#         color_arr.append('orange')\n",
    "#         s_dli += 2\n",
    "#         t_post+=2\n",
    "#         color_link.append('white')\n",
    "#         val_arr.append(0)\n",
    "        \n",
    "    \n",
    "\n",
    "# for clone in sub_cdr.index:\n",
    "    \n",
    "    elif sub_cdr.loc[clone,'PRE']!=0 and sub_cdr.loc[clone,'POST']!=0:\n",
    "        val_arr.append(sub_cdr.loc[clone,'Log10CloneSize'])\n",
    "        source_arr.append(s_dli)\n",
    "        target_arr.append(t_post)\n",
    "        label_arr.append('PRE')\n",
    "        label_arr.append('POST')\n",
    "        color_arr.append('blue')\n",
    "        color_arr.append('orange')\n",
    "        s_dli += 2\n",
    "        t_post+=2\n",
    "        color_link.append('lightgrey')\n",
    "#         continue\n",
    "    else: \n",
    "        val_arr.append(sub_cdr.loc[clone,'Log10CloneSize'])\n",
    "        source_arr.append(s_dli)\n",
    "        target_arr.append(t_post)\n",
    "        label_arr.append('PRE')\n",
    "        label_arr.append('POST')\n",
    "        color_arr.append('white')\n",
    "        color_arr.append('orange')\n",
    "        s_dli += 2\n",
    "        t_post+=2\n",
    "        color_link.append('white')\n",
    "#         val_arr.append(0)\n",
    "\n",
    "        \n",
    "    \n",
    "    \n",
    "    \n",
    "\n",
    "#     if sub_cdr.loc[clone,'PRE']!=0 and sub_cdr.loc[clone,'DLI']!=0:\n",
    "#         val_arr.append(sub_cdr.loc[clone,'Log10CloneSize'])\n",
    "#     else: \n",
    "#         val_arr.append(0)\n",
    "        \n",
    "#     source_arr.append(s_pre)\n",
    "#     target_arr.append(t_dli)\n",
    "#     label_arr.append('PRE')\n",
    "#     label_arr.append('DLI')\n",
    "#     color_arr.append('blue')\n",
    "#     color_arr.append('red')\n",
    "    \n",
    "            \n",
    "    \n",
    "\n",
    "fig = go.Figure(data=[go.Sankey(\n",
    "    node = dict(\n",
    "      pad = 1,\n",
    "      thickness = 20,\n",
    "      line = dict(color = \"black\", width = 0),\n",
    "#       label = label_arr,\n",
    "      color = color_arr\n",
    "#       label = [\"Pre\", \"DLI\", \"POST\"],\n",
    "#       color = [\"blue\",'red','orange']\n",
    "    ),\n",
    "    \n",
    "    link = dict(\n",
    "      source = source_arr, # indices correspond to labels, eg A1, A2, A1, B1, ...\n",
    "      target = target_arr,\n",
    "#       width = width_arr,\n",
    "      value = val_arr,\n",
    "      color = color_link\n",
    "    \n",
    "        \n",
    "        \n",
    "#       source = [0, 1], # indices correspond to labels, eg A1, A2, A1, B1, ...\n",
    "#       target = [2, 2],\n",
    "#       value = [0, 4]\n",
    "  ))])\n",
    "\n",
    "fig.update_layout(title_text=\"Sankey Diagram - R\", font_size=10)\n",
    "# fig.savefig('sankey_r.eps')\n",
    "# fig.write_image('sankey_r.svg')\n",
    "fig.show()"
   ]
  },
  {
   "cell_type": "code",
   "execution_count": 168,
   "metadata": {},
   "outputs": [
    {
     "data": {
      "text/plain": [
       "50"
      ]
     },
     "execution_count": 168,
     "metadata": {},
     "output_type": "execute_result"
    }
   ],
   "source": [
    "len(val_arr)"
   ]
  },
  {
   "cell_type": "code",
   "execution_count": 82,
   "metadata": {},
   "outputs": [
    {
     "data": {
      "application/vnd.plotly.v1+json": {
       "config": {
        "plotlyServerURL": "https://plot.ly"
       },
       "data": [
        {
         "link": {
          "source": [
           0,
           1,
           0
          ],
          "target": [
           2,
           1,
           3
          ],
          "value": [
           1,
           1,
           1
          ]
         },
         "node": {
          "color": "blue",
          "label": [
           "A1",
           "A2",
           "B1"
          ],
          "line": {
           "color": "black",
           "width": 1
          },
          "pad": 15,
          "thickness": 20
         },
         "type": "sankey"
        }
       ],
       "layout": {
        "font": {
         "size": 10
        },
        "template": {
         "data": {
          "bar": [
           {
            "error_x": {
             "color": "#2a3f5f"
            },
            "error_y": {
             "color": "#2a3f5f"
            },
            "marker": {
             "line": {
              "color": "#E5ECF6",
              "width": 0.5
             },
             "pattern": {
              "fillmode": "overlay",
              "size": 10,
              "solidity": 0.2
             }
            },
            "type": "bar"
           }
          ],
          "barpolar": [
           {
            "marker": {
             "line": {
              "color": "#E5ECF6",
              "width": 0.5
             },
             "pattern": {
              "fillmode": "overlay",
              "size": 10,
              "solidity": 0.2
             }
            },
            "type": "barpolar"
           }
          ],
          "carpet": [
           {
            "aaxis": {
             "endlinecolor": "#2a3f5f",
             "gridcolor": "white",
             "linecolor": "white",
             "minorgridcolor": "white",
             "startlinecolor": "#2a3f5f"
            },
            "baxis": {
             "endlinecolor": "#2a3f5f",
             "gridcolor": "white",
             "linecolor": "white",
             "minorgridcolor": "white",
             "startlinecolor": "#2a3f5f"
            },
            "type": "carpet"
           }
          ],
          "choropleth": [
           {
            "colorbar": {
             "outlinewidth": 0,
             "ticks": ""
            },
            "type": "choropleth"
           }
          ],
          "contour": [
           {
            "colorbar": {
             "outlinewidth": 0,
             "ticks": ""
            },
            "colorscale": [
             [
              0,
              "#0d0887"
             ],
             [
              0.1111111111111111,
              "#46039f"
             ],
             [
              0.2222222222222222,
              "#7201a8"
             ],
             [
              0.3333333333333333,
              "#9c179e"
             ],
             [
              0.4444444444444444,
              "#bd3786"
             ],
             [
              0.5555555555555556,
              "#d8576b"
             ],
             [
              0.6666666666666666,
              "#ed7953"
             ],
             [
              0.7777777777777778,
              "#fb9f3a"
             ],
             [
              0.8888888888888888,
              "#fdca26"
             ],
             [
              1,
              "#f0f921"
             ]
            ],
            "type": "contour"
           }
          ],
          "contourcarpet": [
           {
            "colorbar": {
             "outlinewidth": 0,
             "ticks": ""
            },
            "type": "contourcarpet"
           }
          ],
          "heatmap": [
           {
            "colorbar": {
             "outlinewidth": 0,
             "ticks": ""
            },
            "colorscale": [
             [
              0,
              "#0d0887"
             ],
             [
              0.1111111111111111,
              "#46039f"
             ],
             [
              0.2222222222222222,
              "#7201a8"
             ],
             [
              0.3333333333333333,
              "#9c179e"
             ],
             [
              0.4444444444444444,
              "#bd3786"
             ],
             [
              0.5555555555555556,
              "#d8576b"
             ],
             [
              0.6666666666666666,
              "#ed7953"
             ],
             [
              0.7777777777777778,
              "#fb9f3a"
             ],
             [
              0.8888888888888888,
              "#fdca26"
             ],
             [
              1,
              "#f0f921"
             ]
            ],
            "type": "heatmap"
           }
          ],
          "heatmapgl": [
           {
            "colorbar": {
             "outlinewidth": 0,
             "ticks": ""
            },
            "colorscale": [
             [
              0,
              "#0d0887"
             ],
             [
              0.1111111111111111,
              "#46039f"
             ],
             [
              0.2222222222222222,
              "#7201a8"
             ],
             [
              0.3333333333333333,
              "#9c179e"
             ],
             [
              0.4444444444444444,
              "#bd3786"
             ],
             [
              0.5555555555555556,
              "#d8576b"
             ],
             [
              0.6666666666666666,
              "#ed7953"
             ],
             [
              0.7777777777777778,
              "#fb9f3a"
             ],
             [
              0.8888888888888888,
              "#fdca26"
             ],
             [
              1,
              "#f0f921"
             ]
            ],
            "type": "heatmapgl"
           }
          ],
          "histogram": [
           {
            "marker": {
             "pattern": {
              "fillmode": "overlay",
              "size": 10,
              "solidity": 0.2
             }
            },
            "type": "histogram"
           }
          ],
          "histogram2d": [
           {
            "colorbar": {
             "outlinewidth": 0,
             "ticks": ""
            },
            "colorscale": [
             [
              0,
              "#0d0887"
             ],
             [
              0.1111111111111111,
              "#46039f"
             ],
             [
              0.2222222222222222,
              "#7201a8"
             ],
             [
              0.3333333333333333,
              "#9c179e"
             ],
             [
              0.4444444444444444,
              "#bd3786"
             ],
             [
              0.5555555555555556,
              "#d8576b"
             ],
             [
              0.6666666666666666,
              "#ed7953"
             ],
             [
              0.7777777777777778,
              "#fb9f3a"
             ],
             [
              0.8888888888888888,
              "#fdca26"
             ],
             [
              1,
              "#f0f921"
             ]
            ],
            "type": "histogram2d"
           }
          ],
          "histogram2dcontour": [
           {
            "colorbar": {
             "outlinewidth": 0,
             "ticks": ""
            },
            "colorscale": [
             [
              0,
              "#0d0887"
             ],
             [
              0.1111111111111111,
              "#46039f"
             ],
             [
              0.2222222222222222,
              "#7201a8"
             ],
             [
              0.3333333333333333,
              "#9c179e"
             ],
             [
              0.4444444444444444,
              "#bd3786"
             ],
             [
              0.5555555555555556,
              "#d8576b"
             ],
             [
              0.6666666666666666,
              "#ed7953"
             ],
             [
              0.7777777777777778,
              "#fb9f3a"
             ],
             [
              0.8888888888888888,
              "#fdca26"
             ],
             [
              1,
              "#f0f921"
             ]
            ],
            "type": "histogram2dcontour"
           }
          ],
          "mesh3d": [
           {
            "colorbar": {
             "outlinewidth": 0,
             "ticks": ""
            },
            "type": "mesh3d"
           }
          ],
          "parcoords": [
           {
            "line": {
             "colorbar": {
              "outlinewidth": 0,
              "ticks": ""
             }
            },
            "type": "parcoords"
           }
          ],
          "pie": [
           {
            "automargin": true,
            "type": "pie"
           }
          ],
          "scatter": [
           {
            "fillpattern": {
             "fillmode": "overlay",
             "size": 10,
             "solidity": 0.2
            },
            "type": "scatter"
           }
          ],
          "scatter3d": [
           {
            "line": {
             "colorbar": {
              "outlinewidth": 0,
              "ticks": ""
             }
            },
            "marker": {
             "colorbar": {
              "outlinewidth": 0,
              "ticks": ""
             }
            },
            "type": "scatter3d"
           }
          ],
          "scattercarpet": [
           {
            "marker": {
             "colorbar": {
              "outlinewidth": 0,
              "ticks": ""
             }
            },
            "type": "scattercarpet"
           }
          ],
          "scattergeo": [
           {
            "marker": {
             "colorbar": {
              "outlinewidth": 0,
              "ticks": ""
             }
            },
            "type": "scattergeo"
           }
          ],
          "scattergl": [
           {
            "marker": {
             "colorbar": {
              "outlinewidth": 0,
              "ticks": ""
             }
            },
            "type": "scattergl"
           }
          ],
          "scattermapbox": [
           {
            "marker": {
             "colorbar": {
              "outlinewidth": 0,
              "ticks": ""
             }
            },
            "type": "scattermapbox"
           }
          ],
          "scatterpolar": [
           {
            "marker": {
             "colorbar": {
              "outlinewidth": 0,
              "ticks": ""
             }
            },
            "type": "scatterpolar"
           }
          ],
          "scatterpolargl": [
           {
            "marker": {
             "colorbar": {
              "outlinewidth": 0,
              "ticks": ""
             }
            },
            "type": "scatterpolargl"
           }
          ],
          "scatterternary": [
           {
            "marker": {
             "colorbar": {
              "outlinewidth": 0,
              "ticks": ""
             }
            },
            "type": "scatterternary"
           }
          ],
          "surface": [
           {
            "colorbar": {
             "outlinewidth": 0,
             "ticks": ""
            },
            "colorscale": [
             [
              0,
              "#0d0887"
             ],
             [
              0.1111111111111111,
              "#46039f"
             ],
             [
              0.2222222222222222,
              "#7201a8"
             ],
             [
              0.3333333333333333,
              "#9c179e"
             ],
             [
              0.4444444444444444,
              "#bd3786"
             ],
             [
              0.5555555555555556,
              "#d8576b"
             ],
             [
              0.6666666666666666,
              "#ed7953"
             ],
             [
              0.7777777777777778,
              "#fb9f3a"
             ],
             [
              0.8888888888888888,
              "#fdca26"
             ],
             [
              1,
              "#f0f921"
             ]
            ],
            "type": "surface"
           }
          ],
          "table": [
           {
            "cells": {
             "fill": {
              "color": "#EBF0F8"
             },
             "line": {
              "color": "white"
             }
            },
            "header": {
             "fill": {
              "color": "#C8D4E3"
             },
             "line": {
              "color": "white"
             }
            },
            "type": "table"
           }
          ]
         },
         "layout": {
          "annotationdefaults": {
           "arrowcolor": "#2a3f5f",
           "arrowhead": 0,
           "arrowwidth": 1
          },
          "autotypenumbers": "strict",
          "coloraxis": {
           "colorbar": {
            "outlinewidth": 0,
            "ticks": ""
           }
          },
          "colorscale": {
           "diverging": [
            [
             0,
             "#8e0152"
            ],
            [
             0.1,
             "#c51b7d"
            ],
            [
             0.2,
             "#de77ae"
            ],
            [
             0.3,
             "#f1b6da"
            ],
            [
             0.4,
             "#fde0ef"
            ],
            [
             0.5,
             "#f7f7f7"
            ],
            [
             0.6,
             "#e6f5d0"
            ],
            [
             0.7,
             "#b8e186"
            ],
            [
             0.8,
             "#7fbc41"
            ],
            [
             0.9,
             "#4d9221"
            ],
            [
             1,
             "#276419"
            ]
           ],
           "sequential": [
            [
             0,
             "#0d0887"
            ],
            [
             0.1111111111111111,
             "#46039f"
            ],
            [
             0.2222222222222222,
             "#7201a8"
            ],
            [
             0.3333333333333333,
             "#9c179e"
            ],
            [
             0.4444444444444444,
             "#bd3786"
            ],
            [
             0.5555555555555556,
             "#d8576b"
            ],
            [
             0.6666666666666666,
             "#ed7953"
            ],
            [
             0.7777777777777778,
             "#fb9f3a"
            ],
            [
             0.8888888888888888,
             "#fdca26"
            ],
            [
             1,
             "#f0f921"
            ]
           ],
           "sequentialminus": [
            [
             0,
             "#0d0887"
            ],
            [
             0.1111111111111111,
             "#46039f"
            ],
            [
             0.2222222222222222,
             "#7201a8"
            ],
            [
             0.3333333333333333,
             "#9c179e"
            ],
            [
             0.4444444444444444,
             "#bd3786"
            ],
            [
             0.5555555555555556,
             "#d8576b"
            ],
            [
             0.6666666666666666,
             "#ed7953"
            ],
            [
             0.7777777777777778,
             "#fb9f3a"
            ],
            [
             0.8888888888888888,
             "#fdca26"
            ],
            [
             1,
             "#f0f921"
            ]
           ]
          },
          "colorway": [
           "#636efa",
           "#EF553B",
           "#00cc96",
           "#ab63fa",
           "#FFA15A",
           "#19d3f3",
           "#FF6692",
           "#B6E880",
           "#FF97FF",
           "#FECB52"
          ],
          "font": {
           "color": "#2a3f5f"
          },
          "geo": {
           "bgcolor": "white",
           "lakecolor": "white",
           "landcolor": "#E5ECF6",
           "showlakes": true,
           "showland": true,
           "subunitcolor": "white"
          },
          "hoverlabel": {
           "align": "left"
          },
          "hovermode": "closest",
          "mapbox": {
           "style": "light"
          },
          "paper_bgcolor": "white",
          "plot_bgcolor": "#E5ECF6",
          "polar": {
           "angularaxis": {
            "gridcolor": "white",
            "linecolor": "white",
            "ticks": ""
           },
           "bgcolor": "#E5ECF6",
           "radialaxis": {
            "gridcolor": "white",
            "linecolor": "white",
            "ticks": ""
           }
          },
          "scene": {
           "xaxis": {
            "backgroundcolor": "#E5ECF6",
            "gridcolor": "white",
            "gridwidth": 2,
            "linecolor": "white",
            "showbackground": true,
            "ticks": "",
            "zerolinecolor": "white"
           },
           "yaxis": {
            "backgroundcolor": "#E5ECF6",
            "gridcolor": "white",
            "gridwidth": 2,
            "linecolor": "white",
            "showbackground": true,
            "ticks": "",
            "zerolinecolor": "white"
           },
           "zaxis": {
            "backgroundcolor": "#E5ECF6",
            "gridcolor": "white",
            "gridwidth": 2,
            "linecolor": "white",
            "showbackground": true,
            "ticks": "",
            "zerolinecolor": "white"
           }
          },
          "shapedefaults": {
           "line": {
            "color": "#2a3f5f"
           }
          },
          "ternary": {
           "aaxis": {
            "gridcolor": "white",
            "linecolor": "white",
            "ticks": ""
           },
           "baxis": {
            "gridcolor": "white",
            "linecolor": "white",
            "ticks": ""
           },
           "bgcolor": "#E5ECF6",
           "caxis": {
            "gridcolor": "white",
            "linecolor": "white",
            "ticks": ""
           }
          },
          "title": {
           "x": 0.05
          },
          "xaxis": {
           "automargin": true,
           "gridcolor": "white",
           "linecolor": "white",
           "ticks": "",
           "title": {
            "standoff": 15
           },
           "zerolinecolor": "white",
           "zerolinewidth": 2
          },
          "yaxis": {
           "automargin": true,
           "gridcolor": "white",
           "linecolor": "white",
           "ticks": "",
           "title": {
            "standoff": 15
           },
           "zerolinecolor": "white",
           "zerolinewidth": 2
          }
         }
        },
        "title": {
         "text": "Basic Sankey Diagram"
        }
       }
      },
      "text/html": [
       "<div>                            <div id=\"ad2146bb-e1cd-4525-b881-9fcc2394a414\" class=\"plotly-graph-div\" style=\"height:525px; width:100%;\"></div>            <script type=\"text/javascript\">                require([\"plotly\"], function(Plotly) {                    window.PLOTLYENV=window.PLOTLYENV || {};                                    if (document.getElementById(\"ad2146bb-e1cd-4525-b881-9fcc2394a414\")) {                    Plotly.newPlot(                        \"ad2146bb-e1cd-4525-b881-9fcc2394a414\",                        [{\"link\":{\"source\":[0,1,0],\"target\":[2,1,3],\"value\":[1,1,1]},\"node\":{\"color\":\"blue\",\"label\":[\"A1\",\"A2\",\"B1\"],\"line\":{\"color\":\"black\",\"width\":1},\"pad\":15,\"thickness\":20},\"type\":\"sankey\"}],                        {\"template\":{\"data\":{\"histogram2dcontour\":[{\"type\":\"histogram2dcontour\",\"colorbar\":{\"outlinewidth\":0,\"ticks\":\"\"},\"colorscale\":[[0.0,\"#0d0887\"],[0.1111111111111111,\"#46039f\"],[0.2222222222222222,\"#7201a8\"],[0.3333333333333333,\"#9c179e\"],[0.4444444444444444,\"#bd3786\"],[0.5555555555555556,\"#d8576b\"],[0.6666666666666666,\"#ed7953\"],[0.7777777777777778,\"#fb9f3a\"],[0.8888888888888888,\"#fdca26\"],[1.0,\"#f0f921\"]]}],\"choropleth\":[{\"type\":\"choropleth\",\"colorbar\":{\"outlinewidth\":0,\"ticks\":\"\"}}],\"histogram2d\":[{\"type\":\"histogram2d\",\"colorbar\":{\"outlinewidth\":0,\"ticks\":\"\"},\"colorscale\":[[0.0,\"#0d0887\"],[0.1111111111111111,\"#46039f\"],[0.2222222222222222,\"#7201a8\"],[0.3333333333333333,\"#9c179e\"],[0.4444444444444444,\"#bd3786\"],[0.5555555555555556,\"#d8576b\"],[0.6666666666666666,\"#ed7953\"],[0.7777777777777778,\"#fb9f3a\"],[0.8888888888888888,\"#fdca26\"],[1.0,\"#f0f921\"]]}],\"heatmap\":[{\"type\":\"heatmap\",\"colorbar\":{\"outlinewidth\":0,\"ticks\":\"\"},\"colorscale\":[[0.0,\"#0d0887\"],[0.1111111111111111,\"#46039f\"],[0.2222222222222222,\"#7201a8\"],[0.3333333333333333,\"#9c179e\"],[0.4444444444444444,\"#bd3786\"],[0.5555555555555556,\"#d8576b\"],[0.6666666666666666,\"#ed7953\"],[0.7777777777777778,\"#fb9f3a\"],[0.8888888888888888,\"#fdca26\"],[1.0,\"#f0f921\"]]}],\"heatmapgl\":[{\"type\":\"heatmapgl\",\"colorbar\":{\"outlinewidth\":0,\"ticks\":\"\"},\"colorscale\":[[0.0,\"#0d0887\"],[0.1111111111111111,\"#46039f\"],[0.2222222222222222,\"#7201a8\"],[0.3333333333333333,\"#9c179e\"],[0.4444444444444444,\"#bd3786\"],[0.5555555555555556,\"#d8576b\"],[0.6666666666666666,\"#ed7953\"],[0.7777777777777778,\"#fb9f3a\"],[0.8888888888888888,\"#fdca26\"],[1.0,\"#f0f921\"]]}],\"contourcarpet\":[{\"type\":\"contourcarpet\",\"colorbar\":{\"outlinewidth\":0,\"ticks\":\"\"}}],\"contour\":[{\"type\":\"contour\",\"colorbar\":{\"outlinewidth\":0,\"ticks\":\"\"},\"colorscale\":[[0.0,\"#0d0887\"],[0.1111111111111111,\"#46039f\"],[0.2222222222222222,\"#7201a8\"],[0.3333333333333333,\"#9c179e\"],[0.4444444444444444,\"#bd3786\"],[0.5555555555555556,\"#d8576b\"],[0.6666666666666666,\"#ed7953\"],[0.7777777777777778,\"#fb9f3a\"],[0.8888888888888888,\"#fdca26\"],[1.0,\"#f0f921\"]]}],\"surface\":[{\"type\":\"surface\",\"colorbar\":{\"outlinewidth\":0,\"ticks\":\"\"},\"colorscale\":[[0.0,\"#0d0887\"],[0.1111111111111111,\"#46039f\"],[0.2222222222222222,\"#7201a8\"],[0.3333333333333333,\"#9c179e\"],[0.4444444444444444,\"#bd3786\"],[0.5555555555555556,\"#d8576b\"],[0.6666666666666666,\"#ed7953\"],[0.7777777777777778,\"#fb9f3a\"],[0.8888888888888888,\"#fdca26\"],[1.0,\"#f0f921\"]]}],\"mesh3d\":[{\"type\":\"mesh3d\",\"colorbar\":{\"outlinewidth\":0,\"ticks\":\"\"}}],\"scatter\":[{\"fillpattern\":{\"fillmode\":\"overlay\",\"size\":10,\"solidity\":0.2},\"type\":\"scatter\"}],\"parcoords\":[{\"type\":\"parcoords\",\"line\":{\"colorbar\":{\"outlinewidth\":0,\"ticks\":\"\"}}}],\"scatterpolargl\":[{\"type\":\"scatterpolargl\",\"marker\":{\"colorbar\":{\"outlinewidth\":0,\"ticks\":\"\"}}}],\"bar\":[{\"error_x\":{\"color\":\"#2a3f5f\"},\"error_y\":{\"color\":\"#2a3f5f\"},\"marker\":{\"line\":{\"color\":\"#E5ECF6\",\"width\":0.5},\"pattern\":{\"fillmode\":\"overlay\",\"size\":10,\"solidity\":0.2}},\"type\":\"bar\"}],\"scattergeo\":[{\"type\":\"scattergeo\",\"marker\":{\"colorbar\":{\"outlinewidth\":0,\"ticks\":\"\"}}}],\"scatterpolar\":[{\"type\":\"scatterpolar\",\"marker\":{\"colorbar\":{\"outlinewidth\":0,\"ticks\":\"\"}}}],\"histogram\":[{\"marker\":{\"pattern\":{\"fillmode\":\"overlay\",\"size\":10,\"solidity\":0.2}},\"type\":\"histogram\"}],\"scattergl\":[{\"type\":\"scattergl\",\"marker\":{\"colorbar\":{\"outlinewidth\":0,\"ticks\":\"\"}}}],\"scatter3d\":[{\"type\":\"scatter3d\",\"line\":{\"colorbar\":{\"outlinewidth\":0,\"ticks\":\"\"}},\"marker\":{\"colorbar\":{\"outlinewidth\":0,\"ticks\":\"\"}}}],\"scattermapbox\":[{\"type\":\"scattermapbox\",\"marker\":{\"colorbar\":{\"outlinewidth\":0,\"ticks\":\"\"}}}],\"scatterternary\":[{\"type\":\"scatterternary\",\"marker\":{\"colorbar\":{\"outlinewidth\":0,\"ticks\":\"\"}}}],\"scattercarpet\":[{\"type\":\"scattercarpet\",\"marker\":{\"colorbar\":{\"outlinewidth\":0,\"ticks\":\"\"}}}],\"carpet\":[{\"aaxis\":{\"endlinecolor\":\"#2a3f5f\",\"gridcolor\":\"white\",\"linecolor\":\"white\",\"minorgridcolor\":\"white\",\"startlinecolor\":\"#2a3f5f\"},\"baxis\":{\"endlinecolor\":\"#2a3f5f\",\"gridcolor\":\"white\",\"linecolor\":\"white\",\"minorgridcolor\":\"white\",\"startlinecolor\":\"#2a3f5f\"},\"type\":\"carpet\"}],\"table\":[{\"cells\":{\"fill\":{\"color\":\"#EBF0F8\"},\"line\":{\"color\":\"white\"}},\"header\":{\"fill\":{\"color\":\"#C8D4E3\"},\"line\":{\"color\":\"white\"}},\"type\":\"table\"}],\"barpolar\":[{\"marker\":{\"line\":{\"color\":\"#E5ECF6\",\"width\":0.5},\"pattern\":{\"fillmode\":\"overlay\",\"size\":10,\"solidity\":0.2}},\"type\":\"barpolar\"}],\"pie\":[{\"automargin\":true,\"type\":\"pie\"}]},\"layout\":{\"autotypenumbers\":\"strict\",\"colorway\":[\"#636efa\",\"#EF553B\",\"#00cc96\",\"#ab63fa\",\"#FFA15A\",\"#19d3f3\",\"#FF6692\",\"#B6E880\",\"#FF97FF\",\"#FECB52\"],\"font\":{\"color\":\"#2a3f5f\"},\"hovermode\":\"closest\",\"hoverlabel\":{\"align\":\"left\"},\"paper_bgcolor\":\"white\",\"plot_bgcolor\":\"#E5ECF6\",\"polar\":{\"bgcolor\":\"#E5ECF6\",\"angularaxis\":{\"gridcolor\":\"white\",\"linecolor\":\"white\",\"ticks\":\"\"},\"radialaxis\":{\"gridcolor\":\"white\",\"linecolor\":\"white\",\"ticks\":\"\"}},\"ternary\":{\"bgcolor\":\"#E5ECF6\",\"aaxis\":{\"gridcolor\":\"white\",\"linecolor\":\"white\",\"ticks\":\"\"},\"baxis\":{\"gridcolor\":\"white\",\"linecolor\":\"white\",\"ticks\":\"\"},\"caxis\":{\"gridcolor\":\"white\",\"linecolor\":\"white\",\"ticks\":\"\"}},\"coloraxis\":{\"colorbar\":{\"outlinewidth\":0,\"ticks\":\"\"}},\"colorscale\":{\"sequential\":[[0.0,\"#0d0887\"],[0.1111111111111111,\"#46039f\"],[0.2222222222222222,\"#7201a8\"],[0.3333333333333333,\"#9c179e\"],[0.4444444444444444,\"#bd3786\"],[0.5555555555555556,\"#d8576b\"],[0.6666666666666666,\"#ed7953\"],[0.7777777777777778,\"#fb9f3a\"],[0.8888888888888888,\"#fdca26\"],[1.0,\"#f0f921\"]],\"sequentialminus\":[[0.0,\"#0d0887\"],[0.1111111111111111,\"#46039f\"],[0.2222222222222222,\"#7201a8\"],[0.3333333333333333,\"#9c179e\"],[0.4444444444444444,\"#bd3786\"],[0.5555555555555556,\"#d8576b\"],[0.6666666666666666,\"#ed7953\"],[0.7777777777777778,\"#fb9f3a\"],[0.8888888888888888,\"#fdca26\"],[1.0,\"#f0f921\"]],\"diverging\":[[0,\"#8e0152\"],[0.1,\"#c51b7d\"],[0.2,\"#de77ae\"],[0.3,\"#f1b6da\"],[0.4,\"#fde0ef\"],[0.5,\"#f7f7f7\"],[0.6,\"#e6f5d0\"],[0.7,\"#b8e186\"],[0.8,\"#7fbc41\"],[0.9,\"#4d9221\"],[1,\"#276419\"]]},\"xaxis\":{\"gridcolor\":\"white\",\"linecolor\":\"white\",\"ticks\":\"\",\"title\":{\"standoff\":15},\"zerolinecolor\":\"white\",\"automargin\":true,\"zerolinewidth\":2},\"yaxis\":{\"gridcolor\":\"white\",\"linecolor\":\"white\",\"ticks\":\"\",\"title\":{\"standoff\":15},\"zerolinecolor\":\"white\",\"automargin\":true,\"zerolinewidth\":2},\"scene\":{\"xaxis\":{\"backgroundcolor\":\"#E5ECF6\",\"gridcolor\":\"white\",\"linecolor\":\"white\",\"showbackground\":true,\"ticks\":\"\",\"zerolinecolor\":\"white\",\"gridwidth\":2},\"yaxis\":{\"backgroundcolor\":\"#E5ECF6\",\"gridcolor\":\"white\",\"linecolor\":\"white\",\"showbackground\":true,\"ticks\":\"\",\"zerolinecolor\":\"white\",\"gridwidth\":2},\"zaxis\":{\"backgroundcolor\":\"#E5ECF6\",\"gridcolor\":\"white\",\"linecolor\":\"white\",\"showbackground\":true,\"ticks\":\"\",\"zerolinecolor\":\"white\",\"gridwidth\":2}},\"shapedefaults\":{\"line\":{\"color\":\"#2a3f5f\"}},\"annotationdefaults\":{\"arrowcolor\":\"#2a3f5f\",\"arrowhead\":0,\"arrowwidth\":1},\"geo\":{\"bgcolor\":\"white\",\"landcolor\":\"#E5ECF6\",\"subunitcolor\":\"white\",\"showland\":true,\"showlakes\":true,\"lakecolor\":\"white\"},\"title\":{\"x\":0.05},\"mapbox\":{\"style\":\"light\"}}},\"title\":{\"text\":\"Basic Sankey Diagram\"},\"font\":{\"size\":10}},                        {\"responsive\": true}                    ).then(function(){\n",
       "                            \n",
       "var gd = document.getElementById('ad2146bb-e1cd-4525-b881-9fcc2394a414');\n",
       "var x = new MutationObserver(function (mutations, observer) {{\n",
       "        var display = window.getComputedStyle(gd).display;\n",
       "        if (!display || display === 'none') {{\n",
       "            console.log([gd, 'removed!']);\n",
       "            Plotly.purge(gd);\n",
       "            observer.disconnect();\n",
       "        }}\n",
       "}});\n",
       "\n",
       "// Listen for the removal of the full notebook cells\n",
       "var notebookContainer = gd.closest('#notebook-container');\n",
       "if (notebookContainer) {{\n",
       "    x.observe(notebookContainer, {childList: true});\n",
       "}}\n",
       "\n",
       "// Listen for the clearing of the current output cell\n",
       "var outputEl = gd.closest('.output');\n",
       "if (outputEl) {{\n",
       "    x.observe(outputEl, {childList: true});\n",
       "}}\n",
       "\n",
       "                        })                };                });            </script>        </div>"
      ]
     },
     "metadata": {},
     "output_type": "display_data"
    }
   ],
   "source": [
    "import plotly.graph_objects as go\n",
    "\n",
    "fig = go.Figure(data=[go.Sankey(\n",
    "    node = dict(\n",
    "      pad = 15,\n",
    "      thickness = 20,\n",
    "      line = dict(color = \"black\", width = 1),\n",
    "      label = [\"A1\", \"A2\", \"B1\"],\n",
    "      color = \"blue\"\n",
    "      \n",
    "    ),\n",
    "    link = dict(\n",
    "      source = [0, 1, 0], # indices correspond to labels, eg A1, A2, A1, B1, ...\n",
    "      target = [2, 1, 3],\n",
    "      value = [1, 1,1]\n",
    "      \n",
    "  ))])\n",
    "\n",
    "fig.update_layout(title_text=\"Basic Sankey Diagram\", font_size=10)\n",
    "fig.show()"
   ]
  },
  {
   "cell_type": "code",
   "execution_count": null,
   "metadata": {},
   "outputs": [],
   "source": []
  }
 ],
 "metadata": {
  "kernelspec": {
   "display_name": "Python 3",
   "language": "python",
   "name": "python3"
  },
  "language_info": {
   "codemirror_mode": {
    "name": "ipython",
    "version": 3
   },
   "file_extension": ".py",
   "mimetype": "text/x-python",
   "name": "python",
   "nbconvert_exporter": "python",
   "pygments_lexer": "ipython3",
   "version": "3.8.3"
  }
 },
 "nbformat": 4,
 "nbformat_minor": 4
}
